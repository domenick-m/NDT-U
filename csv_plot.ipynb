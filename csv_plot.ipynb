{
 "cells": [
  {
   "cell_type": "code",
   "execution_count": 8,
   "metadata": {},
   "outputs": [],
   "source": [
    "import pandas \n",
    "import matplotlib.pyplot as plt\n",
    "from sklearn.model_selection import GridSearchCV\n",
    "from sklearn.linear_model import Ridge\n",
    "import numpy as np\n",
    "from sklearn.metrics import r2_score"
   ]
  },
  {
   "cell_type": "code",
   "execution_count": null,
   "metadata": {},
   "outputs": [],
   "source": [
    "# create a list of vowels\n",
    "vowel = ['a', 'e', 'i', 'u']\n",
    "\n",
    "for idx, i in enumerate(vowel):\n",
    "# 'o' is inserted at index 3 (4th position)\n",
    "    if i == 'i':\n",
    "        vowel.insert(idx+1, 'o')\n",
    "    print(i)\n",
    "\n",
    "\n",
    "print('List:', vowel)"
   ]
  },
  {
   "cell_type": "code",
   "execution_count": 58,
   "metadata": {},
   "outputs": [
    {
     "name": "stdout",
     "output_type": "stream",
     "text": [
      "                    0  test co-bps\n",
      "0            1.000000    -0.168802\n",
      "test co-bps -0.168802     1.000000\n"
     ]
    },
    {
     "data": {
      "image/png": "[encoded data removed]",
      "text/plain": [
       "<Figure size 648x648 with 1 Axes>"
      ]
     },
     "metadata": {
      "needs_background": "light"
     },
     "output_type": "display_data"
    }
   ],
   "source": [
    "df = pandas.read_csv('/home/dmifsud/Projects/NDT-U/wandb_data_sep19.csv')\n",
    "test = [\n",
    "    df['val lt-co-bps0'], \n",
    "    df['val lt-co-bps1'], \n",
    "    df['val lt-co-bps2'], \n",
    "    df['val lt-co-bps3'], \n",
    "    df['val lt-co-bps4'], \n",
    "    df['val co-bps0'], \n",
    "    df['val co-bps1'], \n",
    "    df['val co-bps2'], \n",
    "    df['val co-bps3'], \n",
    "    df['val co-bps4'], \n",
    "    df['val loss0'], \n",
    "    df['val loss1'], \n",
    "    df['val loss2'], \n",
    "    df['val loss3'], \n",
    "    df['val loss4'], \n",
    "    df['val heldin loss0'], \n",
    "    df['val heldin loss1'], \n",
    "    df['val heldin loss2'], \n",
    "    df['val heldin loss3'], \n",
    "    df['val heldin loss4'], \n",
    "    df['val heldout loss0'], \n",
    "    df['val heldout loss1'], \n",
    "    df['val heldout loss2'], \n",
    "    df['val heldout loss3'], \n",
    "    df['val heldout loss4'], \n",
    "    df['test co-bps'], \n",
    "    df['le test trials co-bps'], \n",
    "    df['me test trials co-bps'], \n",
    "    df['he test trials co-bps'], \n",
    "    df['test decoding'],\n",
    "    df['he test decoding'],\n",
    "    df['le test decoding'],\n",
    "    df['me test decoding'],\n",
    "    df['model.context_backward'],\n",
    "    df['model.context_forward'],\n",
    "]\n",
    "df_imp = pandas.concat(test, axis=1)\n",
    "df_imp = df_imp[df_imp.notna().all(axis=1)]\n",
    "# df_imp = df_imp[df_imp['model.context_backward'] != 3]\n",
    "# df_imp = df_imp[df_imp['model.context_backward'] != 7]\n",
    "# df_imp = df_imp[df_imp['model.context_backward'] != 5]\n",
    "# df_imp = df_imp[df_imp['model.context_forward'] != 1]\n",
    "\n",
    "smth_std = 60\n",
    "lag = 40\n",
    "\n",
    "fig, ax = plt.subplots(1, 1, figsize=(9, 9), sharex=True, sharey=True)\n",
    "\n",
    "plt.xlabel(\"Val Co-bps Std Dev Across Folds\")\n",
    "plt.ylabel(\"Test Co-bps\")\n",
    "plt.title(\"Std Dev of Val Splits Co-bps vs Test Co-bps\")\n",
    "\n",
    "lst = [df_imp['val lt-co-bps0'], df_imp['val lt-co-bps1'], df_imp['val lt-co-bps2'], df_imp['val lt-co-bps3'], df_imp['val lt-co-bps4']]\n",
    "# lst = [df_imp['val co-bps0'], df_imp['val co-bps1'], df_imp['val co-bps2'], df_imp['val co-bps3'], df_imp['val co-bps4']]\n",
    "\n",
    "dfn = pandas.concat(lst, axis=1)\n",
    "means_co_bps = dfn.mean(axis=1)\n",
    "stds_co_bps = dfn.std(axis=1)\n",
    "\n",
    "means_cobps2 = dfn.mean(axis=0)\n",
    "\n",
    "lst2 = [\n",
    "    df_imp['val lt-co-bps0'] - means_cobps2[0], \n",
    "    df_imp['val lt-co-bps1'] - means_cobps2[1], \n",
    "    df_imp['val lt-co-bps2'] - means_cobps2[2], \n",
    "    df_imp['val lt-co-bps3'] - means_cobps2[3], \n",
    "    df_imp['val lt-co-bps4'] - means_cobps2[4]\n",
    "]\n",
    "\n",
    "dfn2 = pandas.concat(lst2, axis=1)\n",
    "means_co_bps22 = dfn2.mean(axis=1)\n",
    "stds_co_bps2 = dfn2.std(axis=1)\n",
    "\n",
    "lst = [df_imp['val loss0'], df_imp['val loss1'], df_imp['val loss2'], df_imp['val loss3'], df_imp['val loss4']]\n",
    "# lst = [df_imp['val heldout loss0'], df_imp['val heldout loss1'], df_imp['val heldout loss2'], df_imp['val heldout loss3'], df_imp['val heldout loss4']]\n",
    "# lst = [df_imp['val heldin loss0'], df_imp['val heldin loss1'], df_imp['val heldout loss2'], df_imp['val heldout loss3'], df_imp['val heldout loss4']]\n",
    "\n",
    "dfn = pandas.concat(lst, axis=1)\n",
    "means_loss = dfn.mean(axis=1)\n",
    "stds_loss = dfn.std(axis=1)\n",
    "\n",
    "\n",
    "comp_val = stds_co_bps2\n",
    "\n",
    "comp_val2 = df_imp['test co-bps']\n",
    "\n",
    "dfn = pandas.concat([comp_val, comp_val2], axis=1)\n",
    "print(dfn.corr())\n",
    "model = np.polyfit(comp_val, comp_val2, 1)\n",
    "predict = np.poly1d(model)\n",
    "plt.annotate(\"R²:{:.3f}\".format(r2_score(comp_val2, predict(comp_val))), (np.min(comp_val), np.max(comp_val2)))\n",
    "\n",
    "\n",
    "#add linear regression line to scatterplot \n",
    "plt.plot(comp_val, model[0]*comp_val+model[1], color='tab:red')\n",
    "\n",
    "ax.scatter(comp_val, comp_val2, marker='^', c='tab:blue', label='Smooth')\n",
    "# ax.scatter([i for i in range(len(comp_val))], comp_val2, marker='^', c='tab:blue', label='Smooth')\n",
    "# ax.scatter(means, df_imp['test co-bps'], marker='^', c='tab:blue', label='Smooth')\n",
    "# ax.scatter(means + stds, df_imp['test co-bps'], marker='^', c='tab:blue', label='Smooth')\n",
    "# ax.scatter((0.5 * means) - (stds * 1.5), df_imp['test co-bps'], marker='^', c='tab:blue', label='Smooth')\n",
    "\n",
    "# plt.legend()\n",
    "plt.tight_layout()\n",
    "plt.show()\n",
    "# plt.savefig('old_lag_vel_decoding_vs_co_bps.png', facecolor='white', transparent=False)"
   ]
  }
 ],
 "metadata": {
  "kernelspec": {
   "display_name": "Python 3.8.5 ('ndtu': conda)",
   "language": "python",
   "name": "python3"
  },
  "language_info": {
   "codemirror_mode": {
    "name": "ipython",
    "version": 3
   },
   "file_extension": ".py",
   "mimetype": "text/x-python",
   "name": "python",
   "nbconvert_exporter": "python",
   "pygments_lexer": "ipython3",
   "version": "3.8.5"
  },
  "orig_nbformat": 4,
  "vscode": {
   "interpreter": {
    "hash": "59cd4eb5f467b822ded03db0cb076f5e7005d54ea28457b2083fbdb9b80fb7dc"
   }
  }
 },
 "nbformat": 4,
 "nbformat_minor": 2
}
