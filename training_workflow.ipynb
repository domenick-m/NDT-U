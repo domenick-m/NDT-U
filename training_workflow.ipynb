{
 "cells": [
  {
   "cell_type": "markdown",
   "metadata": {},
   "source": [
    "Talk overview:\n",
    "\n",
    "Why use wandb?\n",
    "- All in one package for logging and running hyperparameter sweeps\n",
    "    - Show example of adding wandb to simple training workflow / creating HP sweep\n",
    "- Can help keep runs organized across machines (most people will not need this because they use manifold)\n",
    "- Easy visualization\n",
    "    - show the embeded html\n",
    "\n",
    "Downsides to wandb\n",
    "- Show my script for starting multiple runs at once \n",
    "    - Maybe show evidence for why not to run multiple models on 1 GPU\n",
    "\n",
    "My workflow\n",
    "- Show HP options confirmation page / how to edit those\n",
    "- Show training tqdm \n",
    "- Show how sweeps can be started\n",
    "- Explain that pytorch lightning does all this / maybe why this is better\n",
    "- Show visualization tools\n",
    "- Go over plotly\n",
    "- Go over how to upload to notion (this will require its own repo)\n",
    "- Go over nvitop\n",
    "\n",
    "NEED TO DO:\n",
    "1. Create example basic training workflow (look for wandb examples) and turn into a sweep\n",
    "2. Create example repo with a minimal NDT in it. Needs to have:\n",
    "    - tmux sweep\n",
    "    - confirmation page\n",
    "    - tqdm bar\n",
    "    - eval script (finish up all plots)\n",
    "    - needs to save plots to project folder for easy access on notion\n",
    "3. Test if multiple runs on 1 gpu is faster\n"
   ]
  }
 ],
 "metadata": {
  "kernelspec": {
   "display_name": "Python 3.8.5 ('ndtu': conda)",
   "language": "python",
   "name": "python3"
  },
  "language_info": {
   "name": "python",
   "version": "3.8.5"
  },
  "orig_nbformat": 4,
  "vscode": {
   "interpreter": {
    "hash": "59cd4eb5f467b822ded03db0cb076f5e7005d54ea28457b2083fbdb9b80fb7dc"
   }
  }
 },
 "nbformat": 4,
 "nbformat_minor": 2
}
