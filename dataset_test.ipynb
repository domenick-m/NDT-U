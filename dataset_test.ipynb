{
 "cells": [
  {
   "cell_type": "code",
   "execution_count": 1,
   "metadata": {},
   "outputs": [],
   "source": [
    "from nlb_tools.nwb_interface import NWBDataset\n",
    "import numpy as np\n",
    "import pandas as pd\n",
    "import scipy.signal as signal\n",
    "import matplotlib.pyplot as plt\n",
    "from mpl_toolkits.mplot3d import Axes3D\n",
    "from matplotlib.collections import LineCollection\n",
    "from sklearn.linear_model import Ridge\n",
    "from sklearn.model_selection import GridSearchCV"
   ]
  },
  {
   "cell_type": "code",
   "execution_count": 2,
   "metadata": {},
   "outputs": [],
   "source": [
    "dataset = NWBDataset('/home/dmifsud/Projects/NDT-U/data/mc_rtt_train.nwb')\n",
    "dataset.resample(10)"
   ]
  },
  {
   "cell_type": "code",
   "execution_count": 3,
   "metadata": {},
   "outputs": [],
   "source": [
    "smooth_std = 50 #ms\n",
    "lag = 120 #ms"
   ]
  },
  {
   "cell_type": "code",
   "execution_count": 4,
   "metadata": {},
   "outputs": [],
   "source": [
    "vel_trans = dataset.data.finger_vel.to_numpy().T # idx 0 is x; idx 1 is y\n",
    "hi_spikes_trans = dataset.data.spikes.to_numpy().T\n",
    "ho_spikes_trans = dataset.data.heldout_spikes.to_numpy().T"
   ]
  },
  {
   "cell_type": "code",
   "execution_count": 5,
   "metadata": {},
   "outputs": [],
   "source": [
    "def seg_arr(data):\n",
    "    # shape of data: T (time) x C (channels)\n",
    "    tmp_list = []\n",
    "    for channel in data:\n",
    "        tmp_list.append([channel[seg] for seg in np.ma.clump_unmasked(np.ma.masked_invalid(channel))])\n",
    "    return np.transpose(np.array(tmp_list), (1, 2, 0))"
   ]
  },
  {
   "cell_type": "code",
   "execution_count": 6,
   "metadata": {},
   "outputs": [
    {
     "name": "stdout",
     "output_type": "stream",
     "text": [
      "(4, 16220, 2)\n",
      "(4, 16220, 98)\n",
      "(4, 16220, 32)\n"
     ]
    }
   ],
   "source": [
    "vel_segments = seg_arr(vel_trans)\n",
    "hi_spike_segments = seg_arr(hi_spikes_trans)\n",
    "ho_spike_segments = seg_arr(ho_spikes_trans)\n",
    "print(vel_segments.shape)\n",
    "print(hi_spike_segments.shape)\n",
    "print(ho_spike_segments.shape)"
   ]
  },
  {
   "cell_type": "code",
   "execution_count": 7,
   "metadata": {},
   "outputs": [],
   "source": [
    "def chop_data(data, chopsize, overlap):\n",
    "    chopped_data = []\n",
    "    for trial in data:\n",
    "        shape = (\n",
    "            int((trial.shape[0] - overlap) / (chopsize - overlap)),\n",
    "            chopsize,\n",
    "            trial.shape[-1],\n",
    "        )\n",
    "        strides = (\n",
    "            trial.strides[0] * (chopsize - overlap),\n",
    "            trial.strides[0],\n",
    "            trial.strides[1],\n",
    "        )\n",
    "        chopped_trial = np.lib.stride_tricks.as_strided(trial, shape=shape, strides=strides).copy().astype('f')\n",
    "        chopped_data.append(chopped_trial)\n",
    "    chopped_data = np.array(chopped_data)\n",
    "    return chopped_data.reshape((\n",
    "        chopped_data.shape[0] * chopped_data.shape[1], \n",
    "        chopped_data.shape[2], \n",
    "        chopped_data.shape[3]\n",
    "    ))"
   ]
  },
  {
   "cell_type": "code",
   "execution_count": 8,
   "metadata": {},
   "outputs": [
    {
     "name": "stdout",
     "output_type": "stream",
     "text": [
      "(48573, 30, 98)\n",
      "(48573, 30, 32)\n",
      "(16191, 30, 98)\n",
      "(16191, 30, 32)\n",
      "(8097, 30, 98)\n",
      "(8097, 30, 32)\n"
     ]
    }
   ],
   "source": [
    "train_hi_segments_29 = chop_data(hi_spike_segments[:3], 30, 29)\n",
    "train_ho_segments_29 = chop_data(ho_spike_segments[:3], 30, 29)\n",
    "\n",
    "print(train_hi_segments_29.shape)\n",
    "print(train_ho_segments_29.shape)\n",
    "\n",
    "train_hi_segments_27 = chop_data(hi_spike_segments[:3], 30, 27)\n",
    "train_ho_segments_27 = chop_data(ho_spike_segments[:3], 30, 27)\n",
    "\n",
    "print(train_hi_segments_27.shape)\n",
    "print(train_ho_segments_27.shape)\n",
    "\n",
    "train_hi_segments_24 = chop_data(hi_spike_segments[:3], 30, 24)\n",
    "train_ho_segments_24 = chop_data(ho_spike_segments[:3], 30, 24)\n",
    "\n",
    "print(train_hi_segments_24.shape)\n",
    "print(train_ho_segments_24.shape)"
   ]
  },
  {
   "cell_type": "code",
   "execution_count": 9,
   "metadata": {},
   "outputs": [
    {
     "name": "stdout",
     "output_type": "stream",
     "text": [
      "(16191, 30, 98)\n",
      "(16191, 30, 32)\n"
     ]
    }
   ],
   "source": [
    "test_hi_segments = chop_data(np.expand_dims(hi_spike_segments[3], 0), 30, 29)\n",
    "test_ho_segments = chop_data(np.expand_dims(ho_spike_segments[3], 0), 30, 29)\n",
    "print(test_hi_segments.shape)\n",
    "print(test_ho_segments.shape)"
   ]
  },
  {
   "cell_type": "code",
   "execution_count": 10,
   "metadata": {},
   "outputs": [],
   "source": [
    "from sklearn.model_selection import train_test_split"
   ]
  },
  {
   "cell_type": "code",
   "execution_count": 11,
   "metadata": {},
   "outputs": [
    {
     "data": {
      "text/plain": [
       "(8097, 30, 98)"
      ]
     },
     "execution_count": 11,
     "metadata": {},
     "output_type": "execute_result"
    }
   ],
   "source": [
    "train_hi_segments_24.shape"
   ]
  },
  {
   "cell_type": "code",
   "execution_count": 12,
   "metadata": {},
   "outputs": [
    {
     "data": {
      "text/plain": [
       "(3, 16220, 98)"
      ]
     },
     "execution_count": 12,
     "metadata": {},
     "output_type": "execute_result"
    }
   ],
   "source": [
    "hi_spike_segments[:3].shape"
   ]
  },
  {
   "cell_type": "code",
   "execution_count": 13,
   "metadata": {},
   "outputs": [
    {
     "name": "stdout",
     "output_type": "stream",
     "text": [
      "(6477, 30, 98)\n",
      "(1620, 30, 98)\n",
      "(6477, 30, 32)\n",
      "(1620, 30, 32)\n"
     ]
    }
   ],
   "source": [
    "\n",
    "hi_segs = train_hi_segments_24\n",
    "ho_segs = train_ho_segments_24\n",
    "\n",
    "train_hi_segments, val_hi_segments = train_test_split(\n",
    "    hi_segs, test_size=0.2, random_state=42)\n",
    "\n",
    "train_ho_segments, val_ho_segments = train_test_split(\n",
    "    ho_segs, test_size=0.2, random_state=42)\n",
    "\n",
    "print(train_hi_segments.shape)\n",
    "print(val_hi_segments.shape)\n",
    "print(train_ho_segments.shape)\n",
    "print(val_ho_segments.shape)"
   ]
  },
  {
   "cell_type": "code",
   "execution_count": 14,
   "metadata": {},
   "outputs": [],
   "source": [
    "import os\n",
    "import h5py\n",
    "import os.path as osp\n",
    "from nlb_tools.make_tensors import save_to_h5, h5_to_dict"
   ]
  },
  {
   "cell_type": "code",
   "execution_count": 44,
   "metadata": {},
   "outputs": [],
   "source": [
    "\n",
    "with h5py.File('/home/dmifsud/Projects/NDT-U/data/mc_rtt_cont_24.h5', 'r') as h5file:\n",
    "    h5dict = h5_to_dict(h5file)"
   ]
  },
  {
   "cell_type": "code",
   "execution_count": 36,
   "metadata": {},
   "outputs": [
    {
     "data": {
      "text/plain": [
       "(6477, 1, 130)"
      ]
     },
     "execution_count": 36,
     "metadata": {},
     "output_type": "execute_result"
    }
   ],
   "source": [
    "np.zeros((train_hi_segments.shape[0], 1, 130)).shape"
   ]
  },
  {
   "cell_type": "code",
   "execution_count": 15,
   "metadata": {},
   "outputs": [],
   "source": [
    "train_dict = {\n",
    "    'train_spikes_all_fp': np.zeros((train_hi_segments.shape[0], 1, 130)),\n",
    "    'train_spikes_heldin': train_hi_segments,\n",
    "    'train_spikes_heldout': train_ho_segments\n",
    "}"
   ]
  },
  {
   "cell_type": "code",
   "execution_count": 16,
   "metadata": {},
   "outputs": [],
   "source": [
    "val_dict = {\n",
    "    'eval_spikes_all_fp': np.zeros((val_hi_segments.shape[0], 1, 130)),\n",
    "    'eval_spikes_heldin': val_hi_segments,\n",
    "    'eval_spikes_heldout': val_ho_segments\n",
    "}"
   ]
  },
  {
   "cell_type": "code",
   "execution_count": 17,
   "metadata": {},
   "outputs": [],
   "source": [
    "trainval_dict = {\n",
    "    'trainval_spikes_all_fp': np.zeros((hi_segs.shape[0], 1, 130)),\n",
    "    'trainval_spikes_heldin': hi_segs,\n",
    "    'trainval_spikes_heldout': ho_segs\n",
    "}"
   ]
  },
  {
   "cell_type": "code",
   "execution_count": 18,
   "metadata": {},
   "outputs": [],
   "source": [
    "test_dict = {\n",
    "    'test_spikes_heldin': test_hi_segments,\n",
    "    'test_spikes_heldout': test_ho_segments\n",
    "}"
   ]
  },
  {
   "cell_type": "code",
   "execution_count": 51,
   "metadata": {},
   "outputs": [
    {
     "name": "stdout",
     "output_type": "stream",
     "text": [
      "eval_spikes_all_fp (1620, 1, 130)\n",
      "eval_spikes_heldin (1620, 30, 98)\n",
      "eval_spikes_heldout (1620, 30, 32)\n",
      "test_spikes_heldin (16191, 30, 98)\n",
      "train_spikes_all_fp (6477, 1, 130)\n",
      "train_spikes_heldin (6477, 30, 98)\n",
      "train_spikes_heldout (6477, 30, 32)\n",
      "trainval_spikes_all_fp (8097, 1, 130)\n",
      "trainval_spikes_heldin (8097, 30, 98)\n",
      "trainval_spikes_heldout (8097, 30, 32)\n"
     ]
    }
   ],
   "source": [
    "for i in h5dict.keys():\n",
    "    print(i, h5dict[i].shape)"
   ]
  },
  {
   "cell_type": "code",
   "execution_count": null,
   "metadata": {},
   "outputs": [],
   "source": [
    "eval_spikes_all_fp = np.array()"
   ]
  },
  {
   "cell_type": "code",
   "execution_count": 50,
   "metadata": {},
   "outputs": [],
   "source": [
    "h5_file = {**train_dict, **val_dict, **trainval_dict, **test_dict}\n",
    "filename = 'data/' + 'mc_rtt_cont' + '.h5'\n",
    "# Remove older version if it exists\n",
    "if osp.isfile(filename): os.remove(filename)\n",
    "save_to_h5(h5_file, filename, overwrite=True)"
   ]
  },
  {
   "cell_type": "code",
   "execution_count": null,
   "metadata": {},
   "outputs": [],
   "source": []
  },
  {
   "cell_type": "code",
   "execution_count": 19,
   "metadata": {},
   "outputs": [],
   "source": [
    "kern_sd = int(round(smooth_std / dataset.bin_width))\n",
    "window = signal.gaussian(kern_sd * 6, kern_sd, sym=True)\n",
    "window /= np.sum(window)\n",
    "filt = lambda x: np.convolve(x, window, 'same')"
   ]
  },
  {
   "cell_type": "code",
   "execution_count": 22,
   "metadata": {},
   "outputs": [
    {
     "data": {
      "text/plain": [
       "(3, 16220, 98)"
      ]
     },
     "execution_count": 22,
     "metadata": {},
     "output_type": "execute_result"
    }
   ],
   "source": [
    "hi_spike_segments[:3].shape"
   ]
  },
  {
   "cell_type": "code",
   "execution_count": 32,
   "metadata": {},
   "outputs": [
    {
     "name": "stdout",
     "output_type": "stream",
     "text": [
      "(16220, 98)\n",
      "[[0.         0.04368646 0.         0.         0.         0.03014513\n",
      "  0.         0.00882014 0.         0.         0.         0.14708124\n",
      "  0.         0.         0.         0.         0.07060057 0.\n",
      "  0.         0.         0.         0.         0.00119368 0.03436498\n",
      "  0.         0.         0.07060057 0.         0.         0.\n",
      "  0.         0.         0.         0.07648068 0.         0.\n",
      "  0.         0.         0.00208974 0.06261708 0.         0.05455244\n",
      "  0.         0.003515   0.         0.         0.         0.\n",
      "  0.00882014 0.         0.14865201 0.         0.         0.\n",
      "  0.         0.         0.07648068 0.         0.         0.\n",
      "  0.         0.         0.         0.06261708 0.00328341 0.\n",
      "  0.         0.13484189 0.         0.         0.01315811 0.\n",
      "  0.         0.         0.06261708 0.         0.         0.\n",
      "  0.         0.         0.15139616 0.0188599  0.         0.\n",
      "  0.         0.         0.         0.         0.         0.\n",
      "  0.         0.         0.05335876 0.         0.16420442 0.\n",
      "  0.         0.0259725 ]\n",
      " [0.         0.05335876 0.         0.         0.         0.04398813\n",
      "  0.         0.01315811 0.         0.         0.         0.15608259\n",
      "  0.         0.         0.         0.         0.07648068 0.\n",
      "  0.         0.         0.         0.         0.00208974 0.04368646\n",
      "  0.         0.         0.07648068 0.         0.         0.\n",
      "  0.         0.         0.         0.07960192 0.         0.\n",
      "  0.         0.         0.003515   0.07060057 0.         0.06470682\n",
      "  0.         0.00568049 0.         0.         0.         0.\n",
      "  0.01315811 0.         0.1735259  0.         0.         0.\n",
      "  0.         0.         0.07960192 0.         0.         0.\n",
      "  0.         0.         0.         0.07060057 0.00560473 0.\n",
      "  0.         0.16086774 0.         0.         0.0188599  0.\n",
      "  0.         0.         0.07060057 0.         0.         0.\n",
      "  0.         0.         0.15817233 0.0259725  0.         0.\n",
      "  0.         0.         0.         0.         0.         0.\n",
      "  0.         0.         0.06261708 0.         0.18590546 0.\n",
      "  0.         0.03436498]\n",
      " [0.         0.06261708 0.         0.         0.         0.06202373\n",
      "  0.         0.0188599  0.         0.         0.         0.15920383\n",
      "  0.         0.         0.         0.         0.07960192 0.\n",
      "  0.         0.         0.         0.         0.003515   0.05335876\n",
      "  0.         0.         0.07960192 0.         0.         0.\n",
      "  0.         0.         0.         0.07960192 0.         0.\n",
      "  0.         0.         0.00568049 0.07648068 0.         0.07411556\n",
      "  0.         0.00882014 0.         0.         0.         0.\n",
      "  0.0188599  0.         0.19557776 0.         0.         0.\n",
      "  0.         0.         0.07960192 0.         0.         0.\n",
      "  0.         0.         0.         0.07767436 0.00919549 0.\n",
      "  0.         0.1888484  0.         0.         0.0259725  0.\n",
      "  0.         0.         0.07648068 0.         0.         0.\n",
      "  0.         0.         0.15959759 0.03436498 0.         0.\n",
      "  0.         0.         0.         0.         0.         0.\n",
      "  0.         0.         0.07060057 0.         0.20356124 0.\n",
      "  0.         0.04368646]\n",
      " [0.         0.07060057 0.         0.         0.         0.08452461\n",
      "  0.         0.0259725  0.         0.         0.         0.15608259\n",
      "  0.         0.         0.         0.         0.07960192 0.\n",
      "  0.         0.         0.         0.         0.00568049 0.06261708\n",
      "  0.         0.         0.07960192 0.         0.         0.\n",
      "  0.         0.         0.         0.07648068 0.         0.\n",
      "  0.         0.         0.00882014 0.07960192 0.         0.08216117\n",
      "  0.         0.01315811 0.         0.         0.         0.\n",
      "  0.0259725  0.         0.21281957 0.         0.         0.\n",
      "  0.         0.         0.07648068 0.         0.         0.\n",
      "  0.         0.         0.         0.08169165 0.01450064 0.00119368\n",
      "  0.         0.21833699 0.         0.         0.03555866 0.\n",
      "  0.         0.         0.07960192 0.         0.         0.\n",
      "  0.         0.00119368 0.15588297 0.04368646 0.         0.\n",
      "  0.         0.         0.         0.         0.         0.\n",
      "  0.         0.         0.07648068 0.         0.21557844 0.\n",
      "  0.         0.05335876]\n",
      " [0.         0.07648068 0.         0.         0.         0.11134927\n",
      "  0.         0.03436498 0.         0.         0.         0.14708124\n",
      "  0.         0.         0.         0.         0.07648068 0.\n",
      "  0.         0.         0.         0.         0.00882014 0.07060057\n",
      "  0.         0.         0.07648068 0.         0.         0.\n",
      "  0.         0.         0.         0.07060057 0.         0.\n",
      "  0.         0.         0.01315811 0.07960192 0.         0.08842206\n",
      "  0.         0.0188599  0.         0.         0.         0.\n",
      "  0.03436498 0.         0.22356192 0.         0.         0.\n",
      "  0.         0.         0.07060057 0.         0.         0.\n",
      "  0.         0.         0.         0.08311691 0.02197825 0.00208974\n",
      "  0.         0.24862144 0.         0.         0.04577619 0.\n",
      "  0.         0.         0.07960192 0.         0.         0.\n",
      "  0.         0.00208974 0.14791791 0.05335876 0.         0.\n",
      "  0.         0.         0.         0.         0.         0.\n",
      "  0.         0.         0.07960192 0.         0.22080305 0.\n",
      "  0.         0.06261708]]\n",
      "(16220, 98)\n",
      "[[0.         0.         0.         0.00470867 0.         0.0560216\n",
      "  0.0259725  0.00882014 0.         0.         0.         0.00208974\n",
      "  0.         0.         0.04368646 0.         0.         0.\n",
      "  0.         0.0188599  0.         0.07960192 0.0188599  0.\n",
      "  0.         0.         0.07960192 0.         0.         0.\n",
      "  0.         0.         0.         0.05335876 0.07648068 0.\n",
      "  0.         0.         0.         0.11428702 0.         0.\n",
      "  0.         0.06261708 0.05335876 0.         0.         0.00119368\n",
      "  0.03436498 0.03165299 0.07648068 0.         0.         0.\n",
      "  0.15727627 0.         0.         0.         0.         0.\n",
      "  0.         0.         0.         0.00119368 0.07933126 0.22668316\n",
      "  0.         0.         0.         0.         0.         0.\n",
      "  0.         0.04368646 0.         0.00882014 0.         0.\n",
      "  0.         0.         0.         0.         0.         0.\n",
      "  0.08459534 0.         0.         0.         0.         0.\n",
      "  0.09329929 0.         0.         0.         0.         0.\n",
      "  0.         0.        ]\n",
      " [0.         0.         0.         0.00777023 0.         0.07219736\n",
      "  0.03436498 0.01315811 0.         0.         0.         0.003515\n",
      "  0.         0.         0.05335876 0.         0.         0.\n",
      "  0.         0.0259725  0.         0.07960192 0.0259725  0.\n",
      "  0.         0.         0.07960192 0.         0.         0.\n",
      "  0.         0.         0.         0.06261708 0.07960192 0.\n",
      "  0.         0.         0.         0.12983944 0.         0.\n",
      "  0.         0.07060057 0.06261708 0.         0.         0.00208974\n",
      "  0.04368646 0.04318513 0.08079559 0.         0.         0.\n",
      "  0.16129357 0.         0.         0.         0.         0.\n",
      "  0.         0.         0.         0.00208974 0.09817575 0.23568451\n",
      "  0.         0.         0.         0.         0.         0.\n",
      "  0.         0.05335876 0.         0.01315811 0.         0.\n",
      "  0.         0.         0.         0.         0.         0.00119368\n",
      "  0.10261858 0.         0.         0.         0.         0.\n",
      "  0.11942012 0.         0.         0.         0.         0.\n",
      "  0.         0.        ]\n",
      " [0.         0.         0.         0.01233514 0.         0.09149081\n",
      "  0.04368646 0.0188599  0.         0.         0.         0.00568049\n",
      "  0.         0.         0.06261708 0.         0.         0.\n",
      "  0.         0.03436498 0.         0.07648068 0.03555866 0.\n",
      "  0.         0.         0.07648068 0.         0.         0.\n",
      "  0.         0.         0.         0.07060057 0.07960192 0.\n",
      "  0.         0.         0.         0.142219   0.         0.\n",
      "  0.         0.07648068 0.07060057 0.         0.         0.003515\n",
      "  0.05335876 0.05684457 0.08169165 0.         0.00119368 0.\n",
      "  0.15959759 0.         0.         0.         0.00119368 0.\n",
      "  0.         0.         0.         0.00470867 0.11637676 0.23568451\n",
      "  0.         0.         0.         0.         0.         0.\n",
      "  0.         0.06261708 0.         0.0188599  0.         0.\n",
      "  0.         0.         0.         0.         0.         0.00208974\n",
      "  0.12131308 0.         0.         0.         0.00119368 0.\n",
      "  0.14762883 0.         0.         0.         0.         0.\n",
      "  0.         0.        ]\n",
      " [0.         0.         0.         0.0188386  0.         0.11182091\n",
      "  0.05335876 0.0259725  0.         0.         0.         0.00882014\n",
      "  0.         0.         0.07060057 0.         0.         0.\n",
      "  0.         0.04368646 0.         0.07060057 0.04577619 0.\n",
      "  0.         0.         0.07060057 0.         0.         0.\n",
      "  0.         0.         0.         0.07648068 0.07767436 0.\n",
      "  0.         0.00119368 0.         0.15020248 0.         0.\n",
      "  0.         0.07960192 0.07767436 0.         0.         0.00568049\n",
      "  0.06261708 0.07221866 0.07999567 0.         0.00208974 0.\n",
      "  0.15276174 0.         0.         0.         0.00208974 0.\n",
      "  0.         0.         0.         0.00777023 0.13335443 0.22668316\n",
      "  0.         0.         0.         0.         0.         0.\n",
      "  0.         0.07060057 0.         0.0259725  0.         0.\n",
      "  0.         0.         0.         0.         0.         0.003515\n",
      "  0.1399394  0.         0.         0.         0.00208974 0.\n",
      "  0.17640278 0.         0.         0.         0.         0.\n",
      "  0.         0.        ]\n",
      " [0.         0.         0.         0.02768005 0.         0.13322056\n",
      "  0.06261708 0.03436498 0.         0.         0.         0.01315811\n",
      "  0.         0.         0.07648068 0.         0.         0.\n",
      "  0.         0.05335876 0.         0.06261708 0.05687375 0.\n",
      "  0.         0.         0.06261708 0.         0.         0.\n",
      "  0.         0.         0.         0.07960192 0.0726903  0.\n",
      "  0.         0.00208974 0.         0.15296136 0.         0.\n",
      "  0.         0.07960192 0.08169165 0.         0.         0.00882014\n",
      "  0.07060057 0.08858958 0.07628106 0.         0.003515   0.\n",
      "  0.14323147 0.         0.         0.         0.003515   0.\n",
      "  0.         0.         0.         0.01233514 0.14789949 0.20969833\n",
      "  0.         0.00119368 0.         0.         0.         0.\n",
      "  0.         0.07648068 0.         0.03436498 0.         0.\n",
      "  0.         0.         0.         0.         0.         0.00568049\n",
      "  0.15765336 0.         0.         0.         0.003515   0.\n",
      "  0.20392581 0.         0.         0.         0.         0.00119368\n",
      "  0.         0.        ]]\n",
      "(16220, 98)\n",
      "[[0.         0.         0.         0.11597584 0.         0.00208974\n",
      "  0.         0.142219   0.         0.         0.         0.0188599\n",
      "  0.         0.         0.         0.         0.         0.\n",
      "  0.         0.         0.         0.         0.06261708 0.\n",
      "  0.         0.         0.         0.         0.         0.02197825\n",
      "  0.         0.         0.         0.11597584 0.12216479 0.07648068\n",
      "  0.         0.0188599  0.01315811 0.         0.         0.00882014\n",
      "  0.         0.01315811 0.0188599  0.         0.         0.11417918\n",
      "  0.10557441 0.01315811 0.14373571 0.         0.06261708 0.\n",
      "  0.00208974 0.0259725  0.06261708 0.         0.         0.\n",
      "  0.         0.         0.04368646 0.         0.07960192 0.\n",
      "  0.         0.         0.0259725  0.         0.         0.\n",
      "  0.         0.12983944 0.         0.         0.         0.\n",
      "  0.         0.         0.         0.00882014 0.         0.\n",
      "  0.         0.         0.00568049 0.         0.00119368 0.\n",
      "  0.         0.07648068 0.         0.00882014 0.         0.\n",
      "  0.         0.        ]\n",
      " [0.         0.         0.         0.13321765 0.         0.003515\n",
      "  0.         0.15020248 0.         0.         0.         0.0259725\n",
      "  0.         0.         0.         0.         0.         0.\n",
      "  0.         0.         0.         0.         0.07060057 0.\n",
      "  0.         0.         0.         0.         0.         0.03201801\n",
      "  0.         0.         0.         0.13321765 0.13946015 0.08079559\n",
      "  0.         0.0259725  0.0188599  0.         0.         0.01315811\n",
      "  0.         0.0188599  0.0259725  0.         0.         0.13444814\n",
      "  0.1139669  0.0188599  0.1667034  0.         0.07060057 0.\n",
      "  0.003515   0.03436498 0.07060057 0.         0.         0.\n",
      "  0.         0.         0.05335876 0.         0.07960192 0.\n",
      "  0.         0.         0.03436498 0.         0.         0.\n",
      "  0.         0.142219   0.         0.         0.         0.\n",
      "  0.         0.00119368 0.         0.01315811 0.         0.\n",
      "  0.         0.         0.00882014 0.         0.00208974 0.\n",
      "  0.         0.07960192 0.         0.01315811 0.         0.\n",
      "  0.         0.        ]\n",
      " [0.         0.         0.         0.14708124 0.         0.00568049\n",
      "  0.         0.15296136 0.         0.         0.         0.03436498\n",
      "  0.         0.         0.         0.         0.         0.\n",
      "  0.         0.         0.         0.         0.07648068 0.\n",
      "  0.         0.         0.00119368 0.         0.         0.0448324\n",
      "  0.         0.         0.         0.14708124 0.15786564 0.08169165\n",
      "  0.         0.03436498 0.02716617 0.         0.         0.0188599\n",
      "  0.         0.02716617 0.03436498 0.         0.         0.15518724\n",
      "  0.12136081 0.0259725  0.18891912 0.         0.07648068 0.\n",
      "  0.00687417 0.04368646 0.07648068 0.         0.         0.\n",
      "  0.         0.00119368 0.06261708 0.         0.07648068 0.\n",
      "  0.         0.         0.04368646 0.         0.         0.\n",
      "  0.         0.15139616 0.         0.         0.         0.\n",
      "  0.         0.00208974 0.         0.0188599  0.         0.00119368\n",
      "  0.         0.         0.01315811 0.         0.00470867 0.00119368\n",
      "  0.         0.07960192 0.         0.0188599  0.         0.\n",
      "  0.         0.        ]\n",
      " [0.         0.         0.         0.15608259 0.         0.00882014\n",
      "  0.         0.15020248 0.         0.         0.         0.04368646\n",
      "  0.         0.         0.         0.         0.         0.\n",
      "  0.         0.         0.         0.         0.07960192 0.\n",
      "  0.         0.         0.00208974 0.         0.         0.06153116\n",
      "  0.         0.00119368 0.         0.15608259 0.17761187 0.07999567\n",
      "  0.         0.04368646 0.03645472 0.         0.         0.0259725\n",
      "  0.         0.03645472 0.04368646 0.         0.         0.17690702\n",
      "  0.12604906 0.03436498 0.2096063  0.         0.07960192 0.\n",
      "  0.01090988 0.05335876 0.07960192 0.         0.         0.\n",
      "  0.         0.00208974 0.07060057 0.         0.07060057 0.\n",
      "  0.         0.         0.05335876 0.         0.         0.\n",
      "  0.         0.1550511  0.         0.         0.         0.\n",
      "  0.         0.003515   0.         0.0259725  0.         0.00208974\n",
      "  0.         0.         0.0188599  0.         0.00777023 0.00208974\n",
      "  0.         0.07648068 0.         0.0259725  0.         0.\n",
      "  0.         0.        ]\n",
      " [0.         0.         0.         0.15920383 0.         0.01315811\n",
      "  0.         0.142219   0.         0.         0.         0.05335876\n",
      "  0.         0.         0.         0.         0.         0.\n",
      "  0.         0.         0.         0.         0.07960192 0.\n",
      "  0.         0.         0.003515   0.         0.         0.08014118\n",
      "  0.         0.00208974 0.         0.15920383 0.19872976 0.07628106\n",
      "  0.         0.05335876 0.04720145 0.         0.         0.03436498\n",
      "  0.         0.04720145 0.05335876 0.         0.         0.19929877\n",
      "  0.12874916 0.04368646 0.22931373 0.         0.07960192 0.\n",
      "  0.0166731  0.06261708 0.07960192 0.         0.         0.\n",
      "  0.         0.003515   0.07648068 0.         0.06261708 0.\n",
      "  0.         0.         0.06261708 0.         0.         0.\n",
      "  0.         0.15371748 0.         0.         0.         0.\n",
      "  0.         0.00568049 0.         0.03436498 0.         0.003515\n",
      "  0.         0.         0.0259725  0.         0.01233514 0.003515\n",
      "  0.         0.07060057 0.         0.03436498 0.         0.\n",
      "  0.         0.        ]]\n"
     ]
    }
   ],
   "source": [
    "for i in hi_spike_segments[:3]:\n",
    "    print(np.apply_along_axis(filt, 0, i).shape)\n",
    "    print(np.apply_along_axis(filt, 0, i)[:5, :])"
   ]
  },
  {
   "cell_type": "code",
   "execution_count": 106,
   "metadata": {},
   "outputs": [
    {
     "data": {
      "text/plain": [
       "(64910, 98)"
      ]
     },
     "execution_count": 106,
     "metadata": {},
     "output_type": "execute_result"
    }
   ],
   "source": [
    "dataset.data[smth_field].shape"
   ]
  },
  {
   "cell_type": "code",
   "execution_count": 53,
   "metadata": {},
   "outputs": [],
   "source": [
    "lag = 120\n",
    "lag_bins = int(round(lag / dataset.bin_width))\n",
    "nans = dataset.data.finger_vel.x.isna().reset_index(drop=True)\n",
    "rates = dataset.data.spikes_smth_50[~nans.to_numpy() & ~nans.shift(-lag_bins, fill_value=True).to_numpy()].to_numpy()\n",
    "spikes = dataset.data.spikes[~nans.to_numpy() & ~nans.shift(-lag_bins, fill_value=True).to_numpy()].to_numpy()\n",
    "vel = dataset.data.finger_vel[~nans.to_numpy() & ~nans.shift(lag_bins, fill_value=True).to_numpy()].to_numpy()\n",
    "vel_index = dataset.data.finger_vel[~nans.to_numpy() & ~nans.shift(lag_bins, fill_value=True).to_numpy()].index"
   ]
  },
  {
   "cell_type": "code",
   "execution_count": 54,
   "metadata": {},
   "outputs": [
    {
     "data": {
      "text/plain": [
       "(64838, 98)"
      ]
     },
     "execution_count": 54,
     "metadata": {},
     "output_type": "execute_result"
    }
   ],
   "source": [
    "spikes.shape"
   ]
  },
  {
   "cell_type": "code",
   "execution_count": 118,
   "metadata": {},
   "outputs": [
    {
     "data": {
      "text/plain": [
       "(64910, 98)"
      ]
     },
     "execution_count": 118,
     "metadata": {},
     "output_type": "execute_result"
    }
   ],
   "source": [
    "dataset.data.spikes_smth_50.shape"
   ]
  },
  {
   "cell_type": "code",
   "execution_count": 117,
   "metadata": {},
   "outputs": [
    {
     "data": {
      "text/html": [
       "<div>\n",
       "<style scoped>\n",
       "    .dataframe tbody tr th:only-of-type {\n",
       "        vertical-align: middle;\n",
       "    }\n",
       "\n",
       "    .dataframe tbody tr th {\n",
       "        vertical-align: top;\n",
       "    }\n",
       "\n",
       "    .dataframe thead th {\n",
       "        text-align: right;\n",
       "    }\n",
       "</style>\n",
       "<table border=\"1\" class=\"dataframe\">\n",
       "  <thead>\n",
       "    <tr style=\"text-align: right;\">\n",
       "      <th>channel</th>\n",
       "      <th>301</th>\n",
       "      <th>401</th>\n",
       "      <th>701</th>\n",
       "      <th>802</th>\n",
       "      <th>901</th>\n",
       "      <th>1001</th>\n",
       "      <th>1002</th>\n",
       "      <th>1103</th>\n",
       "      <th>1202</th>\n",
       "      <th>1301</th>\n",
       "      <th>...</th>\n",
       "      <th>8701</th>\n",
       "      <th>8801</th>\n",
       "      <th>8901</th>\n",
       "      <th>9103</th>\n",
       "      <th>9201</th>\n",
       "      <th>9203</th>\n",
       "      <th>9403</th>\n",
       "      <th>9501</th>\n",
       "      <th>9502</th>\n",
       "      <th>9601</th>\n",
       "    </tr>\n",
       "    <tr>\n",
       "      <th>clock_time</th>\n",
       "      <th></th>\n",
       "      <th></th>\n",
       "      <th></th>\n",
       "      <th></th>\n",
       "      <th></th>\n",
       "      <th></th>\n",
       "      <th></th>\n",
       "      <th></th>\n",
       "      <th></th>\n",
       "      <th></th>\n",
       "      <th></th>\n",
       "      <th></th>\n",
       "      <th></th>\n",
       "      <th></th>\n",
       "      <th></th>\n",
       "      <th></th>\n",
       "      <th></th>\n",
       "      <th></th>\n",
       "      <th></th>\n",
       "      <th></th>\n",
       "      <th></th>\n",
       "    </tr>\n",
       "  </thead>\n",
       "  <tbody>\n",
       "    <tr>\n",
       "      <th>0 days 00:00:00</th>\n",
       "      <td>0.0</td>\n",
       "      <td>0.043686</td>\n",
       "      <td>0.000000</td>\n",
       "      <td>0.0</td>\n",
       "      <td>0.0</td>\n",
       "      <td>0.030145</td>\n",
       "      <td>0.0</td>\n",
       "      <td>0.00882</td>\n",
       "      <td>0.0</td>\n",
       "      <td>0.0</td>\n",
       "      <td>...</td>\n",
       "      <td>0.0</td>\n",
       "      <td>0.0</td>\n",
       "      <td>0.000000</td>\n",
       "      <td>0.0</td>\n",
       "      <td>0.053359</td>\n",
       "      <td>0.000000</td>\n",
       "      <td>0.164204</td>\n",
       "      <td>0.000000</td>\n",
       "      <td>0.00000</td>\n",
       "      <td>0.025972</td>\n",
       "    </tr>\n",
       "    <tr>\n",
       "      <th>0 days 00:00:00</th>\n",
       "      <td>0.0</td>\n",
       "      <td>0.043686</td>\n",
       "      <td>0.000000</td>\n",
       "      <td>0.0</td>\n",
       "      <td>0.0</td>\n",
       "      <td>0.030145</td>\n",
       "      <td>0.0</td>\n",
       "      <td>0.00882</td>\n",
       "      <td>0.0</td>\n",
       "      <td>0.0</td>\n",
       "      <td>...</td>\n",
       "      <td>0.0</td>\n",
       "      <td>0.0</td>\n",
       "      <td>0.000000</td>\n",
       "      <td>0.0</td>\n",
       "      <td>0.053359</td>\n",
       "      <td>0.000000</td>\n",
       "      <td>0.164204</td>\n",
       "      <td>0.000000</td>\n",
       "      <td>0.00000</td>\n",
       "      <td>0.025972</td>\n",
       "    </tr>\n",
       "    <tr>\n",
       "      <th>0 days 00:00:00</th>\n",
       "      <td>0.0</td>\n",
       "      <td>0.043686</td>\n",
       "      <td>0.000000</td>\n",
       "      <td>0.0</td>\n",
       "      <td>0.0</td>\n",
       "      <td>0.030145</td>\n",
       "      <td>0.0</td>\n",
       "      <td>0.00882</td>\n",
       "      <td>0.0</td>\n",
       "      <td>0.0</td>\n",
       "      <td>...</td>\n",
       "      <td>0.0</td>\n",
       "      <td>0.0</td>\n",
       "      <td>0.000000</td>\n",
       "      <td>0.0</td>\n",
       "      <td>0.053359</td>\n",
       "      <td>0.000000</td>\n",
       "      <td>0.164204</td>\n",
       "      <td>0.000000</td>\n",
       "      <td>0.00000</td>\n",
       "      <td>0.025972</td>\n",
       "    </tr>\n",
       "    <tr>\n",
       "      <th>0 days 00:00:00</th>\n",
       "      <td>0.0</td>\n",
       "      <td>0.043686</td>\n",
       "      <td>0.000000</td>\n",
       "      <td>0.0</td>\n",
       "      <td>0.0</td>\n",
       "      <td>0.030145</td>\n",
       "      <td>0.0</td>\n",
       "      <td>0.00882</td>\n",
       "      <td>0.0</td>\n",
       "      <td>0.0</td>\n",
       "      <td>...</td>\n",
       "      <td>0.0</td>\n",
       "      <td>0.0</td>\n",
       "      <td>0.000000</td>\n",
       "      <td>0.0</td>\n",
       "      <td>0.053359</td>\n",
       "      <td>0.000000</td>\n",
       "      <td>0.164204</td>\n",
       "      <td>0.000000</td>\n",
       "      <td>0.00000</td>\n",
       "      <td>0.025972</td>\n",
       "    </tr>\n",
       "    <tr>\n",
       "      <th>0 days 00:00:00</th>\n",
       "      <td>0.0</td>\n",
       "      <td>0.043686</td>\n",
       "      <td>0.000000</td>\n",
       "      <td>0.0</td>\n",
       "      <td>0.0</td>\n",
       "      <td>0.030145</td>\n",
       "      <td>0.0</td>\n",
       "      <td>0.00882</td>\n",
       "      <td>0.0</td>\n",
       "      <td>0.0</td>\n",
       "      <td>...</td>\n",
       "      <td>0.0</td>\n",
       "      <td>0.0</td>\n",
       "      <td>0.000000</td>\n",
       "      <td>0.0</td>\n",
       "      <td>0.053359</td>\n",
       "      <td>0.000000</td>\n",
       "      <td>0.164204</td>\n",
       "      <td>0.000000</td>\n",
       "      <td>0.00000</td>\n",
       "      <td>0.025972</td>\n",
       "    </tr>\n",
       "    <tr>\n",
       "      <th>...</th>\n",
       "      <td>...</td>\n",
       "      <td>...</td>\n",
       "      <td>...</td>\n",
       "      <td>...</td>\n",
       "      <td>...</td>\n",
       "      <td>...</td>\n",
       "      <td>...</td>\n",
       "      <td>...</td>\n",
       "      <td>...</td>\n",
       "      <td>...</td>\n",
       "      <td>...</td>\n",
       "      <td>...</td>\n",
       "      <td>...</td>\n",
       "      <td>...</td>\n",
       "      <td>...</td>\n",
       "      <td>...</td>\n",
       "      <td>...</td>\n",
       "      <td>...</td>\n",
       "      <td>...</td>\n",
       "      <td>...</td>\n",
       "      <td>...</td>\n",
       "    </tr>\n",
       "    <tr>\n",
       "      <th>0 days 00:10:49.090000</th>\n",
       "      <td>0.0</td>\n",
       "      <td>0.000000</td>\n",
       "      <td>0.076481</td>\n",
       "      <td>0.0</td>\n",
       "      <td>0.0</td>\n",
       "      <td>0.000000</td>\n",
       "      <td>0.0</td>\n",
       "      <td>0.00209</td>\n",
       "      <td>0.0</td>\n",
       "      <td>0.0</td>\n",
       "      <td>...</td>\n",
       "      <td>0.0</td>\n",
       "      <td>0.0</td>\n",
       "      <td>0.074116</td>\n",
       "      <td>0.0</td>\n",
       "      <td>0.000000</td>\n",
       "      <td>0.003515</td>\n",
       "      <td>0.000000</td>\n",
       "      <td>0.068298</td>\n",
       "      <td>0.00882</td>\n",
       "      <td>0.000000</td>\n",
       "    </tr>\n",
       "    <tr>\n",
       "      <th>0 days 00:10:49.090000</th>\n",
       "      <td>0.0</td>\n",
       "      <td>0.000000</td>\n",
       "      <td>0.076481</td>\n",
       "      <td>0.0</td>\n",
       "      <td>0.0</td>\n",
       "      <td>0.000000</td>\n",
       "      <td>0.0</td>\n",
       "      <td>0.00209</td>\n",
       "      <td>0.0</td>\n",
       "      <td>0.0</td>\n",
       "      <td>...</td>\n",
       "      <td>0.0</td>\n",
       "      <td>0.0</td>\n",
       "      <td>0.074116</td>\n",
       "      <td>0.0</td>\n",
       "      <td>0.000000</td>\n",
       "      <td>0.003515</td>\n",
       "      <td>0.000000</td>\n",
       "      <td>0.068298</td>\n",
       "      <td>0.00882</td>\n",
       "      <td>0.000000</td>\n",
       "    </tr>\n",
       "    <tr>\n",
       "      <th>0 days 00:10:49.090000</th>\n",
       "      <td>0.0</td>\n",
       "      <td>0.000000</td>\n",
       "      <td>0.076481</td>\n",
       "      <td>0.0</td>\n",
       "      <td>0.0</td>\n",
       "      <td>0.000000</td>\n",
       "      <td>0.0</td>\n",
       "      <td>0.00209</td>\n",
       "      <td>0.0</td>\n",
       "      <td>0.0</td>\n",
       "      <td>...</td>\n",
       "      <td>0.0</td>\n",
       "      <td>0.0</td>\n",
       "      <td>0.074116</td>\n",
       "      <td>0.0</td>\n",
       "      <td>0.000000</td>\n",
       "      <td>0.003515</td>\n",
       "      <td>0.000000</td>\n",
       "      <td>0.068298</td>\n",
       "      <td>0.00882</td>\n",
       "      <td>0.000000</td>\n",
       "    </tr>\n",
       "    <tr>\n",
       "      <th>0 days 00:10:49.090000</th>\n",
       "      <td>0.0</td>\n",
       "      <td>0.000000</td>\n",
       "      <td>0.076481</td>\n",
       "      <td>0.0</td>\n",
       "      <td>0.0</td>\n",
       "      <td>0.000000</td>\n",
       "      <td>0.0</td>\n",
       "      <td>0.00209</td>\n",
       "      <td>0.0</td>\n",
       "      <td>0.0</td>\n",
       "      <td>...</td>\n",
       "      <td>0.0</td>\n",
       "      <td>0.0</td>\n",
       "      <td>0.074116</td>\n",
       "      <td>0.0</td>\n",
       "      <td>0.000000</td>\n",
       "      <td>0.003515</td>\n",
       "      <td>0.000000</td>\n",
       "      <td>0.068298</td>\n",
       "      <td>0.00882</td>\n",
       "      <td>0.000000</td>\n",
       "    </tr>\n",
       "    <tr>\n",
       "      <th>0 days 00:10:49.090000</th>\n",
       "      <td>0.0</td>\n",
       "      <td>0.000000</td>\n",
       "      <td>0.076481</td>\n",
       "      <td>0.0</td>\n",
       "      <td>0.0</td>\n",
       "      <td>0.000000</td>\n",
       "      <td>0.0</td>\n",
       "      <td>0.00209</td>\n",
       "      <td>0.0</td>\n",
       "      <td>0.0</td>\n",
       "      <td>...</td>\n",
       "      <td>0.0</td>\n",
       "      <td>0.0</td>\n",
       "      <td>0.074116</td>\n",
       "      <td>0.0</td>\n",
       "      <td>0.000000</td>\n",
       "      <td>0.003515</td>\n",
       "      <td>0.000000</td>\n",
       "      <td>0.068298</td>\n",
       "      <td>0.00882</td>\n",
       "      <td>0.000000</td>\n",
       "    </tr>\n",
       "  </tbody>\n",
       "</table>\n",
       "<p>6358240 rows × 98 columns</p>\n",
       "</div>"
      ],
      "text/plain": [
       "channel                 301       401       701   802   901       1001  1002  \\\n",
       "clock_time                                                                     \n",
       "0 days 00:00:00          0.0  0.043686  0.000000   0.0   0.0  0.030145   0.0   \n",
       "0 days 00:00:00          0.0  0.043686  0.000000   0.0   0.0  0.030145   0.0   \n",
       "0 days 00:00:00          0.0  0.043686  0.000000   0.0   0.0  0.030145   0.0   \n",
       "0 days 00:00:00          0.0  0.043686  0.000000   0.0   0.0  0.030145   0.0   \n",
       "0 days 00:00:00          0.0  0.043686  0.000000   0.0   0.0  0.030145   0.0   \n",
       "...                      ...       ...       ...   ...   ...       ...   ...   \n",
       "0 days 00:10:49.090000   0.0  0.000000  0.076481   0.0   0.0  0.000000   0.0   \n",
       "0 days 00:10:49.090000   0.0  0.000000  0.076481   0.0   0.0  0.000000   0.0   \n",
       "0 days 00:10:49.090000   0.0  0.000000  0.076481   0.0   0.0  0.000000   0.0   \n",
       "0 days 00:10:49.090000   0.0  0.000000  0.076481   0.0   0.0  0.000000   0.0   \n",
       "0 days 00:10:49.090000   0.0  0.000000  0.076481   0.0   0.0  0.000000   0.0   \n",
       "\n",
       "channel                    1103  1202  1301  ...  8701  8801      8901  9103  \\\n",
       "clock_time                                   ...                               \n",
       "0 days 00:00:00         0.00882   0.0   0.0  ...   0.0   0.0  0.000000   0.0   \n",
       "0 days 00:00:00         0.00882   0.0   0.0  ...   0.0   0.0  0.000000   0.0   \n",
       "0 days 00:00:00         0.00882   0.0   0.0  ...   0.0   0.0  0.000000   0.0   \n",
       "0 days 00:00:00         0.00882   0.0   0.0  ...   0.0   0.0  0.000000   0.0   \n",
       "0 days 00:00:00         0.00882   0.0   0.0  ...   0.0   0.0  0.000000   0.0   \n",
       "...                         ...   ...   ...  ...   ...   ...       ...   ...   \n",
       "0 days 00:10:49.090000  0.00209   0.0   0.0  ...   0.0   0.0  0.074116   0.0   \n",
       "0 days 00:10:49.090000  0.00209   0.0   0.0  ...   0.0   0.0  0.074116   0.0   \n",
       "0 days 00:10:49.090000  0.00209   0.0   0.0  ...   0.0   0.0  0.074116   0.0   \n",
       "0 days 00:10:49.090000  0.00209   0.0   0.0  ...   0.0   0.0  0.074116   0.0   \n",
       "0 days 00:10:49.090000  0.00209   0.0   0.0  ...   0.0   0.0  0.074116   0.0   \n",
       "\n",
       "channel                     9201      9203      9403      9501     9502  \\\n",
       "clock_time                                                                \n",
       "0 days 00:00:00         0.053359  0.000000  0.164204  0.000000  0.00000   \n",
       "0 days 00:00:00         0.053359  0.000000  0.164204  0.000000  0.00000   \n",
       "0 days 00:00:00         0.053359  0.000000  0.164204  0.000000  0.00000   \n",
       "0 days 00:00:00         0.053359  0.000000  0.164204  0.000000  0.00000   \n",
       "0 days 00:00:00         0.053359  0.000000  0.164204  0.000000  0.00000   \n",
       "...                          ...       ...       ...       ...      ...   \n",
       "0 days 00:10:49.090000  0.000000  0.003515  0.000000  0.068298  0.00882   \n",
       "0 days 00:10:49.090000  0.000000  0.003515  0.000000  0.068298  0.00882   \n",
       "0 days 00:10:49.090000  0.000000  0.003515  0.000000  0.068298  0.00882   \n",
       "0 days 00:10:49.090000  0.000000  0.003515  0.000000  0.068298  0.00882   \n",
       "0 days 00:10:49.090000  0.000000  0.003515  0.000000  0.068298  0.00882   \n",
       "\n",
       "channel                     9601  \n",
       "clock_time                        \n",
       "0 days 00:00:00         0.025972  \n",
       "0 days 00:00:00         0.025972  \n",
       "0 days 00:00:00         0.025972  \n",
       "0 days 00:00:00         0.025972  \n",
       "0 days 00:00:00         0.025972  \n",
       "...                          ...  \n",
       "0 days 00:10:49.090000  0.000000  \n",
       "0 days 00:10:49.090000  0.000000  \n",
       "0 days 00:10:49.090000  0.000000  \n",
       "0 days 00:10:49.090000  0.000000  \n",
       "0 days 00:10:49.090000  0.000000  \n",
       "\n",
       "[6358240 rows x 98 columns]"
      ]
     },
     "execution_count": 117,
     "metadata": {},
     "output_type": "execute_result"
    }
   ],
   "source": [
    "dataset.data.spikes_smth_50[~dataset.data.spikes_smth_50.isna().reset_index(drop=True).to_numpy()]"
   ]
  },
  {
   "cell_type": "code",
   "execution_count": 119,
   "metadata": {},
   "outputs": [
    {
     "data": {
      "text/html": [
       "<div>\n",
       "<style scoped>\n",
       "    .dataframe tbody tr th:only-of-type {\n",
       "        vertical-align: middle;\n",
       "    }\n",
       "\n",
       "    .dataframe tbody tr th {\n",
       "        vertical-align: top;\n",
       "    }\n",
       "\n",
       "    .dataframe thead th {\n",
       "        text-align: right;\n",
       "    }\n",
       "</style>\n",
       "<table border=\"1\" class=\"dataframe\">\n",
       "  <thead>\n",
       "    <tr style=\"text-align: right;\">\n",
       "      <th>channel</th>\n",
       "      <th>301</th>\n",
       "      <th>401</th>\n",
       "      <th>701</th>\n",
       "      <th>802</th>\n",
       "      <th>901</th>\n",
       "      <th>1001</th>\n",
       "      <th>1002</th>\n",
       "      <th>1103</th>\n",
       "      <th>1202</th>\n",
       "      <th>1301</th>\n",
       "      <th>...</th>\n",
       "      <th>8701</th>\n",
       "      <th>8801</th>\n",
       "      <th>8901</th>\n",
       "      <th>9103</th>\n",
       "      <th>9201</th>\n",
       "      <th>9203</th>\n",
       "      <th>9403</th>\n",
       "      <th>9501</th>\n",
       "      <th>9502</th>\n",
       "      <th>9601</th>\n",
       "    </tr>\n",
       "    <tr>\n",
       "      <th>clock_time</th>\n",
       "      <th></th>\n",
       "      <th></th>\n",
       "      <th></th>\n",
       "      <th></th>\n",
       "      <th></th>\n",
       "      <th></th>\n",
       "      <th></th>\n",
       "      <th></th>\n",
       "      <th></th>\n",
       "      <th></th>\n",
       "      <th></th>\n",
       "      <th></th>\n",
       "      <th></th>\n",
       "      <th></th>\n",
       "      <th></th>\n",
       "      <th></th>\n",
       "      <th></th>\n",
       "      <th></th>\n",
       "      <th></th>\n",
       "      <th></th>\n",
       "      <th></th>\n",
       "    </tr>\n",
       "  </thead>\n",
       "  <tbody>\n",
       "    <tr>\n",
       "      <th>0 days 00:00:00</th>\n",
       "      <td>0.0</td>\n",
       "      <td>0.043686</td>\n",
       "      <td>0.000000</td>\n",
       "      <td>0.0</td>\n",
       "      <td>0.0</td>\n",
       "      <td>0.030145</td>\n",
       "      <td>0.0</td>\n",
       "      <td>0.00882</td>\n",
       "      <td>0.0</td>\n",
       "      <td>0.0</td>\n",
       "      <td>...</td>\n",
       "      <td>0.0</td>\n",
       "      <td>0.0</td>\n",
       "      <td>0.000000</td>\n",
       "      <td>0.0</td>\n",
       "      <td>0.053359</td>\n",
       "      <td>0.000000</td>\n",
       "      <td>0.164204</td>\n",
       "      <td>0.000000</td>\n",
       "      <td>0.00000</td>\n",
       "      <td>0.025972</td>\n",
       "    </tr>\n",
       "    <tr>\n",
       "      <th>0 days 00:00:00</th>\n",
       "      <td>0.0</td>\n",
       "      <td>0.043686</td>\n",
       "      <td>0.000000</td>\n",
       "      <td>0.0</td>\n",
       "      <td>0.0</td>\n",
       "      <td>0.030145</td>\n",
       "      <td>0.0</td>\n",
       "      <td>0.00882</td>\n",
       "      <td>0.0</td>\n",
       "      <td>0.0</td>\n",
       "      <td>...</td>\n",
       "      <td>0.0</td>\n",
       "      <td>0.0</td>\n",
       "      <td>0.000000</td>\n",
       "      <td>0.0</td>\n",
       "      <td>0.053359</td>\n",
       "      <td>0.000000</td>\n",
       "      <td>0.164204</td>\n",
       "      <td>0.000000</td>\n",
       "      <td>0.00000</td>\n",
       "      <td>0.025972</td>\n",
       "    </tr>\n",
       "    <tr>\n",
       "      <th>0 days 00:00:00</th>\n",
       "      <td>0.0</td>\n",
       "      <td>0.043686</td>\n",
       "      <td>0.000000</td>\n",
       "      <td>0.0</td>\n",
       "      <td>0.0</td>\n",
       "      <td>0.030145</td>\n",
       "      <td>0.0</td>\n",
       "      <td>0.00882</td>\n",
       "      <td>0.0</td>\n",
       "      <td>0.0</td>\n",
       "      <td>...</td>\n",
       "      <td>0.0</td>\n",
       "      <td>0.0</td>\n",
       "      <td>0.000000</td>\n",
       "      <td>0.0</td>\n",
       "      <td>0.053359</td>\n",
       "      <td>0.000000</td>\n",
       "      <td>0.164204</td>\n",
       "      <td>0.000000</td>\n",
       "      <td>0.00000</td>\n",
       "      <td>0.025972</td>\n",
       "    </tr>\n",
       "    <tr>\n",
       "      <th>0 days 00:00:00</th>\n",
       "      <td>0.0</td>\n",
       "      <td>0.043686</td>\n",
       "      <td>0.000000</td>\n",
       "      <td>0.0</td>\n",
       "      <td>0.0</td>\n",
       "      <td>0.030145</td>\n",
       "      <td>0.0</td>\n",
       "      <td>0.00882</td>\n",
       "      <td>0.0</td>\n",
       "      <td>0.0</td>\n",
       "      <td>...</td>\n",
       "      <td>0.0</td>\n",
       "      <td>0.0</td>\n",
       "      <td>0.000000</td>\n",
       "      <td>0.0</td>\n",
       "      <td>0.053359</td>\n",
       "      <td>0.000000</td>\n",
       "      <td>0.164204</td>\n",
       "      <td>0.000000</td>\n",
       "      <td>0.00000</td>\n",
       "      <td>0.025972</td>\n",
       "    </tr>\n",
       "    <tr>\n",
       "      <th>0 days 00:00:00</th>\n",
       "      <td>0.0</td>\n",
       "      <td>0.043686</td>\n",
       "      <td>0.000000</td>\n",
       "      <td>0.0</td>\n",
       "      <td>0.0</td>\n",
       "      <td>0.030145</td>\n",
       "      <td>0.0</td>\n",
       "      <td>0.00882</td>\n",
       "      <td>0.0</td>\n",
       "      <td>0.0</td>\n",
       "      <td>...</td>\n",
       "      <td>0.0</td>\n",
       "      <td>0.0</td>\n",
       "      <td>0.000000</td>\n",
       "      <td>0.0</td>\n",
       "      <td>0.053359</td>\n",
       "      <td>0.000000</td>\n",
       "      <td>0.164204</td>\n",
       "      <td>0.000000</td>\n",
       "      <td>0.00000</td>\n",
       "      <td>0.025972</td>\n",
       "    </tr>\n",
       "    <tr>\n",
       "      <th>...</th>\n",
       "      <td>...</td>\n",
       "      <td>...</td>\n",
       "      <td>...</td>\n",
       "      <td>...</td>\n",
       "      <td>...</td>\n",
       "      <td>...</td>\n",
       "      <td>...</td>\n",
       "      <td>...</td>\n",
       "      <td>...</td>\n",
       "      <td>...</td>\n",
       "      <td>...</td>\n",
       "      <td>...</td>\n",
       "      <td>...</td>\n",
       "      <td>...</td>\n",
       "      <td>...</td>\n",
       "      <td>...</td>\n",
       "      <td>...</td>\n",
       "      <td>...</td>\n",
       "      <td>...</td>\n",
       "      <td>...</td>\n",
       "      <td>...</td>\n",
       "    </tr>\n",
       "    <tr>\n",
       "      <th>0 days 00:10:49.090000</th>\n",
       "      <td>0.0</td>\n",
       "      <td>0.000000</td>\n",
       "      <td>0.076481</td>\n",
       "      <td>0.0</td>\n",
       "      <td>0.0</td>\n",
       "      <td>0.000000</td>\n",
       "      <td>0.0</td>\n",
       "      <td>0.00209</td>\n",
       "      <td>0.0</td>\n",
       "      <td>0.0</td>\n",
       "      <td>...</td>\n",
       "      <td>0.0</td>\n",
       "      <td>0.0</td>\n",
       "      <td>0.074116</td>\n",
       "      <td>0.0</td>\n",
       "      <td>0.000000</td>\n",
       "      <td>0.003515</td>\n",
       "      <td>0.000000</td>\n",
       "      <td>0.068298</td>\n",
       "      <td>0.00882</td>\n",
       "      <td>0.000000</td>\n",
       "    </tr>\n",
       "    <tr>\n",
       "      <th>0 days 00:10:49.090000</th>\n",
       "      <td>0.0</td>\n",
       "      <td>0.000000</td>\n",
       "      <td>0.076481</td>\n",
       "      <td>0.0</td>\n",
       "      <td>0.0</td>\n",
       "      <td>0.000000</td>\n",
       "      <td>0.0</td>\n",
       "      <td>0.00209</td>\n",
       "      <td>0.0</td>\n",
       "      <td>0.0</td>\n",
       "      <td>...</td>\n",
       "      <td>0.0</td>\n",
       "      <td>0.0</td>\n",
       "      <td>0.074116</td>\n",
       "      <td>0.0</td>\n",
       "      <td>0.000000</td>\n",
       "      <td>0.003515</td>\n",
       "      <td>0.000000</td>\n",
       "      <td>0.068298</td>\n",
       "      <td>0.00882</td>\n",
       "      <td>0.000000</td>\n",
       "    </tr>\n",
       "    <tr>\n",
       "      <th>0 days 00:10:49.090000</th>\n",
       "      <td>0.0</td>\n",
       "      <td>0.000000</td>\n",
       "      <td>0.076481</td>\n",
       "      <td>0.0</td>\n",
       "      <td>0.0</td>\n",
       "      <td>0.000000</td>\n",
       "      <td>0.0</td>\n",
       "      <td>0.00209</td>\n",
       "      <td>0.0</td>\n",
       "      <td>0.0</td>\n",
       "      <td>...</td>\n",
       "      <td>0.0</td>\n",
       "      <td>0.0</td>\n",
       "      <td>0.074116</td>\n",
       "      <td>0.0</td>\n",
       "      <td>0.000000</td>\n",
       "      <td>0.003515</td>\n",
       "      <td>0.000000</td>\n",
       "      <td>0.068298</td>\n",
       "      <td>0.00882</td>\n",
       "      <td>0.000000</td>\n",
       "    </tr>\n",
       "    <tr>\n",
       "      <th>0 days 00:10:49.090000</th>\n",
       "      <td>0.0</td>\n",
       "      <td>0.000000</td>\n",
       "      <td>0.076481</td>\n",
       "      <td>0.0</td>\n",
       "      <td>0.0</td>\n",
       "      <td>0.000000</td>\n",
       "      <td>0.0</td>\n",
       "      <td>0.00209</td>\n",
       "      <td>0.0</td>\n",
       "      <td>0.0</td>\n",
       "      <td>...</td>\n",
       "      <td>0.0</td>\n",
       "      <td>0.0</td>\n",
       "      <td>0.074116</td>\n",
       "      <td>0.0</td>\n",
       "      <td>0.000000</td>\n",
       "      <td>0.003515</td>\n",
       "      <td>0.000000</td>\n",
       "      <td>0.068298</td>\n",
       "      <td>0.00882</td>\n",
       "      <td>0.000000</td>\n",
       "    </tr>\n",
       "    <tr>\n",
       "      <th>0 days 00:10:49.090000</th>\n",
       "      <td>0.0</td>\n",
       "      <td>0.000000</td>\n",
       "      <td>0.076481</td>\n",
       "      <td>0.0</td>\n",
       "      <td>0.0</td>\n",
       "      <td>0.000000</td>\n",
       "      <td>0.0</td>\n",
       "      <td>0.00209</td>\n",
       "      <td>0.0</td>\n",
       "      <td>0.0</td>\n",
       "      <td>...</td>\n",
       "      <td>0.0</td>\n",
       "      <td>0.0</td>\n",
       "      <td>0.074116</td>\n",
       "      <td>0.0</td>\n",
       "      <td>0.000000</td>\n",
       "      <td>0.003515</td>\n",
       "      <td>0.000000</td>\n",
       "      <td>0.068298</td>\n",
       "      <td>0.00882</td>\n",
       "      <td>0.000000</td>\n",
       "    </tr>\n",
       "  </tbody>\n",
       "</table>\n",
       "<p>6358240 rows × 98 columns</p>\n",
       "</div>"
      ],
      "text/plain": [
       "channel                 301       401       701   802   901       1001  1002  \\\n",
       "clock_time                                                                     \n",
       "0 days 00:00:00          0.0  0.043686  0.000000   0.0   0.0  0.030145   0.0   \n",
       "0 days 00:00:00          0.0  0.043686  0.000000   0.0   0.0  0.030145   0.0   \n",
       "0 days 00:00:00          0.0  0.043686  0.000000   0.0   0.0  0.030145   0.0   \n",
       "0 days 00:00:00          0.0  0.043686  0.000000   0.0   0.0  0.030145   0.0   \n",
       "0 days 00:00:00          0.0  0.043686  0.000000   0.0   0.0  0.030145   0.0   \n",
       "...                      ...       ...       ...   ...   ...       ...   ...   \n",
       "0 days 00:10:49.090000   0.0  0.000000  0.076481   0.0   0.0  0.000000   0.0   \n",
       "0 days 00:10:49.090000   0.0  0.000000  0.076481   0.0   0.0  0.000000   0.0   \n",
       "0 days 00:10:49.090000   0.0  0.000000  0.076481   0.0   0.0  0.000000   0.0   \n",
       "0 days 00:10:49.090000   0.0  0.000000  0.076481   0.0   0.0  0.000000   0.0   \n",
       "0 days 00:10:49.090000   0.0  0.000000  0.076481   0.0   0.0  0.000000   0.0   \n",
       "\n",
       "channel                    1103  1202  1301  ...  8701  8801      8901  9103  \\\n",
       "clock_time                                   ...                               \n",
       "0 days 00:00:00         0.00882   0.0   0.0  ...   0.0   0.0  0.000000   0.0   \n",
       "0 days 00:00:00         0.00882   0.0   0.0  ...   0.0   0.0  0.000000   0.0   \n",
       "0 days 00:00:00         0.00882   0.0   0.0  ...   0.0   0.0  0.000000   0.0   \n",
       "0 days 00:00:00         0.00882   0.0   0.0  ...   0.0   0.0  0.000000   0.0   \n",
       "0 days 00:00:00         0.00882   0.0   0.0  ...   0.0   0.0  0.000000   0.0   \n",
       "...                         ...   ...   ...  ...   ...   ...       ...   ...   \n",
       "0 days 00:10:49.090000  0.00209   0.0   0.0  ...   0.0   0.0  0.074116   0.0   \n",
       "0 days 00:10:49.090000  0.00209   0.0   0.0  ...   0.0   0.0  0.074116   0.0   \n",
       "0 days 00:10:49.090000  0.00209   0.0   0.0  ...   0.0   0.0  0.074116   0.0   \n",
       "0 days 00:10:49.090000  0.00209   0.0   0.0  ...   0.0   0.0  0.074116   0.0   \n",
       "0 days 00:10:49.090000  0.00209   0.0   0.0  ...   0.0   0.0  0.074116   0.0   \n",
       "\n",
       "channel                     9201      9203      9403      9501     9502  \\\n",
       "clock_time                                                                \n",
       "0 days 00:00:00         0.053359  0.000000  0.164204  0.000000  0.00000   \n",
       "0 days 00:00:00         0.053359  0.000000  0.164204  0.000000  0.00000   \n",
       "0 days 00:00:00         0.053359  0.000000  0.164204  0.000000  0.00000   \n",
       "0 days 00:00:00         0.053359  0.000000  0.164204  0.000000  0.00000   \n",
       "0 days 00:00:00         0.053359  0.000000  0.164204  0.000000  0.00000   \n",
       "...                          ...       ...       ...       ...      ...   \n",
       "0 days 00:10:49.090000  0.000000  0.003515  0.000000  0.068298  0.00882   \n",
       "0 days 00:10:49.090000  0.000000  0.003515  0.000000  0.068298  0.00882   \n",
       "0 days 00:10:49.090000  0.000000  0.003515  0.000000  0.068298  0.00882   \n",
       "0 days 00:10:49.090000  0.000000  0.003515  0.000000  0.068298  0.00882   \n",
       "0 days 00:10:49.090000  0.000000  0.003515  0.000000  0.068298  0.00882   \n",
       "\n",
       "channel                     9601  \n",
       "clock_time                        \n",
       "0 days 00:00:00         0.025972  \n",
       "0 days 00:00:00         0.025972  \n",
       "0 days 00:00:00         0.025972  \n",
       "0 days 00:00:00         0.025972  \n",
       "0 days 00:00:00         0.025972  \n",
       "...                          ...  \n",
       "0 days 00:10:49.090000  0.000000  \n",
       "0 days 00:10:49.090000  0.000000  \n",
       "0 days 00:10:49.090000  0.000000  \n",
       "0 days 00:10:49.090000  0.000000  \n",
       "0 days 00:10:49.090000  0.000000  \n",
       "\n",
       "[6358240 rows x 98 columns]"
      ]
     },
     "execution_count": 119,
     "metadata": {},
     "output_type": "execute_result"
    }
   ],
   "source": [
    "dataset.data.spikes_smth_50[~dataset.data.spikes_smth_50.isna().to_numpy()]"
   ]
  },
  {
   "cell_type": "code",
   "execution_count": 51,
   "metadata": {},
   "outputs": [
    {
     "data": {
      "text/plain": [
       "(64838, 98)"
      ]
     },
     "execution_count": 51,
     "metadata": {},
     "output_type": "execute_result"
    }
   ],
   "source": [
    "rates.shape"
   ]
  },
  {
   "cell_type": "code",
   "execution_count": null,
   "metadata": {},
   "outputs": [],
   "source": [
    "lag = 120\n",
    "lag_bins = int(round(lag / dataset.bin_width))\n",
    "nans = dataset.data.finger_vel.x.isna().reset_index(drop=True)\n",
    "rates = dataset.data.spikes_smth_50[~nans.to_numpy() & ~nans.shift(-lag_bins, fill_value=True).to_numpy()].to_numpy()\n",
    "vel = dataset.data.finger_vel[~nans.to_numpy() & ~nans.shift(lag_bins, fill_value=True).to_numpy()].to_numpy()\n",
    "vel_index = dataset.data.finger_vel[~nans.to_numpy() & ~nans.shift(lag_bins, fill_value=True).to_numpy()].index"
   ]
  },
  {
   "cell_type": "code",
   "execution_count": 63,
   "metadata": {},
   "outputs": [
    {
     "data": {
      "text/plain": [
       "clock_time\n",
       "0 days 00:00:00           0.691476\n",
       "0 days 00:00:00.010000    1.537992\n",
       "0 days 00:00:00.020000    1.550475\n",
       "0 days 00:00:00.030000    1.799469\n",
       "0 days 00:00:00.040000    1.903062\n",
       "Freq: 10L, Name: x, dtype: float64"
      ]
     },
     "execution_count": 63,
     "metadata": {},
     "output_type": "execute_result"
    }
   ],
   "source": [
    "test = dataset.data.finger_vel.x[:5]\n",
    "test"
   ]
  },
  {
   "cell_type": "code",
   "execution_count": 70,
   "metadata": {},
   "outputs": [
    {
     "data": {
      "text/plain": [
       "clock_time\n",
       "0 days 00:00:00           1.550475\n",
       "0 days 00:00:00.010000    1.799469\n",
       "0 days 00:00:00.020000    1.903062\n",
       "0 days 00:00:00.030000         NaN\n",
       "0 days 00:00:00.040000         NaN\n",
       "Freq: 10L, Name: x, dtype: float64"
      ]
     },
     "execution_count": 70,
     "metadata": {},
     "output_type": "execute_result"
    }
   ],
   "source": [
    "shifted = test.shift(-2)\n",
    "shifted"
   ]
  },
  {
   "cell_type": "code",
   "execution_count": 71,
   "metadata": {},
   "outputs": [
    {
     "data": {
      "text/plain": [
       "0    False\n",
       "1    False\n",
       "2    False\n",
       "3     True\n",
       "4     True\n",
       "Name: x, dtype: bool"
      ]
     },
     "execution_count": 71,
     "metadata": {},
     "output_type": "execute_result"
    }
   ],
   "source": [
    "nans = shifted.isna().reset_index(drop=True)\n",
    "nans"
   ]
  },
  {
   "cell_type": "code",
   "execution_count": 73,
   "metadata": {},
   "outputs": [
    {
     "data": {
      "text/plain": [
       "clock_time\n",
       "0 days 00:00:00           1.550475\n",
       "0 days 00:00:00.010000    1.799469\n",
       "0 days 00:00:00.020000    1.903062\n",
       "Freq: 10L, Name: x, dtype: float64"
      ]
     },
     "execution_count": 73,
     "metadata": {},
     "output_type": "execute_result"
    }
   ],
   "source": [
    "shifted[~nans.to_numpy()]"
   ]
  },
  {
   "cell_type": "code",
   "execution_count": 36,
   "metadata": {},
   "outputs": [
    {
     "data": {
      "text/plain": [
       "array([[0., 0., 0., ..., 0., 0., 0.],\n",
       "       [0., 0., 0., ..., 0., 0., 0.],\n",
       "       [0., 0., 0., ..., 0., 0., 0.],\n",
       "       ...,\n",
       "       [0., 0., 1., ..., 0., 0., 0.],\n",
       "       [0., 0., 0., ..., 0., 0., 0.],\n",
       "       [0., 0., 0., ..., 0., 0., 0.]], dtype=float16)"
      ]
     },
     "execution_count": 36,
     "metadata": {},
     "output_type": "execute_result"
    }
   ],
   "source": [
    "dataset.data.spikes.to_numpy()"
   ]
  },
  {
   "cell_type": "code",
   "execution_count": 37,
   "metadata": {},
   "outputs": [],
   "source": [
    "import numpy as np\n",
    "nan = np.nan\n",
    "\n",
    "def using_clump(a):\n",
    "    return [a[s] for s in np.ma.clump_unmasked(np.ma.masked_invalid(a))]"
   ]
  },
  {
   "cell_type": "code",
   "execution_count": 56,
   "metadata": {},
   "outputs": [],
   "source": [
    "arr = dataset.data.spikes.to_numpy().T\n",
    "arr = spikes.T"
   ]
  },
  {
   "cell_type": "code",
   "execution_count": 57,
   "metadata": {},
   "outputs": [],
   "source": [
    "split_data = using_clump(arr)"
   ]
  },
  {
   "cell_type": "code",
   "execution_count": 58,
   "metadata": {},
   "outputs": [
    {
     "data": {
      "text/plain": [
       "(98, 64838)"
      ]
     },
     "execution_count": 58,
     "metadata": {},
     "output_type": "execute_result"
    }
   ],
   "source": [
    "arr.shape"
   ]
  },
  {
   "cell_type": "code",
   "execution_count": 59,
   "metadata": {},
   "outputs": [],
   "source": [
    "\n",
    "test=[]\n",
    "for i in arr:\n",
    "    test.append(using_clump(i))"
   ]
  },
  {
   "cell_type": "code",
   "execution_count": 60,
   "metadata": {},
   "outputs": [
    {
     "data": {
      "text/plain": [
       "(98, 1, 64838)"
      ]
     },
     "execution_count": 60,
     "metadata": {},
     "output_type": "execute_result"
    }
   ],
   "source": [
    "np.array(test).shape"
   ]
  },
  {
   "cell_type": "code",
   "execution_count": 43,
   "metadata": {},
   "outputs": [],
   "source": [
    "new_arr = np.transpose(test, (1, 2, 0))"
   ]
  },
  {
   "cell_type": "code",
   "execution_count": 44,
   "metadata": {},
   "outputs": [
    {
     "data": {
      "text/plain": [
       "(4, 16220, 98)"
      ]
     },
     "execution_count": 44,
     "metadata": {},
     "output_type": "execute_result"
    }
   ],
   "source": [
    "new_arr.shape"
   ]
  },
  {
   "cell_type": "code",
   "execution_count": 33,
   "metadata": {},
   "outputs": [
    {
     "data": {
      "text/plain": [
       "array([[[0., 0., 0., ..., 0., 0., 0.],\n",
       "        [0., 0., 0., ..., 0., 0., 0.],\n",
       "        [0., 0., 0., ..., 0., 0., 0.],\n",
       "        ...,\n",
       "        [0., 0., 0., ..., 0., 0., 0.],\n",
       "        [0., 0., 0., ..., 0., 0., 0.],\n",
       "        [0., 0., 0., ..., 0., 0., 0.]],\n",
       "\n",
       "       [[0., 0., 0., ..., 0., 0., 0.],\n",
       "        [0., 0., 0., ..., 0., 0., 0.],\n",
       "        [0., 0., 0., ..., 0., 0., 0.],\n",
       "        ...,\n",
       "        [0., 0., 0., ..., 0., 0., 0.],\n",
       "        [0., 0., 0., ..., 0., 0., 0.],\n",
       "        [0., 0., 0., ..., 0., 0., 0.]],\n",
       "\n",
       "       [[0., 0., 0., ..., 0., 0., 0.],\n",
       "        [0., 0., 0., ..., 0., 0., 0.],\n",
       "        [0., 0., 0., ..., 0., 0., 0.],\n",
       "        ...,\n",
       "        [0., 1., 0., ..., 0., 0., 0.],\n",
       "        [0., 0., 0., ..., 0., 0., 0.],\n",
       "        [0., 0., 0., ..., 0., 0., 0.]],\n",
       "\n",
       "       [[0., 0., 0., ..., 0., 0., 0.],\n",
       "        [0., 0., 0., ..., 0., 0., 0.],\n",
       "        [0., 0., 0., ..., 0., 0., 0.],\n",
       "        ...,\n",
       "        [0., 0., 0., ..., 0., 0., 0.],\n",
       "        [0., 0., 0., ..., 0., 0., 0.],\n",
       "        [0., 0., 0., ..., 0., 0., 0.]]], dtype=float16)"
      ]
     },
     "execution_count": 33,
     "metadata": {},
     "output_type": "execute_result"
    }
   ],
   "source": [
    "new_arr"
   ]
  },
  {
   "cell_type": "code",
   "execution_count": 15,
   "metadata": {},
   "outputs": [
    {
     "name": "stdout",
     "output_type": "stream",
     "text": [
      "648549\n"
     ]
    },
    {
     "data": {
      "image/png": "[encoded data removed]",
      "text/plain": [
       "<Figure size 432x288 with 1 Axes>"
      ]
     },
     "metadata": {
      "needs_background": "light"
     },
     "output_type": "display_data"
    }
   ],
   "source": [
    "has_change = dataset.data.target_pos.fillna(-1000).diff(axis=0).any(axis=1) # filling NaNs with arbitrary scalar to treat as one block\n",
    "# Find if target pos change corresponds to NaN-padded gap between files\n",
    "change_nan = dataset.data[has_change].isna().any(axis=1)\n",
    "print(len(has_change[has_change == True]))\n",
    "plt.plot(len(change_nan))\n",
    "plt.show()\n"
   ]
  },
  {
   "cell_type": "code",
   "execution_count": 5,
   "metadata": {},
   "outputs": [
    {
     "data": {
      "image/png": "[encoded data removed]",
      "text/plain": [
       "<Figure size 432x288 with 1 Axes>"
      ]
     },
     "metadata": {
      "needs_background": "light"
     },
     "output_type": "display_data"
    }
   ],
   "source": [
    "plt.plot(has_change)\n",
    "plt.show()\n"
   ]
  },
  {
   "cell_type": "code",
   "execution_count": null,
   "metadata": {},
   "outputs": [],
   "source": [
    "# Drop trials containing the gap and immediately before and after, as those trials may be cut short\n",
    "drop_trial = (change_nan | change_nan.shift(1, fill_value=True) | change_nan.shift(-1, fill_value=True))[:-1]\n",
    "# Add start and end times to trial info\n",
    "change_times = dataset.data.index[has_change]\n",
    "start_times = change_times[:-1][~drop_trial]\n",
    "end_times = change_times[1:][~drop_trial]\n",
    "# Get target position per trial\n",
    "target_pos = dataset.data.target_pos.loc[start_times].to_numpy().tolist()\n",
    "# Compute reach distance and angle\n",
    "reach_dist = dataset.data.target_pos.loc[end_times - pd.Timedelta(1, 'ms')].to_numpy() - dataset.data.target_pos.loc[start_times - pd.Timedelta(1, 'ms')].to_numpy()\n",
    "reach_angle = np.arctan2(reach_dist[:, 1], reach_dist[:, 0]) / np.pi * 180\n",
    "# Create trial info\n",
    "dataset.trial_info = pd.DataFrame({\n",
    "    'trial_id': np.arange(len(start_times)),\n",
    "    'start_time': start_times,\n",
    "    'end_time': end_times,\n",
    "    'target_pos': target_pos,\n",
    "    'reach_dist_x': reach_dist[:, 0],\n",
    "    'reach_dist_y': reach_dist[:, 1],\n",
    "    'reach_angle': reach_angle,\n",
    "})"
   ]
  },
  {
   "cell_type": "code",
   "execution_count": 6,
   "metadata": {},
   "outputs": [],
   "source": [
    "dataset.resample(5)"
   ]
  },
  {
   "cell_type": "code",
   "execution_count": 10,
   "metadata": {},
   "outputs": [
    {
     "data": {
      "image/png": "[encoded data removed]",
      "text/plain": [
       "<Figure size 432x288 with 2 Axes>"
      ]
     },
     "metadata": {
      "needs_background": "light"
     },
     "output_type": "display_data"
    }
   ],
   "source": [
    "## Plot a few reaches\n",
    "\n",
    "# Extract start and end times, target positions\n",
    "start = dataset.trial_info.iloc[0].start_time # arbitrarily using 1st through 6th reaches\n",
    "end = dataset.trial_info.iloc[7].end_time - pd.Timedelta(1, 'ms')\n",
    "targets = dataset.trial_info.target_pos.iloc[0:8].to_numpy().tolist()\n",
    "tts = dataset.trial_info.end_time.iloc[0:8] - start\n",
    "\n",
    "# Get cursor position data\n",
    "reach_data = dataset.data.cursor_pos.loc[start:end].to_numpy().reshape(-1, 1, 2)\n",
    "reach_seg = np.concatenate([reach_data[:-1], reach_data[1:]], axis=1)\n",
    "# Split into collection of lines for color gradient\n",
    "lc = LineCollection(reach_seg, cmap='rainbow', norm=plt.Normalize(0, len(reach_seg) * dataset.bin_width / 1000))\n",
    "lc.set_array(np.arange(len(reach_seg)) * dataset.bin_width / 1000)\n",
    "\n",
    "# Plot lines and add targets\n",
    "ax = plt.axes()\n",
    "lines = ax.add_collection(lc)\n",
    "for tt, target in zip(tts, targets):\n",
    "    ax.plot(target[0], target[1], marker='o', markersize=8, color=plt.get_cmap('rainbow')(tt.total_seconds() * 1000 / dataset.bin_width / len(reach_seg)))\n",
    "ax.set_xlim(-60, 60)\n",
    "ax.set_ylim(-10, 130)\n",
    "plt.colorbar(lines, label='time (s)')\n",
    "plt.show()"
   ]
  },
  {
   "cell_type": "code",
   "execution_count": 14,
   "metadata": {},
   "outputs": [
    {
     "data": {
      "image/png": "[encoded data removed]",
      "text/plain": [
       "<Figure size 432x288 with 2 Axes>"
      ]
     },
     "metadata": {
      "needs_background": "light"
     },
     "output_type": "display_data"
    }
   ],
   "source": [
    "## Plot a few reaches\n",
    "\n",
    "# Extract start and end times, target positions\n",
    "start = dataset.trial_info.iloc[20].start_time # arbitrarily using 1st through 6th reaches\n",
    "end = dataset.trial_info.iloc[40].end_time - pd.Timedelta(1, 'ms')\n",
    "targets = dataset.trial_info.target_pos.iloc[20:41].to_numpy().tolist()\n",
    "tts = dataset.trial_info.end_time.iloc[20:41] - start\n",
    "\n",
    "# Get cursor position data\n",
    "reach_data = dataset.data.cursor_pos.loc[start:end].to_numpy().reshape(-1, 1, 2)\n",
    "reach_seg = np.concatenate([reach_data[:-1], reach_data[1:]], axis=1)\n",
    "# Split into collection of lines for color gradient\n",
    "lc = LineCollection(reach_seg, cmap='rainbow', norm=plt.Normalize(0, len(reach_seg) * dataset.bin_width / 1000))\n",
    "lc.set_array(np.arange(len(reach_seg)) * dataset.bin_width / 1000)\n",
    "\n",
    "# Plot lines and add targets\n",
    "ax = plt.axes()\n",
    "lines = ax.add_collection(lc)\n",
    "for tt, target in zip(tts, targets):\n",
    "    ax.plot(target[0], target[1], marker='o', markersize=8, color=plt.get_cmap('rainbow')(tt.total_seconds() * 1000 / dataset.bin_width / len(reach_seg)))\n",
    "ax.set_xlim(-60, 60)\n",
    "ax.set_ylim(-10, 130)\n",
    "plt.colorbar(lines, label='time (s)')\n",
    "plt.show()"
   ]
  }
 ],
 "metadata": {
  "kernelspec": {
   "display_name": "Python 3.8.5 ('ndtu': conda)",
   "language": "python",
   "name": "python3"
  },
  "language_info": {
   "codemirror_mode": {
    "name": "ipython",
    "version": 3
   },
   "file_extension": ".py",
   "mimetype": "text/x-python",
   "name": "python",
   "nbconvert_exporter": "python",
   "pygments_lexer": "ipython3",
   "version": "3.8.5"
  },
  "orig_nbformat": 4,
  "vscode": {
   "interpreter": {
    "hash": "59cd4eb5f467b822ded03db0cb076f5e7005d54ea28457b2083fbdb9b80fb7dc"
   }
  }
 },
 "nbformat": 4,
 "nbformat_minor": 2
}
