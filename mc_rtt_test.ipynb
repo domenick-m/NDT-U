{
 "cells": [
  {
   "cell_type": "code",
   "execution_count": 1,
   "metadata": {},
   "outputs": [],
   "source": [
    "from nlb_tools.nwb_interface import NWBDataset\n",
    "import numpy as np\n",
    "import pandas as pd\n",
    "import scipy.signal as signal\n",
    "import matplotlib.pyplot as plt\n",
    "from mpl_toolkits.mplot3d import Axes3D\n",
    "from matplotlib.collections import LineCollection\n",
    "from sklearn.linear_model import Ridge\n",
    "from sklearn.model_selection import GridSearchCV"
   ]
  },
  {
   "cell_type": "code",
   "execution_count": 12,
   "metadata": {},
   "outputs": [],
   "source": [
    "dataset = NWBDataset('/home/dmifsud/Projects/NDT-U/data/mc_rtt_train.nwb', split_heldout=False)"
   ]
  },
  {
   "cell_type": "code",
   "execution_count": 4,
   "metadata": {},
   "outputs": [
    {
     "data": {
      "text/html": [
       "<div>\n",
       "<style scoped>\n",
       "    .dataframe tbody tr th:only-of-type {\n",
       "        vertical-align: middle;\n",
       "    }\n",
       "\n",
       "    .dataframe tbody tr th {\n",
       "        vertical-align: top;\n",
       "    }\n",
       "\n",
       "    .dataframe thead tr th {\n",
       "        text-align: left;\n",
       "    }\n",
       "\n",
       "    .dataframe thead tr:last-of-type th {\n",
       "        text-align: right;\n",
       "    }\n",
       "</style>\n",
       "<table border=\"1\" class=\"dataframe\">\n",
       "  <thead>\n",
       "    <tr>\n",
       "      <th>signal_type</th>\n",
       "      <th colspan=\"2\" halign=\"left\">cursor_pos</th>\n",
       "      <th colspan=\"3\" halign=\"left\">finger_pos</th>\n",
       "      <th colspan=\"2\" halign=\"left\">finger_vel</th>\n",
       "      <th colspan=\"3\" halign=\"left\">heldout_spikes</th>\n",
       "      <th>...</th>\n",
       "      <th colspan=\"8\" halign=\"left\">spikes</th>\n",
       "      <th colspan=\"2\" halign=\"left\">target_pos</th>\n",
       "    </tr>\n",
       "    <tr>\n",
       "      <th>channel</th>\n",
       "      <th>x</th>\n",
       "      <th>y</th>\n",
       "      <th>x</th>\n",
       "      <th>y</th>\n",
       "      <th>z</th>\n",
       "      <th>x</th>\n",
       "      <th>y</th>\n",
       "      <th>201</th>\n",
       "      <th>203</th>\n",
       "      <th>204</th>\n",
       "      <th>...</th>\n",
       "      <th>8901</th>\n",
       "      <th>9103</th>\n",
       "      <th>9201</th>\n",
       "      <th>9203</th>\n",
       "      <th>9403</th>\n",
       "      <th>9501</th>\n",
       "      <th>9502</th>\n",
       "      <th>9601</th>\n",
       "      <th>x</th>\n",
       "      <th>y</th>\n",
       "    </tr>\n",
       "    <tr>\n",
       "      <th>clock_time</th>\n",
       "      <th></th>\n",
       "      <th></th>\n",
       "      <th></th>\n",
       "      <th></th>\n",
       "      <th></th>\n",
       "      <th></th>\n",
       "      <th></th>\n",
       "      <th></th>\n",
       "      <th></th>\n",
       "      <th></th>\n",
       "      <th></th>\n",
       "      <th></th>\n",
       "      <th></th>\n",
       "      <th></th>\n",
       "      <th></th>\n",
       "      <th></th>\n",
       "      <th></th>\n",
       "      <th></th>\n",
       "      <th></th>\n",
       "      <th></th>\n",
       "      <th></th>\n",
       "    </tr>\n",
       "  </thead>\n",
       "  <tbody>\n",
       "    <tr>\n",
       "      <th>0 days 00:00:00</th>\n",
       "      <td>-4.368126</td>\n",
       "      <td>56.778511</td>\n",
       "      <td>-4.357695</td>\n",
       "      <td>56.758063</td>\n",
       "      <td>94.737781</td>\n",
       "      <td>1.211079</td>\n",
       "      <td>-2.349968</td>\n",
       "      <td>0.0</td>\n",
       "      <td>0.0</td>\n",
       "      <td>0.0</td>\n",
       "      <td>...</td>\n",
       "      <td>0.0</td>\n",
       "      <td>0.0</td>\n",
       "      <td>0.0</td>\n",
       "      <td>0.0</td>\n",
       "      <td>0.0</td>\n",
       "      <td>0.0</td>\n",
       "      <td>0.0</td>\n",
       "      <td>0.0</td>\n",
       "      <td>-7.5</td>\n",
       "      <td>52.5</td>\n",
       "    </tr>\n",
       "    <tr>\n",
       "      <th>0 days 00:00:00.001000</th>\n",
       "      <td>-4.367445</td>\n",
       "      <td>56.776709</td>\n",
       "      <td>-4.356471</td>\n",
       "      <td>56.755696</td>\n",
       "      <td>94.736662</td>\n",
       "      <td>1.236134</td>\n",
       "      <td>-2.383193</td>\n",
       "      <td>0.0</td>\n",
       "      <td>0.0</td>\n",
       "      <td>0.0</td>\n",
       "      <td>...</td>\n",
       "      <td>0.0</td>\n",
       "      <td>0.0</td>\n",
       "      <td>0.0</td>\n",
       "      <td>0.0</td>\n",
       "      <td>0.0</td>\n",
       "      <td>0.0</td>\n",
       "      <td>0.0</td>\n",
       "      <td>0.0</td>\n",
       "      <td>-7.5</td>\n",
       "      <td>52.5</td>\n",
       "    </tr>\n",
       "    <tr>\n",
       "      <th>0 days 00:00:00.002000</th>\n",
       "      <td>-4.366716</td>\n",
       "      <td>56.774849</td>\n",
       "      <td>-4.355222</td>\n",
       "      <td>56.753297</td>\n",
       "      <td>94.735519</td>\n",
       "      <td>1.260579</td>\n",
       "      <td>-2.415633</td>\n",
       "      <td>0.0</td>\n",
       "      <td>0.0</td>\n",
       "      <td>0.0</td>\n",
       "      <td>...</td>\n",
       "      <td>0.0</td>\n",
       "      <td>0.0</td>\n",
       "      <td>0.0</td>\n",
       "      <td>0.0</td>\n",
       "      <td>0.0</td>\n",
       "      <td>0.0</td>\n",
       "      <td>0.0</td>\n",
       "      <td>0.0</td>\n",
       "      <td>-7.5</td>\n",
       "      <td>52.5</td>\n",
       "    </tr>\n",
       "    <tr>\n",
       "      <th>0 days 00:00:00.003000</th>\n",
       "      <td>-4.365940</td>\n",
       "      <td>56.772930</td>\n",
       "      <td>-4.353950</td>\n",
       "      <td>56.750865</td>\n",
       "      <td>94.734355</td>\n",
       "      <td>1.284410</td>\n",
       "      <td>-2.447283</td>\n",
       "      <td>0.0</td>\n",
       "      <td>0.0</td>\n",
       "      <td>0.0</td>\n",
       "      <td>...</td>\n",
       "      <td>0.0</td>\n",
       "      <td>0.0</td>\n",
       "      <td>0.0</td>\n",
       "      <td>0.0</td>\n",
       "      <td>0.0</td>\n",
       "      <td>0.0</td>\n",
       "      <td>0.0</td>\n",
       "      <td>0.0</td>\n",
       "      <td>-7.5</td>\n",
       "      <td>52.5</td>\n",
       "    </tr>\n",
       "    <tr>\n",
       "      <th>0 days 00:00:00.004000</th>\n",
       "      <td>-4.365118</td>\n",
       "      <td>56.770954</td>\n",
       "      <td>-4.352654</td>\n",
       "      <td>56.748402</td>\n",
       "      <td>94.733168</td>\n",
       "      <td>1.307626</td>\n",
       "      <td>-2.478143</td>\n",
       "      <td>0.0</td>\n",
       "      <td>0.0</td>\n",
       "      <td>0.0</td>\n",
       "      <td>...</td>\n",
       "      <td>0.0</td>\n",
       "      <td>0.0</td>\n",
       "      <td>0.0</td>\n",
       "      <td>0.0</td>\n",
       "      <td>0.0</td>\n",
       "      <td>0.0</td>\n",
       "      <td>0.0</td>\n",
       "      <td>0.0</td>\n",
       "      <td>-7.5</td>\n",
       "      <td>52.5</td>\n",
       "    </tr>\n",
       "    <tr>\n",
       "      <th>...</th>\n",
       "      <td>...</td>\n",
       "      <td>...</td>\n",
       "      <td>...</td>\n",
       "      <td>...</td>\n",
       "      <td>...</td>\n",
       "      <td>...</td>\n",
       "      <td>...</td>\n",
       "      <td>...</td>\n",
       "      <td>...</td>\n",
       "      <td>...</td>\n",
       "      <td>...</td>\n",
       "      <td>...</td>\n",
       "      <td>...</td>\n",
       "      <td>...</td>\n",
       "      <td>...</td>\n",
       "      <td>...</td>\n",
       "      <td>...</td>\n",
       "      <td>...</td>\n",
       "      <td>...</td>\n",
       "      <td>...</td>\n",
       "      <td>...</td>\n",
       "    </tr>\n",
       "    <tr>\n",
       "      <th>0 days 00:10:49.095000</th>\n",
       "      <td>21.912910</td>\n",
       "      <td>21.772385</td>\n",
       "      <td>21.910600</td>\n",
       "      <td>21.775553</td>\n",
       "      <td>87.763974</td>\n",
       "      <td>-0.325126</td>\n",
       "      <td>0.258578</td>\n",
       "      <td>0.0</td>\n",
       "      <td>0.0</td>\n",
       "      <td>0.0</td>\n",
       "      <td>...</td>\n",
       "      <td>0.0</td>\n",
       "      <td>0.0</td>\n",
       "      <td>0.0</td>\n",
       "      <td>0.0</td>\n",
       "      <td>0.0</td>\n",
       "      <td>0.0</td>\n",
       "      <td>0.0</td>\n",
       "      <td>0.0</td>\n",
       "      <td>37.5</td>\n",
       "      <td>82.5</td>\n",
       "    </tr>\n",
       "    <tr>\n",
       "      <th>0 days 00:10:49.096000</th>\n",
       "      <td>21.912572</td>\n",
       "      <td>21.772658</td>\n",
       "      <td>21.910276</td>\n",
       "      <td>21.775811</td>\n",
       "      <td>87.764095</td>\n",
       "      <td>-0.323063</td>\n",
       "      <td>0.258088</td>\n",
       "      <td>0.0</td>\n",
       "      <td>0.0</td>\n",
       "      <td>0.0</td>\n",
       "      <td>...</td>\n",
       "      <td>0.0</td>\n",
       "      <td>0.0</td>\n",
       "      <td>0.0</td>\n",
       "      <td>0.0</td>\n",
       "      <td>0.0</td>\n",
       "      <td>0.0</td>\n",
       "      <td>0.0</td>\n",
       "      <td>0.0</td>\n",
       "      <td>37.5</td>\n",
       "      <td>82.5</td>\n",
       "    </tr>\n",
       "    <tr>\n",
       "      <th>0 days 00:10:49.097000</th>\n",
       "      <td>21.912233</td>\n",
       "      <td>21.772935</td>\n",
       "      <td>21.909954</td>\n",
       "      <td>21.776069</td>\n",
       "      <td>87.764220</td>\n",
       "      <td>-0.320876</td>\n",
       "      <td>0.257396</td>\n",
       "      <td>0.0</td>\n",
       "      <td>0.0</td>\n",
       "      <td>0.0</td>\n",
       "      <td>...</td>\n",
       "      <td>0.0</td>\n",
       "      <td>0.0</td>\n",
       "      <td>0.0</td>\n",
       "      <td>0.0</td>\n",
       "      <td>0.0</td>\n",
       "      <td>0.0</td>\n",
       "      <td>0.0</td>\n",
       "      <td>0.0</td>\n",
       "      <td>37.5</td>\n",
       "      <td>82.5</td>\n",
       "    </tr>\n",
       "    <tr>\n",
       "      <th>0 days 00:10:49.098000</th>\n",
       "      <td>21.911894</td>\n",
       "      <td>21.773216</td>\n",
       "      <td>21.909634</td>\n",
       "      <td>21.776326</td>\n",
       "      <td>87.764350</td>\n",
       "      <td>-0.318591</td>\n",
       "      <td>0.256517</td>\n",
       "      <td>0.0</td>\n",
       "      <td>0.0</td>\n",
       "      <td>0.0</td>\n",
       "      <td>...</td>\n",
       "      <td>0.0</td>\n",
       "      <td>0.0</td>\n",
       "      <td>0.0</td>\n",
       "      <td>0.0</td>\n",
       "      <td>0.0</td>\n",
       "      <td>0.0</td>\n",
       "      <td>0.0</td>\n",
       "      <td>0.0</td>\n",
       "      <td>37.5</td>\n",
       "      <td>82.5</td>\n",
       "    </tr>\n",
       "    <tr>\n",
       "      <th>0 days 00:10:49.099000</th>\n",
       "      <td>21.911554</td>\n",
       "      <td>21.773500</td>\n",
       "      <td>21.909317</td>\n",
       "      <td>21.776582</td>\n",
       "      <td>87.764485</td>\n",
       "      <td>-0.316212</td>\n",
       "      <td>0.255452</td>\n",
       "      <td>0.0</td>\n",
       "      <td>0.0</td>\n",
       "      <td>0.0</td>\n",
       "      <td>...</td>\n",
       "      <td>0.0</td>\n",
       "      <td>0.0</td>\n",
       "      <td>0.0</td>\n",
       "      <td>0.0</td>\n",
       "      <td>0.0</td>\n",
       "      <td>0.0</td>\n",
       "      <td>0.0</td>\n",
       "      <td>0.0</td>\n",
       "      <td>37.5</td>\n",
       "      <td>82.5</td>\n",
       "    </tr>\n",
       "  </tbody>\n",
       "</table>\n",
       "<p>649100 rows × 139 columns</p>\n",
       "</div>"
      ],
      "text/plain": [
       "signal_type            cursor_pos            finger_pos                        \\\n",
       "channel                         x          y          x          y          z   \n",
       "clock_time                                                                      \n",
       "0 days 00:00:00         -4.368126  56.778511  -4.357695  56.758063  94.737781   \n",
       "0 days 00:00:00.001000  -4.367445  56.776709  -4.356471  56.755696  94.736662   \n",
       "0 days 00:00:00.002000  -4.366716  56.774849  -4.355222  56.753297  94.735519   \n",
       "0 days 00:00:00.003000  -4.365940  56.772930  -4.353950  56.750865  94.734355   \n",
       "0 days 00:00:00.004000  -4.365118  56.770954  -4.352654  56.748402  94.733168   \n",
       "...                           ...        ...        ...        ...        ...   \n",
       "0 days 00:10:49.095000  21.912910  21.772385  21.910600  21.775553  87.763974   \n",
       "0 days 00:10:49.096000  21.912572  21.772658  21.910276  21.775811  87.764095   \n",
       "0 days 00:10:49.097000  21.912233  21.772935  21.909954  21.776069  87.764220   \n",
       "0 days 00:10:49.098000  21.911894  21.773216  21.909634  21.776326  87.764350   \n",
       "0 days 00:10:49.099000  21.911554  21.773500  21.909317  21.776582  87.764485   \n",
       "\n",
       "signal_type            finger_vel           heldout_spikes            ...  \\\n",
       "channel                         x         y            201  203  204  ...   \n",
       "clock_time                                                            ...   \n",
       "0 days 00:00:00          1.211079 -2.349968            0.0  0.0  0.0  ...   \n",
       "0 days 00:00:00.001000   1.236134 -2.383193            0.0  0.0  0.0  ...   \n",
       "0 days 00:00:00.002000   1.260579 -2.415633            0.0  0.0  0.0  ...   \n",
       "0 days 00:00:00.003000   1.284410 -2.447283            0.0  0.0  0.0  ...   \n",
       "0 days 00:00:00.004000   1.307626 -2.478143            0.0  0.0  0.0  ...   \n",
       "...                           ...       ...            ...  ...  ...  ...   \n",
       "0 days 00:10:49.095000  -0.325126  0.258578            0.0  0.0  0.0  ...   \n",
       "0 days 00:10:49.096000  -0.323063  0.258088            0.0  0.0  0.0  ...   \n",
       "0 days 00:10:49.097000  -0.320876  0.257396            0.0  0.0  0.0  ...   \n",
       "0 days 00:10:49.098000  -0.318591  0.256517            0.0  0.0  0.0  ...   \n",
       "0 days 00:10:49.099000  -0.316212  0.255452            0.0  0.0  0.0  ...   \n",
       "\n",
       "signal_type            spikes                                    target_pos  \\\n",
       "channel                  8901 9103 9201 9203 9403 9501 9502 9601          x   \n",
       "clock_time                                                                    \n",
       "0 days 00:00:00           0.0  0.0  0.0  0.0  0.0  0.0  0.0  0.0       -7.5   \n",
       "0 days 00:00:00.001000    0.0  0.0  0.0  0.0  0.0  0.0  0.0  0.0       -7.5   \n",
       "0 days 00:00:00.002000    0.0  0.0  0.0  0.0  0.0  0.0  0.0  0.0       -7.5   \n",
       "0 days 00:00:00.003000    0.0  0.0  0.0  0.0  0.0  0.0  0.0  0.0       -7.5   \n",
       "0 days 00:00:00.004000    0.0  0.0  0.0  0.0  0.0  0.0  0.0  0.0       -7.5   \n",
       "...                       ...  ...  ...  ...  ...  ...  ...  ...        ...   \n",
       "0 days 00:10:49.095000    0.0  0.0  0.0  0.0  0.0  0.0  0.0  0.0       37.5   \n",
       "0 days 00:10:49.096000    0.0  0.0  0.0  0.0  0.0  0.0  0.0  0.0       37.5   \n",
       "0 days 00:10:49.097000    0.0  0.0  0.0  0.0  0.0  0.0  0.0  0.0       37.5   \n",
       "0 days 00:10:49.098000    0.0  0.0  0.0  0.0  0.0  0.0  0.0  0.0       37.5   \n",
       "0 days 00:10:49.099000    0.0  0.0  0.0  0.0  0.0  0.0  0.0  0.0       37.5   \n",
       "\n",
       "signal_type                   \n",
       "channel                    y  \n",
       "clock_time                    \n",
       "0 days 00:00:00         52.5  \n",
       "0 days 00:00:00.001000  52.5  \n",
       "0 days 00:00:00.002000  52.5  \n",
       "0 days 00:00:00.003000  52.5  \n",
       "0 days 00:00:00.004000  52.5  \n",
       "...                      ...  \n",
       "0 days 00:10:49.095000  82.5  \n",
       "0 days 00:10:49.096000  82.5  \n",
       "0 days 00:10:49.097000  82.5  \n",
       "0 days 00:10:49.098000  82.5  \n",
       "0 days 00:10:49.099000  82.5  \n",
       "\n",
       "[649100 rows x 139 columns]"
      ]
     },
     "execution_count": 4,
     "metadata": {},
     "output_type": "execute_result"
    }
   ],
   "source": [
    "dataset.data"
   ]
  },
  {
   "cell_type": "code",
   "execution_count": 13,
   "metadata": {},
   "outputs": [],
   "source": [
    "## Make trial data\n",
    "\n",
    "# Find when target pos changes\n",
    "has_change = dataset.data.target_pos.fillna(-1000).diff(axis=0).any(axis=1) # filling NaNs with arbitrary scalar to treat as one block\n",
    "# Find if target pos change corresponds to NaN-padded gap between files\n",
    "change_nan = dataset.data[has_change].isna().any(axis=1)\n",
    "# Drop trials containing the gap and immediately before and after, as those trials may be cut short\n",
    "drop_trial = (change_nan | change_nan.shift(1, fill_value=True) | change_nan.shift(-1, fill_value=True))[:-1]\n",
    "# Add start and end times to trial info\n",
    "change_times = dataset.data.index[has_change]\n",
    "start_times = change_times[:-1][~drop_trial]\n",
    "end_times = change_times[1:][~drop_trial]\n",
    "# Get target position per trial\n",
    "target_pos = dataset.data.target_pos.loc[start_times].to_numpy().tolist()\n",
    "# Compute reach distance and angle\n",
    "reach_dist = dataset.data.target_pos.loc[end_times - pd.Timedelta(1, 'ms')].to_numpy() - dataset.data.target_pos.loc[start_times - pd.Timedelta(1, 'ms')].to_numpy()\n",
    "reach_angle = np.arctan2(reach_dist[:, 1], reach_dist[:, 0]) / np.pi * 180\n",
    "# Create trial info\n",
    "dataset.trial_info = pd.DataFrame({\n",
    "    'trial_id': np.arange(len(start_times)),\n",
    "    'start_time': start_times,\n",
    "    'end_time': end_times,\n",
    "    'target_pos': target_pos,\n",
    "    'reach_dist_x': reach_dist[:, 0],\n",
    "    'reach_dist_y': reach_dist[:, 1],\n",
    "    'reach_angle': reach_angle,\n",
    "})"
   ]
  },
  {
   "cell_type": "code",
   "execution_count": 209,
   "metadata": {},
   "outputs": [
    {
     "data": {
      "text/plain": [
       "11   -90.0\n",
       "Name: reach_angle, dtype: float64"
      ]
     },
     "execution_count": 209,
     "metadata": {},
     "output_type": "execute_result"
    }
   ],
   "source": [
    "dataset.trial_info[dataset.trial_info.trial_id == 11].reach_angle"
   ]
  },
  {
   "cell_type": "code",
   "execution_count": 198,
   "metadata": {},
   "outputs": [
    {
     "data": {
      "text/html": [
       "<div>\n",
       "<style scoped>\n",
       "    .dataframe tbody tr th:only-of-type {\n",
       "        vertical-align: middle;\n",
       "    }\n",
       "\n",
       "    .dataframe tbody tr th {\n",
       "        vertical-align: top;\n",
       "    }\n",
       "\n",
       "    .dataframe thead th {\n",
       "        text-align: right;\n",
       "    }\n",
       "</style>\n",
       "<table border=\"1\" class=\"dataframe\">\n",
       "  <thead>\n",
       "    <tr style=\"text-align: right;\">\n",
       "      <th></th>\n",
       "      <th>trial_id</th>\n",
       "      <th>start_time</th>\n",
       "      <th>end_time</th>\n",
       "      <th>target_pos</th>\n",
       "      <th>reach_dist_x</th>\n",
       "      <th>reach_dist_y</th>\n",
       "      <th>reach_angle</th>\n",
       "    </tr>\n",
       "  </thead>\n",
       "  <tbody>\n",
       "    <tr>\n",
       "      <th>0</th>\n",
       "      <td>0</td>\n",
       "      <td>0 days 00:00:01.352000</td>\n",
       "      <td>0 days 00:00:02.712000</td>\n",
       "      <td>[-37.5, 82.5]</td>\n",
       "      <td>-90.0</td>\n",
       "      <td>15.0</td>\n",
       "      <td>170.537678</td>\n",
       "    </tr>\n",
       "    <tr>\n",
       "      <th>1</th>\n",
       "      <td>1</td>\n",
       "      <td>0 days 00:00:02.712000</td>\n",
       "      <td>0 days 00:00:03.952000</td>\n",
       "      <td>[22.5, 67.5]</td>\n",
       "      <td>60.0</td>\n",
       "      <td>-15.0</td>\n",
       "      <td>-14.036243</td>\n",
       "    </tr>\n",
       "    <tr>\n",
       "      <th>2</th>\n",
       "      <td>2</td>\n",
       "      <td>0 days 00:00:03.952000</td>\n",
       "      <td>0 days 00:00:05.112000</td>\n",
       "      <td>[-22.5, 7.5]</td>\n",
       "      <td>-45.0</td>\n",
       "      <td>-60.0</td>\n",
       "      <td>-126.869898</td>\n",
       "    </tr>\n",
       "    <tr>\n",
       "      <th>3</th>\n",
       "      <td>3</td>\n",
       "      <td>0 days 00:00:05.112000</td>\n",
       "      <td>0 days 00:00:06.364000</td>\n",
       "      <td>[-52.5, 67.5]</td>\n",
       "      <td>-30.0</td>\n",
       "      <td>60.0</td>\n",
       "      <td>116.565051</td>\n",
       "    </tr>\n",
       "    <tr>\n",
       "      <th>4</th>\n",
       "      <td>4</td>\n",
       "      <td>0 days 00:00:06.364000</td>\n",
       "      <td>0 days 00:00:07.672000</td>\n",
       "      <td>[-37.5, 52.5]</td>\n",
       "      <td>15.0</td>\n",
       "      <td>-15.0</td>\n",
       "      <td>-45.000000</td>\n",
       "    </tr>\n",
       "    <tr>\n",
       "      <th>...</th>\n",
       "      <td>...</td>\n",
       "      <td>...</td>\n",
       "      <td>...</td>\n",
       "      <td>...</td>\n",
       "      <td>...</td>\n",
       "      <td>...</td>\n",
       "      <td>...</td>\n",
       "    </tr>\n",
       "    <tr>\n",
       "      <th>535</th>\n",
       "      <td>535</td>\n",
       "      <td>0 days 00:10:41.644000</td>\n",
       "      <td>0 days 00:10:42.864000</td>\n",
       "      <td>[-52.5, 82.5]</td>\n",
       "      <td>-105.0</td>\n",
       "      <td>0.0</td>\n",
       "      <td>180.000000</td>\n",
       "    </tr>\n",
       "    <tr>\n",
       "      <th>536</th>\n",
       "      <td>536</td>\n",
       "      <td>0 days 00:10:42.864000</td>\n",
       "      <td>0 days 00:10:43.732000</td>\n",
       "      <td>[-22.5, 67.5]</td>\n",
       "      <td>30.0</td>\n",
       "      <td>-15.0</td>\n",
       "      <td>-26.565051</td>\n",
       "    </tr>\n",
       "    <tr>\n",
       "      <th>537</th>\n",
       "      <td>537</td>\n",
       "      <td>0 days 00:10:43.732000</td>\n",
       "      <td>0 days 00:10:46.496000</td>\n",
       "      <td>[-7.5, 7.5]</td>\n",
       "      <td>15.0</td>\n",
       "      <td>-60.0</td>\n",
       "      <td>-75.963757</td>\n",
       "    </tr>\n",
       "    <tr>\n",
       "      <th>538</th>\n",
       "      <td>538</td>\n",
       "      <td>0 days 00:10:46.496000</td>\n",
       "      <td>0 days 00:10:47.924000</td>\n",
       "      <td>[-52.5, 37.5]</td>\n",
       "      <td>-45.0</td>\n",
       "      <td>30.0</td>\n",
       "      <td>146.309932</td>\n",
       "    </tr>\n",
       "    <tr>\n",
       "      <th>539</th>\n",
       "      <td>539</td>\n",
       "      <td>0 days 00:10:47.924000</td>\n",
       "      <td>0 days 00:10:48.984000</td>\n",
       "      <td>[22.5, 22.5]</td>\n",
       "      <td>75.0</td>\n",
       "      <td>-15.0</td>\n",
       "      <td>-11.309932</td>\n",
       "    </tr>\n",
       "  </tbody>\n",
       "</table>\n",
       "<p>540 rows × 7 columns</p>\n",
       "</div>"
      ],
      "text/plain": [
       "     trial_id             start_time               end_time     target_pos  \\\n",
       "0           0 0 days 00:00:01.352000 0 days 00:00:02.712000  [-37.5, 82.5]   \n",
       "1           1 0 days 00:00:02.712000 0 days 00:00:03.952000   [22.5, 67.5]   \n",
       "2           2 0 days 00:00:03.952000 0 days 00:00:05.112000   [-22.5, 7.5]   \n",
       "3           3 0 days 00:00:05.112000 0 days 00:00:06.364000  [-52.5, 67.5]   \n",
       "4           4 0 days 00:00:06.364000 0 days 00:00:07.672000  [-37.5, 52.5]   \n",
       "..        ...                    ...                    ...            ...   \n",
       "535       535 0 days 00:10:41.644000 0 days 00:10:42.864000  [-52.5, 82.5]   \n",
       "536       536 0 days 00:10:42.864000 0 days 00:10:43.732000  [-22.5, 67.5]   \n",
       "537       537 0 days 00:10:43.732000 0 days 00:10:46.496000    [-7.5, 7.5]   \n",
       "538       538 0 days 00:10:46.496000 0 days 00:10:47.924000  [-52.5, 37.5]   \n",
       "539       539 0 days 00:10:47.924000 0 days 00:10:48.984000   [22.5, 22.5]   \n",
       "\n",
       "     reach_dist_x  reach_dist_y  reach_angle  \n",
       "0           -90.0          15.0   170.537678  \n",
       "1            60.0         -15.0   -14.036243  \n",
       "2           -45.0         -60.0  -126.869898  \n",
       "3           -30.0          60.0   116.565051  \n",
       "4            15.0         -15.0   -45.000000  \n",
       "..            ...           ...          ...  \n",
       "535        -105.0           0.0   180.000000  \n",
       "536          30.0         -15.0   -26.565051  \n",
       "537          15.0         -60.0   -75.963757  \n",
       "538         -45.0          30.0   146.309932  \n",
       "539          75.0         -15.0   -11.309932  \n",
       "\n",
       "[540 rows x 7 columns]"
      ]
     },
     "execution_count": 198,
     "metadata": {},
     "output_type": "execute_result"
    }
   ],
   "source": [
    "dataset.trial_info"
   ]
  },
  {
   "cell_type": "code",
   "execution_count": 14,
   "metadata": {},
   "outputs": [],
   "source": [
    "dataset.resample(10)"
   ]
  },
  {
   "cell_type": "code",
   "execution_count": 168,
   "metadata": {},
   "outputs": [],
   "source": [
    "axis_labels = f\"yaxis: {{title: {{text: 'ch 1',}}, showticklabels: false, fixedrange: true}},\\n\"\n",
    "for i in range(2,99):\n",
    "    axis_labels += f\"yaxis{i}: {{title: {{text: 'ch {i}',}}, showticklabels: false, fixedrange: true}},\\n\""
   ]
  },
  {
   "cell_type": "code",
   "execution_count": 169,
   "metadata": {},
   "outputs": [],
   "source": [
    "with open(f\"test.txt\", \"w\") as f:\n",
    "    f.write(axis_labels)"
   ]
  },
  {
   "cell_type": "code",
   "execution_count": 27,
   "metadata": {},
   "outputs": [
    {
     "data": {
      "image/png": "[encoded data removed]",
      "text/plain": [
       "<Figure size 432x288 with 2 Axes>"
      ]
     },
     "metadata": {
      "needs_background": "light"
     },
     "output_type": "display_data"
    }
   ],
   "source": [
    "## Plot a few reaches\n",
    "\n",
    "# Extract start and end times, target positions\n",
    "start = dataset.trial_info.iloc[0].start_time # arbitrarily using 1st through 6th reaches\n",
    "end = dataset.trial_info.iloc[7].end_time - pd.Timedelta(1, 'ms')\n",
    "targets = dataset.trial_info.target_pos.iloc[0:8].to_numpy().tolist()\n",
    "tts = dataset.trial_info.end_time.iloc[0:8] - start\n",
    "\n",
    "# Get cursor position data\n",
    "reach_data = dataset.data.cursor_pos.loc[start:end].to_numpy().reshape(-1, 1, 2)\n",
    "reach_seg = np.concatenate([reach_data[:-1], reach_data[1:]], axis=1)\n",
    "# Split into collection of lines for color gradient\n",
    "lc = LineCollection(reach_seg, cmap='rainbow', norm=plt.Normalize(0, len(reach_seg) * dataset.bin_width / 1000))\n",
    "lc.set_array(np.arange(len(reach_seg)) * dataset.bin_width / 1000)\n",
    "\n",
    "# Plot lines and add targets\n",
    "ax = plt.axes()\n",
    "lines = ax.add_collection(lc)\n",
    "# for tt, target in zip(tts, targets):\n",
    "#     ax.plot(target[0], target[1], marker='o', markersize=8, color=plt.get_cmap('rainbow')(tt.total_seconds() * 1000 / dataset.bin_width / len(reach_seg)))\n",
    "ax.set_xlim(-60, 60)\n",
    "ax.set_ylim(-10, 130)\n",
    "plt.colorbar(lines, label='time (s)')\n",
    "plt.show()"
   ]
  },
  {
   "cell_type": "code",
   "execution_count": 16,
   "metadata": {},
   "outputs": [],
   "source": [
    "## Compute speed onset for each reach, for plotting alignment\n",
    "\n",
    "# Calculate speed and call `calculate_onset`\n",
    "speed = np.linalg.norm(dataset.data.finger_vel, axis=1)\n",
    "dataset.data['speed'] = speed\n",
    "peak_times = dataset.calculate_onset('speed', 0.05)"
   ]
  },
  {
   "cell_type": "code",
   "execution_count": 202,
   "metadata": {},
   "outputs": [
    {
     "data": {
      "text/plain": [
       "374"
      ]
     },
     "execution_count": 202,
     "metadata": {},
     "output_type": "execute_result"
    }
   ],
   "source": [
    "dataset.trial_info.speed_onset.isnull().sum()"
   ]
  },
  {
   "cell_type": "code",
   "execution_count": 203,
   "metadata": {},
   "outputs": [
    {
     "data": {
      "text/plain": [
       "164"
      ]
     },
     "execution_count": 203,
     "metadata": {},
     "output_type": "execute_result"
    }
   ],
   "source": [
    "540-376"
   ]
  },
  {
   "cell_type": "code",
   "execution_count": 17,
   "metadata": {},
   "outputs": [],
   "source": [
    "## Prep data\n",
    "\n",
    "# Smooth spikes with 50 ms std Gaussian\n",
    "dataset.smooth_spk(50, name='smth_50', ignore_nans=True)\n",
    "\n",
    "# Lag velocity by 120 ms relative to neural data\n",
    "lag = 120\n",
    "lag_bins = int(round(lag / dataset.bin_width))\n",
    "nans = dataset.data.finger_vel.x.isna().reset_index(drop=True)\n",
    "rates = dataset.data.spikes_smth_50[~nans.to_numpy() & ~nans.shift(-lag_bins, fill_value=True).to_numpy()].to_numpy()\n",
    "vel = dataset.data.finger_vel[~nans.to_numpy() & ~nans.shift(lag_bins, fill_value=True).to_numpy()].to_numpy()\n",
    "vel_index = dataset.data.finger_vel[~nans.to_numpy() & ~nans.shift(lag_bins, fill_value=True).to_numpy()].index"
   ]
  },
  {
   "cell_type": "code",
   "execution_count": 18,
   "metadata": {},
   "outputs": [],
   "source": [
    "from sklearn.decomposition import PCA\n",
    "pca = PCA(n_components=3)\n",
    "pca.fit(rates)\n",
    "test2 = pca.transform(rates)"
   ]
  },
  {
   "cell_type": "code",
   "execution_count": 19,
   "metadata": {},
   "outputs": [
    {
     "name": "stdout",
     "output_type": "stream",
     "text": [
      "Decoding R2: 0.46388753355995893\n"
     ]
    }
   ],
   "source": [
    "## Kinematic decoding\n",
    "\n",
    "# Fit decoder and evaluate\n",
    "gscv = GridSearchCV(Ridge(), {'alpha': np.logspace(-4, 0, 9)})\n",
    "gscv.fit(rates, vel)\n",
    "print(f'Decoding R2: {gscv.best_score_}')\n",
    "pred_vel = gscv.predict(rates)\n",
    "\n",
    "# Add data back to main dataframe\n",
    "pred_vel_df = pd.DataFrame(pred_vel, index=vel_index, columns=pd.MultiIndex.from_tuples([('pred_vel', 'x'), ('pred_vel', 'y')]))\n",
    "dataset.data = pd.concat([dataset.data, pred_vel_df], axis=1)\n",
    "# Add data back to main dataframe\n",
    "pred_vel_df = pd.DataFrame(test2, index=vel_index, columns=pd.MultiIndex.from_tuples([('pca', 'x'), ('pca', 'y'),('pca', 'z'),]))\n",
    "dataset.data = pd.concat([dataset.data, pred_vel_df], axis=1)"
   ]
  },
  {
   "cell_type": "code",
   "execution_count": 20,
   "metadata": {},
   "outputs": [
    {
     "data": {
      "text/plain": [
       "(64838, 2)"
      ]
     },
     "execution_count": 20,
     "metadata": {},
     "output_type": "execute_result"
    }
   ],
   "source": [
    "pred_vel.shape"
   ]
  },
  {
   "cell_type": "code",
   "execution_count": 22,
   "metadata": {},
   "outputs": [
    {
     "data": {
      "text/plain": [
       "(64838, 130)"
      ]
     },
     "execution_count": 22,
     "metadata": {},
     "output_type": "execute_result"
    }
   ],
   "source": [
    "rates.shape"
   ]
  },
  {
   "cell_type": "code",
   "execution_count": 21,
   "metadata": {},
   "outputs": [
    {
     "data": {
      "text/plain": [
       "(64838, 2)"
      ]
     },
     "execution_count": 21,
     "metadata": {},
     "output_type": "execute_result"
    }
   ],
   "source": [
    "vel.shape"
   ]
  },
  {
   "cell_type": "code",
   "execution_count": 89,
   "metadata": {},
   "outputs": [
    {
     "data": {
      "text/plain": [
       "(64838, 3)"
      ]
     },
     "execution_count": 89,
     "metadata": {},
     "output_type": "execute_result"
    }
   ],
   "source": [
    "test2.shape"
   ]
  },
  {
   "cell_type": "code",
   "execution_count": 172,
   "metadata": {},
   "outputs": [
    {
     "data": {
      "text/plain": [
       "[<matplotlib.lines.Line2D at 0x7f1eb78d9ee0>]"
      ]
     },
     "execution_count": 172,
     "metadata": {},
     "output_type": "execute_result"
    },
    {
     "data": {
      "image/png": "[encoded data removed]",
      "text/plain": [
       "<Figure size 432x288 with 1 Axes>"
      ]
     },
     "metadata": {
      "needs_background": "light"
     },
     "output_type": "display_data"
    }
   ],
   "source": [
    "from turtle import color\n",
    "from matplotlib import cm, colors\n",
    "\n",
    "norm = colors.Normalize(vmin=-360.0, vmax=360.0, clip=True)\n",
    "mapper = cm.ScalarMappable(norm=norm, cmap='hsv')\n",
    "\n",
    "plt.plot([1,0,0,0,0], color=mapper.to_rgba(-360))\n",
    "plt.plot([0,1,0,0,0], color=mapper.to_rgba(-90))\n",
    "plt.plot([0,0,1,0,0], color=mapper.to_rgba(0))\n",
    "plt.plot([0,0,0,1,0], color=mapper.to_rgba(90))\n",
    "plt.plot([0,0,0,0,1], color=mapper.to_rgba(360))"
   ]
  },
  {
   "cell_type": "code",
   "execution_count": 226,
   "metadata": {},
   "outputs": [
    {
     "data": {
      "text/plain": [
       "1"
      ]
     },
     "execution_count": 226,
     "metadata": {},
     "output_type": "execute_result"
    }
   ],
   "source": [
    "min(min([9,4,5]), min([9,8]), min([1,2]))"
   ]
  },
  {
   "cell_type": "code",
   "execution_count": 7,
   "metadata": {},
   "outputs": [
    {
     "data": {
      "text/plain": [
       "-1.45"
      ]
     },
     "execution_count": 7,
     "metadata": {},
     "output_type": "execute_result"
    }
   ],
   "source": [
    "-1-(9*0.05)"
   ]
  },
  {
   "cell_type": "code",
   "execution_count": 8,
   "metadata": {},
   "outputs": [
    {
     "data": {
      "text/plain": [
       "10.45"
      ]
     },
     "execution_count": 8,
     "metadata": {},
     "output_type": "execute_result"
    }
   ],
   "source": [
    "10+(9*0.05)"
   ]
  },
  {
   "cell_type": "code",
   "execution_count": 89,
   "metadata": {},
   "outputs": [],
   "source": [
    "import os\n",
    "import sys\n",
    "import h5py\n",
    "import torch\n",
    "import numpy as np\n",
    "import scipy.signal as signal\n",
    "import plotly.graph_objects as go\n",
    "from datasets import get_dataloaders\n",
    "from setup import set_device, set_seeds\n",
    "from configs.default_config import get_config_from_file\n",
    "from nlb_tools.make_tensors import h5_to_dict\n",
    "from nlb_tools.nwb_interface import NWBDataset\n",
    "import pandas as pd\n",
    "from tqdm import tqdm\n",
    "from sklearn.linear_model import Ridge\n",
    "from sklearn.model_selection import GridSearchCV\n",
    "from turtle import color\n",
    "from matplotlib import cm, colors\n",
    "import matplotlib.pyplot as plt\n",
    "from sklearn.decomposition import PCA\n",
    "import math\n",
    "import plotly.graph_objects as go\n",
    "import numpy as np"
   ]
  },
  {
   "cell_type": "code",
   "execution_count": 90,
   "metadata": {},
   "outputs": [],
   "source": [
    "norm = colors.Normalize(vmin=-180, vmax=180, clip=True)\n",
    "hsv_cmap = cm.get_cmap('hsv')\n",
    "mapper = cm.ScalarMappable(norm=norm, cmap='hsv')\n",
    "mapper.set_array([])"
   ]
  },
  {
   "cell_type": "code",
   "execution_count": 107,
   "metadata": {},
   "outputs": [
    {
     "ename": "AttributeError",
     "evalue": "'ScalarMappable' object has no attribute 'to_cm'",
     "output_type": "error",
     "traceback": [
      "\u001b[0;31m---------------------------------------------------------------------------\u001b[0m",
      "\u001b[0;31mAttributeError\u001b[0m                            Traceback (most recent call last)",
      "\u001b[1;32m/home/dmifsud/Projects/NDT-U/mc_rtt_test.ipynb Cell 27\u001b[0m in \u001b[0;36m<cell line: 1>\u001b[0;34m()\u001b[0m\n\u001b[0;32m----> <a href='vscode-notebook-cell://ssh-remote%2B7b22686f73744e616d65223a22436172742d475043227d/home/dmifsud/Projects/NDT-U/mc_rtt_test.ipynb#X51sdnNjb2RlLXJlbW90ZQ%3D%3D?line=0'>1</a>\u001b[0m colors\u001b[39m.\u001b[39mto_hex(mapper\u001b[39m.\u001b[39;49mto_cm())\n",
      "\u001b[0;31mAttributeError\u001b[0m: 'ScalarMappable' object has no attribute 'to_cm'"
     ]
    }
   ],
   "source": [
    "colors.to_hex(mapper.to_cm())"
   ]
  },
  {
   "cell_type": "code",
   "execution_count": 91,
   "metadata": {},
   "outputs": [
    {
     "data": {
      "text/plain": [
       "(1.0, 0.0, 0.09375, 1.0)"
      ]
     },
     "execution_count": 91,
     "metadata": {},
     "output_type": "execute_result"
    }
   ],
   "source": [
    "mapper.to_rgba(180.0)"
   ]
  },
  {
   "cell_type": "code",
   "execution_count": 105,
   "metadata": {},
   "outputs": [
    {
     "ename": "AttributeError",
     "evalue": "'ScalarMappable' object has no attribute 'to_hex'",
     "output_type": "error",
     "traceback": [
      "\u001b[0;31m---------------------------------------------------------------------------\u001b[0m",
      "\u001b[0;31mAttributeError\u001b[0m                            Traceback (most recent call last)",
      "\u001b[1;32m/home/dmifsud/Projects/NDT-U/mc_rtt_test.ipynb Cell 28\u001b[0m in \u001b[0;36m<cell line: 1>\u001b[0;34m()\u001b[0m\n\u001b[0;32m----> <a href='vscode-notebook-cell://ssh-remote%2B7b22686f73744e616d65223a22436172742d475043227d/home/dmifsud/Projects/NDT-U/mc_rtt_test.ipynb#X50sdnNjb2RlLXJlbW90ZQ%3D%3D?line=0'>1</a>\u001b[0m mapper\u001b[39m.\u001b[39;49mto_hex(\u001b[39m180\u001b[39m)\n",
      "\u001b[0;31mAttributeError\u001b[0m: 'ScalarMappable' object has no attribute 'to_hex'"
     ]
    }
   ],
   "source": [
    "mapper.to_hex(180)"
   ]
  },
  {
   "cell_type": "code",
   "execution_count": 186,
   "metadata": {},
   "outputs": [
    {
     "data": {
      "application/vnd.plotly.v1+json": {
       "config": {
        "plotlyServerURL": "https://plot.ly"
       },
       "data": [
        {
         "line": {
          "color": "#7200ff",
          "width": 2
         },
         "mode": "lines",
         "type": "scatter3d",
         "x": [
          "2012-01-01T00:00:00",
          "2012-01-02T00:00:00",
          "2012-01-03T00:00:00",
          "2012-01-04T00:00:00",
          "2012-01-05T00:00:00",
          "2012-01-06T00:00:00",
          "2012-01-07T00:00:00",
          "2012-01-08T00:00:00",
          "2012-01-09T00:00:00",
          "2012-01-10T00:00:00",
          "2012-01-11T00:00:00",
          "2012-01-12T00:00:00",
          "2012-01-13T00:00:00",
          "2012-01-14T00:00:00",
          "2012-01-15T00:00:00",
          "2012-01-16T00:00:00",
          "2012-01-17T00:00:00",
          "2012-01-18T00:00:00",
          "2012-01-19T00:00:00",
          "2012-01-20T00:00:00",
          "2012-01-21T00:00:00",
          "2012-01-22T00:00:00",
          "2012-01-23T00:00:00",
          "2012-01-24T00:00:00",
          "2012-01-25T00:00:00",
          "2012-01-26T00:00:00",
          "2012-01-27T00:00:00",
          "2012-01-28T00:00:00",
          "2012-01-29T00:00:00",
          "2012-01-30T00:00:00",
          "2012-01-31T00:00:00",
          "2012-02-01T00:00:00",
          "2012-02-02T00:00:00",
          "2012-02-03T00:00:00",
          "2012-02-04T00:00:00",
          "2012-02-05T00:00:00",
          "2012-02-06T00:00:00",
          "2012-02-07T00:00:00",
          "2012-02-08T00:00:00",
          "2012-02-09T00:00:00",
          "2012-02-10T00:00:00",
          "2012-02-11T00:00:00",
          "2012-02-12T00:00:00",
          "2012-02-13T00:00:00",
          "2012-02-14T00:00:00",
          "2012-02-15T00:00:00",
          "2012-02-16T00:00:00",
          "2012-02-17T00:00:00",
          "2012-02-18T00:00:00",
          "2012-02-19T00:00:00",
          "2012-02-20T00:00:00",
          "2012-02-21T00:00:00",
          "2012-02-22T00:00:00",
          "2012-02-23T00:00:00",
          "2012-02-24T00:00:00",
          "2012-02-25T00:00:00",
          "2012-02-26T00:00:00",
          "2012-02-27T00:00:00",
          "2012-02-28T00:00:00",
          "2012-02-29T00:00:00",
          "2012-03-01T00:00:00",
          "2012-03-02T00:00:00",
          "2012-03-03T00:00:00",
          "2012-03-04T00:00:00",
          "2012-03-05T00:00:00",
          "2012-03-06T00:00:00",
          "2012-03-07T00:00:00",
          "2012-03-08T00:00:00",
          "2012-03-09T00:00:00",
          "2012-03-10T00:00:00",
          "2012-03-11T00:00:00",
          "2012-03-12T00:00:00",
          "2012-03-13T00:00:00",
          "2012-03-14T00:00:00",
          "2012-03-15T00:00:00",
          "2012-03-16T00:00:00",
          "2012-03-17T00:00:00",
          "2012-03-18T00:00:00",
          "2012-03-19T00:00:00",
          "2012-03-20T00:00:00",
          "2012-03-21T00:00:00",
          "2012-03-22T00:00:00",
          "2012-03-23T00:00:00",
          "2012-03-24T00:00:00",
          "2012-03-25T00:00:00",
          "2012-03-26T00:00:00",
          "2012-03-27T00:00:00",
          "2012-03-28T00:00:00",
          "2012-03-29T00:00:00",
          "2012-03-30T00:00:00",
          "2012-03-31T00:00:00",
          "2012-04-01T00:00:00",
          "2012-04-02T00:00:00",
          "2012-04-03T00:00:00",
          "2012-04-04T00:00:00",
          "2012-04-05T00:00:00",
          "2012-04-06T00:00:00",
          "2012-04-07T00:00:00",
          "2012-04-08T00:00:00",
          "2012-04-09T00:00:00",
          "2012-04-10T00:00:00",
          "2012-04-11T00:00:00",
          "2012-04-12T00:00:00",
          "2012-04-13T00:00:00",
          "2012-04-14T00:00:00",
          "2012-04-15T00:00:00",
          "2012-04-16T00:00:00",
          "2012-04-17T00:00:00",
          "2012-04-18T00:00:00",
          "2012-04-19T00:00:00",
          "2012-04-20T00:00:00",
          "2012-04-21T00:00:00",
          "2012-04-22T00:00:00",
          "2012-04-23T00:00:00",
          "2012-04-24T00:00:00",
          "2012-04-25T00:00:00",
          "2012-04-26T00:00:00",
          "2012-04-27T00:00:00",
          "2012-04-28T00:00:00",
          "2012-04-29T00:00:00",
          "2012-04-30T00:00:00",
          "2012-05-01T00:00:00",
          "2012-05-02T00:00:00",
          "2012-05-03T00:00:00",
          "2012-05-04T00:00:00",
          "2012-05-05T00:00:00",
          "2012-05-06T00:00:00",
          "2012-05-07T00:00:00",
          "2012-05-08T00:00:00",
          "2012-05-09T00:00:00",
          "2012-05-10T00:00:00",
          "2012-05-11T00:00:00",
          "2012-05-12T00:00:00",
          "2012-05-13T00:00:00",
          "2012-05-14T00:00:00",
          "2012-05-15T00:00:00",
          "2012-05-16T00:00:00",
          "2012-05-17T00:00:00",
          "2012-05-18T00:00:00",
          "2012-05-19T00:00:00",
          "2012-05-20T00:00:00",
          "2012-05-21T00:00:00",
          "2012-05-22T00:00:00",
          "2012-05-23T00:00:00",
          "2012-05-24T00:00:00",
          "2012-05-25T00:00:00",
          "2012-05-26T00:00:00",
          "2012-05-27T00:00:00",
          "2012-05-28T00:00:00",
          "2012-05-29T00:00:00",
          "2012-05-30T00:00:00",
          "2012-05-31T00:00:00",
          "2012-06-01T00:00:00",
          "2012-06-02T00:00:00",
          "2012-06-03T00:00:00",
          "2012-06-04T00:00:00",
          "2012-06-05T00:00:00",
          "2012-06-06T00:00:00",
          "2012-06-07T00:00:00",
          "2012-06-08T00:00:00",
          "2012-06-09T00:00:00",
          "2012-06-10T00:00:00",
          "2012-06-11T00:00:00",
          "2012-06-12T00:00:00",
          "2012-06-13T00:00:00",
          "2012-06-14T00:00:00",
          "2012-06-15T00:00:00",
          "2012-06-16T00:00:00",
          "2012-06-17T00:00:00",
          "2012-06-18T00:00:00",
          "2012-06-19T00:00:00",
          "2012-06-20T00:00:00",
          "2012-06-21T00:00:00",
          "2012-06-22T00:00:00",
          "2012-06-23T00:00:00",
          "2012-06-24T00:00:00",
          "2012-06-25T00:00:00",
          "2012-06-26T00:00:00",
          "2012-06-27T00:00:00",
          "2012-06-28T00:00:00",
          "2012-06-29T00:00:00",
          "2012-06-30T00:00:00",
          "2012-07-01T00:00:00",
          "2012-07-02T00:00:00",
          "2012-07-03T00:00:00",
          "2012-07-04T00:00:00",
          "2012-07-05T00:00:00",
          "2012-07-06T00:00:00",
          "2012-07-07T00:00:00",
          "2012-07-08T00:00:00",
          "2012-07-09T00:00:00",
          "2012-07-10T00:00:00",
          "2012-07-11T00:00:00",
          "2012-07-12T00:00:00",
          "2012-07-13T00:00:00",
          "2012-07-14T00:00:00",
          "2012-07-15T00:00:00",
          "2012-07-16T00:00:00",
          "2012-07-17T00:00:00",
          "2012-07-18T00:00:00",
          "2012-07-19T00:00:00",
          "2012-07-20T00:00:00",
          "2012-07-21T00:00:00",
          "2012-07-22T00:00:00",
          "2012-07-23T00:00:00",
          "2012-07-24T00:00:00",
          "2012-07-25T00:00:00",
          "2012-07-26T00:00:00",
          "2012-07-27T00:00:00",
          "2012-07-28T00:00:00",
          "2012-07-29T00:00:00",
          "2012-07-30T00:00:00",
          "2012-07-31T00:00:00",
          "2012-08-01T00:00:00",
          "2012-08-02T00:00:00",
          "2012-08-03T00:00:00",
          "2012-08-04T00:00:00",
          "2012-08-05T00:00:00",
          "2012-08-06T00:00:00",
          "2012-08-07T00:00:00",
          "2012-08-08T00:00:00",
          "2012-08-09T00:00:00",
          "2012-08-10T00:00:00",
          "2012-08-11T00:00:00",
          "2012-08-12T00:00:00",
          "2012-08-13T00:00:00",
          "2012-08-14T00:00:00",
          "2012-08-15T00:00:00",
          "2012-08-16T00:00:00",
          "2012-08-17T00:00:00",
          "2012-08-18T00:00:00",
          "2012-08-19T00:00:00",
          "2012-08-20T00:00:00",
          "2012-08-21T00:00:00",
          "2012-08-22T00:00:00",
          "2012-08-23T00:00:00",
          "2012-08-24T00:00:00",
          "2012-08-25T00:00:00",
          "2012-08-26T00:00:00",
          "2012-08-27T00:00:00",
          "2012-08-28T00:00:00",
          "2012-08-29T00:00:00",
          "2012-08-30T00:00:00",
          "2012-08-31T00:00:00",
          "2012-09-01T00:00:00",
          "2012-09-02T00:00:00",
          "2012-09-03T00:00:00",
          "2012-09-04T00:00:00",
          "2012-09-05T00:00:00",
          "2012-09-06T00:00:00",
          "2012-09-07T00:00:00",
          "2012-09-08T00:00:00",
          "2012-09-09T00:00:00",
          "2012-09-10T00:00:00",
          "2012-09-11T00:00:00",
          "2012-09-12T00:00:00",
          "2012-09-13T00:00:00",
          "2012-09-14T00:00:00",
          "2012-09-15T00:00:00",
          "2012-09-16T00:00:00",
          "2012-09-17T00:00:00",
          "2012-09-18T00:00:00",
          "2012-09-19T00:00:00",
          "2012-09-20T00:00:00",
          "2012-09-21T00:00:00",
          "2012-09-22T00:00:00",
          "2012-09-23T00:00:00",
          "2012-09-24T00:00:00",
          "2012-09-25T00:00:00",
          "2012-09-26T00:00:00",
          "2012-09-27T00:00:00",
          "2012-09-28T00:00:00",
          "2012-09-29T00:00:00",
          "2012-09-30T00:00:00",
          "2012-10-01T00:00:00",
          "2012-10-02T00:00:00",
          "2012-10-03T00:00:00",
          "2012-10-04T00:00:00",
          "2012-10-05T00:00:00",
          "2012-10-06T00:00:00",
          "2012-10-07T00:00:00",
          "2012-10-08T00:00:00",
          "2012-10-09T00:00:00",
          "2012-10-10T00:00:00",
          "2012-10-11T00:00:00",
          "2012-10-12T00:00:00",
          "2012-10-13T00:00:00",
          "2012-10-14T00:00:00",
          "2012-10-15T00:00:00",
          "2012-10-16T00:00:00",
          "2012-10-17T00:00:00",
          "2012-10-18T00:00:00",
          "2012-10-19T00:00:00",
          "2012-10-20T00:00:00",
          "2012-10-21T00:00:00",
          "2012-10-22T00:00:00",
          "2012-10-23T00:00:00",
          "2012-10-24T00:00:00",
          "2012-10-25T00:00:00",
          "2012-10-26T00:00:00",
          "2012-10-27T00:00:00",
          "2012-10-28T00:00:00",
          "2012-10-29T00:00:00",
          "2012-10-30T00:00:00",
          "2012-10-31T00:00:00",
          "2012-11-01T00:00:00",
          "2012-11-02T00:00:00",
          "2012-11-03T00:00:00",
          "2012-11-04T00:00:00",
          "2012-11-05T00:00:00",
          "2012-11-06T00:00:00",
          "2012-11-07T00:00:00",
          "2012-11-08T00:00:00",
          "2012-11-09T00:00:00",
          "2012-11-10T00:00:00",
          "2012-11-11T00:00:00",
          "2012-11-12T00:00:00",
          "2012-11-13T00:00:00",
          "2012-11-14T00:00:00",
          "2012-11-15T00:00:00",
          "2012-11-16T00:00:00",
          "2012-11-17T00:00:00",
          "2012-11-18T00:00:00",
          "2012-11-19T00:00:00",
          "2012-11-20T00:00:00",
          "2012-11-21T00:00:00",
          "2012-11-22T00:00:00",
          "2012-11-23T00:00:00",
          "2012-11-24T00:00:00",
          "2012-11-25T00:00:00",
          "2012-11-26T00:00:00",
          "2012-11-27T00:00:00",
          "2012-11-28T00:00:00",
          "2012-11-29T00:00:00",
          "2012-11-30T00:00:00",
          "2012-12-01T00:00:00",
          "2012-12-02T00:00:00",
          "2012-12-03T00:00:00",
          "2012-12-04T00:00:00",
          "2012-12-05T00:00:00",
          "2012-12-06T00:00:00",
          "2012-12-07T00:00:00",
          "2012-12-08T00:00:00",
          "2012-12-09T00:00:00",
          "2012-12-10T00:00:00",
          "2012-12-11T00:00:00",
          "2012-12-12T00:00:00",
          "2012-12-13T00:00:00",
          "2012-12-14T00:00:00",
          "2012-12-15T00:00:00",
          "2012-12-16T00:00:00",
          "2012-12-17T00:00:00",
          "2012-12-18T00:00:00",
          "2012-12-19T00:00:00",
          "2012-12-20T00:00:00",
          "2012-12-21T00:00:00",
          "2012-12-22T00:00:00",
          "2012-12-23T00:00:00",
          "2012-12-24T00:00:00",
          "2012-12-25T00:00:00",
          "2012-12-26T00:00:00",
          "2012-12-27T00:00:00",
          "2012-12-28T00:00:00",
          "2012-12-29T00:00:00",
          "2012-12-30T00:00:00",
          "2012-12-31T00:00:00",
          "2013-01-01T00:00:00",
          "2013-01-02T00:00:00",
          "2013-01-03T00:00:00",
          "2013-01-04T00:00:00",
          "2013-01-05T00:00:00",
          "2013-01-06T00:00:00",
          "2013-01-07T00:00:00",
          "2013-01-08T00:00:00",
          "2013-01-09T00:00:00",
          "2013-01-10T00:00:00",
          "2013-01-11T00:00:00",
          "2013-01-12T00:00:00",
          "2013-01-13T00:00:00",
          "2013-01-14T00:00:00",
          "2013-01-15T00:00:00",
          "2013-01-16T00:00:00",
          "2013-01-17T00:00:00",
          "2013-01-18T00:00:00",
          "2013-01-19T00:00:00",
          "2013-01-20T00:00:00",
          "2013-01-21T00:00:00",
          "2013-01-22T00:00:00",
          "2013-01-23T00:00:00",
          "2013-01-24T00:00:00",
          "2013-01-25T00:00:00",
          "2013-01-26T00:00:00",
          "2013-01-27T00:00:00",
          "2013-01-28T00:00:00",
          "2013-01-29T00:00:00",
          "2013-01-30T00:00:00",
          "2013-01-31T00:00:00",
          "2013-02-01T00:00:00",
          "2013-02-02T00:00:00",
          "2013-02-03T00:00:00",
          "2013-02-04T00:00:00",
          "2013-02-05T00:00:00",
          "2013-02-06T00:00:00",
          "2013-02-07T00:00:00",
          "2013-02-08T00:00:00",
          "2013-02-09T00:00:00",
          "2013-02-10T00:00:00",
          "2013-02-11T00:00:00",
          "2013-02-12T00:00:00",
          "2013-02-13T00:00:00",
          "2013-02-14T00:00:00",
          "2013-02-15T00:00:00",
          "2013-02-16T00:00:00",
          "2013-02-17T00:00:00",
          "2013-02-18T00:00:00",
          "2013-02-19T00:00:00",
          "2013-02-20T00:00:00",
          "2013-02-21T00:00:00",
          "2013-02-22T00:00:00"
         ],
         "y": [
          100.92651047400719,
          101.16419850406186,
          101.70963421761398,
          102.93499475811892,
          103.97198807820824,
          103.4690560922278,
          104.01133870251276,
          103.95612127330314,
          103.92708486560018,
          104.17752601012262,
          104.2831459602703,
          105.10637761459387,
          105.55286617150014,
          105.64752508939439,
          105.92053090195503,
          106.13308487340174,
          106.99318360334445,
          106.90630926460668,
          107.10930179027356,
          106.65986032591618,
          105.27312527008267,
          105.66096777336062,
          106.1671870875308,
          105.78358237874677,
          107.0741792660536,
          106.29079893723869,
          106.34390434859633,
          106.26754269608621,
          107.15040796583611,
          108.00479187632945,
          108.12045534038795,
          108.36262442743534,
          107.88891963700289,
          106.80522697204957,
          106.6388892534229,
          106.75387216791803,
          107.47068850085768,
          108.17653200989643,
          107.9858048402839,
          107.84334018640251,
          107.28169841143172,
          106.51592512843439,
          105.59747048237087,
          106.70770038418813,
          106.4514637709342,
          106.23558926962124,
          105.56953563326216,
          106.02711111339924,
          105.163644900837,
          105.07409099388838,
          104.61056121027082,
          104.84965954255472,
          104.59725415596668,
          103.98069343216332,
          103.99243742340869,
          104.25270085862262,
          104.31610841362505,
          104.50839331765978,
          104.1895078476462,
          104.01917933438219,
          103.68111188072876,
          103.513339718062,
          103.10105712923058,
          102.20135451537567,
          102.32282713527054,
          102.13470249318945,
          101.29430282372473,
          101.56610463967068,
          101.11179556590137,
          101.16558556536881,
          101.57836678501977,
          101.67334582180165,
          102.30742296182369,
          101.67554873576424,
          101.91616469165803,
          101.57837364126183,
          101.14330881817328,
          100.86393843452174,
          100.72599859040383,
          100.78180675859308,
          100.19584631138865,
          100.69503756320756,
          100.96675168043386,
          100.18516057706034,
          100.993980928186,
          102.02653053591035,
          102.68394789726936,
          102.61410846166359,
          102.06785357959542,
          102.65878888249465,
          102.46929870376877,
          103.15311447339776,
          103.29237569987232,
          103.84814610817861,
          104.06888672722981,
          104.48121382590314,
          104.51414814756265,
          105.5219762775339,
          105.61949925032812,
          105.86925361494157,
          106.94452500771989,
          106.22127794650555,
          105.54555260112328,
          106.10942867605505,
          105.48809520311124,
          106.59318826889776,
          106.39062776420512,
          106.00328415823637,
          107.10219485275833,
          107.96249090036454,
          109.05013304856912,
          109.59642754007746,
          109.1324818247893,
          110.25640931916001,
          110.13069559081241,
          110.62247848779609,
          111.20060327575627,
          111.13944674011289,
          111.52584571770959,
          112.09401343497012,
          112.34406233393995,
          111.72927590971673,
          111.93274790447303,
          112.74096376354112,
          112.36156288287236,
          112.30292390117349,
          112.07689449894733,
          113.19515888996547,
          113.62328088875631,
          113.8952199867596,
          113.46722897427574,
          113.8171856727944,
          113.44616381001956,
          113.49457977796114,
          113.14737335113279,
          113.57777198594097,
          113.95031301579507,
          113.85592040230905,
          114.12158165167772,
          113.5008295612824,
          112.64870160729194,
          112.93715911919737,
          113.0650358073006,
          113.4705580528375,
          114.92304522557187,
          115.52197078539857,
          115.00191543588633,
          115.70557378039554,
          114.94221587806477,
          114.6950246375156,
          114.68395797145237,
          115.74595717412018,
          115.32618086012023,
          114.85886696121614,
          114.82964658815582,
          114.46181942942574,
          115.16796491286007,
          114.54938393412407,
          113.89390427267583,
          113.6630882227597,
          113.39703808983006,
          114.57654545411361,
          115.17664055708441,
          115.25936603524755,
          114.55312117257476,
          115.0898641305407,
          114.51941926517945,
          113.62785017803614,
          114.3655523037558,
          114.58502959701269,
          115.16797076937084,
          115.39006480772196,
          115.93828598499589,
          115.57443153083351,
          114.98112846794157,
          115.42161683953785,
          114.9677569006583,
          114.58386832587153,
          114.3410654675118,
          114.38128112610408,
          114.1995134379326,
          113.41107841817231,
          113.05953332895183,
          111.78203616377841,
          112.17720930733064,
          111.27054525067778,
          110.65875093590796,
          110.71774693586183,
          110.31920078393595,
          111.24167945490152,
          110.52108957217554,
          110.70430985323674,
          110.7103881091386,
          110.06500756172277,
          110.39525224237772,
          110.32500047279947,
          110.79988608772476,
          111.30690447488601,
          112.60216464557375,
          113.4212277834536,
          113.23199451296617,
          113.11981481138709,
          113.80163031318705,
          114.22187553989814,
          114.63460342545187,
          113.69922144117275,
          113.71435550228064,
          113.30593012778122,
          113.50140588770029,
          113.47271009253583,
          114.04362469317888,
          114.26264881509726,
          114.76320557558167,
          114.51350498124945,
          113.97914378977505,
          113.76467050342526,
          113.78415908553892,
          114.03960354980379,
          115.42462330165175,
          115.42916581538181,
          114.88362534832942,
          114.70586399080511,
          114.4579774614023,
          114.77632111731218,
          113.88511807486834,
          113.95244487096593,
          114.07540756638974,
          114.24369172233521,
          113.9171381156303,
          113.80514677515501,
          112.99042106924185,
          112.72872273379406,
          112.43850484789688,
          112.71266895497882,
          112.06259423800797,
          112.55049458071204,
          113.46284028802016,
          112.27079877401431,
          112.55056071925462,
          112.97896955875326,
          112.63240368517118,
          112.42797477656174,
          112.37914394236775,
          112.23353053257843,
          112.0815298986316,
          111.13266811438871,
          111.83329746569355,
          112.49557139951534,
          112.04738585287339,
          111.22060850664522,
          111.55303059586524,
          111.24668792432664,
          111.35825791494236,
          111.20144553387641,
          111.63325755981894,
          112.0686273098111,
          111.67337165896292,
          110.8974996326785,
          110.01217448357453,
          110.3925188690303,
          109.73707727208217,
          109.47518926442675,
          109.1628377811803,
          109.1612497687994,
          108.08993028296547,
          108.22482484687094,
          108.54989679835339,
          108.62835718509463,
          108.48017676554356,
          108.56368232516319,
          108.81872438123406,
          107.2806831831193,
          108.41152146524466,
          108.66111991407963,
          108.31932054598343,
          108.12629157314164,
          108.43397485920225,
          108.3963855615405,
          107.27961197721734,
          108.47199648869493,
          108.43754784676807,
          109.04581744704514,
          108.68028230929694,
          109.58525371646672,
          109.7779945239286,
          110.15664496023174,
          109.58484598168288,
          110.30962969813093,
          110.73698256165902,
          111.52225588292637,
          111.18559301335121,
          110.93520404170985,
          112.30870895145625,
          111.71711664824637,
          111.66680281449075,
          112.36172924533628,
          112.44841367912515,
          112.82100328079521,
          112.61495022000983,
          112.8624027474554,
          112.12330098535341,
          113.12892878046468,
          113.08849395473413,
          112.71640276973484,
          113.13921728276144,
          112.8964139487354,
          112.14083003262316,
          111.38304777792757,
          111.81687116593626,
          111.75270957444016,
          111.7036925852926,
          112.36409767576767,
          111.73318041569884,
          111.33615071151912,
          111.14127459907368,
          111.22505589990493,
          111.2294829757879,
          111.09169175039963,
          111.08481447622853,
          111.05141442042587,
          110.6632135517222,
          110.22254211234686,
          110.40957661151405,
          109.92512521108699,
          109.29045764177808,
          109.1405717562492,
          109.07903300944287,
          110.40231396316673,
          110.02495479598949,
          110.59764908787658,
          111.05942290211217,
          110.39997218496609,
          110.87602821477334,
          110.22058464400146,
          108.72718148370704,
          109.10076759609815,
          108.13196995276088,
          108.415403727559,
          108.05652306999029,
          109.02648560317758,
          109.66576823399257,
          109.43461498370803,
          109.07017841393365,
          108.40829453292233,
          108.1868407186555,
          108.05650853452553,
          107.87875714132127,
          107.99527730582004,
          108.3506011012568,
          108.57710214983169,
          108.17235959310388,
          107.39024964881195,
          108.18723944319811,
          107.82604838450858,
          107.48694039188737,
          107.22236517509715,
          106.22182361909431,
          105.98430468305982,
          105.74638707730743,
          106.11751935634474,
          106.53344289988162,
          106.56327517663071,
          107.11156011577769,
          107.33003391884463,
          107.34917128826014,
          107.46749280273906,
          107.38837637930776,
          107.1948229122234,
          107.072751033524,
          106.4708844502695,
          106.65485670024466,
          106.13015485045543,
          106.62590890871432,
          106.51466096177053,
          106.56995995806851,
          106.87326763864395,
          107.2612270087953,
          106.41178207103674,
          106.32440959352319,
          106.8426005191601,
          105.92585021251051,
          106.16816456951565,
          104.95088757380404,
          104.41852710433513,
          104.46680406370731,
          103.59285305385333,
          103.08731790805099,
          102.32376080805683,
          103.23610204148113,
          103.35167290519445,
          103.68563015426082,
          103.59195425990275,
          103.42763627682456,
          102.58395801055431,
          102.45422538042858,
          102.07372210484822,
          102.55926320329627,
          103.19978312165736,
          104.0211541183979,
          104.51302344471995,
          104.2135550227601,
          103.63432359884648,
          104.07761977677255,
          104.29880804622557,
          103.36581597273391,
          103.5850522950404,
          104.05416818795807,
          104.11332276001008,
          104.03972144367674,
          103.62832081756375,
          102.87436283045737,
          103.3325769046463,
          103.19257630624547,
          103.09352935469079,
          104.05874028549893,
          104.4589727056283,
          104.68892478052503,
          104.79397747068093,
          105.65753842410288
         ],
         "z": [
          100.90305260168549,
          101.42097232811646,
          101.75663544562379,
          100.67462146599276,
          100.76598392239534,
          100.72367877031152,
          100.79939707824535,
          101.32395743655249,
          99.90903819476982,
          99.63804510112185,
          99.80471250159883,
          99.58733641412802,
          98.87809383086237,
          99.35416809651913,
          99.52398587059791,
          99.04576625574933,
          99.23474090343667,
          99.68783755012718,
          99.71654618503014,
          100.16083472122112,
          100.22790656756355,
          100.04706042904536,
          99.46835122221567,
          99.4495563479014,
          99.5765385009955,
          100.05956893419592,
          100.02540376007047,
          100.29098687183546,
          99.8124696432,
          99.43078946717925,
          99.39929079509108,
          98.87848444091237,
          99.3292597030591,
          99.5959699790435,
          99.76736096427827,
          99.97030046464064,
          101.05848561907575,
          100.83731460985726,
          99.70936796178142,
          99.83929540379629,
          99.83886801241286,
          99.59502927339695,
          99.11246528192999,
          98.9108969566878,
          99.03048415348458,
          98.7962132981615,
          100.07619374194734,
          99.60084022421165,
          99.2145290099018,
          98.06003155884319,
          98.2146009231919,
          97.20998294665371,
          96.96144471081303,
          96.84700774646616,
          96.51344425296475,
          97.42018225543028,
          97.95344908624119,
          98.65698778338691,
          98.22846704664138,
          98.83547643906196,
          99.11789252373134,
          99.54433783686525,
          100.10757127312155,
          99.65902304480748,
          99.46407621200929,
          99.93964488636817,
          98.58737178301548,
          99.3963224316725,
          99.71011815655227,
          99.71224540999887,
          99.85324695392072,
          99.34288598951973,
          99.18711677827709,
          99.78528060223412,
          100.49088255628193,
          101.94394539288265,
          101.9310805323741,
          101.60718690595516,
          101.36077015140263,
          100.84897452377817,
          100.83417603623697,
          101.06243975352993,
          101.07065198579328,
          101.67808168899688,
          101.58009055056046,
          101.42213512404585,
          101.1407156020703,
          100.30721724776457,
          99.51432960615618,
          98.92849325112658,
          99.62981078541632,
          100.12326832010427,
          100.87182803412611,
          100.19779347084913,
          99.1976666309814,
          98.88168146638414,
          98.99837662573024,
          99.28265406989709,
          99.85408146571059,
          100.02862750524588,
          100.97039428016427,
          100.87920810632707,
          100.42493643449215,
          99.57204278582927,
          99.1361513431922,
          99.28755496147123,
          98.8530386760832,
          99.36419555088116,
          100.12663664539454,
          98.91964462128927,
          99.39336692390685,
          98.26196534475231,
          98.49406915931074,
          99.1526140349754,
          99.21205807447976,
          98.57617826103305,
          98.30051620703375,
          98.19169827562921,
          98.12372408076136,
          98.04521055290348,
          98.0144103678796,
          98.14940492921835,
          97.55659992002035,
          97.45860448294407,
          98.26082725035138,
          98.08895759388533,
          97.8870928861167,
          98.46604609956793,
          97.18269521057282,
          97.81022987939359,
          97.51301530449564,
          97.62202658760559,
          97.69662278010524,
          98.20473955487645,
          98.09297662597697,
          97.77132487531858,
          98.46259504845453,
          97.27841536917732,
          97.31408231122862,
          96.6558801793464,
          96.29687042729958,
          97.34008938417091,
          97.34273021344151,
          97.46741806935951,
          96.58895824280805,
          96.24656334416431,
          96.3705966409849,
          96.5746306850572,
          96.91181436639656,
          96.94141386759306,
          97.2341766866298,
          97.49049661745892,
          96.58749806134256,
          96.63133356803426,
          97.04530315343045,
          97.37038137131887,
          97.2106327272869,
          96.82725967240799,
          96.28786649476159,
          96.24696487629984,
          96.84400058218495,
          95.88578133127191,
          95.58042812144832,
          95.03730238056379,
          95.45295370383771,
          95.2015138883091,
          94.99228038088113,
          94.9092994653777,
          95.15531755805068,
          94.98503441239602,
          93.50869410989931,
          93.79908675509311,
          94.03910494110394,
          93.95568374489245,
          93.44903090092583,
          93.64542169204431,
          93.85569598074954,
          93.64971640397664,
          93.56801497918381,
          93.13835077270353,
          93.07565364589107,
          92.34829908463048,
          92.5740903508439,
          92.14214381794848,
          92.2809290424814,
          91.62896336767783,
          91.37051875684513,
          91.34152569338822,
          90.5754915765206,
          90.65362540927504,
          90.49766275156375,
          89.70040451402798,
          89.11451369169828,
          89.4201500395064,
          89.86317896522264,
          89.82460512002781,
          90.03831494218872,
          90.16720924113693,
          90.3462369510247,
          90.97936760537068,
          90.28889316166814,
          90.632353961333,
          90.47507444284987,
          90.39258528895667,
          90.27335622644688,
          90.11993256762909,
          89.56737188661853,
          89.67660040382277,
          90.48696583244354,
          90.48396272281204,
          90.50686104678697,
          90.20571122418414,
          90.17379472058556,
          90.41735669400072,
          90.26600283437253,
          90.07554341034924,
          90.28914350140238,
          89.88024570100794,
          90.02239787339386,
          90.4328342560431,
          91.10179272878925,
          91.08245913545932,
          91.75989223407711,
          92.28147861078794,
          91.82600543642462,
          91.26692415818832,
          91.14524862729328,
          91.66071784069197,
          91.64993534900208,
          91.38636715759493,
          92.15497736201138,
          92.31733209977926,
          91.22784200866636,
          91.40302023250256,
          91.67571954723056,
          91.80780505911812,
          92.04786196317963,
          92.03944528929924,
          91.43103320952203,
          91.27776225165299,
          90.85127189361977,
          90.43286109789015,
          89.86105779080609,
          90.09733241698619,
          90.16692108351123,
          89.9793231768941,
          89.69772833772598,
          89.71009117160857,
          90.2411520716456,
          89.32378572378458,
          89.52325199163351,
          89.29144547070025,
          88.43902814543894,
          87.56676456221443,
          87.17257525841819,
          87.29538913531862,
          87.49772980582904,
          87.09192205599278,
          87.57901243382852,
          88.25593994768026,
          88.46190542519193,
          88.211773392004,
          88.75494674809369,
          89.12934590566336,
          89.55775372386094,
          89.27415238610892,
          87.98384799551074,
          88.98609193175876,
          88.2627980652666,
          88.26926610058071,
          89.39804108514713,
          89.57598825908195,
          90.04506077811702,
          89.3638270347807,
          88.56020746113269,
          88.33690234728044,
          88.86520245497948,
          88.7275756747205,
          88.38273557952137,
          88.49728703385009,
          89.02244388024127,
          88.37548907763419,
          87.84081240130661,
          87.50214836879078,
          88.02724577386265,
          88.15832062427917,
          89.16971334282492,
          89.63065988836476,
          89.63754349699595,
          90.25584249870047,
          90.37921424624967,
          90.0701906679324,
          90.41448057486708,
          90.10938520775997,
          89.99610616397173,
          90.64658937263455,
          90.62218836910712,
          90.2659711425847,
          90.07055148047752,
          90.57655936195341,
          90.33880027961794,
          90.17973797153057,
          89.96288859248519,
          90.07287553315459,
          89.9149306578773,
          89.18830316329476,
          88.79869926344259,
          88.38971924271075,
          88.98928767082495,
          89.39143967131838,
          89.68965057942783,
          89.47628788148239,
          89.11868090698036,
          88.90567285216699,
          88.44111895584012,
          89.62664196744493,
          88.60376715592079,
          88.88854486046566,
          88.3165861154562,
          88.29139893000104,
          87.85939089163854,
          87.34286479961871,
          86.84636932824442,
          87.66967082031599,
          87.63154385084958,
          87.30416875561839,
          87.5810049619833,
          87.60854301374955,
          87.96184307268449,
          87.14960142661936,
          87.31076018331733,
          87.68699729048673,
          86.95120338089441,
          87.17787004207008,
          87.97726316919949,
          87.99332911328952,
          88.39501543454882,
          88.72853950635525,
          88.42396519835822,
          88.46537269548446,
          87.7664446956652,
          87.5824044402126,
          87.72697222302861,
          88.0821620701064,
          88.11642792944784,
          88.47175300220945,
          87.98599182041022,
          87.96211581196553,
          87.99388171005023,
          88.87200632216586,
          88.79566368099002,
          88.58736468570558,
          88.62031627145069,
          88.21846485975418,
          88.33039585580944,
          88.18492689074805,
          87.38566769600418,
          87.3816466588224,
          87.25941208777766,
          86.54040480698778,
          86.53255571673569,
          87.23165847491929,
          87.49249037252793,
          87.79568803422447,
          87.20479618620445,
          87.44524491804954,
          87.53591724421256,
          87.80121236408985,
          88.01832933735732,
          87.41758252523114,
          87.42141420657215,
          87.09839003720316,
          87.09825371607336,
          86.71314663608068,
          87.33290941431183,
          86.964234505229,
          86.57902237845056,
          86.63533530941083,
          86.17128252443344,
          86.00256415196017,
          85.65249370397191,
          86.30920074791226,
          86.6870627409675,
          86.68358006629926,
          86.52898749036059,
          86.97831672711285,
          87.18545627546365,
          87.43552090999286,
          87.44630598012607,
          86.70045956189969,
          86.67205273689764,
          86.45360483079263,
          86.76822869509303,
          87.25114648936034,
          86.97417314405311,
          87.21010447211319,
          88.0280604255847,
          87.74414277187654,
          88.54212735428113,
          88.17129162689722,
          88.20483019258316,
          88.22264979426727,
          88.25091998627819,
          87.88815345199241,
          87.639744341115,
          87.35707567127443,
          87.52930643113682,
          87.70328553142592,
          88.75296615740086,
          89.41465896239906,
          89.19985893590717,
          89.37474492503229,
          89.86525153365638,
          89.9030262399994,
          89.89369375997514,
          89.9413417012475,
          90.37359065549568,
          89.99709114836985,
          89.86737987927317
         ]
        }
       ],
       "layout": {
        "autosize": false,
        "height": 700,
        "images": [
         {
          "sizex": 0.35,
          "sizey": 0.35,
          "source": "https://domenick-m.github.io/NDT-Timing-Test/plots/color_wheel.png",
          "x": 1.09,
          "xanchor": "right",
          "xref": "paper",
          "y": 0.01,
          "yanchor": "bottom",
          "yref": "paper"
         }
        ],
        "margin": {
         "b": 10,
         "l": 0,
         "r": 90,
         "t": 60
        },
        "scene": {
         "aspectmode": "manual",
         "aspectratio": {
          "x": 1,
          "y": 1,
          "z": 1
         },
         "camera": {
          "eye": {
           "x": 1.23,
           "y": 1.23,
           "z": 1.23
          },
          "up": {
           "x": 0,
           "y": 0,
           "z": 1
          }
         },
         "xaxis": {
          "showspikes": false
         },
         "yaxis": {
          "showspikes": false
         },
         "zaxis": {
          "showspikes": false
         }
        },
        "template": {
         "data": {
          "bar": [
           {
            "error_x": {
             "color": "#2a3f5f"
            },
            "error_y": {
             "color": "#2a3f5f"
            },
            "marker": {
             "line": {
              "color": "#E5ECF6",
              "width": 0.5
             },
             "pattern": {
              "fillmode": "overlay",
              "size": 10,
              "solidity": 0.2
             }
            },
            "type": "bar"
           }
          ],
          "barpolar": [
           {
            "marker": {
             "line": {
              "color": "#E5ECF6",
              "width": 0.5
             },
             "pattern": {
              "fillmode": "overlay",
              "size": 10,
              "solidity": 0.2
             }
            },
            "type": "barpolar"
           }
          ],
          "carpet": [
           {
            "aaxis": {
             "endlinecolor": "#2a3f5f",
             "gridcolor": "white",
             "linecolor": "white",
             "minorgridcolor": "white",
             "startlinecolor": "#2a3f5f"
            },
            "baxis": {
             "endlinecolor": "#2a3f5f",
             "gridcolor": "white",
             "linecolor": "white",
             "minorgridcolor": "white",
             "startlinecolor": "#2a3f5f"
            },
            "type": "carpet"
           }
          ],
          "choropleth": [
           {
            "colorbar": {
             "outlinewidth": 0,
             "ticks": ""
            },
            "type": "choropleth"
           }
          ],
          "contour": [
           {
            "colorbar": {
             "outlinewidth": 0,
             "ticks": ""
            },
            "colorscale": [
             [
              0,
              "#0d0887"
             ],
             [
              0.1111111111111111,
              "#46039f"
             ],
             [
              0.2222222222222222,
              "#7201a8"
             ],
             [
              0.3333333333333333,
              "#9c179e"
             ],
             [
              0.4444444444444444,
              "#bd3786"
             ],
             [
              0.5555555555555556,
              "#d8576b"
             ],
             [
              0.6666666666666666,
              "#ed7953"
             ],
             [
              0.7777777777777778,
              "#fb9f3a"
             ],
             [
              0.8888888888888888,
              "#fdca26"
             ],
             [
              1,
              "#f0f921"
             ]
            ],
            "type": "contour"
           }
          ],
          "contourcarpet": [
           {
            "colorbar": {
             "outlinewidth": 0,
             "ticks": ""
            },
            "type": "contourcarpet"
           }
          ],
          "heatmap": [
           {
            "colorbar": {
             "outlinewidth": 0,
             "ticks": ""
            },
            "colorscale": [
             [
              0,
              "#0d0887"
             ],
             [
              0.1111111111111111,
              "#46039f"
             ],
             [
              0.2222222222222222,
              "#7201a8"
             ],
             [
              0.3333333333333333,
              "#9c179e"
             ],
             [
              0.4444444444444444,
              "#bd3786"
             ],
             [
              0.5555555555555556,
              "#d8576b"
             ],
             [
              0.6666666666666666,
              "#ed7953"
             ],
             [
              0.7777777777777778,
              "#fb9f3a"
             ],
             [
              0.8888888888888888,
              "#fdca26"
             ],
             [
              1,
              "#f0f921"
             ]
            ],
            "type": "heatmap"
           }
          ],
          "heatmapgl": [
           {
            "colorbar": {
             "outlinewidth": 0,
             "ticks": ""
            },
            "colorscale": [
             [
              0,
              "#0d0887"
             ],
             [
              0.1111111111111111,
              "#46039f"
             ],
             [
              0.2222222222222222,
              "#7201a8"
             ],
             [
              0.3333333333333333,
              "#9c179e"
             ],
             [
              0.4444444444444444,
              "#bd3786"
             ],
             [
              0.5555555555555556,
              "#d8576b"
             ],
             [
              0.6666666666666666,
              "#ed7953"
             ],
             [
              0.7777777777777778,
              "#fb9f3a"
             ],
             [
              0.8888888888888888,
              "#fdca26"
             ],
             [
              1,
              "#f0f921"
             ]
            ],
            "type": "heatmapgl"
           }
          ],
          "histogram": [
           {
            "marker": {
             "pattern": {
              "fillmode": "overlay",
              "size": 10,
              "solidity": 0.2
             }
            },
            "type": "histogram"
           }
          ],
          "histogram2d": [
           {
            "colorbar": {
             "outlinewidth": 0,
             "ticks": ""
            },
            "colorscale": [
             [
              0,
              "#0d0887"
             ],
             [
              0.1111111111111111,
              "#46039f"
             ],
             [
              0.2222222222222222,
              "#7201a8"
             ],
             [
              0.3333333333333333,
              "#9c179e"
             ],
             [
              0.4444444444444444,
              "#bd3786"
             ],
             [
              0.5555555555555556,
              "#d8576b"
             ],
             [
              0.6666666666666666,
              "#ed7953"
             ],
             [
              0.7777777777777778,
              "#fb9f3a"
             ],
             [
              0.8888888888888888,
              "#fdca26"
             ],
             [
              1,
              "#f0f921"
             ]
            ],
            "type": "histogram2d"
           }
          ],
          "histogram2dcontour": [
           {
            "colorbar": {
             "outlinewidth": 0,
             "ticks": ""
            },
            "colorscale": [
             [
              0,
              "#0d0887"
             ],
             [
              0.1111111111111111,
              "#46039f"
             ],
             [
              0.2222222222222222,
              "#7201a8"
             ],
             [
              0.3333333333333333,
              "#9c179e"
             ],
             [
              0.4444444444444444,
              "#bd3786"
             ],
             [
              0.5555555555555556,
              "#d8576b"
             ],
             [
              0.6666666666666666,
              "#ed7953"
             ],
             [
              0.7777777777777778,
              "#fb9f3a"
             ],
             [
              0.8888888888888888,
              "#fdca26"
             ],
             [
              1,
              "#f0f921"
             ]
            ],
            "type": "histogram2dcontour"
           }
          ],
          "mesh3d": [
           {
            "colorbar": {
             "outlinewidth": 0,
             "ticks": ""
            },
            "type": "mesh3d"
           }
          ],
          "parcoords": [
           {
            "line": {
             "colorbar": {
              "outlinewidth": 0,
              "ticks": ""
             }
            },
            "type": "parcoords"
           }
          ],
          "pie": [
           {
            "automargin": true,
            "type": "pie"
           }
          ],
          "scatter": [
           {
            "fillpattern": {
             "fillmode": "overlay",
             "size": 10,
             "solidity": 0.2
            },
            "type": "scatter"
           }
          ],
          "scatter3d": [
           {
            "line": {
             "colorbar": {
              "outlinewidth": 0,
              "ticks": ""
             }
            },
            "marker": {
             "colorbar": {
              "outlinewidth": 0,
              "ticks": ""
             }
            },
            "type": "scatter3d"
           }
          ],
          "scattercarpet": [
           {
            "marker": {
             "colorbar": {
              "outlinewidth": 0,
              "ticks": ""
             }
            },
            "type": "scattercarpet"
           }
          ],
          "scattergeo": [
           {
            "marker": {
             "colorbar": {
              "outlinewidth": 0,
              "ticks": ""
             }
            },
            "type": "scattergeo"
           }
          ],
          "scattergl": [
           {
            "marker": {
             "colorbar": {
              "outlinewidth": 0,
              "ticks": ""
             }
            },
            "type": "scattergl"
           }
          ],
          "scattermapbox": [
           {
            "marker": {
             "colorbar": {
              "outlinewidth": 0,
              "ticks": ""
             }
            },
            "type": "scattermapbox"
           }
          ],
          "scatterpolar": [
           {
            "marker": {
             "colorbar": {
              "outlinewidth": 0,
              "ticks": ""
             }
            },
            "type": "scatterpolar"
           }
          ],
          "scatterpolargl": [
           {
            "marker": {
             "colorbar": {
              "outlinewidth": 0,
              "ticks": ""
             }
            },
            "type": "scatterpolargl"
           }
          ],
          "scatterternary": [
           {
            "marker": {
             "colorbar": {
              "outlinewidth": 0,
              "ticks": ""
             }
            },
            "type": "scatterternary"
           }
          ],
          "surface": [
           {
            "colorbar": {
             "outlinewidth": 0,
             "ticks": ""
            },
            "colorscale": [
             [
              0,
              "#0d0887"
             ],
             [
              0.1111111111111111,
              "#46039f"
             ],
             [
              0.2222222222222222,
              "#7201a8"
             ],
             [
              0.3333333333333333,
              "#9c179e"
             ],
             [
              0.4444444444444444,
              "#bd3786"
             ],
             [
              0.5555555555555556,
              "#d8576b"
             ],
             [
              0.6666666666666666,
              "#ed7953"
             ],
             [
              0.7777777777777778,
              "#fb9f3a"
             ],
             [
              0.8888888888888888,
              "#fdca26"
             ],
             [
              1,
              "#f0f921"
             ]
            ],
            "type": "surface"
           }
          ],
          "table": [
           {
            "cells": {
             "fill": {
              "color": "#EBF0F8"
             },
             "line": {
              "color": "white"
             }
            },
            "header": {
             "fill": {
              "color": "#C8D4E3"
             },
             "line": {
              "color": "white"
             }
            },
            "type": "table"
           }
          ]
         },
         "layout": {
          "annotationdefaults": {
           "arrowcolor": "#2a3f5f",
           "arrowhead": 0,
           "arrowwidth": 1
          },
          "autotypenumbers": "strict",
          "coloraxis": {
           "colorbar": {
            "outlinewidth": 0,
            "ticks": ""
           }
          },
          "colorscale": {
           "diverging": [
            [
             0,
             "#8e0152"
            ],
            [
             0.1,
             "#c51b7d"
            ],
            [
             0.2,
             "#de77ae"
            ],
            [
             0.3,
             "#f1b6da"
            ],
            [
             0.4,
             "#fde0ef"
            ],
            [
             0.5,
             "#f7f7f7"
            ],
            [
             0.6,
             "#e6f5d0"
            ],
            [
             0.7,
             "#b8e186"
            ],
            [
             0.8,
             "#7fbc41"
            ],
            [
             0.9,
             "#4d9221"
            ],
            [
             1,
             "#276419"
            ]
           ],
           "sequential": [
            [
             0,
             "#0d0887"
            ],
            [
             0.1111111111111111,
             "#46039f"
            ],
            [
             0.2222222222222222,
             "#7201a8"
            ],
            [
             0.3333333333333333,
             "#9c179e"
            ],
            [
             0.4444444444444444,
             "#bd3786"
            ],
            [
             0.5555555555555556,
             "#d8576b"
            ],
            [
             0.6666666666666666,
             "#ed7953"
            ],
            [
             0.7777777777777778,
             "#fb9f3a"
            ],
            [
             0.8888888888888888,
             "#fdca26"
            ],
            [
             1,
             "#f0f921"
            ]
           ],
           "sequentialminus": [
            [
             0,
             "#0d0887"
            ],
            [
             0.1111111111111111,
             "#46039f"
            ],
            [
             0.2222222222222222,
             "#7201a8"
            ],
            [
             0.3333333333333333,
             "#9c179e"
            ],
            [
             0.4444444444444444,
             "#bd3786"
            ],
            [
             0.5555555555555556,
             "#d8576b"
            ],
            [
             0.6666666666666666,
             "#ed7953"
            ],
            [
             0.7777777777777778,
             "#fb9f3a"
            ],
            [
             0.8888888888888888,
             "#fdca26"
            ],
            [
             1,
             "#f0f921"
            ]
           ]
          },
          "colorway": [
           "#636efa",
           "#EF553B",
           "#00cc96",
           "#ab63fa",
           "#FFA15A",
           "#19d3f3",
           "#FF6692",
           "#B6E880",
           "#FF97FF",
           "#FECB52"
          ],
          "font": {
           "color": "#2a3f5f"
          },
          "geo": {
           "bgcolor": "white",
           "lakecolor": "white",
           "landcolor": "#E5ECF6",
           "showlakes": true,
           "showland": true,
           "subunitcolor": "white"
          },
          "hoverlabel": {
           "align": "left"
          },
          "hovermode": "closest",
          "mapbox": {
           "style": "light"
          },
          "paper_bgcolor": "white",
          "plot_bgcolor": "#E5ECF6",
          "polar": {
           "angularaxis": {
            "gridcolor": "white",
            "linecolor": "white",
            "ticks": ""
           },
           "bgcolor": "#E5ECF6",
           "radialaxis": {
            "gridcolor": "white",
            "linecolor": "white",
            "ticks": ""
           }
          },
          "scene": {
           "xaxis": {
            "backgroundcolor": "#E5ECF6",
            "gridcolor": "white",
            "gridwidth": 2,
            "linecolor": "white",
            "showbackground": true,
            "ticks": "",
            "zerolinecolor": "white"
           },
           "yaxis": {
            "backgroundcolor": "#E5ECF6",
            "gridcolor": "white",
            "gridwidth": 2,
            "linecolor": "white",
            "showbackground": true,
            "ticks": "",
            "zerolinecolor": "white"
           },
           "zaxis": {
            "backgroundcolor": "#E5ECF6",
            "gridcolor": "white",
            "gridwidth": 2,
            "linecolor": "white",
            "showbackground": true,
            "ticks": "",
            "zerolinecolor": "white"
           }
          },
          "shapedefaults": {
           "line": {
            "color": "#2a3f5f"
           }
          },
          "ternary": {
           "aaxis": {
            "gridcolor": "white",
            "linecolor": "white",
            "ticks": ""
           },
           "baxis": {
            "gridcolor": "white",
            "linecolor": "white",
            "ticks": ""
           },
           "bgcolor": "#E5ECF6",
           "caxis": {
            "gridcolor": "white",
            "linecolor": "white",
            "ticks": ""
           }
          },
          "title": {
           "x": 0.05
          },
          "xaxis": {
           "automargin": true,
           "gridcolor": "white",
           "linecolor": "white",
           "ticks": "",
           "title": {
            "standoff": 15
           },
           "zerolinecolor": "white",
           "zerolinewidth": 2
          },
          "yaxis": {
           "automargin": true,
           "gridcolor": "white",
           "linecolor": "white",
           "ticks": "",
           "title": {
            "standoff": 15
           },
           "zerolinecolor": "white",
           "zerolinewidth": 2
          }
         }
        },
        "title": {
         "text": "PCA of NDT Rates"
        },
        "width": 1000
       }
      },
      "text/html": [
       "<div>                            <div id=\"91ce42d9-9d3a-47fa-9ae1-5d6225d9e482\" class=\"plotly-graph-div\" style=\"height:700px; width:1000px;\"></div>            <script type=\"text/javascript\">                require([\"plotly\"], function(Plotly) {                    window.PLOTLYENV=window.PLOTLYENV || {};                                    if (document.getElementById(\"91ce42d9-9d3a-47fa-9ae1-5d6225d9e482\")) {                    Plotly.newPlot(                        \"91ce42d9-9d3a-47fa-9ae1-5d6225d9e482\",                        [{\"line\":{\"color\":\"#7200ff\",\"width\":2},\"mode\":\"lines\",\"x\":[\"2012-01-01T00:00:00\",\"2012-01-02T00:00:00\",\"2012-01-03T00:00:00\",\"2012-01-04T00:00:00\",\"2012-01-05T00:00:00\",\"2012-01-06T00:00:00\",\"2012-01-07T00:00:00\",\"2012-01-08T00:00:00\",\"2012-01-09T00:00:00\",\"2012-01-10T00:00:00\",\"2012-01-11T00:00:00\",\"2012-01-12T00:00:00\",\"2012-01-13T00:00:00\",\"2012-01-14T00:00:00\",\"2012-01-15T00:00:00\",\"2012-01-16T00:00:00\",\"2012-01-17T00:00:00\",\"2012-01-18T00:00:00\",\"2012-01-19T00:00:00\",\"2012-01-20T00:00:00\",\"2012-01-21T00:00:00\",\"2012-01-22T00:00:00\",\"2012-01-23T00:00:00\",\"2012-01-24T00:00:00\",\"2012-01-25T00:00:00\",\"2012-01-26T00:00:00\",\"2012-01-27T00:00:00\",\"2012-01-28T00:00:00\",\"2012-01-29T00:00:00\",\"2012-01-30T00:00:00\",\"2012-01-31T00:00:00\",\"2012-02-01T00:00:00\",\"2012-02-02T00:00:00\",\"2012-02-03T00:00:00\",\"2012-02-04T00:00:00\",\"2012-02-05T00:00:00\",\"2012-02-06T00:00:00\",\"2012-02-07T00:00:00\",\"2012-02-08T00:00:00\",\"2012-02-09T00:00:00\",\"2012-02-10T00:00:00\",\"2012-02-11T00:00:00\",\"2012-02-12T00:00:00\",\"2012-02-13T00:00:00\",\"2012-02-14T00:00:00\",\"2012-02-15T00:00:00\",\"2012-02-16T00:00:00\",\"2012-02-17T00:00:00\",\"2012-02-18T00:00:00\",\"2012-02-19T00:00:00\",\"2012-02-20T00:00:00\",\"2012-02-21T00:00:00\",\"2012-02-22T00:00:00\",\"2012-02-23T00:00:00\",\"2012-02-24T00:00:00\",\"2012-02-25T00:00:00\",\"2012-02-26T00:00:00\",\"2012-02-27T00:00:00\",\"2012-02-28T00:00:00\",\"2012-02-29T00:00:00\",\"2012-03-01T00:00:00\",\"2012-03-02T00:00:00\",\"2012-03-03T00:00:00\",\"2012-03-04T00:00:00\",\"2012-03-05T00:00:00\",\"2012-03-06T00:00:00\",\"2012-03-07T00:00:00\",\"2012-03-08T00:00:00\",\"2012-03-09T00:00:00\",\"2012-03-10T00:00:00\",\"2012-03-11T00:00:00\",\"2012-03-12T00:00:00\",\"2012-03-13T00:00:00\",\"2012-03-14T00:00:00\",\"2012-03-15T00:00:00\",\"2012-03-16T00:00:00\",\"2012-03-17T00:00:00\",\"2012-03-18T00:00:00\",\"2012-03-19T00:00:00\",\"2012-03-20T00:00:00\",\"2012-03-21T00:00:00\",\"2012-03-22T00:00:00\",\"2012-03-23T00:00:00\",\"2012-03-24T00:00:00\",\"2012-03-25T00:00:00\",\"2012-03-26T00:00:00\",\"2012-03-27T00:00:00\",\"2012-03-28T00:00:00\",\"2012-03-29T00:00:00\",\"2012-03-30T00:00:00\",\"2012-03-31T00:00:00\",\"2012-04-01T00:00:00\",\"2012-04-02T00:00:00\",\"2012-04-03T00:00:00\",\"2012-04-04T00:00:00\",\"2012-04-05T00:00:00\",\"2012-04-06T00:00:00\",\"2012-04-07T00:00:00\",\"2012-04-08T00:00:00\",\"2012-04-09T00:00:00\",\"2012-04-10T00:00:00\",\"2012-04-11T00:00:00\",\"2012-04-12T00:00:00\",\"2012-04-13T00:00:00\",\"2012-04-14T00:00:00\",\"2012-04-15T00:00:00\",\"2012-04-16T00:00:00\",\"2012-04-17T00:00:00\",\"2012-04-18T00:00:00\",\"2012-04-19T00:00:00\",\"2012-04-20T00:00:00\",\"2012-04-21T00:00:00\",\"2012-04-22T00:00:00\",\"2012-04-23T00:00:00\",\"2012-04-24T00:00:00\",\"2012-04-25T00:00:00\",\"2012-04-26T00:00:00\",\"2012-04-27T00:00:00\",\"2012-04-28T00:00:00\",\"2012-04-29T00:00:00\",\"2012-04-30T00:00:00\",\"2012-05-01T00:00:00\",\"2012-05-02T00:00:00\",\"2012-05-03T00:00:00\",\"2012-05-04T00:00:00\",\"2012-05-05T00:00:00\",\"2012-05-06T00:00:00\",\"2012-05-07T00:00:00\",\"2012-05-08T00:00:00\",\"2012-05-09T00:00:00\",\"2012-05-10T00:00:00\",\"2012-05-11T00:00:00\",\"2012-05-12T00:00:00\",\"2012-05-13T00:00:00\",\"2012-05-14T00:00:00\",\"2012-05-15T00:00:00\",\"2012-05-16T00:00:00\",\"2012-05-17T00:00:00\",\"2012-05-18T00:00:00\",\"2012-05-19T00:00:00\",\"2012-05-20T00:00:00\",\"2012-05-21T00:00:00\",\"2012-05-22T00:00:00\",\"2012-05-23T00:00:00\",\"2012-05-24T00:00:00\",\"2012-05-25T00:00:00\",\"2012-05-26T00:00:00\",\"2012-05-27T00:00:00\",\"2012-05-28T00:00:00\",\"2012-05-29T00:00:00\",\"2012-05-30T00:00:00\",\"2012-05-31T00:00:00\",\"2012-06-01T00:00:00\",\"2012-06-02T00:00:00\",\"2012-06-03T00:00:00\",\"2012-06-04T00:00:00\",\"2012-06-05T00:00:00\",\"2012-06-06T00:00:00\",\"2012-06-07T00:00:00\",\"2012-06-08T00:00:00\",\"2012-06-09T00:00:00\",\"2012-06-10T00:00:00\",\"2012-06-11T00:00:00\",\"2012-06-12T00:00:00\",\"2012-06-13T00:00:00\",\"2012-06-14T00:00:00\",\"2012-06-15T00:00:00\",\"2012-06-16T00:00:00\",\"2012-06-17T00:00:00\",\"2012-06-18T00:00:00\",\"2012-06-19T00:00:00\",\"2012-06-20T00:00:00\",\"2012-06-21T00:00:00\",\"2012-06-22T00:00:00\",\"2012-06-23T00:00:00\",\"2012-06-24T00:00:00\",\"2012-06-25T00:00:00\",\"2012-06-26T00:00:00\",\"2012-06-27T00:00:00\",\"2012-06-28T00:00:00\",\"2012-06-29T00:00:00\",\"2012-06-30T00:00:00\",\"2012-07-01T00:00:00\",\"2012-07-02T00:00:00\",\"2012-07-03T00:00:00\",\"2012-07-04T00:00:00\",\"2012-07-05T00:00:00\",\"2012-07-06T00:00:00\",\"2012-07-07T00:00:00\",\"2012-07-08T00:00:00\",\"2012-07-09T00:00:00\",\"2012-07-10T00:00:00\",\"2012-07-11T00:00:00\",\"2012-07-12T00:00:00\",\"2012-07-13T00:00:00\",\"2012-07-14T00:00:00\",\"2012-07-15T00:00:00\",\"2012-07-16T00:00:00\",\"2012-07-17T00:00:00\",\"2012-07-18T00:00:00\",\"2012-07-19T00:00:00\",\"2012-07-20T00:00:00\",\"2012-07-21T00:00:00\",\"2012-07-22T00:00:00\",\"2012-07-23T00:00:00\",\"2012-07-24T00:00:00\",\"2012-07-25T00:00:00\",\"2012-07-26T00:00:00\",\"2012-07-27T00:00:00\",\"2012-07-28T00:00:00\",\"2012-07-29T00:00:00\",\"2012-07-30T00:00:00\",\"2012-07-31T00:00:00\",\"2012-08-01T00:00:00\",\"2012-08-02T00:00:00\",\"2012-08-03T00:00:00\",\"2012-08-04T00:00:00\",\"2012-08-05T00:00:00\",\"2012-08-06T00:00:00\",\"2012-08-07T00:00:00\",\"2012-08-08T00:00:00\",\"2012-08-09T00:00:00\",\"2012-08-10T00:00:00\",\"2012-08-11T00:00:00\",\"2012-08-12T00:00:00\",\"2012-08-13T00:00:00\",\"2012-08-14T00:00:00\",\"2012-08-15T00:00:00\",\"2012-08-16T00:00:00\",\"2012-08-17T00:00:00\",\"2012-08-18T00:00:00\",\"2012-08-19T00:00:00\",\"2012-08-20T00:00:00\",\"2012-08-21T00:00:00\",\"2012-08-22T00:00:00\",\"2012-08-23T00:00:00\",\"2012-08-24T00:00:00\",\"2012-08-25T00:00:00\",\"2012-08-26T00:00:00\",\"2012-08-27T00:00:00\",\"2012-08-28T00:00:00\",\"2012-08-29T00:00:00\",\"2012-08-30T00:00:00\",\"2012-08-31T00:00:00\",\"2012-09-01T00:00:00\",\"2012-09-02T00:00:00\",\"2012-09-03T00:00:00\",\"2012-09-04T00:00:00\",\"2012-09-05T00:00:00\",\"2012-09-06T00:00:00\",\"2012-09-07T00:00:00\",\"2012-09-08T00:00:00\",\"2012-09-09T00:00:00\",\"2012-09-10T00:00:00\",\"2012-09-11T00:00:00\",\"2012-09-12T00:00:00\",\"2012-09-13T00:00:00\",\"2012-09-14T00:00:00\",\"2012-09-15T00:00:00\",\"2012-09-16T00:00:00\",\"2012-09-17T00:00:00\",\"2012-09-18T00:00:00\",\"2012-09-19T00:00:00\",\"2012-09-20T00:00:00\",\"2012-09-21T00:00:00\",\"2012-09-22T00:00:00\",\"2012-09-23T00:00:00\",\"2012-09-24T00:00:00\",\"2012-09-25T00:00:00\",\"2012-09-26T00:00:00\",\"2012-09-27T00:00:00\",\"2012-09-28T00:00:00\",\"2012-09-29T00:00:00\",\"2012-09-30T00:00:00\",\"2012-10-01T00:00:00\",\"2012-10-02T00:00:00\",\"2012-10-03T00:00:00\",\"2012-10-04T00:00:00\",\"2012-10-05T00:00:00\",\"2012-10-06T00:00:00\",\"2012-10-07T00:00:00\",\"2012-10-08T00:00:00\",\"2012-10-09T00:00:00\",\"2012-10-10T00:00:00\",\"2012-10-11T00:00:00\",\"2012-10-12T00:00:00\",\"2012-10-13T00:00:00\",\"2012-10-14T00:00:00\",\"2012-10-15T00:00:00\",\"2012-10-16T00:00:00\",\"2012-10-17T00:00:00\",\"2012-10-18T00:00:00\",\"2012-10-19T00:00:00\",\"2012-10-20T00:00:00\",\"2012-10-21T00:00:00\",\"2012-10-22T00:00:00\",\"2012-10-23T00:00:00\",\"2012-10-24T00:00:00\",\"2012-10-25T00:00:00\",\"2012-10-26T00:00:00\",\"2012-10-27T00:00:00\",\"2012-10-28T00:00:00\",\"2012-10-29T00:00:00\",\"2012-10-30T00:00:00\",\"2012-10-31T00:00:00\",\"2012-11-01T00:00:00\",\"2012-11-02T00:00:00\",\"2012-11-03T00:00:00\",\"2012-11-04T00:00:00\",\"2012-11-05T00:00:00\",\"2012-11-06T00:00:00\",\"2012-11-07T00:00:00\",\"2012-11-08T00:00:00\",\"2012-11-09T00:00:00\",\"2012-11-10T00:00:00\",\"2012-11-11T00:00:00\",\"2012-11-12T00:00:00\",\"2012-11-13T00:00:00\",\"2012-11-14T00:00:00\",\"2012-11-15T00:00:00\",\"2012-11-16T00:00:00\",\"2012-11-17T00:00:00\",\"2012-11-18T00:00:00\",\"2012-11-19T00:00:00\",\"2012-11-20T00:00:00\",\"2012-11-21T00:00:00\",\"2012-11-22T00:00:00\",\"2012-11-23T00:00:00\",\"2012-11-24T00:00:00\",\"2012-11-25T00:00:00\",\"2012-11-26T00:00:00\",\"2012-11-27T00:00:00\",\"2012-11-28T00:00:00\",\"2012-11-29T00:00:00\",\"2012-11-30T00:00:00\",\"2012-12-01T00:00:00\",\"2012-12-02T00:00:00\",\"2012-12-03T00:00:00\",\"2012-12-04T00:00:00\",\"2012-12-05T00:00:00\",\"2012-12-06T00:00:00\",\"2012-12-07T00:00:00\",\"2012-12-08T00:00:00\",\"2012-12-09T00:00:00\",\"2012-12-10T00:00:00\",\"2012-12-11T00:00:00\",\"2012-12-12T00:00:00\",\"2012-12-13T00:00:00\",\"2012-12-14T00:00:00\",\"2012-12-15T00:00:00\",\"2012-12-16T00:00:00\",\"2012-12-17T00:00:00\",\"2012-12-18T00:00:00\",\"2012-12-19T00:00:00\",\"2012-12-20T00:00:00\",\"2012-12-21T00:00:00\",\"2012-12-22T00:00:00\",\"2012-12-23T00:00:00\",\"2012-12-24T00:00:00\",\"2012-12-25T00:00:00\",\"2012-12-26T00:00:00\",\"2012-12-27T00:00:00\",\"2012-12-28T00:00:00\",\"2012-12-29T00:00:00\",\"2012-12-30T00:00:00\",\"2012-12-31T00:00:00\",\"2013-01-01T00:00:00\",\"2013-01-02T00:00:00\",\"2013-01-03T00:00:00\",\"2013-01-04T00:00:00\",\"2013-01-05T00:00:00\",\"2013-01-06T00:00:00\",\"2013-01-07T00:00:00\",\"2013-01-08T00:00:00\",\"2013-01-09T00:00:00\",\"2013-01-10T00:00:00\",\"2013-01-11T00:00:00\",\"2013-01-12T00:00:00\",\"2013-01-13T00:00:00\",\"2013-01-14T00:00:00\",\"2013-01-15T00:00:00\",\"2013-01-16T00:00:00\",\"2013-01-17T00:00:00\",\"2013-01-18T00:00:00\",\"2013-01-19T00:00:00\",\"2013-01-20T00:00:00\",\"2013-01-21T00:00:00\",\"2013-01-22T00:00:00\",\"2013-01-23T00:00:00\",\"2013-01-24T00:00:00\",\"2013-01-25T00:00:00\",\"2013-01-26T00:00:00\",\"2013-01-27T00:00:00\",\"2013-01-28T00:00:00\",\"2013-01-29T00:00:00\",\"2013-01-30T00:00:00\",\"2013-01-31T00:00:00\",\"2013-02-01T00:00:00\",\"2013-02-02T00:00:00\",\"2013-02-03T00:00:00\",\"2013-02-04T00:00:00\",\"2013-02-05T00:00:00\",\"2013-02-06T00:00:00\",\"2013-02-07T00:00:00\",\"2013-02-08T00:00:00\",\"2013-02-09T00:00:00\",\"2013-02-10T00:00:00\",\"2013-02-11T00:00:00\",\"2013-02-12T00:00:00\",\"2013-02-13T00:00:00\",\"2013-02-14T00:00:00\",\"2013-02-15T00:00:00\",\"2013-02-16T00:00:00\",\"2013-02-17T00:00:00\",\"2013-02-18T00:00:00\",\"2013-02-19T00:00:00\",\"2013-02-20T00:00:00\",\"2013-02-21T00:00:00\",\"2013-02-22T00:00:00\"],\"y\":[100.92651047400719,101.16419850406186,101.70963421761398,102.93499475811892,103.97198807820824,103.4690560922278,104.01133870251276,103.95612127330314,103.92708486560018,104.17752601012262,104.2831459602703,105.10637761459387,105.55286617150014,105.64752508939439,105.92053090195503,106.13308487340174,106.99318360334445,106.90630926460668,107.10930179027356,106.65986032591618,105.27312527008267,105.66096777336062,106.1671870875308,105.78358237874677,107.0741792660536,106.29079893723869,106.34390434859633,106.26754269608621,107.15040796583611,108.00479187632945,108.12045534038795,108.36262442743534,107.88891963700289,106.80522697204957,106.6388892534229,106.75387216791803,107.47068850085768,108.17653200989643,107.9858048402839,107.84334018640251,107.28169841143172,106.51592512843439,105.59747048237087,106.70770038418813,106.4514637709342,106.23558926962124,105.56953563326216,106.02711111339924,105.163644900837,105.07409099388838,104.61056121027082,104.84965954255472,104.59725415596668,103.98069343216332,103.99243742340869,104.25270085862262,104.31610841362505,104.50839331765978,104.1895078476462,104.01917933438219,103.68111188072876,103.513339718062,103.10105712923058,102.20135451537567,102.32282713527054,102.13470249318945,101.29430282372473,101.56610463967068,101.11179556590137,101.16558556536881,101.57836678501977,101.67334582180165,102.30742296182369,101.67554873576424,101.91616469165803,101.57837364126183,101.14330881817328,100.86393843452174,100.72599859040383,100.78180675859308,100.19584631138865,100.69503756320756,100.96675168043386,100.18516057706034,100.993980928186,102.02653053591035,102.68394789726936,102.61410846166359,102.06785357959542,102.65878888249465,102.46929870376877,103.15311447339776,103.29237569987232,103.84814610817861,104.06888672722981,104.48121382590314,104.51414814756265,105.5219762775339,105.61949925032812,105.86925361494157,106.94452500771989,106.22127794650555,105.54555260112328,106.10942867605505,105.48809520311124,106.59318826889776,106.39062776420512,106.00328415823637,107.10219485275833,107.96249090036454,109.05013304856912,109.59642754007746,109.1324818247893,110.25640931916001,110.13069559081241,110.62247848779609,111.20060327575627,111.13944674011289,111.52584571770959,112.09401343497012,112.34406233393995,111.72927590971673,111.93274790447303,112.74096376354112,112.36156288287236,112.30292390117349,112.07689449894733,113.19515888996547,113.62328088875631,113.8952199867596,113.46722897427574,113.8171856727944,113.44616381001956,113.49457977796114,113.14737335113279,113.57777198594097,113.95031301579507,113.85592040230905,114.12158165167772,113.5008295612824,112.64870160729194,112.93715911919737,113.0650358073006,113.4705580528375,114.92304522557187,115.52197078539857,115.00191543588633,115.70557378039554,114.94221587806477,114.6950246375156,114.68395797145237,115.74595717412018,115.32618086012023,114.85886696121614,114.82964658815582,114.46181942942574,115.16796491286007,114.54938393412407,113.89390427267583,113.6630882227597,113.39703808983006,114.57654545411361,115.17664055708441,115.25936603524755,114.55312117257476,115.0898641305407,114.51941926517945,113.62785017803614,114.3655523037558,114.58502959701269,115.16797076937084,115.39006480772196,115.93828598499589,115.57443153083351,114.98112846794157,115.42161683953785,114.9677569006583,114.58386832587153,114.3410654675118,114.38128112610408,114.1995134379326,113.41107841817231,113.05953332895183,111.78203616377841,112.17720930733064,111.27054525067778,110.65875093590796,110.71774693586183,110.31920078393595,111.24167945490152,110.52108957217554,110.70430985323674,110.7103881091386,110.06500756172277,110.39525224237772,110.32500047279947,110.79988608772476,111.30690447488601,112.60216464557375,113.4212277834536,113.23199451296617,113.11981481138709,113.80163031318705,114.22187553989814,114.63460342545187,113.69922144117275,113.71435550228064,113.30593012778122,113.50140588770029,113.47271009253583,114.04362469317888,114.26264881509726,114.76320557558167,114.51350498124945,113.97914378977505,113.76467050342526,113.78415908553892,114.03960354980379,115.42462330165175,115.42916581538181,114.88362534832942,114.70586399080511,114.4579774614023,114.77632111731218,113.88511807486834,113.95244487096593,114.07540756638974,114.24369172233521,113.9171381156303,113.80514677515501,112.99042106924185,112.72872273379406,112.43850484789688,112.71266895497882,112.06259423800797,112.55049458071204,113.46284028802016,112.27079877401431,112.55056071925462,112.97896955875326,112.63240368517118,112.42797477656174,112.37914394236775,112.23353053257843,112.0815298986316,111.13266811438871,111.83329746569355,112.49557139951534,112.04738585287339,111.22060850664522,111.55303059586524,111.24668792432664,111.35825791494236,111.20144553387641,111.63325755981894,112.0686273098111,111.67337165896292,110.8974996326785,110.01217448357453,110.3925188690303,109.73707727208217,109.47518926442675,109.1628377811803,109.1612497687994,108.08993028296547,108.22482484687094,108.54989679835339,108.62835718509463,108.48017676554356,108.56368232516319,108.81872438123406,107.2806831831193,108.41152146524466,108.66111991407963,108.31932054598343,108.12629157314164,108.43397485920225,108.3963855615405,107.27961197721734,108.47199648869493,108.43754784676807,109.04581744704514,108.68028230929694,109.58525371646672,109.7779945239286,110.15664496023174,109.58484598168288,110.30962969813093,110.73698256165902,111.52225588292637,111.18559301335121,110.93520404170985,112.30870895145625,111.71711664824637,111.66680281449075,112.36172924533628,112.44841367912515,112.82100328079521,112.61495022000983,112.8624027474554,112.12330098535341,113.12892878046468,113.08849395473413,112.71640276973484,113.13921728276144,112.8964139487354,112.14083003262316,111.38304777792757,111.81687116593626,111.75270957444016,111.7036925852926,112.36409767576767,111.73318041569884,111.33615071151912,111.14127459907368,111.22505589990493,111.2294829757879,111.09169175039963,111.08481447622853,111.05141442042587,110.6632135517222,110.22254211234686,110.40957661151405,109.92512521108699,109.29045764177808,109.1405717562492,109.07903300944287,110.40231396316673,110.02495479598949,110.59764908787658,111.05942290211217,110.39997218496609,110.87602821477334,110.22058464400146,108.72718148370704,109.10076759609815,108.13196995276088,108.415403727559,108.05652306999029,109.02648560317758,109.66576823399257,109.43461498370803,109.07017841393365,108.40829453292233,108.1868407186555,108.05650853452553,107.87875714132127,107.99527730582004,108.3506011012568,108.57710214983169,108.17235959310388,107.39024964881195,108.18723944319811,107.82604838450858,107.48694039188737,107.22236517509715,106.22182361909431,105.98430468305982,105.74638707730743,106.11751935634474,106.53344289988162,106.56327517663071,107.11156011577769,107.33003391884463,107.34917128826014,107.46749280273906,107.38837637930776,107.1948229122234,107.072751033524,106.4708844502695,106.65485670024466,106.13015485045543,106.62590890871432,106.51466096177053,106.56995995806851,106.87326763864395,107.2612270087953,106.41178207103674,106.32440959352319,106.8426005191601,105.92585021251051,106.16816456951565,104.95088757380404,104.41852710433513,104.46680406370731,103.59285305385333,103.08731790805099,102.32376080805683,103.23610204148113,103.35167290519445,103.68563015426082,103.59195425990275,103.42763627682456,102.58395801055431,102.45422538042858,102.07372210484822,102.55926320329627,103.19978312165736,104.0211541183979,104.51302344471995,104.2135550227601,103.63432359884648,104.07761977677255,104.29880804622557,103.36581597273391,103.5850522950404,104.05416818795807,104.11332276001008,104.03972144367674,103.62832081756375,102.87436283045737,103.3325769046463,103.19257630624547,103.09352935469079,104.05874028549893,104.4589727056283,104.68892478052503,104.79397747068093,105.65753842410288],\"z\":[100.90305260168549,101.42097232811646,101.75663544562379,100.67462146599276,100.76598392239534,100.72367877031152,100.79939707824535,101.32395743655249,99.90903819476982,99.63804510112185,99.80471250159883,99.58733641412802,98.87809383086237,99.35416809651913,99.52398587059791,99.04576625574933,99.23474090343667,99.68783755012718,99.71654618503014,100.16083472122112,100.22790656756355,100.04706042904536,99.46835122221567,99.4495563479014,99.5765385009955,100.05956893419592,100.02540376007047,100.29098687183546,99.8124696432,99.43078946717925,99.39929079509108,98.87848444091237,99.3292597030591,99.5959699790435,99.76736096427827,99.97030046464064,101.05848561907575,100.83731460985726,99.70936796178142,99.83929540379629,99.83886801241286,99.59502927339695,99.11246528192999,98.9108969566878,99.03048415348458,98.7962132981615,100.07619374194734,99.60084022421165,99.2145290099018,98.06003155884319,98.2146009231919,97.20998294665371,96.96144471081303,96.84700774646616,96.51344425296475,97.42018225543028,97.95344908624119,98.65698778338691,98.22846704664138,98.83547643906196,99.11789252373134,99.54433783686525,100.10757127312155,99.65902304480748,99.46407621200929,99.93964488636817,98.58737178301548,99.3963224316725,99.71011815655227,99.71224540999887,99.85324695392072,99.34288598951973,99.18711677827709,99.78528060223412,100.49088255628193,101.94394539288265,101.9310805323741,101.60718690595516,101.36077015140263,100.84897452377817,100.83417603623697,101.06243975352993,101.07065198579328,101.67808168899688,101.58009055056046,101.42213512404585,101.1407156020703,100.30721724776457,99.51432960615618,98.92849325112658,99.62981078541632,100.12326832010427,100.87182803412611,100.19779347084913,99.1976666309814,98.88168146638414,98.99837662573024,99.28265406989709,99.85408146571059,100.02862750524588,100.97039428016427,100.87920810632707,100.42493643449215,99.57204278582927,99.1361513431922,99.28755496147123,98.8530386760832,99.36419555088116,100.12663664539454,98.91964462128927,99.39336692390685,98.26196534475231,98.49406915931074,99.1526140349754,99.21205807447976,98.57617826103305,98.30051620703375,98.19169827562921,98.12372408076136,98.04521055290348,98.0144103678796,98.14940492921835,97.55659992002035,97.45860448294407,98.26082725035138,98.08895759388533,97.8870928861167,98.46604609956793,97.18269521057282,97.81022987939359,97.51301530449564,97.62202658760559,97.69662278010524,98.20473955487645,98.09297662597697,97.77132487531858,98.46259504845453,97.27841536917732,97.31408231122862,96.6558801793464,96.29687042729958,97.34008938417091,97.34273021344151,97.46741806935951,96.58895824280805,96.24656334416431,96.3705966409849,96.5746306850572,96.91181436639656,96.94141386759306,97.2341766866298,97.49049661745892,96.58749806134256,96.63133356803426,97.04530315343045,97.37038137131887,97.2106327272869,96.82725967240799,96.28786649476159,96.24696487629984,96.84400058218495,95.88578133127191,95.58042812144832,95.03730238056379,95.45295370383771,95.2015138883091,94.99228038088113,94.9092994653777,95.15531755805068,94.98503441239602,93.50869410989931,93.79908675509311,94.03910494110394,93.95568374489245,93.44903090092583,93.64542169204431,93.85569598074954,93.64971640397664,93.56801497918381,93.13835077270353,93.07565364589107,92.34829908463048,92.5740903508439,92.14214381794848,92.2809290424814,91.62896336767783,91.37051875684513,91.34152569338822,90.5754915765206,90.65362540927504,90.49766275156375,89.70040451402798,89.11451369169828,89.4201500395064,89.86317896522264,89.82460512002781,90.03831494218872,90.16720924113693,90.3462369510247,90.97936760537068,90.28889316166814,90.632353961333,90.47507444284987,90.39258528895667,90.27335622644688,90.11993256762909,89.56737188661853,89.67660040382277,90.48696583244354,90.48396272281204,90.50686104678697,90.20571122418414,90.17379472058556,90.41735669400072,90.26600283437253,90.07554341034924,90.28914350140238,89.88024570100794,90.02239787339386,90.4328342560431,91.10179272878925,91.08245913545932,91.75989223407711,92.28147861078794,91.82600543642462,91.26692415818832,91.14524862729328,91.66071784069197,91.64993534900208,91.38636715759493,92.15497736201138,92.31733209977926,91.22784200866636,91.40302023250256,91.67571954723056,91.80780505911812,92.04786196317963,92.03944528929924,91.43103320952203,91.27776225165299,90.85127189361977,90.43286109789015,89.86105779080609,90.09733241698619,90.16692108351123,89.9793231768941,89.69772833772598,89.71009117160857,90.2411520716456,89.32378572378458,89.52325199163351,89.29144547070025,88.43902814543894,87.56676456221443,87.17257525841819,87.29538913531862,87.49772980582904,87.09192205599278,87.57901243382852,88.25593994768026,88.46190542519193,88.211773392004,88.75494674809369,89.12934590566336,89.55775372386094,89.27415238610892,87.98384799551074,88.98609193175876,88.2627980652666,88.26926610058071,89.39804108514713,89.57598825908195,90.04506077811702,89.3638270347807,88.56020746113269,88.33690234728044,88.86520245497948,88.7275756747205,88.38273557952137,88.49728703385009,89.02244388024127,88.37548907763419,87.84081240130661,87.50214836879078,88.02724577386265,88.15832062427917,89.16971334282492,89.63065988836476,89.63754349699595,90.25584249870047,90.37921424624967,90.0701906679324,90.41448057486708,90.10938520775997,89.99610616397173,90.64658937263455,90.62218836910712,90.2659711425847,90.07055148047752,90.57655936195341,90.33880027961794,90.17973797153057,89.96288859248519,90.07287553315459,89.9149306578773,89.18830316329476,88.79869926344259,88.38971924271075,88.98928767082495,89.39143967131838,89.68965057942783,89.47628788148239,89.11868090698036,88.90567285216699,88.44111895584012,89.62664196744493,88.60376715592079,88.88854486046566,88.3165861154562,88.29139893000104,87.85939089163854,87.34286479961871,86.84636932824442,87.66967082031599,87.63154385084958,87.30416875561839,87.5810049619833,87.60854301374955,87.96184307268449,87.14960142661936,87.31076018331733,87.68699729048673,86.95120338089441,87.17787004207008,87.97726316919949,87.99332911328952,88.39501543454882,88.72853950635525,88.42396519835822,88.46537269548446,87.7664446956652,87.5824044402126,87.72697222302861,88.0821620701064,88.11642792944784,88.47175300220945,87.98599182041022,87.96211581196553,87.99388171005023,88.87200632216586,88.79566368099002,88.58736468570558,88.62031627145069,88.21846485975418,88.33039585580944,88.18492689074805,87.38566769600418,87.3816466588224,87.25941208777766,86.54040480698778,86.53255571673569,87.23165847491929,87.49249037252793,87.79568803422447,87.20479618620445,87.44524491804954,87.53591724421256,87.80121236408985,88.01832933735732,87.41758252523114,87.42141420657215,87.09839003720316,87.09825371607336,86.71314663608068,87.33290941431183,86.964234505229,86.57902237845056,86.63533530941083,86.17128252443344,86.00256415196017,85.65249370397191,86.30920074791226,86.6870627409675,86.68358006629926,86.52898749036059,86.97831672711285,87.18545627546365,87.43552090999286,87.44630598012607,86.70045956189969,86.67205273689764,86.45360483079263,86.76822869509303,87.25114648936034,86.97417314405311,87.21010447211319,88.0280604255847,87.74414277187654,88.54212735428113,88.17129162689722,88.20483019258316,88.22264979426727,88.25091998627819,87.88815345199241,87.639744341115,87.35707567127443,87.52930643113682,87.70328553142592,88.75296615740086,89.41465896239906,89.19985893590717,89.37474492503229,89.86525153365638,89.9030262399994,89.89369375997514,89.9413417012475,90.37359065549568,89.99709114836985,89.86737987927317],\"type\":\"scatter3d\"}],                        {\"template\":{\"data\":{\"histogram2dcontour\":[{\"type\":\"histogram2dcontour\",\"colorbar\":{\"outlinewidth\":0,\"ticks\":\"\"},\"colorscale\":[[0.0,\"#0d0887\"],[0.1111111111111111,\"#46039f\"],[0.2222222222222222,\"#7201a8\"],[0.3333333333333333,\"#9c179e\"],[0.4444444444444444,\"#bd3786\"],[0.5555555555555556,\"#d8576b\"],[0.6666666666666666,\"#ed7953\"],[0.7777777777777778,\"#fb9f3a\"],[0.8888888888888888,\"#fdca26\"],[1.0,\"#f0f921\"]]}],\"choropleth\":[{\"type\":\"choropleth\",\"colorbar\":{\"outlinewidth\":0,\"ticks\":\"\"}}],\"histogram2d\":[{\"type\":\"histogram2d\",\"colorbar\":{\"outlinewidth\":0,\"ticks\":\"\"},\"colorscale\":[[0.0,\"#0d0887\"],[0.1111111111111111,\"#46039f\"],[0.2222222222222222,\"#7201a8\"],[0.3333333333333333,\"#9c179e\"],[0.4444444444444444,\"#bd3786\"],[0.5555555555555556,\"#d8576b\"],[0.6666666666666666,\"#ed7953\"],[0.7777777777777778,\"#fb9f3a\"],[0.8888888888888888,\"#fdca26\"],[1.0,\"#f0f921\"]]}],\"heatmap\":[{\"type\":\"heatmap\",\"colorbar\":{\"outlinewidth\":0,\"ticks\":\"\"},\"colorscale\":[[0.0,\"#0d0887\"],[0.1111111111111111,\"#46039f\"],[0.2222222222222222,\"#7201a8\"],[0.3333333333333333,\"#9c179e\"],[0.4444444444444444,\"#bd3786\"],[0.5555555555555556,\"#d8576b\"],[0.6666666666666666,\"#ed7953\"],[0.7777777777777778,\"#fb9f3a\"],[0.8888888888888888,\"#fdca26\"],[1.0,\"#f0f921\"]]}],\"heatmapgl\":[{\"type\":\"heatmapgl\",\"colorbar\":{\"outlinewidth\":0,\"ticks\":\"\"},\"colorscale\":[[0.0,\"#0d0887\"],[0.1111111111111111,\"#46039f\"],[0.2222222222222222,\"#7201a8\"],[0.3333333333333333,\"#9c179e\"],[0.4444444444444444,\"#bd3786\"],[0.5555555555555556,\"#d8576b\"],[0.6666666666666666,\"#ed7953\"],[0.7777777777777778,\"#fb9f3a\"],[0.8888888888888888,\"#fdca26\"],[1.0,\"#f0f921\"]]}],\"contourcarpet\":[{\"type\":\"contourcarpet\",\"colorbar\":{\"outlinewidth\":0,\"ticks\":\"\"}}],\"contour\":[{\"type\":\"contour\",\"colorbar\":{\"outlinewidth\":0,\"ticks\":\"\"},\"colorscale\":[[0.0,\"#0d0887\"],[0.1111111111111111,\"#46039f\"],[0.2222222222222222,\"#7201a8\"],[0.3333333333333333,\"#9c179e\"],[0.4444444444444444,\"#bd3786\"],[0.5555555555555556,\"#d8576b\"],[0.6666666666666666,\"#ed7953\"],[0.7777777777777778,\"#fb9f3a\"],[0.8888888888888888,\"#fdca26\"],[1.0,\"#f0f921\"]]}],\"surface\":[{\"type\":\"surface\",\"colorbar\":{\"outlinewidth\":0,\"ticks\":\"\"},\"colorscale\":[[0.0,\"#0d0887\"],[0.1111111111111111,\"#46039f\"],[0.2222222222222222,\"#7201a8\"],[0.3333333333333333,\"#9c179e\"],[0.4444444444444444,\"#bd3786\"],[0.5555555555555556,\"#d8576b\"],[0.6666666666666666,\"#ed7953\"],[0.7777777777777778,\"#fb9f3a\"],[0.8888888888888888,\"#fdca26\"],[1.0,\"#f0f921\"]]}],\"mesh3d\":[{\"type\":\"mesh3d\",\"colorbar\":{\"outlinewidth\":0,\"ticks\":\"\"}}],\"scatter\":[{\"fillpattern\":{\"fillmode\":\"overlay\",\"size\":10,\"solidity\":0.2},\"type\":\"scatter\"}],\"parcoords\":[{\"type\":\"parcoords\",\"line\":{\"colorbar\":{\"outlinewidth\":0,\"ticks\":\"\"}}}],\"scatterpolargl\":[{\"type\":\"scatterpolargl\",\"marker\":{\"colorbar\":{\"outlinewidth\":0,\"ticks\":\"\"}}}],\"bar\":[{\"error_x\":{\"color\":\"#2a3f5f\"},\"error_y\":{\"color\":\"#2a3f5f\"},\"marker\":{\"line\":{\"color\":\"#E5ECF6\",\"width\":0.5},\"pattern\":{\"fillmode\":\"overlay\",\"size\":10,\"solidity\":0.2}},\"type\":\"bar\"}],\"scattergeo\":[{\"type\":\"scattergeo\",\"marker\":{\"colorbar\":{\"outlinewidth\":0,\"ticks\":\"\"}}}],\"scatterpolar\":[{\"type\":\"scatterpolar\",\"marker\":{\"colorbar\":{\"outlinewidth\":0,\"ticks\":\"\"}}}],\"histogram\":[{\"marker\":{\"pattern\":{\"fillmode\":\"overlay\",\"size\":10,\"solidity\":0.2}},\"type\":\"histogram\"}],\"scattergl\":[{\"type\":\"scattergl\",\"marker\":{\"colorbar\":{\"outlinewidth\":0,\"ticks\":\"\"}}}],\"scatter3d\":[{\"type\":\"scatter3d\",\"line\":{\"colorbar\":{\"outlinewidth\":0,\"ticks\":\"\"}},\"marker\":{\"colorbar\":{\"outlinewidth\":0,\"ticks\":\"\"}}}],\"scattermapbox\":[{\"type\":\"scattermapbox\",\"marker\":{\"colorbar\":{\"outlinewidth\":0,\"ticks\":\"\"}}}],\"scatterternary\":[{\"type\":\"scatterternary\",\"marker\":{\"colorbar\":{\"outlinewidth\":0,\"ticks\":\"\"}}}],\"scattercarpet\":[{\"type\":\"scattercarpet\",\"marker\":{\"colorbar\":{\"outlinewidth\":0,\"ticks\":\"\"}}}],\"carpet\":[{\"aaxis\":{\"endlinecolor\":\"#2a3f5f\",\"gridcolor\":\"white\",\"linecolor\":\"white\",\"minorgridcolor\":\"white\",\"startlinecolor\":\"#2a3f5f\"},\"baxis\":{\"endlinecolor\":\"#2a3f5f\",\"gridcolor\":\"white\",\"linecolor\":\"white\",\"minorgridcolor\":\"white\",\"startlinecolor\":\"#2a3f5f\"},\"type\":\"carpet\"}],\"table\":[{\"cells\":{\"fill\":{\"color\":\"#EBF0F8\"},\"line\":{\"color\":\"white\"}},\"header\":{\"fill\":{\"color\":\"#C8D4E3\"},\"line\":{\"color\":\"white\"}},\"type\":\"table\"}],\"barpolar\":[{\"marker\":{\"line\":{\"color\":\"#E5ECF6\",\"width\":0.5},\"pattern\":{\"fillmode\":\"overlay\",\"size\":10,\"solidity\":0.2}},\"type\":\"barpolar\"}],\"pie\":[{\"automargin\":true,\"type\":\"pie\"}]},\"layout\":{\"autotypenumbers\":\"strict\",\"colorway\":[\"#636efa\",\"#EF553B\",\"#00cc96\",\"#ab63fa\",\"#FFA15A\",\"#19d3f3\",\"#FF6692\",\"#B6E880\",\"#FF97FF\",\"#FECB52\"],\"font\":{\"color\":\"#2a3f5f\"},\"hovermode\":\"closest\",\"hoverlabel\":{\"align\":\"left\"},\"paper_bgcolor\":\"white\",\"plot_bgcolor\":\"#E5ECF6\",\"polar\":{\"bgcolor\":\"#E5ECF6\",\"angularaxis\":{\"gridcolor\":\"white\",\"linecolor\":\"white\",\"ticks\":\"\"},\"radialaxis\":{\"gridcolor\":\"white\",\"linecolor\":\"white\",\"ticks\":\"\"}},\"ternary\":{\"bgcolor\":\"#E5ECF6\",\"aaxis\":{\"gridcolor\":\"white\",\"linecolor\":\"white\",\"ticks\":\"\"},\"baxis\":{\"gridcolor\":\"white\",\"linecolor\":\"white\",\"ticks\":\"\"},\"caxis\":{\"gridcolor\":\"white\",\"linecolor\":\"white\",\"ticks\":\"\"}},\"coloraxis\":{\"colorbar\":{\"outlinewidth\":0,\"ticks\":\"\"}},\"colorscale\":{\"sequential\":[[0.0,\"#0d0887\"],[0.1111111111111111,\"#46039f\"],[0.2222222222222222,\"#7201a8\"],[0.3333333333333333,\"#9c179e\"],[0.4444444444444444,\"#bd3786\"],[0.5555555555555556,\"#d8576b\"],[0.6666666666666666,\"#ed7953\"],[0.7777777777777778,\"#fb9f3a\"],[0.8888888888888888,\"#fdca26\"],[1.0,\"#f0f921\"]],\"sequentialminus\":[[0.0,\"#0d0887\"],[0.1111111111111111,\"#46039f\"],[0.2222222222222222,\"#7201a8\"],[0.3333333333333333,\"#9c179e\"],[0.4444444444444444,\"#bd3786\"],[0.5555555555555556,\"#d8576b\"],[0.6666666666666666,\"#ed7953\"],[0.7777777777777778,\"#fb9f3a\"],[0.8888888888888888,\"#fdca26\"],[1.0,\"#f0f921\"]],\"diverging\":[[0,\"#8e0152\"],[0.1,\"#c51b7d\"],[0.2,\"#de77ae\"],[0.3,\"#f1b6da\"],[0.4,\"#fde0ef\"],[0.5,\"#f7f7f7\"],[0.6,\"#e6f5d0\"],[0.7,\"#b8e186\"],[0.8,\"#7fbc41\"],[0.9,\"#4d9221\"],[1,\"#276419\"]]},\"xaxis\":{\"gridcolor\":\"white\",\"linecolor\":\"white\",\"ticks\":\"\",\"title\":{\"standoff\":15},\"zerolinecolor\":\"white\",\"automargin\":true,\"zerolinewidth\":2},\"yaxis\":{\"gridcolor\":\"white\",\"linecolor\":\"white\",\"ticks\":\"\",\"title\":{\"standoff\":15},\"zerolinecolor\":\"white\",\"automargin\":true,\"zerolinewidth\":2},\"scene\":{\"xaxis\":{\"backgroundcolor\":\"#E5ECF6\",\"gridcolor\":\"white\",\"linecolor\":\"white\",\"showbackground\":true,\"ticks\":\"\",\"zerolinecolor\":\"white\",\"gridwidth\":2},\"yaxis\":{\"backgroundcolor\":\"#E5ECF6\",\"gridcolor\":\"white\",\"linecolor\":\"white\",\"showbackground\":true,\"ticks\":\"\",\"zerolinecolor\":\"white\",\"gridwidth\":2},\"zaxis\":{\"backgroundcolor\":\"#E5ECF6\",\"gridcolor\":\"white\",\"linecolor\":\"white\",\"showbackground\":true,\"ticks\":\"\",\"zerolinecolor\":\"white\",\"gridwidth\":2}},\"shapedefaults\":{\"line\":{\"color\":\"#2a3f5f\"}},\"annotationdefaults\":{\"arrowcolor\":\"#2a3f5f\",\"arrowhead\":0,\"arrowwidth\":1},\"geo\":{\"bgcolor\":\"white\",\"landcolor\":\"#E5ECF6\",\"subunitcolor\":\"white\",\"showland\":true,\"showlakes\":true,\"lakecolor\":\"white\"},\"title\":{\"x\":0.05},\"mapbox\":{\"style\":\"light\"}}},\"scene\":{\"xaxis\":{\"showspikes\":false},\"yaxis\":{\"showspikes\":false},\"zaxis\":{\"showspikes\":false},\"camera\":{\"up\":{\"x\":0,\"y\":0,\"z\":1},\"eye\":{\"x\":1.23,\"y\":1.23,\"z\":1.23}},\"aspectratio\":{\"x\":1,\"y\":1,\"z\":1},\"aspectmode\":\"manual\"},\"width\":1000,\"height\":700,\"autosize\":false,\"title\":{\"text\":\"PCA of NDT Rates\"},\"margin\":{\"r\":90,\"l\":0,\"b\":10,\"t\":60},\"images\":[{\"sizex\":0.35,\"sizey\":0.35,\"source\":\"https://domenick-m.github.io/NDT-Timing-Test/plots/color_wheel.png\",\"x\":1.09,\"xanchor\":\"right\",\"xref\":\"paper\",\"y\":0.01,\"yanchor\":\"bottom\",\"yref\":\"paper\"}]},                        {\"responsive\": true}                    ).then(function(){\n",
       "                            \n",
       "var gd = document.getElementById('91ce42d9-9d3a-47fa-9ae1-5d6225d9e482');\n",
       "var x = new MutationObserver(function (mutations, observer) {{\n",
       "        var display = window.getComputedStyle(gd).display;\n",
       "        if (!display || display === 'none') {{\n",
       "            console.log([gd, 'removed!']);\n",
       "            Plotly.purge(gd);\n",
       "            observer.disconnect();\n",
       "        }}\n",
       "}});\n",
       "\n",
       "// Listen for the removal of the full notebook cells\n",
       "var notebookContainer = gd.closest('#notebook-container');\n",
       "if (notebookContainer) {{\n",
       "    x.observe(notebookContainer, {childList: true});\n",
       "}}\n",
       "\n",
       "// Listen for the clearing of the current output cell\n",
       "var outputEl = gd.closest('.output');\n",
       "if (outputEl) {{\n",
       "    x.observe(outputEl, {childList: true});\n",
       "}}\n",
       "\n",
       "                        })                };                });            </script>        </div>"
      ]
     },
     "metadata": {},
     "output_type": "display_data"
    }
   ],
   "source": [
    "import plotly.graph_objects as go\n",
    "import pandas as pd\n",
    "import numpy as np\n",
    "\n",
    "rs = np.random.RandomState()\n",
    "rs.seed(0)\n",
    "\n",
    "def brownian_motion(T = 1, N = 100, mu = 0.1, sigma = 0.01, S0 = 20):\n",
    "    dt = float(T)/N\n",
    "    t = np.linspace(0, T, N)\n",
    "    W = rs.standard_normal(size = N)\n",
    "    W = np.cumsum(W)*np.sqrt(dt) # standard brownian motion\n",
    "    X = (mu-0.5*sigma**2)*t + sigma*W\n",
    "    S = S0*np.exp(X) # geometric brownian motion\n",
    "    return S\n",
    "\n",
    "dates = pd.date_range('2012-01-01', '2013-02-22')\n",
    "T = (dates.max()-dates.min()).days / 365\n",
    "N = dates.size\n",
    "start_price = 100\n",
    "y = brownian_motion(T, N, sigma=0.1, S0=start_price)\n",
    "z = brownian_motion(T, N, sigma=0.1, S0=start_price)\n",
    "\n",
    "fig = go.Figure(data=go.Scatter3d(\n",
    "    x=dates, y=y, z=z,\n",
    "    mode='lines',\n",
    "    # marker=dict(\n",
    "    #     size=0,\n",
    "    #     color=z,\n",
    "    #     colorscale='Viridis',\n",
    "    # ),\n",
    "    line=dict(\n",
    "        color=f'{colors.rgb2hex(mapper.to_rgba(90.0))}',\n",
    "        width=2\n",
    "    )\n",
    "))\n",
    "\n",
    "fig.update_layout(\n",
    "    width=1000,\n",
    "    height=700,\n",
    "    autosize=False,\n",
    "    title=\"PCA of NDT Rates\",\n",
    "    scene=dict(\n",
    "        xaxis_showspikes=False,\n",
    "        yaxis_showspikes=False,\n",
    "        zaxis_showspikes=False,\n",
    "        camera=dict(\n",
    "            up=dict(\n",
    "                x=0,\n",
    "                y=0,\n",
    "                z=1\n",
    "            ),\n",
    "            eye=dict(\n",
    "                x=1.23,\n",
    "                y=1.23,\n",
    "                z=1.23,\n",
    "            ),\n",
    "            center=dict(\n",
    "                x=0.0,\n",
    "                y=0.0,\n",
    "                z=0.0,\n",
    "            ),\n",
    "        ),\n",
    "        aspectratio = dict( x=1, y=1, z=1 ),\n",
    "        aspectmode = 'manual'\n",
    "    ),\n",
    ")\n",
    "fig.update_layout(margin=dict(r=90, l=0, b=10, t=60))\n",
    "fig.add_layout_image(\n",
    "    dict(\n",
    "        source=\"https://domenick-m.github.io/NDT-Timing-Test/plots/color_wheel.png\",\n",
    "        xref=\"paper\", yref=\"paper\",\n",
    "        x=1.09, y=0.01,\n",
    "        sizex=0.35, sizey=0.35,\n",
    "        xanchor=\"right\", yanchor=\"bottom\"\n",
    "    )\n",
    ")\n",
    "fig.show()"
   ]
  },
  {
   "cell_type": "code",
   "execution_count": 83,
   "metadata": {},
   "outputs": [
    {
     "name": "stdout",
     "output_type": "stream",
     "text": [
      "╔═══════════════════════════╗\n",
      "║ NDT Rates Decoding:       ║\n",
      "║   0.035 R²                ║\n",
      "╚═══════════════════════════╝\n"
     ]
    }
   ],
   "source": [
    "print(f'╔═══════════════════════════╗\\n║ NDT Rates Decoding:       ║\\n║   {0.034565:.3f} R\\u00b2                ║\\n╚═══════════════════════════╝')\n"
   ]
  },
  {
   "cell_type": "code",
   "execution_count": 25,
   "metadata": {},
   "outputs": [
    {
     "data": {
      "image/png": "[encoded data removed]",
      "text/plain": [
       "<Figure size 1080x1080 with 1 Axes>"
      ]
     },
     "metadata": {
      "needs_background": "light"
     },
     "output_type": "display_data"
    }
   ],
   "source": [
    "from turtle import color\n",
    "from matplotlib import cm, colors\n",
    "\n",
    "\n",
    "max_angle = -1000\n",
    "min_angle = 1000\n",
    "for tid, trial in trial_data.groupby('trial_id'):\n",
    "    angle = dataset.trial_info[dataset.trial_info.trial_id == tid].reach_angle\n",
    "    if angle.item() < min_angle:\n",
    "        min_angle = angle.item()\n",
    "    if angle.item() > max_angle:\n",
    "        max_angle = angle.item()\n",
    "\n",
    "norm = colors.Normalize(vmin=min_angle, vmax=max_angle, clip=True)\n",
    "mapper = cm.ScalarMappable(norm=norm, cmap='hsv')\n",
    "\n",
    "fig = plt.figure(figsize=(15,15))\n",
    "# ax = plt.axes(projection='3d')\n",
    "plt.xlim([-9000,9000])\n",
    "plt.ylim([-9000,9000])\n",
    "# plt.xlim([-500,500])\n",
    "# plt.ylim([-500,500])\n",
    "plt.legend()\n",
    "\n",
    "for tid, trial in trial_data.groupby('trial_id'):\n",
    "    angle = dataset.trial_info[dataset.trial_info.trial_id == tid].reach_angle\n",
    "    # plt.plot(trial.finger_vel.x, trial.finger_vel.y, color=mapper.to_rgba(angle), alpha=0.5)\n",
    "    # ax.plot3D(trial.pca.z, trial.pca.y, trial.pca.x, color=mapper.to_rgba(angle), alpha=0.5)\n",
    "    plt.plot(np.cumsum(trial.finger_vel.x), np.cumsum(trial.finger_vel.y), color=mapper.to_rgba(angle))\n",
    "    # plt.plot(np.cumsum(trial.finger_vel.x[29:]), np.cumsum(trial.finger_vel.y[29:]), color=mapper.to_rgba(angle))\n",
    "        # plt.plot(trial.cursor_pos.x*50, trial.cursor_pos.y*50, color='blue')"
   ]
  },
  {
   "cell_type": "code",
   "execution_count": 162,
   "metadata": {},
   "outputs": [
    {
     "data": {
      "text/plain": [
       "180.0"
      ]
     },
     "execution_count": 162,
     "metadata": {},
     "output_type": "execute_result"
    }
   ],
   "source": [
    "max_angle"
   ]
  },
  {
   "cell_type": "code",
   "execution_count": 163,
   "metadata": {},
   "outputs": [
    {
     "data": {
      "text/plain": [
       "-170.53767779197437"
      ]
     },
     "execution_count": 163,
     "metadata": {},
     "output_type": "execute_result"
    }
   ],
   "source": [
    "min_angle"
   ]
  },
  {
   "cell_type": "code",
   "execution_count": 24,
   "metadata": {},
   "outputs": [
    {
     "ename": "ValueError",
     "evalue": "x and y must have same first dimension, but have shapes (105,) and (75,)",
     "output_type": "error",
     "traceback": [
      "\u001b[0;31m---------------------------------------------------------------------------\u001b[0m",
      "\u001b[0;31mValueError\u001b[0m                                Traceback (most recent call last)",
      "\u001b[1;32m/home/dmifsud/Projects/NDT-U/mc_rtt_test.ipynb Cell 23\u001b[0m in \u001b[0;36m<cell line: 11>\u001b[0;34m()\u001b[0m\n\u001b[1;32m     <a href='vscode-notebook-cell://ssh-remote%2B7b22686f73744e616d65223a22436172742d475043227d/home/dmifsud/Projects/NDT-U/mc_rtt_test.ipynb#X25sdnNjb2RlLXJlbW90ZQ%3D%3D?line=9'>10</a>\u001b[0m \u001b[39m# Loop through trials and plot on appropriate subplots\u001b[39;00m\n\u001b[1;32m     <a href='vscode-notebook-cell://ssh-remote%2B7b22686f73744e616d65223a22436172742d475043227d/home/dmifsud/Projects/NDT-U/mc_rtt_test.ipynb#X25sdnNjb2RlLXJlbW90ZQ%3D%3D?line=10'>11</a>\u001b[0m \u001b[39mfor\u001b[39;00m tid, trial \u001b[39min\u001b[39;00m trial_data\u001b[39m.\u001b[39mgroupby(\u001b[39m'\u001b[39m\u001b[39mtrial_id\u001b[39m\u001b[39m'\u001b[39m):\n\u001b[0;32m---> <a href='vscode-notebook-cell://ssh-remote%2B7b22686f73744e616d65223a22436172742d475043227d/home/dmifsud/Projects/NDT-U/mc_rtt_test.ipynb#X25sdnNjb2RlLXJlbW90ZQ%3D%3D?line=11'>12</a>\u001b[0m     axs[\u001b[39m0\u001b[39;49m][\u001b[39m0\u001b[39;49m]\u001b[39m.\u001b[39;49mplot(np\u001b[39m.\u001b[39;49marange(\u001b[39m-\u001b[39;49m\u001b[39m300\u001b[39;49m, \u001b[39m750\u001b[39;49m, dataset\u001b[39m.\u001b[39;49mbin_width), trial\u001b[39m.\u001b[39;49mfinger_vel\u001b[39m.\u001b[39;49mx, color\u001b[39m=\u001b[39;49mget_color(tid, dataset\u001b[39m.\u001b[39;49mtrial_info\u001b[39m.\u001b[39;49mreach_dist_x))\n\u001b[1;32m     <a href='vscode-notebook-cell://ssh-remote%2B7b22686f73744e616d65223a22436172742d475043227d/home/dmifsud/Projects/NDT-U/mc_rtt_test.ipynb#X25sdnNjb2RlLXJlbW90ZQ%3D%3D?line=12'>13</a>\u001b[0m     axs[\u001b[39m0\u001b[39m][\u001b[39m1\u001b[39m]\u001b[39m.\u001b[39mplot(np\u001b[39m.\u001b[39marange(\u001b[39m-\u001b[39m\u001b[39m300\u001b[39m, \u001b[39m750\u001b[39m, dataset\u001b[39m.\u001b[39mbin_width), trial\u001b[39m.\u001b[39mfinger_vel\u001b[39m.\u001b[39my, color\u001b[39m=\u001b[39mget_color(tid, dataset\u001b[39m.\u001b[39mtrial_info\u001b[39m.\u001b[39mreach_dist_y))\n\u001b[1;32m     <a href='vscode-notebook-cell://ssh-remote%2B7b22686f73744e616d65223a22436172742d475043227d/home/dmifsud/Projects/NDT-U/mc_rtt_test.ipynb#X25sdnNjb2RlLXJlbW90ZQ%3D%3D?line=13'>14</a>\u001b[0m     axs[\u001b[39m1\u001b[39m][\u001b[39m0\u001b[39m]\u001b[39m.\u001b[39mplot(np\u001b[39m.\u001b[39marange(\u001b[39m-\u001b[39m\u001b[39m300\u001b[39m, \u001b[39m750\u001b[39m, dataset\u001b[39m.\u001b[39mbin_width), trial\u001b[39m.\u001b[39mpred_vel\u001b[39m.\u001b[39mx, color\u001b[39m=\u001b[39mget_color(tid, dataset\u001b[39m.\u001b[39mtrial_info\u001b[39m.\u001b[39mreach_dist_x))\n",
      "File \u001b[0;32m~/miniconda3/envs/ndtu/lib/python3.8/site-packages/matplotlib/axes/_axes.py:1635\u001b[0m, in \u001b[0;36mAxes.plot\u001b[0;34m(self, scalex, scaley, data, *args, **kwargs)\u001b[0m\n\u001b[1;32m   1393\u001b[0m \u001b[39m\"\"\"\u001b[39;00m\n\u001b[1;32m   1394\u001b[0m \u001b[39mPlot y versus x as lines and/or markers.\u001b[39;00m\n\u001b[1;32m   1395\u001b[0m \n\u001b[0;32m   (...)\u001b[0m\n\u001b[1;32m   1632\u001b[0m \u001b[39m(``'green'``) or hex strings (``'#008000'``).\u001b[39;00m\n\u001b[1;32m   1633\u001b[0m \u001b[39m\"\"\"\u001b[39;00m\n\u001b[1;32m   1634\u001b[0m kwargs \u001b[39m=\u001b[39m cbook\u001b[39m.\u001b[39mnormalize_kwargs(kwargs, mlines\u001b[39m.\u001b[39mLine2D)\n\u001b[0;32m-> 1635\u001b[0m lines \u001b[39m=\u001b[39m [\u001b[39m*\u001b[39m\u001b[39mself\u001b[39m\u001b[39m.\u001b[39m_get_lines(\u001b[39m*\u001b[39margs, data\u001b[39m=\u001b[39mdata, \u001b[39m*\u001b[39m\u001b[39m*\u001b[39mkwargs)]\n\u001b[1;32m   1636\u001b[0m \u001b[39mfor\u001b[39;00m line \u001b[39min\u001b[39;00m lines:\n\u001b[1;32m   1637\u001b[0m     \u001b[39mself\u001b[39m\u001b[39m.\u001b[39madd_line(line)\n",
      "File \u001b[0;32m~/miniconda3/envs/ndtu/lib/python3.8/site-packages/matplotlib/axes/_base.py:312\u001b[0m, in \u001b[0;36m_process_plot_var_args.__call__\u001b[0;34m(self, data, *args, **kwargs)\u001b[0m\n\u001b[1;32m    310\u001b[0m     this \u001b[39m+\u001b[39m\u001b[39m=\u001b[39m args[\u001b[39m0\u001b[39m],\n\u001b[1;32m    311\u001b[0m     args \u001b[39m=\u001b[39m args[\u001b[39m1\u001b[39m:]\n\u001b[0;32m--> 312\u001b[0m \u001b[39myield from\u001b[39;00m \u001b[39mself\u001b[39;49m\u001b[39m.\u001b[39;49m_plot_args(this, kwargs)\n",
      "File \u001b[0;32m~/miniconda3/envs/ndtu/lib/python3.8/site-packages/matplotlib/axes/_base.py:498\u001b[0m, in \u001b[0;36m_process_plot_var_args._plot_args\u001b[0;34m(self, tup, kwargs, return_kwargs)\u001b[0m\n\u001b[1;32m    495\u001b[0m     \u001b[39mself\u001b[39m\u001b[39m.\u001b[39maxes\u001b[39m.\u001b[39myaxis\u001b[39m.\u001b[39mupdate_units(y)\n\u001b[1;32m    497\u001b[0m \u001b[39mif\u001b[39;00m x\u001b[39m.\u001b[39mshape[\u001b[39m0\u001b[39m] \u001b[39m!=\u001b[39m y\u001b[39m.\u001b[39mshape[\u001b[39m0\u001b[39m]:\n\u001b[0;32m--> 498\u001b[0m     \u001b[39mraise\u001b[39;00m \u001b[39mValueError\u001b[39;00m(\u001b[39mf\u001b[39m\u001b[39m\"\u001b[39m\u001b[39mx and y must have same first dimension, but \u001b[39m\u001b[39m\"\u001b[39m\n\u001b[1;32m    499\u001b[0m                      \u001b[39mf\u001b[39m\u001b[39m\"\u001b[39m\u001b[39mhave shapes \u001b[39m\u001b[39m{\u001b[39;00mx\u001b[39m.\u001b[39mshape\u001b[39m}\u001b[39;00m\u001b[39m and \u001b[39m\u001b[39m{\u001b[39;00my\u001b[39m.\u001b[39mshape\u001b[39m}\u001b[39;00m\u001b[39m\"\u001b[39m)\n\u001b[1;32m    500\u001b[0m \u001b[39mif\u001b[39;00m x\u001b[39m.\u001b[39mndim \u001b[39m>\u001b[39m \u001b[39m2\u001b[39m \u001b[39mor\u001b[39;00m y\u001b[39m.\u001b[39mndim \u001b[39m>\u001b[39m \u001b[39m2\u001b[39m:\n\u001b[1;32m    501\u001b[0m     \u001b[39mraise\u001b[39;00m \u001b[39mValueError\u001b[39;00m(\u001b[39mf\u001b[39m\u001b[39m\"\u001b[39m\u001b[39mx and y can be no greater than 2D, but have \u001b[39m\u001b[39m\"\u001b[39m\n\u001b[1;32m    502\u001b[0m                      \u001b[39mf\u001b[39m\u001b[39m\"\u001b[39m\u001b[39mshapes \u001b[39m\u001b[39m{\u001b[39;00mx\u001b[39m.\u001b[39mshape\u001b[39m}\u001b[39;00m\u001b[39m and \u001b[39m\u001b[39m{\u001b[39;00my\u001b[39m.\u001b[39mshape\u001b[39m}\u001b[39;00m\u001b[39m\"\u001b[39m)\n",
      "\u001b[0;31mValueError\u001b[0m: x and y must have same first dimension, but have shapes (105,) and (75,)"
     ]
    },
    {
     "data": {
      "image/png": "[encoded data removed]",
      "text/plain": [
       "<Figure size 432x288 with 4 Axes>"
      ]
     },
     "metadata": {
      "needs_background": "light"
     },
     "output_type": "display_data"
    }
   ],
   "source": [
    "## Plot predicted vs true kinematics\n",
    "\n",
    "# Coloring function\n",
    "get_color = lambda idx, series: plt.get_cmap('Greens')((series[idx] - series.min()) / (series.max() - series.min()))\n",
    "# Extract trial data aligned to movement onset\n",
    "trial_data = dataset.make_trial_data(align_field='speed_onset', align_range=(0, 750), allow_nans=True)\n",
    "\n",
    "# Initialize figure\n",
    "fig, axs = plt.subplots(2, 2, sharex=True, sharey=True)\n",
    "# Loop through trials and plot on appropriate subplots\n",
    "for tid, trial in trial_data.groupby('trial_id'):\n",
    "    axs[0][0].plot(np.arange(-300, 750, dataset.bin_width), trial.finger_vel.x, color=get_color(tid, dataset.trial_info.reach_dist_x))\n",
    "    axs[0][1].plot(np.arange(-300, 750, dataset.bin_width), trial.finger_vel.y, color=get_color(tid, dataset.trial_info.reach_dist_y))\n",
    "    axs[1][0].plot(np.arange(-300, 750, dataset.bin_width), trial.pred_vel.x, color=get_color(tid, dataset.trial_info.reach_dist_x))\n",
    "    axs[1][1].plot(np.arange(-300, 750, dataset.bin_width), trial.pred_vel.y, color=get_color(tid, dataset.trial_info.reach_dist_y))\n",
    "\n",
    "# Add labels\n",
    "axs[0][0].set_title('X velocity')\n",
    "axs[0][1].set_title('Y velocity')\n",
    "axs[0][0].set_ylabel('True velocity')\n",
    "axs[1][0].set_ylabel('Predicted velocity')\n",
    "axs[1][0].set_xlabel('Time after move onset (ms)')\n",
    "axs[1][1].set_xlabel('Time after move onset (ms)')\n",
    "axs[0][0].set_xlim(-300, 750)\n",
    "plt.show()"
   ]
  },
  {
   "cell_type": "code",
   "execution_count": 56,
   "metadata": {},
   "outputs": [
    {
     "data": {
      "text/plain": [
       "0         11\n",
       "1         11\n",
       "2         11\n",
       "3         11\n",
       "4         11\n",
       "        ... \n",
       "12445    536\n",
       "12446    536\n",
       "12447    536\n",
       "12448    536\n",
       "12449    536\n",
       "Name: trial_id, Length: 12450, dtype: int64"
      ]
     },
     "execution_count": 56,
     "metadata": {},
     "output_type": "execute_result"
    }
   ],
   "source": [
    "trial_data.trial_id"
   ]
  },
  {
   "cell_type": "code",
   "execution_count": 59,
   "metadata": {},
   "outputs": [
    {
     "data": {
      "text/html": [
       "<div>\n",
       "<style scoped>\n",
       "    .dataframe tbody tr th:only-of-type {\n",
       "        vertical-align: middle;\n",
       "    }\n",
       "\n",
       "    .dataframe tbody tr th {\n",
       "        vertical-align: top;\n",
       "    }\n",
       "\n",
       "    .dataframe thead tr th {\n",
       "        text-align: left;\n",
       "    }\n",
       "</style>\n",
       "<table border=\"1\" class=\"dataframe\">\n",
       "  <thead>\n",
       "    <tr>\n",
       "      <th></th>\n",
       "      <th>align_time</th>\n",
       "      <th>clock_time</th>\n",
       "      <th colspan=\"2\" halign=\"left\">cursor_pos</th>\n",
       "      <th colspan=\"3\" halign=\"left\">finger_pos</th>\n",
       "      <th colspan=\"2\" halign=\"left\">finger_vel</th>\n",
       "      <th>margin</th>\n",
       "      <th>...</th>\n",
       "      <th colspan=\"6\" halign=\"left\">spikes_smth_50</th>\n",
       "      <th colspan=\"2\" halign=\"left\">target_pos</th>\n",
       "      <th>trial_id</th>\n",
       "      <th>trial_time</th>\n",
       "    </tr>\n",
       "    <tr>\n",
       "      <th></th>\n",
       "      <th></th>\n",
       "      <th></th>\n",
       "      <th>x</th>\n",
       "      <th>y</th>\n",
       "      <th>x</th>\n",
       "      <th>y</th>\n",
       "      <th>z</th>\n",
       "      <th>x</th>\n",
       "      <th>y</th>\n",
       "      <th></th>\n",
       "      <th>...</th>\n",
       "      <th>9301</th>\n",
       "      <th>9403</th>\n",
       "      <th>9501</th>\n",
       "      <th>9502</th>\n",
       "      <th>9601</th>\n",
       "      <th>9602</th>\n",
       "      <th>x</th>\n",
       "      <th>y</th>\n",
       "      <th></th>\n",
       "      <th></th>\n",
       "    </tr>\n",
       "  </thead>\n",
       "  <tbody>\n",
       "    <tr>\n",
       "      <th>12375</th>\n",
       "      <td>0 days 00:00:00</td>\n",
       "      <td>0 days 00:10:43.060000</td>\n",
       "      <td>-55.344416</td>\n",
       "      <td>81.728261</td>\n",
       "      <td>-55.301970</td>\n",
       "      <td>81.680040</td>\n",
       "      <td>86.972519</td>\n",
       "      <td>5.981005</td>\n",
       "      <td>-5.672373</td>\n",
       "      <td>False</td>\n",
       "      <td>...</td>\n",
       "      <td>0.062617</td>\n",
       "      <td>0.147081</td>\n",
       "      <td>0.070601</td>\n",
       "      <td>0.0</td>\n",
       "      <td>0.0</td>\n",
       "      <td>0.0</td>\n",
       "      <td>-22.5</td>\n",
       "      <td>67.5</td>\n",
       "      <td>536</td>\n",
       "      <td>0 days 00:00:00.190000</td>\n",
       "    </tr>\n",
       "    <tr>\n",
       "      <th>12376</th>\n",
       "      <td>0 days 00:00:00.010000</td>\n",
       "      <td>0 days 00:10:43.070000</td>\n",
       "      <td>-55.333628</td>\n",
       "      <td>81.703673</td>\n",
       "      <td>-55.211606</td>\n",
       "      <td>81.604772</td>\n",
       "      <td>86.990537</td>\n",
       "      <td>12.596731</td>\n",
       "      <td>-9.587281</td>\n",
       "      <td>False</td>\n",
       "      <td>...</td>\n",
       "      <td>0.070601</td>\n",
       "      <td>0.147081</td>\n",
       "      <td>0.077674</td>\n",
       "      <td>0.0</td>\n",
       "      <td>0.0</td>\n",
       "      <td>0.0</td>\n",
       "      <td>-22.5</td>\n",
       "      <td>67.5</td>\n",
       "      <td>536</td>\n",
       "      <td>0 days 00:00:00.200000</td>\n",
       "    </tr>\n",
       "    <tr>\n",
       "      <th>12377</th>\n",
       "      <td>0 days 00:00:00.020000</td>\n",
       "      <td>0 days 00:10:43.080000</td>\n",
       "      <td>-55.289381</td>\n",
       "      <td>81.654439</td>\n",
       "      <td>-55.039714</td>\n",
       "      <td>81.484685</td>\n",
       "      <td>87.017119</td>\n",
       "      <td>22.327656</td>\n",
       "      <td>-14.588212</td>\n",
       "      <td>False</td>\n",
       "      <td>...</td>\n",
       "      <td>0.076481</td>\n",
       "      <td>0.142219</td>\n",
       "      <td>0.081692</td>\n",
       "      <td>0.0</td>\n",
       "      <td>0.0</td>\n",
       "      <td>0.0</td>\n",
       "      <td>-22.5</td>\n",
       "      <td>67.5</td>\n",
       "      <td>536</td>\n",
       "      <td>0 days 00:00:00.210000</td>\n",
       "    </tr>\n",
       "    <tr>\n",
       "      <th>12378</th>\n",
       "      <td>0 days 00:00:00.030000</td>\n",
       "      <td>0 days 00:10:43.090000</td>\n",
       "      <td>-55.182463</td>\n",
       "      <td>81.566332</td>\n",
       "      <td>-54.754515</td>\n",
       "      <td>81.310601</td>\n",
       "      <td>87.052460</td>\n",
       "      <td>35.238318</td>\n",
       "      <td>-20.316396</td>\n",
       "      <td>False</td>\n",
       "      <td>...</td>\n",
       "      <td>0.079602</td>\n",
       "      <td>0.132961</td>\n",
       "      <td>0.083117</td>\n",
       "      <td>0.0</td>\n",
       "      <td>0.0</td>\n",
       "      <td>0.0</td>\n",
       "      <td>-22.5</td>\n",
       "      <td>67.5</td>\n",
       "      <td>536</td>\n",
       "      <td>0 days 00:00:00.220000</td>\n",
       "    </tr>\n",
       "    <tr>\n",
       "      <th>12379</th>\n",
       "      <td>0 days 00:00:00.040000</td>\n",
       "      <td>0 days 00:10:43.100000</td>\n",
       "      <td>-54.975719</td>\n",
       "      <td>81.425030</td>\n",
       "      <td>-54.325558</td>\n",
       "      <td>81.077429</td>\n",
       "      <td>87.095334</td>\n",
       "      <td>50.971612</td>\n",
       "      <td>-26.322757</td>\n",
       "      <td>False</td>\n",
       "      <td>...</td>\n",
       "      <td>0.079602</td>\n",
       "      <td>0.120167</td>\n",
       "      <td>0.082161</td>\n",
       "      <td>0.0</td>\n",
       "      <td>0.0</td>\n",
       "      <td>0.0</td>\n",
       "      <td>-22.5</td>\n",
       "      <td>67.5</td>\n",
       "      <td>536</td>\n",
       "      <td>0 days 00:00:00.230000</td>\n",
       "    </tr>\n",
       "    <tr>\n",
       "      <th>...</th>\n",
       "      <td>...</td>\n",
       "      <td>...</td>\n",
       "      <td>...</td>\n",
       "      <td>...</td>\n",
       "      <td>...</td>\n",
       "      <td>...</td>\n",
       "      <td>...</td>\n",
       "      <td>...</td>\n",
       "      <td>...</td>\n",
       "      <td>...</td>\n",
       "      <td>...</td>\n",
       "      <td>...</td>\n",
       "      <td>...</td>\n",
       "      <td>...</td>\n",
       "      <td>...</td>\n",
       "      <td>...</td>\n",
       "      <td>...</td>\n",
       "      <td>...</td>\n",
       "      <td>...</td>\n",
       "      <td>...</td>\n",
       "      <td>...</td>\n",
       "    </tr>\n",
       "    <tr>\n",
       "      <th>12445</th>\n",
       "      <td>0 days 00:00:00.700000</td>\n",
       "      <td>0 days 00:10:43.760000</td>\n",
       "      <td>-23.210367</td>\n",
       "      <td>66.853473</td>\n",
       "      <td>-23.213460</td>\n",
       "      <td>66.856753</td>\n",
       "      <td>88.072330</td>\n",
       "      <td>0.991060</td>\n",
       "      <td>-0.414092</td>\n",
       "      <td>False</td>\n",
       "      <td>...</td>\n",
       "      <td>0.000000</td>\n",
       "      <td>0.005680</td>\n",
       "      <td>0.006874</td>\n",
       "      <td>0.0</td>\n",
       "      <td>0.0</td>\n",
       "      <td>0.0</td>\n",
       "      <td>-7.5</td>\n",
       "      <td>7.5</td>\n",
       "      <td>536</td>\n",
       "      <td>0 days 00:00:00.890000</td>\n",
       "    </tr>\n",
       "    <tr>\n",
       "      <th>12446</th>\n",
       "      <td>0 days 00:00:00.710000</td>\n",
       "      <td>0 days 00:10:43.770000</td>\n",
       "      <td>-23.202352</td>\n",
       "      <td>66.850698</td>\n",
       "      <td>-23.204391</td>\n",
       "      <td>66.853060</td>\n",
       "      <td>88.072183</td>\n",
       "      <td>0.821751</td>\n",
       "      <td>-0.324442</td>\n",
       "      <td>False</td>\n",
       "      <td>...</td>\n",
       "      <td>0.000000</td>\n",
       "      <td>0.008820</td>\n",
       "      <td>0.005605</td>\n",
       "      <td>0.0</td>\n",
       "      <td>0.0</td>\n",
       "      <td>0.0</td>\n",
       "      <td>-7.5</td>\n",
       "      <td>7.5</td>\n",
       "      <td>536</td>\n",
       "      <td>0 days 00:00:00.900000</td>\n",
       "    </tr>\n",
       "    <tr>\n",
       "      <th>12447</th>\n",
       "      <td>0 days 00:00:00.720000</td>\n",
       "      <td>0 days 00:10:43.780000</td>\n",
       "      <td>-23.195106</td>\n",
       "      <td>66.848230</td>\n",
       "      <td>-23.196968</td>\n",
       "      <td>66.850238</td>\n",
       "      <td>88.072166</td>\n",
       "      <td>0.669731</td>\n",
       "      <td>-0.242874</td>\n",
       "      <td>False</td>\n",
       "      <td>...</td>\n",
       "      <td>0.000000</td>\n",
       "      <td>0.013158</td>\n",
       "      <td>0.005605</td>\n",
       "      <td>0.0</td>\n",
       "      <td>0.0</td>\n",
       "      <td>0.0</td>\n",
       "      <td>-7.5</td>\n",
       "      <td>7.5</td>\n",
       "      <td>536</td>\n",
       "      <td>0 days 00:00:00.910000</td>\n",
       "    </tr>\n",
       "    <tr>\n",
       "      <th>12448</th>\n",
       "      <td>0 days 00:00:00.730000</td>\n",
       "      <td>0 days 00:10:43.790000</td>\n",
       "      <td>-23.188764</td>\n",
       "      <td>66.846155</td>\n",
       "      <td>-23.190813</td>\n",
       "      <td>66.848120</td>\n",
       "      <td>88.072143</td>\n",
       "      <td>0.572072</td>\n",
       "      <td>-0.185672</td>\n",
       "      <td>False</td>\n",
       "      <td>...</td>\n",
       "      <td>0.000000</td>\n",
       "      <td>0.018860</td>\n",
       "      <td>0.006874</td>\n",
       "      <td>0.0</td>\n",
       "      <td>0.0</td>\n",
       "      <td>0.0</td>\n",
       "      <td>-7.5</td>\n",
       "      <td>7.5</td>\n",
       "      <td>536</td>\n",
       "      <td>0 days 00:00:00.920000</td>\n",
       "    </tr>\n",
       "    <tr>\n",
       "      <th>12449</th>\n",
       "      <td>0 days 00:00:00.740000</td>\n",
       "      <td>0 days 00:10:43.800000</td>\n",
       "      <td>-23.183508</td>\n",
       "      <td>66.844596</td>\n",
       "      <td>-23.185321</td>\n",
       "      <td>66.846428</td>\n",
       "      <td>88.072133</td>\n",
       "      <td>0.536022</td>\n",
       "      <td>-0.157495</td>\n",
       "      <td>False</td>\n",
       "      <td>...</td>\n",
       "      <td>0.000000</td>\n",
       "      <td>0.025972</td>\n",
       "      <td>0.010014</td>\n",
       "      <td>0.0</td>\n",
       "      <td>0.0</td>\n",
       "      <td>0.0</td>\n",
       "      <td>-7.5</td>\n",
       "      <td>7.5</td>\n",
       "      <td>536</td>\n",
       "      <td>0 days 00:00:00.930000</td>\n",
       "    </tr>\n",
       "  </tbody>\n",
       "</table>\n",
       "<p>75 rows × 277 columns</p>\n",
       "</div>"
      ],
      "text/plain": [
       "                  align_time             clock_time cursor_pos             \\\n",
       "                                                             x          y   \n",
       "12375        0 days 00:00:00 0 days 00:10:43.060000 -55.344416  81.728261   \n",
       "12376 0 days 00:00:00.010000 0 days 00:10:43.070000 -55.333628  81.703673   \n",
       "12377 0 days 00:00:00.020000 0 days 00:10:43.080000 -55.289381  81.654439   \n",
       "12378 0 days 00:00:00.030000 0 days 00:10:43.090000 -55.182463  81.566332   \n",
       "12379 0 days 00:00:00.040000 0 days 00:10:43.100000 -54.975719  81.425030   \n",
       "...                      ...                    ...        ...        ...   \n",
       "12445 0 days 00:00:00.700000 0 days 00:10:43.760000 -23.210367  66.853473   \n",
       "12446 0 days 00:00:00.710000 0 days 00:10:43.770000 -23.202352  66.850698   \n",
       "12447 0 days 00:00:00.720000 0 days 00:10:43.780000 -23.195106  66.848230   \n",
       "12448 0 days 00:00:00.730000 0 days 00:10:43.790000 -23.188764  66.846155   \n",
       "12449 0 days 00:00:00.740000 0 days 00:10:43.800000 -23.183508  66.844596   \n",
       "\n",
       "      finger_pos                       finger_vel            margin  ...  \\\n",
       "               x          y          z          x          y         ...   \n",
       "12375 -55.301970  81.680040  86.972519   5.981005  -5.672373  False  ...   \n",
       "12376 -55.211606  81.604772  86.990537  12.596731  -9.587281  False  ...   \n",
       "12377 -55.039714  81.484685  87.017119  22.327656 -14.588212  False  ...   \n",
       "12378 -54.754515  81.310601  87.052460  35.238318 -20.316396  False  ...   \n",
       "12379 -54.325558  81.077429  87.095334  50.971612 -26.322757  False  ...   \n",
       "...          ...        ...        ...        ...        ...    ...  ...   \n",
       "12445 -23.213460  66.856753  88.072330   0.991060  -0.414092  False  ...   \n",
       "12446 -23.204391  66.853060  88.072183   0.821751  -0.324442  False  ...   \n",
       "12447 -23.196968  66.850238  88.072166   0.669731  -0.242874  False  ...   \n",
       "12448 -23.190813  66.848120  88.072143   0.572072  -0.185672  False  ...   \n",
       "12449 -23.185321  66.846428  88.072133   0.536022  -0.157495  False  ...   \n",
       "\n",
       "      spikes_smth_50                                    target_pos        \\\n",
       "                9301      9403      9501 9502 9601 9602          x     y   \n",
       "12375       0.062617  0.147081  0.070601  0.0  0.0  0.0      -22.5  67.5   \n",
       "12376       0.070601  0.147081  0.077674  0.0  0.0  0.0      -22.5  67.5   \n",
       "12377       0.076481  0.142219  0.081692  0.0  0.0  0.0      -22.5  67.5   \n",
       "12378       0.079602  0.132961  0.083117  0.0  0.0  0.0      -22.5  67.5   \n",
       "12379       0.079602  0.120167  0.082161  0.0  0.0  0.0      -22.5  67.5   \n",
       "...              ...       ...       ...  ...  ...  ...        ...   ...   \n",
       "12445       0.000000  0.005680  0.006874  0.0  0.0  0.0       -7.5   7.5   \n",
       "12446       0.000000  0.008820  0.005605  0.0  0.0  0.0       -7.5   7.5   \n",
       "12447       0.000000  0.013158  0.005605  0.0  0.0  0.0       -7.5   7.5   \n",
       "12448       0.000000  0.018860  0.006874  0.0  0.0  0.0       -7.5   7.5   \n",
       "12449       0.000000  0.025972  0.010014  0.0  0.0  0.0       -7.5   7.5   \n",
       "\n",
       "      trial_id             trial_time  \n",
       "                                       \n",
       "12375      536 0 days 00:00:00.190000  \n",
       "12376      536 0 days 00:00:00.200000  \n",
       "12377      536 0 days 00:00:00.210000  \n",
       "12378      536 0 days 00:00:00.220000  \n",
       "12379      536 0 days 00:00:00.230000  \n",
       "...        ...                    ...  \n",
       "12445      536 0 days 00:00:00.890000  \n",
       "12446      536 0 days 00:00:00.900000  \n",
       "12447      536 0 days 00:00:00.910000  \n",
       "12448      536 0 days 00:00:00.920000  \n",
       "12449      536 0 days 00:00:00.930000  \n",
       "\n",
       "[75 rows x 277 columns]"
      ]
     },
     "execution_count": 59,
     "metadata": {},
     "output_type": "execute_result"
    }
   ],
   "source": [
    "trial_data[trial_data.trial_id == 536]"
   ]
  }
 ],
 "metadata": {
  "kernelspec": {
   "display_name": "Python 3.8.5 ('ndtu': conda)",
   "language": "python",
   "name": "python3"
  },
  "language_info": {
   "codemirror_mode": {
    "name": "ipython",
    "version": 3
   },
   "file_extension": ".py",
   "mimetype": "text/x-python",
   "name": "python",
   "nbconvert_exporter": "python",
   "pygments_lexer": "ipython3",
   "version": "3.8.5"
  },
  "orig_nbformat": 4,
  "vscode": {
   "interpreter": {
    "hash": "59cd4eb5f467b822ded03db0cb076f5e7005d54ea28457b2083fbdb9b80fb7dc"
   }
  }
 },
 "nbformat": 4,
 "nbformat_minor": 2
}
