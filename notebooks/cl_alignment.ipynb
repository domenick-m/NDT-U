{
 "cells": [
  {
   "cell_type": "code",
   "execution_count": 1,
   "metadata": {},
   "outputs": [
    {
     "name": "stderr",
     "output_type": "stream",
     "text": [
      "/home/dmifsud/miniconda3/envs/rt-ndt/lib/python3.9/site-packages/tqdm/auto.py:22: TqdmWarning: IProgress not found. Please update jupyter and ipywidgets. See https://ipywidgets.readthedocs.io/en/stable/user_install.html\n",
      "  from .autonotebook import tqdm as notebook_tqdm\n"
     ]
    }
   ],
   "source": [
    "%load_ext autoreload\n",
    "%autoreload 2"
   ]
  },
  {
   "cell_type": "code",
   "execution_count": null,
   "metadata": {},
   "outputs": [],
   "source": [
    "import sys\n",
    "sys.path.append('../')\n",
    "from utils.multisession_utils import align_sessions\n",
    "from utils.config_utils import get_config\n",
    "from utils.plot.pcs import plot_pcs\n",
    "import numpy as np\n",
    "import wandb\n",
    "import matplotlib.pyplot as plt\n",
    "from matplotlib import cm, colors\n",
    "\n",
    "from utils.toolkit_utils import load_toolkit_datasets, get_trialized_data"
   ]
  },
  {
   "cell_type": "code",
   "execution_count": 2,
   "metadata": {},
   "outputs": [],
   "source": [
    "config = get_config()\n"
   ]
  },
  {
   "cell_type": "code",
   "execution_count": 3,
   "metadata": {},
   "outputs": [],
   "source": [
    "datasets = load_toolkit_datasets(config)"
   ]
  },
  {
   "cell_type": "code",
   "execution_count": 4,
   "metadata": {},
   "outputs": [],
   "source": [
    "# config.defrost()\n",
    "# config.data.cl_align_field = 'start_time'\n",
    "# config.data.cl_align_range = [-80,0]\n",
    "# config.freeze()"
   ]
  },
  {
   "cell_type": "code",
   "execution_count": 5,
   "metadata": {},
   "outputs": [],
   "source": [
    "# trialized_data = get_trialized_data(config, datasets)"
   ]
  },
  {
   "cell_type": "code",
   "execution_count": 6,
   "metadata": {},
   "outputs": [],
   "source": [
    "# COND_IDS = {\n",
    "#     (-1.0, -1.0): -1,\n",
    "#     (0.00, 0.00): 0,\n",
    "#     (0.00, 0.50): 1,\n",
    "#     (0.35, 0.35): 2,\n",
    "#     (0.50, 0.00): 3,\n",
    "#     (0.35, -0.35): 4,\n",
    "#     (0.00, -0.50): 5,\n",
    "#     (-0.35, -0.35): 6,\n",
    "#     (-0.50, 0.00): 7,\n",
    "#     (-0.35, 0.35): 8\n",
    "# }\n",
    "\n",
    "# fig = plt.figure()\n",
    "# ax = fig.add_subplot(111)\n",
    "\n",
    "# for k, v in COND_IDS.items():\n",
    "#     if v > 0:\n",
    "#         plt.plot([0.0, k[0]], [0.0, k[1]], color=f'{colors.rgb2hex(cm.tab10(v))}')\n",
    "\n",
    "# ax.set_aspect(\"equal\")\n",
    "# plt.tight_layout()\n",
    "# plt.savefig(f'images/condition_colors', facecolor='white', transparent=False)\n",
    "# plt.show()"
   ]
  },
  {
   "cell_type": "code",
   "execution_count": 7,
   "metadata": {},
   "outputs": [],
   "source": [
    "# n_plots = len(config.data.sessions)\n",
    "# n_cols = 3\n",
    "# n_rows = (n_plots // n_cols) + (1 if n_plots % n_cols != 0 else 0)\n",
    "\n",
    "# fig, axs = plt.subplots(n_rows, n_cols, figsize=(16, 12), sharex='col', sharey='row')\n",
    "\n",
    "# # for idx, session in enumerate(config.data.sessions):\n",
    "# #     for cond_id, trials in trialized_data[session]['cl_trial_data'].groupby(('cond_id', 'n')):\n",
    "# #         if cond_id > 0:\n",
    "# #             for trial_id, trial in trials.groupby('trial_id'):\n",
    "# #                 # speed = np.linalg.norm(trial.cursor_pos, axis=1)\n",
    "# #                 speed = np.linalg.norm(trial.cursor_vel, axis=1)\n",
    "# #                 axs.flat[idx].plot(range(0, len(speed)*20, 20), speed, color=f'{colors.rgb2hex(cm.tab10(cond_id))}') #row=0, col=0\n",
    "# #                 axs.flat[idx].set_title(session)\n",
    "# for idx, session in enumerate(config.data.sessions):\n",
    "#     for cond_id in range(1, 9):\n",
    "#         for trial_id, trial in trialized_data[session]['cl_trial_data'].groupby('trial_id'):\n",
    "#             if trial.cond_id.n.to_numpy()[-1] == cond_id:\n",
    "#                 speed = np.linalg.norm(trial.cursor_pos, axis=1)\n",
    "#                 # speed = np.linalg.norm(trial.cursor_vel, axis=1)\n",
    "#                 axs.flat[idx].plot(range(config.data.cl_align_range[0], config.data.cl_align_range[0]+len(speed)*20, 20), speed, color=f'{colors.rgb2hex(cm.tab10(cond_id))}') #row=0, col=0\n",
    "#                 # axs.flat[idx].plot(range(0, len(speed)*20, 20), speed, color=f'{colors.rgb2hex(cm.tab10(cond_id))}') #row=0, col=0\n",
    "#                 # axs.flat[idx].plot(range(config.data.cl_align_range[0], config.data.cl_align_range[1], 20), speed, color=f'{colors.rgb2hex(cm.tab10(cond_id))}') #row=0, col=0\n",
    "#                 axs.flat[idx].set_title(session)\n",
    "\n",
    "# for ax in axs.flat: ax.set(xlabel='Time (ms)', ylabel='Speed')\n",
    "# for ax in axs.flat: ax.label_outer()\n",
    "\n",
    "# plt.suptitle('All Session Speed Profiles')\n",
    "# plt.tight_layout()\n",
    "# plt.savefig(f'images/all_session_speed_filtered', facecolor='white', transparent=False)\n",
    "# plt.show()"
   ]
  },
  {
   "cell_type": "code",
   "execution_count": 9,
   "metadata": {},
   "outputs": [],
   "source": [
    "# n_plots = len(config.data.sessions)\n",
    "# n_cols = 3\n",
    "# n_rows = (n_plots // n_cols) + (1 if n_plots % n_cols != 0 else 0)\n",
    "\n",
    "# fig, axs = plt.subplots(n_rows, n_cols, figsize=(10, 12), sharex='col', sharey='row')\n",
    "\n",
    "# for idx, session in enumerate(config.data.sessions):\n",
    "#     for cond_id in range(1, 9):\n",
    "#         for trial_id, trial in trialized_data[session]['cl_trial_data'].groupby('trial_id'):\n",
    "#             if datasets[session].trial_info.loc[trial_id].cond_id == cond_id:\n",
    "#             # if trial.cond_id.n.to_numpy()[-1] == cond_id:\n",
    "#                 axs.flat[idx].plot(trial.cursor_pos.to_numpy()[:, 0], trial.cursor_pos.to_numpy()[:, 1], color=f'{colors.rgb2hex(cm.tab10(cond_id))}') #row=0, col=0\n",
    "#                 axs.flat[idx].set_title(session)\n",
    "#                 axs.flat[idx].set_aspect(\"equal\")\n",
    "# # for idx, session in enumerate(config.data.sessions):\n",
    "# #     for cond_id, trials in trialized_data[session]['cl_trial_data'].groupby(('cond_id', 'n')):\n",
    "# #         if cond_id > 0:\n",
    "# #             for trial_id, trial in trials.groupby('trial_id'):\n",
    "# #                 axs.flat[idx].plot(trial.cursor_pos.to_numpy()[:, 0], trial.cursor_pos.to_numpy()[:, 1], color=f'{colors.rgb2hex(cm.tab10(cond_id))}') #row=0, col=0\n",
    "# #                 axs.flat[idx].set_title(session)\n",
    "# #                 axs.flat[idx].set_aspect(\"equal\")\n",
    "\n",
    "# # for idx, session in enumerate(config.data.sessions):\n",
    "# #     for cond_id in range(1, 9):\n",
    "# #         for trial_id, trial in trialized_data[session]['cl_trial_data'].groupby('trial_id'):\n",
    "# #             if trial.cond_id.n.to_numpy()[-1] == cond_id:\n",
    "# #                 speed = np.linalg.norm(trial.cursor_pos, axis=1)\n",
    "# #                 # speed = np.linalg.norm(trial.cursor_vel, axis=1)\n",
    "# #                 axs.flat[idx].plot(range(config.data.cl_align_range[0], config.data.cl_align_range[0]+len(speed)*20, 20), speed, color=f'{colors.rgb2hex(cm.tab10(cond_id))}') #row=0, col=0\n",
    "# #                 # axs.flat[idx].plot(range(0, len(speed)*20, 20), speed, color=f'{colors.rgb2hex(cm.tab10(cond_id))}') #row=0, col=0\n",
    "# #                 # axs.flat[idx].plot(range(config.data.cl_align_range[0], config.data.cl_align_range[1], 20), speed, color=f'{colors.rgb2hex(cm.tab10(cond_id))}') #row=0, col=0\n",
    "# #                 axs.flat[idx].set_title(session)\n",
    "\n",
    "# plt.suptitle('All Session Cursor Paths')\n",
    "# plt.tight_layout()\n",
    "# plt.savefig(f'images/all_session_pos_filtered', facecolor='white', transparent=False)\n",
    "# plt.show()"
   ]
  },
  {
   "cell_type": "code",
   "execution_count": 10,
   "metadata": {},
   "outputs": [],
   "source": [
    "# session_accuracy = [\n",
    "#     94.65277777777777,\n",
    "#     100.0,\n",
    "#     100.0,\n",
    "#     96.20253164556962,\n",
    "#     98.13728598604945,\n",
    "#     100.0,\n",
    "#     85.77648766328011,\n",
    "#     92.18092566619916,\n",
    "#     87.49726775956285,\n",
    "#     56.478405315614616,\n",
    "#     100.0,\n",
    "#     25.470925470925472,\n",
    "#     41.3992297817715,\n",
    "#     31.853281853281853,\n",
    "#     31.944444444444443\n",
    "# ]\n",
    "\n",
    "# plt.plot(session_accuracy)\n",
    "# plt.title('Session Accuracy Over Time')\n",
    "# plt.xlabel('Time (Sessions)')\n",
    "# plt.ylabel('Accuracy (%)')\n",
    "\n",
    "# plt.tight_layout()\n",
    "# plt.savefig(f'images/all_session_accuracy', facecolor='white', transparent=False)\n",
    "# plt.show()"
   ]
  },
  {
   "cell_type": "code",
   "execution_count": 100,
   "metadata": {},
   "outputs": [
    {
     "name": "stdout",
     "output_type": "stream",
     "text": [
      "\n",
      "Creating Alignment Matricies...\n",
      "\n"
     ]
    },
    {
     "name": "stderr",
     "output_type": "stream",
     "text": [
      "NaNs found in `self.data`. Dropping 0.23% of points to remove NaNs from `trial_data`.\n",
      "NaNs found in `self.data`. Dropping 0.20% of points to remove NaNs from `trial_data`.\n",
      "NaNs found in `self.data`. Dropping 0.21% of points to remove NaNs from `trial_data`.\n",
      "NaNs found in `self.data`. Dropping 0.21% of points to remove NaNs from `trial_data`.\n",
      "NaNs found in `self.data`. Dropping 0.11% of points to remove NaNs from `trial_data`.\n",
      "NaNs found in `self.data`. Dropping 0.16% of points to remove NaNs from `trial_data`.\n",
      "NaNs found in `self.data`. Dropping 0.33% of points to remove NaNs from `trial_data`.\n",
      "NaNs found in `self.data`. Dropping 0.28% of points to remove NaNs from `trial_data`.\n",
      "NaNs found in `self.data`. Dropping 0.28% of points to remove NaNs from `trial_data`.\n",
      "NaNs found in `self.data`. Dropping 0.24% of points to remove NaNs from `trial_data`.\n"
     ]
    }
   ],
   "source": [
    "config.defrost()\n",
    "config.data.cl_align_field = 'start_time'\n",
    "config.data.cl_align_range = [0, 600]\n",
    "config.freeze()\n",
    "\n",
    "so_alignment_matrices, so_alignment_biases = align_sessions(config)"
   ]
  },
  {
   "cell_type": "code",
   "execution_count": 114,
   "metadata": {},
   "outputs": [
    {
     "name": "stderr",
     "output_type": "stream",
     "text": [
      "NaNs found in `self.data`. Dropping 1.04% of points to remove NaNs from `trial_data`.\n",
      "NaNs found in `self.data`. Dropping 0.91% of points to remove NaNs from `trial_data`.\n",
      "NaNs found in `self.data`. Dropping 0.94% of points to remove NaNs from `trial_data`.\n",
      "NaNs found in `self.data`. Dropping 0.93% of points to remove NaNs from `trial_data`.\n",
      "NaNs found in `self.data`. Dropping 0.48% of points to remove NaNs from `trial_data`.\n",
      "NaNs found in `self.data`. Dropping 0.73% of points to remove NaNs from `trial_data`.\n",
      "NaNs found in `self.data`. Dropping 1.47% of points to remove NaNs from `trial_data`.\n",
      "NaNs found in `self.data`. Dropping 1.24% of points to remove NaNs from `trial_data`.\n",
      "NaNs found in `self.data`. Dropping 1.25% of points to remove NaNs from `trial_data`.\n",
      "NaNs found in `self.data`. Dropping 1.07% of points to remove NaNs from `trial_data`.\n"
     ]
    }
   ],
   "source": [
    "config.defrost()\n",
    "config.data.cl_align_field = 'start_time'\n",
    "config.data.cl_align_range = [-60, 20]\n",
    "config.freeze()\n",
    "\n",
    "trialized_data = get_trialized_data(config, datasets)"
   ]
  },
  {
   "cell_type": "code",
   "execution_count": 115,
   "metadata": {},
   "outputs": [],
   "source": [
    "cl_cond_avg = ([], []) \n",
    "cl_single_trial = ([], [])\n",
    "\n",
    "cl_trial_len = (config.data.cl_align_range[1] - config.data.cl_align_range[0]) / config.data.bin_size\n",
    "\n",
    "for idx, session in enumerate(config.data.sessions):\n",
    "    for cond_id in range(1,9):\n",
    "        low_d_trials = []\n",
    "        for trial_id, trial in trialized_data[session]['cl_trial_data'].groupby('trial_id'):\n",
    "            if datasets[session].trial_info.loc[trial_id].cond_id == cond_id:\n",
    "                heldin_spikes = trial.spikes_smth.to_numpy()[:, datasets[session].heldin_channels]\n",
    "                if heldin_spikes.shape[0] == cl_trial_len:\n",
    "                    low_d_trial = np.dot(heldin_spikes, so_alignment_matrices[idx].T)\n",
    "                    low_d_trial = low_d_trial + np.array(so_alignment_biases[idx])\n",
    "                    low_d_trials.append(low_d_trial)\n",
    "\n",
    "        cl_single_trial[0].append(np.concatenate(low_d_trials, 0))\n",
    "        cl_single_trial[1].append(cond_id)\n",
    "        \n",
    "        cl_cond_avg[0].append(np.array(low_d_trials).mean(0))\n",
    "        cl_cond_avg[1].append(cond_id)"
   ]
  },
  {
   "cell_type": "code",
   "execution_count": 116,
   "metadata": {},
   "outputs": [],
   "source": [
    "# wandb.init(project='Closed Loop T11 Radial-8 Alignment', name='All Filtered Causal Smth Neg Index')"
   ]
  },
  {
   "cell_type": "code",
   "execution_count": 117,
   "metadata": {},
   "outputs": [
    {
     "data": {
      "application/vnd.plotly.v1+json": {
       "config": {
        "plotlyServerURL": "https://plot.ly"
       },
       "data": [
        {
         "line": {
          "color": "#1f77b4"
         },
         "mode": "lines",
         "type": "scatter3d",
         "x": [
          3.169921875,
          2.6328125,
          1.6005859375,
          0.03167724609375,
          1.2109375,
          -0.54833984375,
          -1.9404296875,
          -0.71044921875,
          -4.4140625,
          -2.150390625,
          1.3896484375,
          2.10546875,
          1.0478515625,
          1.296875,
          2.048828125,
          3.275390625,
          -4.3984375,
          -1.5146484375,
          0.8291015625,
          4.4609375,
          -2.90234375,
          0.381103515625,
          0.47314453125,
          0.2236328125,
          3.29296875,
          5.8828125,
          5.3203125,
          3.05078125,
          -3.54296875,
          -2.86328125,
          -3.3515625,
          -0.91162109375
         ],
         "y": [
          3.4296875,
          3.623046875,
          3.275390625,
          2.083984375,
          3.36328125,
          2.10546875,
          1.8154296875,
          5.98828125,
          -20.21875,
          -15.609375,
          -13.671875,
          -12.2890625,
          -12.5703125,
          -12.203125,
          -12.765625,
          -12.9765625,
          0.172607421875,
          3.76171875,
          5.296875,
          9.6875,
          2.267578125,
          5.51953125,
          8.4296875,
          7.60546875,
          3.15234375,
          4.81640625,
          3.896484375,
          4.7421875,
          3.857421875,
          3.794921875,
          1.6591796875,
          3.078125
         ],
         "z": [
          6.96875,
          6.984375,
          6.51171875,
          5.70703125,
          8.546875,
          8.7421875,
          8.5703125,
          10.15625,
          -0.0211944580078125,
          1.9423828125,
          3.375,
          2.1015625,
          1.439453125,
          1.9658203125,
          3.06640625,
          5.01953125,
          3.89453125,
          5.9375,
          5.17578125,
          5.91015625,
          4.2421875,
          3.84765625,
          3.400390625,
          4.65234375,
          7.3046875,
          7.953125,
          6.16015625,
          6.87890625,
          5.65625,
          6.22265625,
          5.56640625,
          5.80078125
         ]
        },
        {
         "line": {
          "color": "#ff7f0e"
         },
         "mode": "lines",
         "type": "scatter3d",
         "x": [
          2.599609375,
          -0.7001953125,
          -0.71630859375,
          -2.666015625,
          -1.2119140625,
          0.716796875,
          0.017669677734375,
          1.50390625,
          1.16796875,
          1.47265625,
          1.7841796875,
          1.802734375,
          -3.322265625,
          -5.2421875,
          -3.595703125,
          -4.23828125,
          -1.919921875,
          1.197265625,
          -0.418701171875,
          -1.2392578125,
          4.453125,
          2.939453125,
          1.7763671875,
          0.732421875,
          -2.634765625,
          -3.62109375,
          -4.984375,
          -2.978515625,
          -0.363037109375,
          -0.83251953125,
          -0.11151123046875,
          0.10302734375
         ],
         "y": [
          -0.473388671875,
          -2.630859375,
          -3.427734375,
          -6.546875,
          -7.0234375,
          -4.59765625,
          -7.3046875,
          -8.3125,
          -11.25,
          -11.015625,
          -12.625,
          -11.796875,
          -11.0546875,
          -11.7890625,
          -8.4765625,
          -8.4140625,
          -1.0107421875,
          -1.0888671875,
          -0.261474609375,
          -1.4365234375,
          0.7265625,
          2.599609375,
          4.33984375,
          4.66015625,
          0.56640625,
          -1.0927734375,
          -2.0859375,
          -0.826171875,
          4.40234375,
          3.62109375,
          4.96484375,
          5.9453125
         ],
         "z": [
          1.779296875,
          0.8369140625,
          1.107421875,
          1.1318359375,
          2.55078125,
          3.32421875,
          4.15234375,
          3.640625,
          5.91796875,
          6.62890625,
          4.11328125,
          4.37890625,
          2.6328125,
          1.8203125,
          3.591796875,
          4.50390625,
          4.3828125,
          4.41015625,
          4.1796875,
          4.23046875,
          9.40625,
          8.9453125,
          7.54296875,
          5.05078125,
          3.96875,
          5.84375,
          7.1640625,
          7.6953125,
          6.47265625,
          5.62109375,
          3.96875,
          1.41015625
         ]
        },
        {
         "line": {
          "color": "#2ca02c"
         },
         "mode": "lines",
         "type": "scatter3d",
         "x": [
          -3.341796875,
          -2.53515625,
          -2.11328125,
          -0.41357421875,
          0.35791015625,
          0.98974609375,
          2.240234375,
          0.9853515625,
          -1.1953125,
          -1.7392578125,
          -1.611328125,
          -0.82470703125,
          -0.46630859375,
          -0.78564453125,
          0.065185546875,
          0.50732421875,
          3.76171875,
          4.1015625,
          2.9453125,
          1.412109375,
          3.69140625,
          3.216796875,
          2.736328125,
          0.021087646484375,
          -6.9765625,
          -7.99609375,
          -8.359375,
          -7.875
         ],
         "y": [
          -15.625,
          -13.4453125,
          -11.9765625,
          -11.09375,
          -9.640625,
          -11.1171875,
          -9.8984375,
          -11.6953125,
          -1.22265625,
          0.81298828125,
          1.9990234375,
          1.134765625,
          0.11444091796875,
          -0.78466796875,
          0.611328125,
          -0.207275390625,
          10.9765625,
          11.6328125,
          11.3828125,
          9.953125,
          5.08984375,
          5.53125,
          2.36328125,
          2.46484375,
          -11.0078125,
          -10.9140625,
          -12.0625,
          -12.6015625
         ],
         "z": [
          5.89453125,
          5.2265625,
          3.087890625,
          4.234375,
          1.4765625,
          1.474609375,
          3.533203125,
          3.8046875,
          4.1875,
          5.671875,
          7.1484375,
          7.84765625,
          3.603515625,
          3.0859375,
          3.2578125,
          3.88671875,
          4.171875,
          7.34765625,
          7.99609375,
          8.6796875,
          4.875,
          3.6640625,
          5.12890625,
          4.98046875,
          -1.908203125,
          -1.361328125,
          -0.20947265625,
          0.48779296875
         ]
        },
        {
         "line": {
          "color": "#d62728"
         },
         "mode": "lines",
         "type": "scatter3d",
         "x": [
          -5.5859375,
          -1.8486328125,
          -2.1796875,
          -1.0302734375,
          5.10546875,
          2.064453125,
          1.6533203125,
          0.475830078125,
          -3.58984375,
          -10.3359375,
          -11.8671875,
          -9.859375,
          -3.10546875,
          -2.275390625,
          -1.9287109375,
          -1.009765625,
          3.0234375,
          4.38671875,
          2.45703125,
          2.8515625,
          -3.08984375,
          -3.921875,
          -3.14453125,
          -3.1953125,
          3.048828125,
          6.06640625,
          5.43359375,
          3.19140625,
          5.12109375,
          6.3671875,
          4.265625,
          3.986328125,
          4.08203125,
          3.6171875,
          0.304931640625,
          -5.1640625,
          3.2734375,
          0.5634765625,
          0.57177734375,
          0.0958251953125
         ],
         "y": [
          -15.7734375,
          -17.40625,
          -17.40625,
          -18.59375,
          4.12890625,
          2.65625,
          2.31640625,
          2.419921875,
          -11.09375,
          -16.78125,
          -19.015625,
          -17.546875,
          -3.27734375,
          -3.396484375,
          -2.630859375,
          -0.3583984375,
          0.491943359375,
          2.15625,
          2.44921875,
          0.251953125,
          2.45703125,
          2.498046875,
          2.466796875,
          1.8271484375,
          7.25390625,
          7.3359375,
          6.76171875,
          7.3515625,
          8.0078125,
          7.7109375,
          5.99609375,
          6.59765625,
          5.95703125,
          4.15234375,
          3.09375,
          -0.7353515625,
          4.39453125,
          0.343017578125,
          0.08148193359375,
          0.44091796875
         ],
         "z": [
          0.57470703125,
          0.9208984375,
          0.345703125,
          1.947265625,
          3.39453125,
          3.099609375,
          4.10546875,
          4.5078125,
          4.1484375,
          2.24609375,
          2.3046875,
          3.650390625,
          1.318359375,
          0.908203125,
          0.2337646484375,
          0.791015625,
          3.1875,
          3.435546875,
          4.01171875,
          5.01171875,
          2.865234375,
          3.109375,
          2.763671875,
          1.64453125,
          4.078125,
          5.83203125,
          6.0703125,
          5.9609375,
          2.654296875,
          4.1953125,
          6.08984375,
          6.55078125,
          4.36328125,
          5.3671875,
          3.857421875,
          2.79296875,
          3.55859375,
          4.16796875,
          6.0625,
          7.5
         ]
        },
        {
         "line": {
          "color": "#9467bd"
         },
         "mode": "lines",
         "type": "scatter3d",
         "x": [
          2.908203125,
          1.484375,
          1.7998046875,
          -0.1988525390625,
          7.140625,
          7.9140625,
          6.7421875,
          4.62890625,
          1.052734375,
          1.99609375,
          0.98291015625,
          1.9345703125,
          -3.16015625,
          -1.484375,
          -3.904296875,
          -4.01171875,
          6.4921875,
          7.33984375,
          6.109375,
          6.09375,
          8.5703125,
          5.046875,
          4.55078125,
          4.39453125,
          -5.3203125,
          -7.7734375,
          -2.71484375,
          -3.09765625,
          -0.258056640625,
          0.732421875,
          0.85888671875,
          0.271240234375,
          -3.10546875,
          -1.1337890625,
          -0.74365234375,
          -2.384765625,
          -0.6171875,
          -1.4287109375,
          -3,
          -2.37109375
         ],
         "y": [
          0.09307861328125,
          -0.0213470458984375,
          1.9765625,
          1.3125,
          -0.9072265625,
          -0.87646484375,
          -0.378173828125,
          -3.61328125,
          1.421875,
          1.2509765625,
          0.0853271484375,
          1.8046875,
          -6.08984375,
          -5.828125,
          -5.0859375,
          -3.8125,
          -1.12890625,
          -1.4345703125,
          -2.35546875,
          -1.7119140625,
          7.83984375,
          4.9296875,
          4.76171875,
          3.4765625,
          -0.64404296875,
          -2.74609375,
          0.67724609375,
          2.615234375,
          -2.720703125,
          0.230712890625,
          0.91162109375,
          0.52392578125,
          -0.50341796875,
          2.97265625,
          4.40234375,
          6.484375,
          3.509765625,
          5.95703125,
          4.421875,
          4.62109375
         ],
         "z": [
          6.2109375,
          5.7578125,
          6.34765625,
          6.5703125,
          3.005859375,
          3.29296875,
          3.541015625,
          3.685546875,
          4.13671875,
          6.36328125,
          5.6171875,
          4.0625,
          -2.72265625,
          -1.150390625,
          -1.01171875,
          0.30419921875,
          1.4833984375,
          1.1240234375,
          0.90380859375,
          0.58935546875,
          8.7734375,
          7.4609375,
          8.296875,
          8.09375,
          5.94140625,
          4.78125,
          5.09375,
          4.40625,
          5.56640625,
          5.671875,
          5.05078125,
          4.3984375,
          4.38671875,
          4.79296875,
          6.1484375,
          5.640625,
          4.9765625,
          3.552734375,
          3.748046875,
          4.31640625
         ]
        },
        {
         "line": {
          "color": "#8c564b"
         },
         "mode": "lines",
         "type": "scatter3d",
         "x": [
          -4.453125,
          -3.556640625,
          -2.818359375,
          -0.96337890625,
          5.3359375,
          5.08984375,
          4.04296875,
          3.50390625,
          4.82421875,
          1.919921875,
          -0.349853515625,
          0.1744384765625,
          4.69921875,
          2.072265625,
          1.8896484375,
          4.32421875,
          4.12890625,
          6.07421875,
          5.3046875,
          6.91015625,
          4.73828125,
          5.640625,
          3.43359375,
          0.9287109375,
          -0.418701171875,
          0.426025390625,
          0.22900390625,
          -2.083984375,
          -4.703125,
          -3.16796875,
          -0.57861328125,
          -1.52734375,
          -2.599609375,
          -2.763671875,
          -3.130859375,
          -4.13671875
         ],
         "y": [
          1.6865234375,
          3.2890625,
          3.421875,
          2.73828125,
          7.94140625,
          7.70703125,
          6.18359375,
          5.1953125,
          -3.03515625,
          -6.11328125,
          -13.7109375,
          -11.640625,
          5.73046875,
          5.5703125,
          5.99609375,
          9.5859375,
          2.466796875,
          5.0625,
          5.10546875,
          9.0390625,
          6.33984375,
          6.64453125,
          3.205078125,
          1.685546875,
          6.78125,
          6.5625,
          8.875,
          7,
          -1.2265625,
          0.47412109375,
          1.091796875,
          -1.529296875,
          -0.393310546875,
          1.2177734375,
          0.8583984375,
          0.255126953125
         ],
         "z": [
          1.4052734375,
          3.900390625,
          5.32421875,
          6.78515625,
          3.671875,
          4.7421875,
          4.6484375,
          5.36328125,
          3.16796875,
          1.986328125,
          2.482421875,
          2.318359375,
          -1.7509765625,
          -0.75048828125,
          1.3056640625,
          3.6328125,
          3.642578125,
          5.51171875,
          6.4765625,
          5.2265625,
          4.37890625,
          5.984375,
          6.328125,
          4.98828125,
          4.5,
          4.57421875,
          4.58984375,
          4.78515625,
          6.1171875,
          8.0078125,
          9.921875,
          7.88671875,
          2.484375,
          2.97265625,
          3.19921875,
          3.578125
         ]
        },
        {
         "line": {
          "color": "#e377c2"
         },
         "mode": "lines",
         "type": "scatter3d",
         "x": [
          0.89013671875,
          2.236328125,
          1.5556640625,
          2.349609375,
          -5.65625,
          -5.02734375,
          -2.982421875,
          -1.6171875,
          0.67626953125,
          -0.68310546875,
          -0.10516357421875,
          1.2841796875,
          2.0078125,
          0.564453125,
          1.68359375,
          3.42578125,
          6.234375,
          1.5126953125,
          1.7255859375,
          2.056640625,
          8.7265625,
          6.28515625,
          4.62890625,
          1.7744140625,
          3.705078125,
          3.689453125,
          3.603515625,
          5.5390625,
          -1.2431640625,
          -0.367919921875,
          0.5107421875,
          1.1943359375,
          0.70166015625,
          -0.20654296875,
          -2.580078125,
          -2.775390625,
          1.939453125,
          0.8076171875,
          -1.5947265625,
          -1.3447265625
         ],
         "y": [
          -11.4765625,
          -9.8359375,
          -6.9296875,
          -7.58203125,
          -1.6650390625,
          -0.172607421875,
          0.1597900390625,
          0.6357421875,
          2.484375,
          1.91015625,
          2.9375,
          4.98046875,
          8.0078125,
          8.21875,
          8.7109375,
          9.8984375,
          -5.03125,
          -11.5078125,
          -12.1328125,
          -13.9765625,
          4.3671875,
          1.673828125,
          1.5087890625,
          0.251220703125,
          9.2578125,
          8.671875,
          7.5546875,
          6.234375,
          5.953125,
          6.8828125,
          7.02734375,
          6.8671875,
          0.73388671875,
          2.0859375,
          3.01953125,
          1.6298828125,
          7.25390625,
          7.6953125,
          4.4296875,
          2.36328125
         ],
         "z": [
          6.625,
          5.00390625,
          3.734375,
          2.380859375,
          7.01171875,
          8.0546875,
          7.65234375,
          7.703125,
          -0.76513671875,
          -0.90576171875,
          -1.7314453125,
          -0.68798828125,
          -0.5302734375,
          -0.445556640625,
          1.4033203125,
          -0.48876953125,
          5.67578125,
          4.6796875,
          3.7890625,
          4.7734375,
          8.5625,
          7.23046875,
          6,
          4.9921875,
          6.984375,
          7.015625,
          7.2578125,
          6.83984375,
          10.953125,
          9.7421875,
          9.0546875,
          9.265625,
          2.900390625,
          4.5859375,
          5.37109375,
          5.33984375,
          7.4296875,
          8.375,
          8.8125,
          9.9375
         ]
        },
        {
         "line": {
          "color": "#7f7f7f"
         },
         "mode": "lines",
         "type": "scatter3d",
         "x": [
          -0.94189453125,
          -0.576171875,
          -1.1064453125,
          -1.47265625,
          1.7177734375,
          1.18359375,
          0.35595703125,
          0.283447265625,
          -9.34375,
          -7.6640625,
          -7.359375,
          -6.625,
          0.7578125,
          1.51953125,
          -0.40771484375,
          -3.30078125,
          -1.2861328125,
          -1.28125,
          -0.703125,
          0.8115234375,
          -4.40625,
          -5.5234375,
          -7.2578125,
          -5.45703125,
          6.85546875,
          4.58984375,
          4.85546875,
          3.525390625,
          1.90234375,
          -0.1363525390625,
          1.177734375,
          1,
          1.7607421875,
          3.06640625,
          6.32421875,
          4.85546875,
          2.689453125,
          1.1103515625,
          2.21875,
          4.71875
         ],
         "y": [
          0.4599609375,
          0.748046875,
          0.88330078125,
          -0.08026123046875,
          2.38671875,
          1.6484375,
          1.1005859375,
          -0.86865234375,
          -18.0625,
          -15.0390625,
          -13.96875,
          -14.6796875,
          -0.64794921875,
          -2.388671875,
          -5.2421875,
          -9.78125,
          4.30859375,
          1.2744140625,
          1.9189453125,
          3.779296875,
          -2.6328125,
          -3.8984375,
          -5.8359375,
          -5.38671875,
          4.828125,
          3.021484375,
          2.80859375,
          -0.98828125,
          4.07421875,
          2.484375,
          2.251953125,
          1.837890625,
          5.23828125,
          2.79296875,
          6.375,
          4.9921875,
          4.3046875,
          3.685546875,
          3,
          3.859375
         ],
         "z": [
          0.058380126953125,
          1.986328125,
          3.8046875,
          4.203125,
          8.171875,
          8.0234375,
          7.9765625,
          9.0859375,
          2.4296875,
          2.017578125,
          1.412109375,
          2.240234375,
          -12.2265625,
          -10.1875,
          -9.09375,
          -8.5078125,
          3.400390625,
          3.4140625,
          4.2109375,
          4.22265625,
          3.49609375,
          3.767578125,
          1.9287109375,
          2.466796875,
          7.4140625,
          5.5625,
          5.08984375,
          5.6484375,
          8.1875,
          7.48828125,
          6.66796875,
          4.31640625,
          5.76953125,
          6.3984375,
          6.3359375,
          4.68359375,
          7.04296875,
          6.1875,
          8.171875,
          9.3203125
         ]
        },
        {
         "line": {
          "color": "#1f77b4"
         },
         "mode": "lines",
         "type": "scatter3d",
         "x": [
          2.01953125,
          3.830078125,
          5.2421875,
          3.3359375,
          2.0078125,
          0.392333984375,
          0.1669921875,
          0.779296875,
          -0.9033203125,
          -1.6435546875,
          -1.19921875,
          -0.300048828125,
          -2.599609375,
          -2.2265625,
          -1.33984375,
          2.78515625,
          4.03125,
          2.765625,
          4.53515625,
          4.45703125,
          0.017852783203125,
          0.92626953125,
          1.287109375,
          2.33203125,
          -2.33984375,
          1.984375,
          3.439453125,
          0.748046875,
          0.6171875,
          1.060546875,
          1.3818359375,
          1.208984375,
          1.3857421875,
          1.484375,
          1.734375,
          1.2275390625,
          0.125244140625,
          1.384765625,
          1.986328125,
          1.2919921875
         ],
         "y": [
          -0.44580078125,
          -1.3525390625,
          3.66015625,
          2.998046875,
          9.6796875,
          8.328125,
          5.50390625,
          4.37890625,
          -1.62109375,
          -1.365234375,
          2.494140625,
          9.609375,
          1.734375,
          3.4609375,
          1.3046875,
          4.3515625,
          -7.90625,
          -5.9765625,
          -6.28125,
          -7.85546875,
          0.268798828125,
          0.09600830078125,
          1.5,
          3.24609375,
          5.5546875,
          4.84375,
          4.98828125,
          3.484375,
          -1.4921875,
          -2.2109375,
          -2.259765625,
          -2.90234375,
          -0.6982421875,
          2.697265625,
          7.5,
          4.1328125,
          -1.8173828125,
          -2.1015625,
          -0.65673828125,
          2.53515625
         ],
         "z": [
          5.109375,
          4.41015625,
          4.78515625,
          3.9296875,
          6.4140625,
          4.91796875,
          4.80078125,
          4.8671875,
          4.91796875,
          5.046875,
          4.34765625,
          5.66796875,
          4.9296875,
          4.05078125,
          5.32421875,
          8.140625,
          4.0390625,
          5.171875,
          3.95703125,
          3.46875,
          6.13671875,
          6.17578125,
          7.90625,
          8.8203125,
          4.26953125,
          4.93359375,
          5.0546875,
          4.859375,
          3.994140625,
          5.01953125,
          4.19921875,
          3.83984375,
          4.46484375,
          5.1015625,
          6.81640625,
          7.34375,
          4.48828125,
          5.01953125,
          5.3125,
          6.8828125
         ]
        },
        {
         "line": {
          "color": "#ff7f0e"
         },
         "mode": "lines",
         "type": "scatter3d",
         "x": [
          -2.2421875,
          -1.666015625,
          -2.96484375,
          0.385498046875,
          -7.39453125,
          -7,
          -8.0234375,
          -7.5859375,
          1.302734375,
          1.8095703125,
          1.595703125,
          -0.81396484375,
          -1.26171875,
          0.05682373046875,
          -1.9306640625,
          -3.271484375,
          -1.1162109375,
          0.308349609375,
          2.8359375,
          2.775390625,
          -0.72412109375,
          0.243408203125,
          0.474853515625,
          -0.0830078125,
          -1.796875,
          -2.3359375,
          -2.166015625,
          -1.3623046875,
          1.1318359375,
          1.13671875,
          2.46875,
          3.361328125,
          0.484619140625,
          0.86669921875,
          1.0009765625,
          0.951171875,
          0.098388671875,
          0.46337890625,
          -0.08319091796875,
          -1.9755859375,
          -3.37890625,
          -1.701171875,
          -1.9501953125,
          -2.822265625
         ],
         "y": [
          0.6806640625,
          -2.958984375,
          -5.96484375,
          -6.80859375,
          5.01953125,
          3.974609375,
          1.9228515625,
          3.259765625,
          3.03515625,
          5.39453125,
          4.015625,
          2.279296875,
          -2.029296875,
          -0.32275390625,
          -4.0546875,
          -4.23828125,
          -8.140625,
          -7.2890625,
          -7.296875,
          -10.203125,
          -2.671875,
          -1.8359375,
          -0.77001953125,
          -1.2021484375,
          -4.29296875,
          -6.578125,
          -7.2265625,
          -6,
          2.0859375,
          -2.134765625,
          -2.701171875,
          1.5166015625,
          -2.572265625,
          -3.005859375,
          -2.98046875,
          0.09405517578125,
          -2.44921875,
          -2.8359375,
          -4.3125,
          -2.859375,
          -9.34375,
          -7.1484375,
          -7.1796875,
          -9.921875
         ],
         "z": [
          3.083984375,
          4.546875,
          4.22265625,
          5.34375,
          2.724609375,
          1.310546875,
          0.377197265625,
          -0.6064453125,
          5.6171875,
          5.5546875,
          6.9296875,
          6.1484375,
          4.11328125,
          5.9453125,
          5.66796875,
          4.8125,
          0.88720703125,
          1.712890625,
          2.80078125,
          2.560546875,
          2.3984375,
          4.234375,
          5.86328125,
          5.1875,
          3.716796875,
          3.322265625,
          3.501953125,
          2.275390625,
          -0.63427734375,
          -0.72998046875,
          0.71435546875,
          2.6328125,
          3.421875,
          3.599609375,
          3.05859375,
          4.5625,
          6.33203125,
          5.43359375,
          7.25390625,
          6.39453125,
          1.060546875,
          1.986328125,
          2.7109375,
          3.22265625
         ]
        },
        {
         "line": {
          "color": "#2ca02c"
         },
         "mode": "lines",
         "type": "scatter3d",
         "x": [
          0.342529296875,
          1.1376953125,
          1.2900390625,
          0.378173828125,
          0.52294921875,
          2.232421875,
          1.5908203125,
          0.43896484375,
          -0.814453125,
          0.2091064453125,
          0.900390625,
          1.27734375,
          -1.140625,
          -1.525390625,
          -3.998046875,
          -6.4453125,
          -1.900390625,
          -0.5654296875,
          0.8173828125,
          0.87744140625,
          -3.478515625,
          -1.232421875,
          0.475341796875,
          -1.1630859375,
          -1.248046875,
          0.80419921875,
          1.62109375,
          0.03497314453125,
          -5.296875,
          -7.9140625,
          -10.1640625,
          -11.09375,
          -1.9462890625,
          -0.07623291015625,
          -0.72119140625,
          -2.001953125,
          -0.08209228515625,
          -1.1806640625,
          -0.64208984375,
          -1.810546875
         ],
         "y": [
          2.279296875,
          5.06640625,
          6.22265625,
          5.42578125,
          -5.45703125,
          0.94677734375,
          1.01953125,
          4.0859375,
          -1.66015625,
          -1.6025390625,
          -1.65234375,
          -6.8359375,
          5.1640625,
          4.59375,
          2.6328125,
          4.046875,
          -0.89453125,
          2.6171875,
          8.2421875,
          6.546875,
          -5.83984375,
          -5.08203125,
          -4.99609375,
          -6.7265625,
          -0.73876953125,
          -0.54345703125,
          -2.69140625,
          -1.5732421875,
          -5.234375,
          -5.4296875,
          -9.6640625,
          -11.40625,
          -4.80859375,
          -5.1328125,
          -3.693359375,
          -4.06640625,
          -7.7734375,
          -7.56640625,
          -10.75,
          -10.0625
         ],
         "z": [
          4.2109375,
          6.1640625,
          7.33203125,
          7.6640625,
          0.59765625,
          3.275390625,
          4.52734375,
          4.40625,
          3.037109375,
          3.1640625,
          2.619140625,
          2.599609375,
          4.40625,
          5.29296875,
          4.890625,
          4.796875,
          1.4365234375,
          1.568359375,
          3.458984375,
          3.966796875,
          3.00390625,
          2.2265625,
          3.01953125,
          2.958984375,
          4.5078125,
          4.828125,
          4.7890625,
          6.109375,
          1.2412109375,
          3.2734375,
          3.126953125,
          2.171875,
          3.05859375,
          4.24609375,
          5.375,
          7.140625,
          1.7890625,
          2.943359375,
          1.71875,
          -0.0706787109375
         ]
        },
        {
         "line": {
          "color": "#d62728"
         },
         "mode": "lines",
         "type": "scatter3d",
         "x": [
          2.91015625,
          2.64453125,
          1.9453125,
          1.603515625,
          -1.2138671875,
          -2.353515625,
          -1.630859375,
          -0.43408203125,
          -1.6201171875,
          -2.318359375,
          -3.69921875,
          -2.939453125,
          2.767578125,
          3.939453125,
          6.64453125,
          4.62109375,
          -1.951171875,
          -0.822265625,
          0.61865234375,
          3.349609375,
          -0.95654296875,
          -2.94921875,
          -5.1875,
          -7.24609375,
          -0.4423828125,
          -0.0214385986328125,
          0.1737060546875,
          -1.703125,
          0.94921875,
          1.8291015625,
          1.84375,
          1.1494140625,
          -1.2080078125,
          -0.75146484375,
          -0.44873046875,
          -1.2353515625
         ],
         "y": [
          -2.44140625,
          -3.1953125,
          -0.6201171875,
          -0.47412109375,
          0.0623779296875,
          -2.025390625,
          -1.4482421875,
          -0.94140625,
          -1.6396484375,
          -4.5234375,
          -2.095703125,
          -2.091796875,
          2.220703125,
          1.517578125,
          1.0615234375,
          -0.90869140625,
          1.865234375,
          1.8232421875,
          0.5087890625,
          4.23046875,
          2.267578125,
          -0.1873779296875,
          -3.115234375,
          -6.7578125,
          -2.900390625,
          0.8671875,
          -0.677734375,
          -0.040191650390625,
          -1.78125,
          -4.59375,
          -3.1328125,
          -4.2109375,
          -1.861328125,
          -1.703125,
          -1.845703125,
          -3.9375
         ],
         "z": [
          5.125,
          4.82421875,
          6.54296875,
          6.03515625,
          -1.65625,
          -0.0200042724609375,
          1.916015625,
          2.998046875,
          3.0546875,
          4.2265625,
          6.05078125,
          6.56640625,
          4.91796875,
          5.40234375,
          5.60546875,
          5.65625,
          1.826171875,
          2.31640625,
          2.62890625,
          3.65625,
          1.2001953125,
          -0.49951171875,
          -0.296875,
          0.413330078125,
          3.33984375,
          5.85546875,
          6.6875,
          5.3828125,
          1.271484375,
          0.8896484375,
          2.337890625,
          2.77734375,
          1.638671875,
          3.240234375,
          3.814453125,
          3.76953125
         ]
        },
        {
         "line": {
          "color": "#9467bd"
         },
         "mode": "lines",
         "type": "scatter3d",
         "x": [
          -2.44921875,
          -2.103515625,
          -0.91357421875,
          -1.3447265625,
          4.671875,
          4.92578125,
          4.265625,
          3.748046875,
          1.41796875,
          0.283203125,
          -3.923828125,
          -3.697265625,
          2.8515625,
          3.82421875,
          3.11328125,
          0.99658203125,
          0.55859375,
          0.814453125,
          3.013671875,
          4.1640625,
          2.751953125,
          1.880859375,
          -0.08221435546875,
          2.271484375,
          -3.4140625,
          -2.369140625,
          -1.5595703125,
          -0.7490234375,
          -1.73828125,
          -0.04278564453125,
          0.63623046875,
          1.916015625,
          -1.3505859375,
          -1.853515625,
          -5.2109375,
          -4.03515625,
          -0.1832275390625,
          -1.328125,
          -1.490234375,
          -0.4658203125
         ],
         "y": [
          -6.51953125,
          -2.42578125,
          -2.98828125,
          -1.068359375,
          1.6435546875,
          3.857421875,
          1.5986328125,
          4.87890625,
          0.61865234375,
          2.47265625,
          4.83984375,
          9.5,
          -5.171875,
          -3.1640625,
          -1.552734375,
          -3.107421875,
          -8.2265625,
          -6.95703125,
          -3.67578125,
          -4.08984375,
          -1.353515625,
          -1.287109375,
          -3.142578125,
          1.546875,
          1.3681640625,
          -0.7109375,
          -0.71728515625,
          -2.291015625,
          -4.19921875,
          1.232421875,
          1.796875,
          0.6044921875,
          -5.83984375,
          -3.697265625,
          -6.484375,
          -4.9140625,
          1.2978515625,
          1.6181640625,
          2.275390625,
          5.83984375
         ],
         "z": [
          0.214599609375,
          2,
          3.375,
          3.626953125,
          3.865234375,
          4.1171875,
          5.1640625,
          7.12890625,
          2.76953125,
          3.89453125,
          4.19140625,
          7.5078125,
          1.619140625,
          1.943359375,
          2.51953125,
          2.24609375,
          0.5908203125,
          0.270751953125,
          0.615234375,
          2.01953125,
          2.9375,
          4.98046875,
          6.4296875,
          7.80859375,
          2.732421875,
          1.9326171875,
          1.7529296875,
          2.0234375,
          0.73388671875,
          1.7158203125,
          3.046875,
          4.34375,
          1.1376953125,
          2.509765625,
          2.748046875,
          2.3046875,
          4.41796875,
          3.41015625,
          2.70703125,
          2.734375
         ]
        },
        {
         "line": {
          "color": "#8c564b"
         },
         "mode": "lines",
         "type": "scatter3d",
         "x": [
          4.6953125,
          4.05078125,
          5.12109375,
          4.99609375,
          1.2392578125,
          1.44921875,
          2.333984375,
          2.138671875,
          3.666015625,
          4.83984375,
          4.4765625,
          3.40234375,
          -0.76318359375,
          -2.64453125,
          -2.75,
          -6.1640625,
          1.7490234375,
          3.03125,
          3.029296875,
          1.701171875,
          0.282958984375,
          -1.3603515625,
          -2.919921875,
          -2.505859375,
          3.30859375,
          4.51953125,
          2.447265625,
          2,
          -2.27734375,
          -0.1815185546875,
          -0.483642578125,
          1.2060546875,
          0.63330078125,
          -1.00390625,
          -1.2470703125,
          -3.076171875,
          1.056640625,
          0.2000732421875,
          0.251220703125,
          -1.4990234375
         ],
         "y": [
          -1.1640625,
          -1.9677734375,
          0.880859375,
          1.814453125,
          2.0859375,
          1.125,
          4.6875,
          6.265625,
          7.8515625,
          7.69921875,
          7.046875,
          7.6953125,
          -0.90673828125,
          0.25341796875,
          -1.3017578125,
          -5.07421875,
          -0.6943359375,
          1.021484375,
          1.828125,
          -0.202880859375,
          -4.51171875,
          -2.001953125,
          0.76025390625,
          0.98876953125,
          1.8310546875,
          2.97265625,
          3.62109375,
          4.03125,
          -2.134765625,
          -3.162109375,
          -2.630859375,
          -1.44921875,
          -1.38671875,
          -1.0078125,
          0.544921875,
          3.1484375,
          4.4453125,
          3.54296875,
          5,
          4.46484375
         ],
         "z": [
          5.51953125,
          5.98046875,
          6.7578125,
          7.21484375,
          2.4609375,
          3.6796875,
          4.51953125,
          0.98681640625,
          2.171875,
          3.125,
          4.06640625,
          5.2578125,
          8.1015625,
          6.1640625,
          7.0625,
          3.798828125,
          6.30078125,
          7.5703125,
          7.7265625,
          7.79296875,
          4.0390625,
          4.078125,
          4.85546875,
          4.5390625,
          6.09375,
          4.80859375,
          6.5625,
          7.203125,
          2.130859375,
          4.44140625,
          6.4453125,
          5.6640625,
          4.40234375,
          3.771484375,
          4.04296875,
          5.19140625,
          -0.5986328125,
          -1.4619140625,
          0.1451416015625,
          -0.546875
         ]
        },
        {
         "line": {
          "color": "#e377c2"
         },
         "mode": "lines",
         "type": "scatter3d",
         "x": [
          5.3125,
          6.4140625,
          5.7421875,
          6.71875,
          -0.63232421875,
          -0.283447265625,
          1.3798828125,
          2.02734375,
          -0.703125,
          -3.23828125,
          -2.533203125,
          -0.2144775390625,
          -2.439453125,
          -1.986328125,
          -1.470703125,
          -0.5849609375,
          -1.5986328125,
          -2.2578125,
          -2.162109375,
          -1.4169921875,
          3.7421875,
          3.755859375,
          3.837890625,
          4.44921875,
          -1.4501953125,
          -3.482421875,
          -3.701171875,
          -3.404296875,
          -2.35546875,
          -3.623046875,
          -3.255859375,
          -2.244140625,
          2.380859375,
          3.828125,
          4.60546875,
          5.34375,
          -1.3515625,
          -1.4404296875,
          -0.93505859375,
          -4.90234375
         ],
         "y": [
          9.2890625,
          10,
          13.828125,
          13.9453125,
          -7.42578125,
          -6.14453125,
          -4.9453125,
          -6.921875,
          4.1796875,
          3.267578125,
          3.61328125,
          7.19921875,
          1.7578125,
          0.38916015625,
          -1.0966796875,
          -0.9150390625,
          -0.8955078125,
          -4.7109375,
          -6.046875,
          -2.470703125,
          4.53125,
          0.2052001953125,
          0.59619140625,
          -0.2095947265625,
          -5.2890625,
          -5.8828125,
          -6.04296875,
          -0.89892578125,
          2.791015625,
          -2.353515625,
          -2.931640625,
          -1.166015625,
          3.388671875,
          3.7421875,
          3.373046875,
          4.8671875,
          0.1968994140625,
          8.0703125,
          8.4765625,
          3.53125
         ],
         "z": [
          5.42578125,
          5.21875,
          6.51171875,
          6.61328125,
          3.232421875,
          6.3203125,
          7.36328125,
          7.90234375,
          2.8359375,
          4.00390625,
          3.201171875,
          4.6640625,
          2.216796875,
          3.146484375,
          4.71484375,
          4.07421875,
          3.47265625,
          3.390625,
          3.0078125,
          3.376953125,
          5.51171875,
          7.28125,
          7.60546875,
          8.078125,
          6.26953125,
          6.03515625,
          7.765625,
          7.63671875,
          2.95703125,
          2.474609375,
          1.2958984375,
          1.400390625,
          1.58203125,
          2.18359375,
          3.015625,
          2.6328125,
          5.3046875,
          7.94140625,
          8.3671875,
          5.8828125
         ]
        },
        {
         "line": {
          "color": "#7f7f7f"
         },
         "mode": "lines",
         "type": "scatter3d",
         "x": [
          0.2008056640625,
          3.697265625,
          5.75,
          4.49609375,
          -2.900390625,
          0.467529296875,
          -0.904296875,
          -1.9560546875,
          -3.099609375,
          -0.755859375,
          -2.009765625,
          -1.2724609375,
          2.970703125,
          2.404296875,
          3.826171875,
          3.9921875,
          2.220703125,
          1.9189453125,
          4.47265625,
          3.640625,
          -1.3798828125,
          -1.708984375,
          0.40283203125,
          -0.310302734375,
          -4.62109375,
          0.9296875,
          0.8212890625,
          -0.7255859375,
          0.92431640625,
          1.0576171875,
          2.703125,
          2.830078125,
          -1.240234375,
          0.1622314453125,
          -1.3154296875,
          -0.85302734375,
          2.611328125,
          3.40625,
          0.54541015625,
          0.57470703125
         ],
         "y": [
          2.197265625,
          5.83984375,
          4.171875,
          2.22265625,
          -4.87890625,
          -1.7490234375,
          -1.658203125,
          -2.357421875,
          -8.875,
          -6.52734375,
          -3.7109375,
          -0.7861328125,
          6.7734375,
          2.322265625,
          1.578125,
          -0.599609375,
          3.806640625,
          1.0234375,
          5.296875,
          1.7060546875,
          -4.1015625,
          -5.53515625,
          0.53662109375,
          -1.0791015625,
          0.53125,
          6.8359375,
          3.357421875,
          -0.221435546875,
          -3.5546875,
          -6.1953125,
          -1.3310546875,
          -2.50390625,
          -8.40625,
          -6.07421875,
          -3.90625,
          -1.8740234375,
          7.0546875,
          6.17578125,
          -1.5625,
          -3.779296875
         ],
         "z": [
          1.5185546875,
          1.2958984375,
          2.01953125,
          2.185546875,
          3.408203125,
          4.94921875,
          4.45703125,
          3.58203125,
          2.791015625,
          3.32421875,
          2.689453125,
          4.02734375,
          3.384765625,
          2.81640625,
          4.2578125,
          3.404296875,
          -1.7734375,
          0.34814453125,
          1.9287109375,
          2.578125,
          3.814453125,
          3.9609375,
          4.546875,
          4.6953125,
          3.59765625,
          5.46875,
          6.86328125,
          6.125,
          5.30078125,
          5.52734375,
          6.73046875,
          7.28125,
          6.66015625,
          7.3359375,
          5.8125,
          5.609375,
          3.7578125,
          4.80859375,
          3.412109375,
          4.94921875
         ]
        },
        {
         "line": {
          "color": "#1f77b4"
         },
         "mode": "lines",
         "type": "scatter3d",
         "x": [
          0.77490234375,
          0.98388671875,
          0.8115234375,
          2.29296875,
          0.81640625,
          0.276611328125,
          0.1663818359375,
          1.69921875,
          1.4013671875,
          3.72265625,
          3.171875,
          2.220703125,
          0.63916015625,
          1.423828125,
          0.9052734375,
          -1.419921875,
          -4.1953125,
          -2.185546875,
          -1.7822265625,
          1.3623046875,
          -1.509765625,
          -1.029296875,
          -0.95556640625,
          -0.2529296875,
          1.6728515625,
          1.46484375,
          1.130859375,
          1.6103515625,
          -1.67578125,
          -0.314208984375,
          3.037109375,
          5.65625,
          1.2744140625,
          1.470703125,
          3.197265625,
          3.873046875,
          3.705078125,
          5.05859375,
          4.77734375,
          3.873046875,
          2.1796875,
          1.435546875,
          0.61572265625,
          -0.1868896484375
         ],
         "y": [
          3.779296875,
          4.21484375,
          4.36328125,
          1.9951171875,
          6.7890625,
          7,
          5.4375,
          4.46875,
          5.47265625,
          4.4296875,
          3.587890625,
          1.5,
          -0.46142578125,
          -1.349609375,
          -2.01953125,
          -2.666015625,
          5.8203125,
          6.42578125,
          4.98828125,
          3.576171875,
          2.876953125,
          1.58203125,
          2.00390625,
          2.236328125,
          3.7578125,
          3.298828125,
          1.400390625,
          2.80859375,
          7.3828125,
          6.0078125,
          4.36328125,
          4.49609375,
          1.453125,
          1.7607421875,
          1.1015625,
          -0.482177734375,
          12.375,
          10.484375,
          9.859375,
          9.3125,
          10.6484375,
          10.1640625,
          10.109375,
          10.40625
         ],
         "z": [
          4.51171875,
          5.6171875,
          5.9609375,
          4.87109375,
          4.47265625,
          4.23828125,
          4.8359375,
          5.36328125,
          6.078125,
          5.6484375,
          5.39453125,
          6.7109375,
          3.92578125,
          5.48046875,
          6.0234375,
          6.515625,
          2.50390625,
          3.24609375,
          4.21484375,
          4.5625,
          5.2421875,
          3.1328125,
          4.31640625,
          4.3046875,
          5.24609375,
          6.06640625,
          5.91796875,
          4.4609375,
          4.18359375,
          4.5390625,
          3.978515625,
          3.763671875,
          4.55859375,
          4.30078125,
          4.87890625,
          6.1484375,
          2.666015625,
          3.67578125,
          5.0078125,
          5.5078125,
          4.9375,
          4.94921875,
          4.7421875,
          4.18359375
         ]
        },
        {
         "line": {
          "color": "#ff7f0e"
         },
         "mode": "lines",
         "type": "scatter3d",
         "x": [
          1.927734375,
          2.3828125,
          2.888671875,
          4.484375,
          3.109375,
          1.8779296875,
          1.6142578125,
          1.9951171875,
          -7.375,
          -6.5390625,
          -6.3125,
          -5.7578125,
          0.681640625,
          1.12890625,
          0.136474609375,
          -0.5361328125,
          -3.1875,
          -3.240234375,
          -4.01171875,
          -4.1640625,
          0.435791015625,
          2.279296875,
          2.7734375,
          5.06640625,
          2.427734375,
          0.99365234375,
          1.51953125,
          0.369384765625,
          -4.91796875,
          -3.8359375,
          -4.234375,
          -1.916015625,
          1.4091796875,
          2.275390625,
          2,
          1.5546875
         ],
         "y": [
          9.953125,
          8.6953125,
          8.2109375,
          7.19921875,
          4.0390625,
          2.228515625,
          1.1630859375,
          0.93603515625,
          -16.515625,
          -15.328125,
          -14.484375,
          -12.0078125,
          2.90234375,
          3.927734375,
          3.212890625,
          2.4296875,
          -12.171875,
          -13.0703125,
          -12.234375,
          -10.9296875,
          9.640625,
          9.8515625,
          8.828125,
          7.3046875,
          2.341796875,
          2.736328125,
          2.369140625,
          2.357421875,
          -12.2578125,
          -12.1015625,
          -11.09375,
          -10.140625,
          4.3359375,
          4.15234375,
          1.861328125,
          0.77001953125
         ],
         "z": [
          7.046875,
          8.1953125,
          8.1484375,
          7.2109375,
          6.81640625,
          6.6328125,
          6.140625,
          6.7265625,
          5.33984375,
          4.57421875,
          3.212890625,
          1.658203125,
          7.0078125,
          7.3046875,
          8,
          8.7734375,
          0.56103515625,
          1.775390625,
          1.13671875,
          1.171875,
          4.734375,
          4.38671875,
          3.71875,
          4.33984375,
          3.55859375,
          1.369140625,
          1.806640625,
          1.994140625,
          3.029296875,
          4.6015625,
          5.390625,
          6.14453125,
          5.7265625,
          3.541015625,
          3.82421875,
          4.8984375
         ]
        },
        {
         "line": {
          "color": "#2ca02c"
         },
         "mode": "lines",
         "type": "scatter3d",
         "x": [
          1.25390625,
          2.056640625,
          3.1328125,
          2.162109375,
          5.56640625,
          4.765625,
          5.578125,
          4.55859375,
          1.50390625,
          2.38671875,
          3.07421875,
          1.314453125,
          1.4384765625,
          1.919921875,
          1.9423828125,
          3.509765625,
          -6.43359375,
          -5.4453125,
          -5.4375,
          -4.9140625,
          -6.3046875,
          -6.16796875,
          -6.56640625,
          -5.62109375,
          -1.732421875,
          -3.72265625,
          -3.94140625,
          -5.65625,
          2.896484375,
          2.75390625,
          1.9052734375,
          3.32421875,
          -5.40234375,
          -5.95703125,
          -5.4609375,
          -6.15234375,
          -11.109375,
          -9.8125,
          -10.703125,
          -11.5390625
         ],
         "y": [
          6.3125,
          6.26171875,
          5.9375,
          6.3515625,
          1.830078125,
          2.248046875,
          2.517578125,
          3.599609375,
          2.05078125,
          1.3173828125,
          0.73291015625,
          1.166015625,
          4.95703125,
          4.625,
          5.2265625,
          4.36328125,
          -12.4453125,
          -12.8828125,
          -13.2578125,
          -13.0390625,
          -19.046875,
          -18.265625,
          -14.453125,
          -11.5078125,
          -12.21875,
          -12.0859375,
          -10.8515625,
          -9.9765625,
          2.24609375,
          2.60546875,
          4.69140625,
          5.6328125,
          -14.5,
          -13.359375,
          -12.578125,
          -14.6640625,
          -14.265625,
          -15.90625,
          -14.3125,
          -15.4765625
         ],
         "z": [
          4.34375,
          4.69140625,
          4.76953125,
          6.1640625,
          3.7734375,
          2.94140625,
          4.91796875,
          5.90234375,
          6.41015625,
          5.52734375,
          3.8125,
          4.30859375,
          3.80859375,
          3.751953125,
          3.861328125,
          6.37890625,
          -1.2041015625,
          -0.62451171875,
          0.312255859375,
          0.343017578125,
          2.783203125,
          2.96484375,
          2.669921875,
          3.134765625,
          0.2298583984375,
          0.7041015625,
          1.171875,
          3.435546875,
          2.60546875,
          2.58984375,
          5.16015625,
          6.359375,
          0.8662109375,
          0.50244140625,
          1.0673828125,
          0.69482421875,
          2.98828125,
          1.3232421875,
          0.779296875,
          -0.765625
         ]
        },
        {
         "line": {
          "color": "#d62728"
         },
         "mode": "lines",
         "type": "scatter3d",
         "x": [
          1.484375,
          1.767578125,
          1.912109375,
          4.34375,
          3.646484375,
          2.423828125,
          1.400390625,
          2.8046875,
          -3.744140625,
          -5.80078125,
          -6.859375,
          -6.71484375,
          -0.9501953125,
          0.1468505859375,
          -0.005252838134765625,
          -1.587890625,
          5.5,
          3.3359375,
          2.345703125,
          3.783203125,
          -3.44921875,
          -2.70703125,
          -1.1484375,
          -0.71142578125,
          -5.40234375,
          -6.5703125,
          -8.1796875,
          -7.3046875,
          -3.888671875,
          -4.6484375,
          -6.69140625,
          -4.3359375,
          2.537109375,
          1.8740234375,
          -0.51416015625,
          -4.30859375
         ],
         "y": [
          0.951171875,
          2.07421875,
          2,
          2.328125,
          2.72265625,
          2.86328125,
          3.736328125,
          5.54296875,
          -2.916015625,
          -2.53125,
          -3.2734375,
          -4.00390625,
          -1.513671875,
          -0.560546875,
          0.8134765625,
          -0.0029754638671875,
          9.0234375,
          8.953125,
          9.9375,
          10.546875,
          -11.875,
          -11.2578125,
          -10,
          -9.6953125,
          -10.734375,
          -12.1171875,
          -13.015625,
          -13.421875,
          -14.4296875,
          -16.359375,
          -18.859375,
          -20.734375,
          8.3671875,
          6.01953125,
          3.7265625,
          1.06640625
         ],
         "z": [
          6.6875,
          5.72265625,
          4.82421875,
          5.8359375,
          5.41796875,
          5.171875,
          6.453125,
          5.07421875,
          -0.274169921875,
          1.8076171875,
          2.689453125,
          1.9755859375,
          3.84765625,
          5.64453125,
          5.3515625,
          4.9609375,
          1.9677734375,
          4.36328125,
          6.4140625,
          6.19921875,
          2.328125,
          1.42578125,
          2.884765625,
          3.69921875,
          1.13671875,
          2.560546875,
          4.375,
          5.3984375,
          -0.529296875,
          -0.8193359375,
          -0.34814453125,
          0.390869140625,
          2.6171875,
          2.6953125,
          3.2265625,
          3.248046875
         ]
        },
        {
         "line": {
          "color": "#9467bd"
         },
         "mode": "lines",
         "type": "scatter3d",
         "x": [
          4.421875,
          1.9384765625,
          1.2412109375,
          1.6357421875,
          2.9921875,
          2.533203125,
          0.96044921875,
          1.0859375,
          2.029296875,
          2.923828125,
          3.615234375,
          4.3203125,
          2.375,
          2.66796875,
          2.08203125,
          0.8212890625,
          -3.513671875,
          -2.54296875,
          -1.875,
          -0.83935546875,
          -5.0703125,
          -2.728515625,
          -1.998046875,
          2.4375,
          3.076171875,
          5.83984375,
          6.40234375,
          4.95703125,
          4.22265625,
          4.546875,
          5.8984375,
          4.14453125,
          -5.33203125,
          -4.5390625,
          -2.693359375,
          -3.7421875,
          3.314453125,
          0.78173828125,
          -0.03662109375,
          -2.48828125
         ],
         "y": [
          9.796875,
          11.296875,
          11.953125,
          10.265625,
          5.27734375,
          4.1015625,
          4.984375,
          5.125,
          3.759765625,
          2.625,
          2.201171875,
          3.1015625,
          4.046875,
          4.8671875,
          4.4765625,
          1.927734375,
          4.80859375,
          3.92578125,
          3.73828125,
          4.4375,
          0.18212890625,
          -0.01386260986328125,
          -0.53955078125,
          -2.15625,
          3.07421875,
          1.45703125,
          1.52734375,
          2.439453125,
          3.80078125,
          5.68359375,
          6.46484375,
          5.97265625,
          -11.59375,
          -12.7265625,
          -11.984375,
          -13.796875,
          7.484375,
          4.31640625,
          -0.466796875,
          -5.06640625
         ],
         "z": [
          6.09375,
          6.40625,
          6.5078125,
          6.51171875,
          6.74609375,
          7.48828125,
          8.1640625,
          7.703125,
          2.486328125,
          4.14453125,
          5.19921875,
          5.70703125,
          6.3125,
          7.03125,
          6.078125,
          4.86328125,
          2.51953125,
          3.82421875,
          2.505859375,
          4.30078125,
          2.46875,
          3.732421875,
          2.861328125,
          3.91796875,
          2.453125,
          2.279296875,
          2.744140625,
          5.54296875,
          5.57421875,
          6.7578125,
          6.73046875,
          7.0078125,
          2.09765625,
          2.1328125,
          3.27734375,
          3.4296875,
          2.109375,
          1.7783203125,
          2.119140625,
          1.6064453125
         ]
        },
        {
         "line": {
          "color": "#8c564b"
         },
         "mode": "lines",
         "type": "scatter3d",
         "x": [
          1.25,
          -1.3291015625,
          -1.5478515625,
          -2.564453125,
          0.483154296875,
          0.1622314453125,
          1.7822265625,
          2.759765625,
          3.587890625,
          4.2578125,
          4.484375,
          5.0703125,
          -1.5947265625,
          -0.9208984375,
          0.16357421875,
          0.59814453125,
          0.418212890625,
          1.1845703125,
          3.201171875,
          3.794921875,
          -7.46484375,
          -5.2265625,
          -5.33984375,
          -4.25,
          3.76171875,
          4.3046875,
          5.4375,
          4.07421875,
          4.76953125,
          4.41796875,
          3.802734375,
          5.890625,
          4.04296875,
          2.953125,
          2.388671875,
          1.8466796875,
          -4.98046875,
          -5.59375,
          -6.66796875,
          -5.96875
         ],
         "y": [
          7.6640625,
          9.6171875,
          9.078125,
          10.0859375,
          4.94921875,
          4.46484375,
          3.96484375,
          2.388671875,
          10.484375,
          9.734375,
          8.921875,
          7.80859375,
          -4.875,
          -6.078125,
          -6.55078125,
          -6.78515625,
          4.7109375,
          3.435546875,
          3.935546875,
          2.0546875,
          -6.8359375,
          -7.8125,
          -6.3984375,
          -4.74609375,
          8.3203125,
          9.03125,
          8.9765625,
          9.328125,
          6.01171875,
          7.796875,
          7.4296875,
          7.2421875,
          1.90625,
          0.5107421875,
          0.61279296875,
          1.244140625,
          -5.2578125,
          -3.521484375,
          -2.9765625,
          -2.80859375
         ],
         "z": [
          5.84375,
          6.4609375,
          7.21484375,
          6.81640625,
          3.3515625,
          3.009765625,
          2.34765625,
          4.7734375,
          4.22265625,
          4.48046875,
          5.046875,
          6.32421875,
          3.748046875,
          3.625,
          4.35546875,
          4.4296875,
          3.861328125,
          3.75,
          3.5859375,
          3.6875,
          0.283447265625,
          0.253173828125,
          0.7333984375,
          1.185546875,
          7.8359375,
          9.046875,
          8.1796875,
          8.625,
          4,
          4.99609375,
          5.0546875,
          5.33203125,
          3.091796875,
          3.328125,
          4.9375,
          5.484375,
          5.44921875,
          5.96875,
          6.73046875,
          4.5078125
         ]
        },
        {
         "line": {
          "color": "#e377c2"
         },
         "mode": "lines",
         "type": "scatter3d",
         "x": [
          1.84765625,
          2.6328125,
          3.216796875,
          2.03515625,
          1.009765625,
          -0.291015625,
          -0.214599609375,
          1.048828125,
          3.416015625,
          2.712890625,
          2.291015625,
          2.779296875,
          7.375,
          8.1875,
          7.07421875,
          3.373046875,
          -6.05078125,
          -7.17578125,
          -7.7421875,
          -6.16015625,
          0.498291015625,
          0.93212890625,
          1.5703125,
          2.662109375,
          -2.013671875,
          -4.61328125,
          -3.048828125,
          -0.3408203125,
          -1.6259765625,
          1.3759765625,
          -0.0273590087890625,
          3.462890625,
          -7.1484375,
          -5.05078125,
          -6.140625,
          -5.26171875
         ],
         "y": [
          4.85546875,
          5.5546875,
          4.23046875,
          2.6484375,
          1.8818359375,
          3.287109375,
          2.818359375,
          1.1650390625,
          5.10546875,
          4.9765625,
          5.11328125,
          5.57421875,
          5.28125,
          3.037109375,
          3.20703125,
          6.50390625,
          -10.5,
          -13.0859375,
          -16.1875,
          -15.84375,
          6.38671875,
          6.1640625,
          4.77734375,
          3.240234375,
          10,
          11.1328125,
          11.4765625,
          10.625,
          0.52490234375,
          -0.34521484375,
          1.1611328125,
          -0.5380859375,
          -10.2265625,
          -10.5,
          -10.5703125,
          -9.6328125
         ],
         "z": [
          5.31640625,
          4.6015625,
          5.7734375,
          5.4765625,
          6.17578125,
          6.73828125,
          5.16015625,
          4.64453125,
          3.771484375,
          4.41796875,
          5.203125,
          6.1953125,
          6.65625,
          6.02734375,
          6.921875,
          7.40234375,
          0.3134765625,
          0.673828125,
          1.1220703125,
          1.310546875,
          3.638671875,
          4.19921875,
          4.921875,
          4.44140625,
          7.65625,
          7.40625,
          6.47265625,
          4.9375,
          3.123046875,
          2.923828125,
          3.533203125,
          3.138671875,
          -0.12890625,
          -0.72607421875,
          -0.039947509765625,
          1.333984375
         ]
        },
        {
         "line": {
          "color": "#7f7f7f"
         },
         "mode": "lines",
         "type": "scatter3d",
         "x": [
          0.343017578125,
          0.7255859375,
          0.4638671875,
          1.5400390625,
          -0.49853515625,
          0.958984375,
          0.5146484375,
          0.326171875,
          1.2119140625,
          2.197265625,
          3.958984375,
          2.33984375,
          -4.09765625,
          -3.166015625,
          -2.921875,
          -3.23046875,
          -1.89453125,
          -1.1982421875,
          -0.09783935546875,
          2.55859375,
          -3.447265625,
          -2.662109375,
          -2.69140625,
          -2.4296875,
          4.05078125,
          3.3359375,
          2.951171875,
          3.029296875,
          5.93359375,
          6.83203125,
          6.27734375,
          5.15625,
          -2.283203125,
          -4.7421875,
          -4.98828125,
          -4.19140625,
          -6.8671875,
          -5.91796875,
          -5.93359375,
          -3.33984375
         ],
         "y": [
          4.61328125,
          3.078125,
          4.2265625,
          4.28515625,
          4.375,
          4.46484375,
          3.35546875,
          1.5244140625,
          5.4765625,
          5.37109375,
          5.3984375,
          5.87109375,
          -14.2890625,
          -14.9296875,
          -14.5234375,
          -12.9296875,
          2.171875,
          3.2578125,
          3.669921875,
          3.236328125,
          -8.1796875,
          -8.0625,
          -8.3984375,
          -9.7421875,
          4.6171875,
          5.328125,
          6.0703125,
          5.390625,
          4.515625,
          2.828125,
          2.380859375,
          3.5078125,
          -8.984375,
          -8.375,
          -8.03125,
          -9.109375,
          -5.37890625,
          -6.36328125,
          -6.51171875,
          -7.1484375
         ],
         "z": [
          6.203125,
          6.03515625,
          4.984375,
          5.33203125,
          6.3671875,
          4.16796875,
          3.556640625,
          2.037109375,
          5.35546875,
          5.9765625,
          5.109375,
          5.37890625,
          -1.6650390625,
          -1.1591796875,
          -0.68505859375,
          0.1356201171875,
          2.65625,
          3.01171875,
          2.90234375,
          0.7783203125,
          3.037109375,
          4.7578125,
          3.8515625,
          2.4296875,
          7.4296875,
          5.73828125,
          6.078125,
          4.83984375,
          6.734375,
          5.44921875,
          6.125,
          5.56640625,
          6.484375,
          6.2578125,
          5.859375,
          5.28125,
          3.14453125,
          2.263671875,
          2,
          2.986328125
         ]
        },
        {
         "line": {
          "color": "#1f77b4"
         },
         "mode": "lines",
         "type": "scatter3d",
         "x": [
          7.07421875,
          7.37890625,
          6.59375,
          7.63671875,
          -0.412109375,
          0.36083984375,
          0.986328125,
          1.873046875,
          3.05859375,
          0.0496826171875,
          0.45703125,
          0.380126953125,
          -1.3642578125,
          0.34814453125,
          0.4326171875,
          -1.978515625,
          -0.62548828125,
          -0.8125,
          -0.322509765625,
          1.70703125,
          0.9208984375,
          4.34765625,
          3.15625,
          2.251953125,
          -7.140625,
          -6.4296875,
          -1.763671875,
          -1.984375,
          2.419921875,
          2.564453125,
          0.99755859375,
          1.224609375,
          -1.408203125,
          -1.37890625,
          -1.578125,
          -1.6142578125,
          5.734375,
          7.296875,
          5.7890625,
          6.79296875
         ],
         "y": [
          11.671875,
          12.984375,
          12.2578125,
          11.78125,
          4.328125,
          5.27734375,
          5.58203125,
          5.3046875,
          9.5703125,
          5.59765625,
          3.443359375,
          4.99609375,
          0.392578125,
          0.8154296875,
          -2.1796875,
          -4.55078125,
          -4.625,
          -4.27734375,
          -1.505859375,
          -0.86962890625,
          3.87890625,
          3.568359375,
          0.050506591796875,
          -1.92578125,
          -8.1640625,
          -8.875,
          -3.640625,
          -3.86328125,
          -0.73095703125,
          1.1044921875,
          0.322998046875,
          -0.765625,
          9.3671875,
          8.296875,
          4.4921875,
          1.0009765625,
          9.5,
          11.171875,
          9.109375,
          9.265625
         ],
         "z": [
          4.9609375,
          6.10546875,
          6.578125,
          5.98828125,
          1.7919921875,
          2.0078125,
          2.82421875,
          4.16015625,
          3.001953125,
          2.380859375,
          -0.85107421875,
          -0.1737060546875,
          4.06640625,
          3.2109375,
          2.17578125,
          1.8837890625,
          4.4296875,
          5.86328125,
          6.8515625,
          5.62890625,
          5.29296875,
          5.1796875,
          6.2734375,
          6.30078125,
          3.90234375,
          4.3203125,
          5.9140625,
          8.1953125,
          5.359375,
          5.39453125,
          5.62890625,
          5.828125,
          2.353515625,
          4.1953125,
          5.34375,
          6.98828125,
          4.02734375,
          6.09375,
          5.1015625,
          4.2265625
         ]
        },
        {
         "line": {
          "color": "#ff7f0e"
         },
         "mode": "lines",
         "type": "scatter3d",
         "x": [
          0.381103515625,
          -2.142578125,
          -2.3515625,
          -1.9716796875,
          3.0234375,
          1.8876953125,
          -1.201171875,
          -2.181640625,
          3.78125,
          2.84375,
          3.583984375,
          2.203125,
          1.056640625,
          2.505859375,
          2.853515625,
          3.0703125,
          1.189453125,
          0.7197265625,
          -0.472900390625,
          2.158203125,
          -0.8564453125,
          1.1142578125,
          -0.658203125,
          -2.724609375,
          0.38232421875,
          -1.9541015625,
          -1.4248046875,
          -2.498046875,
          -0.407958984375,
          -0.626953125,
          -2.58984375,
          -3.27734375,
          3.341796875,
          2.376953125,
          1.771484375,
          2.630859375,
          -2.671875,
          -3.1171875,
          -1.046875,
          -1.2216796875,
          -2.86328125,
          -3.986328125,
          -1.2177734375,
          -3.45703125
         ],
         "y": [
          6.04296875,
          2.6875,
          6.69140625,
          9.6796875,
          2.7109375,
          1.8369140625,
          -1.4169921875,
          -2.56640625,
          0.6689453125,
          1.14453125,
          0.129638671875,
          -3.611328125,
          -0.57275390625,
          2.46484375,
          5.3359375,
          3.369140625,
          1.533203125,
          -1.505859375,
          -2.85546875,
          -2.34765625,
          8.1640625,
          8.5078125,
          0.347412109375,
          -7.0859375,
          -4.015625,
          -6.6640625,
          -7.05859375,
          -6.390625,
          -4.53125,
          -4.21484375,
          -5.6484375,
          -4.4296875,
          1.6572265625,
          1.8642578125,
          0.58056640625,
          0.3349609375,
          -8.4921875,
          -7.625,
          -6.10546875,
          -8.8046875,
          -6.296875,
          -5.83984375,
          -4.1875,
          -3.64453125
         ],
         "z": [
          2.23828125,
          0.061126708984375,
          -0.302978515625,
          1.0234375,
          5.2578125,
          6.03125,
          6.0859375,
          3.95703125,
          6.84375,
          6.48046875,
          7.23828125,
          7.28125,
          2.65234375,
          3.537109375,
          4.19921875,
          2.822265625,
          5.90625,
          6.3671875,
          5.09375,
          4.9375,
          2.841796875,
          3.568359375,
          2.96484375,
          2.1953125,
          2.919921875,
          4.2109375,
          4.62109375,
          2.998046875,
          2.21484375,
          3.314453125,
          2.7109375,
          1.884765625,
          11.0234375,
          11.4765625,
          10.6171875,
          8.8515625,
          1.345703125,
          1.5712890625,
          2.611328125,
          2.140625,
          4.703125,
          6.5078125,
          3.9765625,
          3.392578125
         ]
        },
        {
         "line": {
          "color": "#2ca02c"
         },
         "mode": "lines",
         "type": "scatter3d",
         "x": [
          -1.8857421875,
          -1.0546875,
          1.1494140625,
          -0.4150390625,
          -2.791015625,
          -4.44140625,
          -5.0625,
          -4.7421875,
          -2.26953125,
          -0.94873046875,
          -2.970703125,
          -4.4296875,
          -0.486572265625,
          -2.37109375,
          0.0261688232421875,
          -1.4677734375,
          -4.74609375,
          -4.01171875,
          -3.5859375,
          -2.73046875,
          5.2265625,
          3.048828125,
          1.76171875,
          0.8857421875,
          -0.0127716064453125,
          -0.54931640625,
          0.7724609375,
          -0.7080078125,
          2.462890625,
          1.7763671875,
          0.29541015625,
          1.5625,
          -2.400390625,
          -1.666015625,
          -3.453125,
          -5.30859375
         ],
         "y": [
          -1.6259765625,
          -2.9140625,
          0.29833984375,
          -1.2255859375,
          -5.9453125,
          -5.03125,
          -4.08984375,
          -4.140625,
          -3.953125,
          -5.06640625,
          -7.9296875,
          -6.04296875,
          -1.8916015625,
          -2.556640625,
          -2.1171875,
          -4.55078125,
          -1.38671875,
          -3.267578125,
          -6.00390625,
          -3.087890625,
          -0.71337890625,
          -5.63671875,
          -6.07421875,
          -6.46484375,
          -1.216796875,
          0.242431640625,
          0.6767578125,
          -1.2275390625,
          1.21875,
          2.54296875,
          2.025390625,
          3.17578125,
          0.263916015625,
          2.921875,
          -1.2265625,
          -3.341796875
         ],
         "z": [
          0.94140625,
          0.7216796875,
          2.88671875,
          2.478515625,
          2.2734375,
          1.8994140625,
          2.203125,
          2.94921875,
          4.34765625,
          3.826171875,
          4.70703125,
          4.75,
          2.01171875,
          2.15234375,
          2.615234375,
          2.857421875,
          -0.017425537109375,
          1.021484375,
          0.60546875,
          3.7578125,
          4.6171875,
          3.396484375,
          3.095703125,
          3.66015625,
          4.40234375,
          4.29296875,
          5.046875,
          4.28515625,
          5,
          5.49609375,
          5.41796875,
          5.75,
          4.3046875,
          6.20703125,
          5.17578125,
          4.96484375
         ]
        },
        {
         "line": {
          "color": "#d62728"
         },
         "mode": "lines",
         "type": "scatter3d",
         "x": [
          8.1796875,
          6.2578125,
          5.20703125,
          4.07421875,
          -0.89111328125,
          0.459228515625,
          -0.1673583984375,
          -0.8359375,
          -1.2509765625,
          -3.26171875,
          -1.76953125,
          -1.6875,
          -0.2279052734375,
          -2.0703125,
          -1.822265625,
          -1.212890625,
          -1.64453125,
          -1.0634765625,
          -1.50390625,
          -1.818359375,
          -0.86083984375,
          -0.541015625,
          -0.148681640625,
          -2.009765625,
          -2.14453125,
          -1.8271484375,
          -2.009765625,
          -1.4873046875,
          0.37353515625,
          0.732421875,
          -0.398681640625,
          -1.3564453125,
          -1.138671875,
          -0.2242431640625,
          1.9541015625,
          3.310546875
         ],
         "y": [
          9.8828125,
          7.8828125,
          5.12109375,
          2.533203125,
          4.16015625,
          4.828125,
          0.11492919921875,
          -1.6875,
          -3.369140625,
          -7.56640625,
          -5.46484375,
          -8.0859375,
          -0.5185546875,
          -2.603515625,
          -3.38671875,
          -2.8515625,
          -7,
          -6.29296875,
          -3.419921875,
          -2.62890625,
          1.4150390625,
          0.480224609375,
          0.6240234375,
          0.047698974609375,
          -1.1796875,
          -0.9482421875,
          -0.55810546875,
          1.0966796875,
          0.11480712890625,
          0.0143890380859375,
          -2.556640625,
          -6.26171875,
          13.53125,
          13.5390625,
          15.65625,
          15.8359375
         ],
         "z": [
          8.984375,
          9.1953125,
          9.1484375,
          7.359375,
          6.26171875,
          6.4140625,
          6.26953125,
          5.92578125,
          -0.525390625,
          0.99462890625,
          0.70654296875,
          2.0078125,
          5.609375,
          5.359375,
          5.1953125,
          4.83984375,
          2.68359375,
          2.455078125,
          5.3359375,
          5.51171875,
          2.4921875,
          2.669921875,
          3.388671875,
          3.357421875,
          4.41015625,
          5.95703125,
          4.79296875,
          6.20703125,
          2.853515625,
          3.111328125,
          2.611328125,
          3.5625,
          1.771484375,
          3.05078125,
          3.16796875,
          4
         ]
        },
        {
         "line": {
          "color": "#9467bd"
         },
         "mode": "lines",
         "type": "scatter3d",
         "x": [
          -0.42724609375,
          -1.197265625,
          0.127685546875,
          1.4609375,
          3.578125,
          4.46484375,
          4.671875,
          3.841796875,
          0.908203125,
          2.4609375,
          5.3984375,
          2.90625,
          -2.30078125,
          -0.88134765625,
          -2.796875,
          -4.62109375,
          3.541015625,
          2.302734375,
          4.88671875,
          5.19140625,
          1.6103515625,
          2.96875,
          3.615234375,
          2.71484375,
          -3.478515625,
          -4.02734375,
          -1.509765625,
          -0.88916015625,
          -0.84765625,
          1.7109375,
          2.205078125,
          -0.533203125,
          1.7197265625,
          0.03564453125,
          0.77685546875,
          -1.466796875
         ],
         "y": [
          0.73291015625,
          0.1263427734375,
          1.7001953125,
          4.3046875,
          4.15625,
          4.703125,
          5.38671875,
          2.1875,
          16.953125,
          11.6171875,
          9.6484375,
          1.4462890625,
          6.9375,
          5.078125,
          3.671875,
          -1.9306640625,
          3.18359375,
          2.73828125,
          8.0546875,
          7.05859375,
          1.6748046875,
          3.978515625,
          5.15625,
          3.216796875,
          -5.265625,
          -6.453125,
          -3.404296875,
          -2.578125,
          -5.57421875,
          -2.509765625,
          -0.9892578125,
          -4.39453125,
          1.4091796875,
          2.185546875,
          7.34375,
          4.3828125
         ],
         "z": [
          3.240234375,
          3.3671875,
          4.61328125,
          5.88671875,
          3.59765625,
          4.1875,
          4.58984375,
          3.869140625,
          4.28125,
          3.849609375,
          4.67578125,
          4.60546875,
          2.6796875,
          3.0234375,
          4.19140625,
          4.0234375,
          6.8125,
          6.6328125,
          6.25390625,
          6.875,
          5.9921875,
          8.265625,
          8.1171875,
          6.7734375,
          6.94140625,
          5.36328125,
          6.1875,
          6.0390625,
          2.072265625,
          2.70703125,
          4.09765625,
          3.72265625,
          6.9375,
          6.046875,
          5,
          4.875
         ]
        },
        {
         "line": {
          "color": "#8c564b"
         },
         "mode": "lines",
         "type": "scatter3d",
         "x": [
          4.734375,
          3.76953125,
          5.40625,
          6.36328125,
          -1.931640625,
          -0.974609375,
          -2.037109375,
          -2.28125,
          -0.28857421875,
          2.35546875,
          2,
          0.998046875,
          -1.2255859375,
          -0.17529296875,
          -2.134765625,
          -2.03515625,
          -0.94580078125,
          -0.6806640625,
          -0.295654296875,
          -0.8544921875,
          3.548828125,
          4.890625,
          6.89453125,
          4.77734375,
          -0.77978515625,
          -2.544921875,
          -3.126953125,
          -1.669921875,
          2.86328125,
          3.826171875,
          2.767578125,
          4.1171875,
          1.025390625,
          1.203125,
          2.01171875,
          4.3125,
          -2.087890625,
          -0.23046875,
          -1.5888671875,
          -3.03125,
          0.92626953125,
          -0.6025390625,
          -3.36328125,
          -6.26953125
         ],
         "y": [
          8.4140625,
          8.3828125,
          8.78125,
          10.4609375,
          -0.389404296875,
          -1.1796875,
          -2.87109375,
          -4.72265625,
          6.70703125,
          7.0546875,
          5.91796875,
          5.62890625,
          6.5859375,
          3.509765625,
          3.029296875,
          1.10546875,
          -4.88671875,
          -4.1875,
          -2.74609375,
          -3.541015625,
          -0.5,
          1.1923828125,
          1.7138671875,
          -0.00469207763671875,
          3.66796875,
          1.7998046875,
          -0.355224609375,
          -0.53759765625,
          9.6328125,
          10.4296875,
          7.8046875,
          4.99609375,
          6.4140625,
          7.24609375,
          6.30078125,
          8.453125,
          0.348388671875,
          4.58984375,
          3.3359375,
          2.552734375,
          3.453125,
          1.66796875,
          1.9306640625,
          0.07183837890625
         ],
         "z": [
          3.47265625,
          4.625,
          8.078125,
          8.34375,
          2.021484375,
          3.39453125,
          1.5556640625,
          1.6201171875,
          5.34765625,
          6.81640625,
          5.93359375,
          5.4609375,
          5.40625,
          5.390625,
          6.6015625,
          7.55078125,
          1.89453125,
          4.265625,
          4.578125,
          5.4296875,
          2.732421875,
          2.939453125,
          3.41015625,
          2.40625,
          3.126953125,
          3.08203125,
          3.8515625,
          5.1328125,
          1.98828125,
          1.61328125,
          2.55859375,
          3.03125,
          3.99609375,
          4.29296875,
          4.3515625,
          5.15234375,
          4.52734375,
          3.681640625,
          3,
          3.69140625,
          6,
          5.75,
          5.03515625,
          6.22265625
         ]
        },
        {
         "line": {
          "color": "#e377c2"
         },
         "mode": "lines",
         "type": "scatter3d",
         "x": [
          5.74609375,
          6.78125,
          6.296875,
          2.458984375,
          -0.59423828125,
          -3.509765625,
          -3.73046875,
          -3.013671875,
          5.15234375,
          2.935546875,
          3.6328125,
          2.01953125,
          -0.98046875,
          0.52001953125,
          2.533203125,
          3.046875,
          1.1611328125,
          0.19677734375,
          -0.1629638671875,
          0.101318359375,
          -1.4052734375,
          -1.138671875,
          0.316162109375,
          -0.11688232421875,
          -2.775390625,
          -2.2890625,
          -1.470703125,
          -1.3876953125,
          -2.5078125,
          -3.02734375,
          -1.3447265625,
          0.0093841552734375,
          -1.71484375,
          -2.03515625,
          -2.34765625,
          -2.716796875,
          4.2890625,
          4.57421875,
          1.0322265625,
          1.4892578125
         ],
         "y": [
          10.375,
          12.03125,
          11.3203125,
          8.078125,
          4.4140625,
          -1.134765625,
          -5.375,
          -6.609375,
          -1.6513671875,
          -3.021484375,
          -0.7841796875,
          1.4482421875,
          1.724609375,
          2.572265625,
          3.0703125,
          1.9931640625,
          2.09375,
          -0.54443359375,
          0.72705078125,
          0.268310546875,
          -1.3896484375,
          -2.046875,
          -2.517578125,
          -3.916015625,
          -0.79736328125,
          -2.3515625,
          -0.4248046875,
          -0.66162109375,
          -2.423828125,
          -3.87109375,
          -3.970703125,
          -3.07421875,
          -0.6240234375,
          -1.765625,
          -2.51171875,
          -3.314453125,
          2.66015625,
          5.5390625,
          1.10546875,
          0.83935546875
         ],
         "z": [
          9.3671875,
          8.78125,
          7.92578125,
          7.5390625,
          4.73046875,
          4.0234375,
          5.99609375,
          7.0390625,
          4.2109375,
          3.759765625,
          2.83984375,
          3.4921875,
          3.1953125,
          2.931640625,
          4.66796875,
          5.59765625,
          0.06854248046875,
          2.06640625,
          3.04296875,
          2.65234375,
          3.677734375,
          4.078125,
          5.359375,
          6.625,
          2.740234375,
          1.318359375,
          0.65185546875,
          -0.0309295654296875,
          3.62890625,
          3.2578125,
          3.70703125,
          4.25390625,
          3.814453125,
          4.3671875,
          5.1171875,
          3.876953125,
          6.35546875,
          7.4375,
          7.64453125,
          7.28125
         ]
        },
        {
         "line": {
          "color": "#7f7f7f"
         },
         "mode": "lines",
         "type": "scatter3d",
         "x": [
          -9.9140625,
          -4.96875,
          -1.8564453125,
          -0.0091552734375,
          -0.038360595703125,
          0.38671875,
          2.49609375,
          2.994140625,
          5.64453125,
          6.015625,
          5.28125,
          6.03125,
          -1.7001953125,
          -3.66015625,
          -3.455078125,
          -1.400390625,
          -1.2587890625,
          -2.8203125,
          -3.109375,
          -3.8671875,
          -0.5439453125,
          -1.8076171875,
          -1.1640625,
          -1.4833984375,
          1.7685546875,
          1.4150390625,
          -0.385498046875,
          -0.28515625,
          1.798828125,
          1.939453125,
          1.8359375,
          -0.194580078125,
          1.0380859375,
          -0.8154296875,
          -0.85791015625,
          -1.021484375,
          1.4609375,
          1.61328125,
          0.6787109375,
          2.16015625
         ],
         "y": [
          -6.24609375,
          0.72265625,
          1.8818359375,
          1.3017578125,
          1.83984375,
          -1.7607421875,
          -0.332763671875,
          -1.5107421875,
          12.9765625,
          14.140625,
          11.046875,
          8.609375,
          -3.998046875,
          -8.109375,
          -9.765625,
          -6.296875,
          -2.830078125,
          -2.755859375,
          -0.9892578125,
          -4.84375,
          7.2265625,
          1.8291015625,
          4.08984375,
          2.40625,
          1.677734375,
          -0.748046875,
          -3.693359375,
          -2.5546875,
          -2.296875,
          1.19921875,
          0.89013671875,
          -0.04931640625,
          -0.48876953125,
          -3.609375,
          -0.67138671875,
          -2.408203125,
          -0.06280517578125,
          -0.55517578125,
          -1.732421875,
          -2.123046875
         ],
         "z": [
          3.30859375,
          3.76953125,
          3.98046875,
          3.87109375,
          5.6328125,
          4.8046875,
          4.875,
          5.6015625,
          5.9453125,
          6.04296875,
          6.2890625,
          6.2578125,
          0.7314453125,
          -0.226318359375,
          0.11962890625,
          1.8291015625,
          2.646484375,
          4.12890625,
          4.09375,
          2.552734375,
          1.8623046875,
          1.796875,
          3.326171875,
          4.08203125,
          5.3125,
          6.3515625,
          4.27734375,
          3.71484375,
          2.048828125,
          3.0546875,
          3.517578125,
          3.66796875,
          4.5234375,
          3.328125,
          4.89453125,
          5.8984375,
          5.52734375,
          4.765625,
          6.4375,
          6.359375
         ]
        },
        {
         "line": {
          "color": "#1f77b4"
         },
         "mode": "lines",
         "type": "scatter3d",
         "x": [
          -4.78515625,
          -2.158203125,
          -1.380859375,
          0.66845703125,
          -0.8271484375,
          -1.7431640625,
          -0.4716796875,
          1.89453125,
          0.43359375,
          -1.001953125,
          0.57958984375,
          1.0234375,
          3.744140625,
          3.83984375,
          4.703125,
          3.443359375,
          -0.0625,
          0.962890625,
          1.7724609375,
          2.87890625,
          -2.427734375,
          -0.60009765625,
          0.29345703125,
          1.1767578125,
          -0.365478515625,
          2.162109375,
          3.208984375,
          2.517578125,
          1.25390625,
          -0.38232421875,
          -1.58984375,
          -3.552734375,
          -0.62841796875,
          -1.787109375,
          0.497314453125,
          2.568359375,
          -0.7587890625,
          -0.0560302734375,
          -0.365234375,
          -1.439453125
         ],
         "y": [
          -6.26953125,
          -6.91796875,
          -5.33203125,
          -0.40478515625,
          -3.04296875,
          -0.4541015625,
          2.787109375,
          2.490234375,
          -1.330078125,
          1.7001953125,
          4.03125,
          3.943359375,
          2.5234375,
          4.6171875,
          2.41015625,
          -0.203125,
          2.52734375,
          6.265625,
          8.203125,
          8.59375,
          -1.6484375,
          1.7333984375,
          -1.4423828125,
          -1.4228515625,
          -1.99609375,
          1.7412109375,
          -0.2061767578125,
          -0.12359619140625,
          0.521484375,
          -1.0068359375,
          -1.3447265625,
          -3.66796875,
          2.216796875,
          1.5947265625,
          1.646484375,
          1.5927734375,
          7.6796875,
          6.14453125,
          4.7109375,
          0.84814453125
         ],
         "z": [
          3.07421875,
          3.75,
          3.48046875,
          3.697265625,
          6.0390625,
          8.2421875,
          8,
          7.55859375,
          4.23828125,
          6.9609375,
          7.36328125,
          6.61328125,
          5.04296875,
          8.640625,
          6.96484375,
          6.63671875,
          5.83984375,
          5.15625,
          4.3125,
          4.50390625,
          3.861328125,
          4.4765625,
          4.203125,
          3.814453125,
          0.333740234375,
          0.7626953125,
          0.9873046875,
          0.339599609375,
          5.83203125,
          4.67578125,
          5.21484375,
          4.3515625,
          3.28125,
          4.65234375,
          4.84765625,
          4.5703125,
          8.640625,
          7.4140625,
          6.63671875,
          7.671875
         ]
        },
        {
         "line": {
          "color": "#ff7f0e"
         },
         "mode": "lines",
         "type": "scatter3d",
         "x": [
          -1.390625,
          -2.82421875,
          -3.328125,
          -1.568359375,
          0.3828125,
          0.8837890625,
          -0.0499267578125,
          -0.272705078125,
          -0.6396484375,
          -1.7255859375,
          -2.158203125,
          -2.595703125,
          -3.0078125,
          -1.048828125,
          -2.376953125,
          -0.802734375,
          -0.311767578125,
          1.9033203125,
          2.150390625,
          0.018157958984375,
          -2.34765625,
          -4.359375,
          -5.1640625,
          -4.03125,
          -1.384765625,
          -1.478515625,
          -0.65234375,
          0.13623046875,
          -3.30078125,
          -1.4140625,
          1.58203125,
          0.34130859375,
          -3.228515625,
          -4.39453125,
          -3.005859375,
          0.94482421875
         ],
         "y": [
          -2.517578125,
          -4.88671875,
          -6.54296875,
          -5.18359375,
          -1.193359375,
          2.37890625,
          0.47705078125,
          -0.916015625,
          -4.1171875,
          -3.203125,
          -4.90625,
          -4.40234375,
          -1.37109375,
          -0.0306549072265625,
          -0.40087890625,
          2.38671875,
          0.1275634765625,
          2.900390625,
          4.578125,
          0.9111328125,
          -11.125,
          -10.3359375,
          -6.55859375,
          -4.41796875,
          3.173828125,
          6.1875,
          4.0234375,
          3.423828125,
          2.978515625,
          3.765625,
          0.7314453125,
          -5.84765625,
          -1.9296875,
          -7.546875,
          -8.109375,
          -7.19921875
         ],
         "z": [
          4.3828125,
          3.81640625,
          1.7763671875,
          2.099609375,
          4.6484375,
          5.78125,
          4.3359375,
          3.7421875,
          2.1796875,
          4.37109375,
          2.640625,
          1.8154296875,
          5.77734375,
          5.59765625,
          5.60546875,
          7.28515625,
          5.91015625,
          6.5390625,
          7.12109375,
          7.53515625,
          4.26953125,
          4.21875,
          6.01171875,
          4.59765625,
          4.09765625,
          4.78515625,
          5.3984375,
          6.4921875,
          11,
          10.5859375,
          7.73828125,
          6.16796875,
          4.38671875,
          3.91796875,
          3.755859375,
          3.81640625
         ]
        },
        {
         "line": {
          "color": "#2ca02c"
         },
         "mode": "lines",
         "type": "scatter3d",
         "x": [
          -3.220703125,
          -3.240234375,
          -3.9296875,
          -3.439453125,
          0.429443359375,
          -0.3037109375,
          -0.56201171875,
          -1.5458984375,
          -0.250732421875,
          -0.382080078125,
          -1.5791015625,
          -0.39111328125,
          5.0625,
          3.78125,
          3.794921875,
          1.7490234375,
          2.908203125,
          2.5859375,
          1.8037109375,
          1.2568359375,
          -0.8056640625,
          -1.5302734375,
          -0.75537109375,
          0.478515625,
          -6.46875,
          -7.2578125,
          -6.859375,
          -5.9765625,
          0.327392578125,
          -0.061676025390625,
          -1.73828125,
          -2.466796875,
          -5.9375,
          -2.828125,
          -0.9541015625,
          -1.396484375
         ],
         "y": [
          -3.0703125,
          0.4794921875,
          -1.7373046875,
          -3.568359375,
          -10.328125,
          -9.890625,
          -8.5859375,
          -8.46875,
          6.5625,
          7.09765625,
          5.87109375,
          5.5625,
          3.361328125,
          2.279296875,
          1.7353515625,
          -0.491455078125,
          0.197265625,
          -0.08416748046875,
          0.54052734375,
          0.7783203125,
          -4.5546875,
          -4.51171875,
          -0.83154296875,
          0.1534423828125,
          -6.9375,
          -11.359375,
          -12.453125,
          -15.78125,
          3.259765625,
          3.896484375,
          0.92724609375,
          -3.1953125,
          -9.4140625,
          -2.68359375,
          -0.4033203125,
          -1.7939453125
         ],
         "z": [
          4.140625,
          4.4921875,
          3.720703125,
          3.87109375,
          0.705078125,
          0.833984375,
          1.0576171875,
          0.9462890625,
          5.546875,
          5.7734375,
          6.98046875,
          8.703125,
          3.453125,
          3.78125,
          4.44140625,
          5.359375,
          4.9140625,
          4.68359375,
          5.5,
          5.484375,
          -1.0732421875,
          -2.720703125,
          1.6171875,
          2.111328125,
          4.3203125,
          4.01953125,
          5.28515625,
          1.77734375,
          5.7265625,
          6.90625,
          7.37109375,
          5.94921875,
          0.98828125,
          3.9765625,
          4.76953125,
          3.255859375
         ]
        },
        {
         "line": {
          "color": "#d62728"
         },
         "mode": "lines",
         "type": "scatter3d",
         "x": [
          0.9423828125,
          1.552734375,
          -1.2685546875,
          -3.728515625,
          -1.0927734375,
          -1.4775390625,
          0.79736328125,
          -1.1083984375,
          0.97998046875,
          1.7734375,
          0.6435546875,
          1.8583984375,
          -3.103515625,
          -4.34765625,
          -5.0703125,
          -5.14453125,
          -3.2734375,
          -1.7783203125,
          0.1055908203125,
          1.2685546875,
          -2.95703125,
          -1.3349609375,
          -0.505859375,
          -0.232666015625,
          -1.982421875,
          -0.638671875,
          0.219482421875,
          -1.857421875,
          0.50634765625,
          0.340087890625,
          0.052093505859375,
          -2.955078125,
          -1.6953125,
          -0.30126953125,
          -0.415283203125,
          1.0419921875,
          -0.220458984375,
          1.4208984375,
          3.3828125,
          1.9580078125
         ],
         "y": [
          0.92919921875,
          0.02081298828125,
          -0.260986328125,
          -2.224609375,
          -5.00390625,
          -2.853515625,
          -5.35546875,
          -4.87890625,
          4.11328125,
          3.3046875,
          1.4052734375,
          4.890625,
          -0.29931640625,
          2.134765625,
          0.1297607421875,
          -1.681640625,
          2.806640625,
          3.673828125,
          2.896484375,
          2.42578125,
          -6.87890625,
          -5.1640625,
          -6.34375,
          -6.296875,
          3.837890625,
          3.029296875,
          0.8017578125,
          -1.033203125,
          -2.359375,
          -1.833984375,
          0.08709716796875,
          -3.01953125,
          -1.06640625,
          0.0838623046875,
          -0.184814453125,
          -3.80078125,
          -0.58447265625,
          1.1220703125,
          1.01171875,
          1.9794921875
         ],
         "z": [
          6.66796875,
          5.20703125,
          5.1640625,
          5.02734375,
          5.83203125,
          7.03125,
          4.8125,
          4.66015625,
          4.796875,
          3.1796875,
          5.1796875,
          7.52734375,
          8.484375,
          10.3359375,
          8.5,
          7.640625,
          0.459228515625,
          -1.123046875,
          1.775390625,
          3.884765625,
          3.685546875,
          5.07421875,
          2.40234375,
          2.732421875,
          6.59765625,
          6.11328125,
          4.6640625,
          3.97265625,
          4.765625,
          4.65234375,
          5.16796875,
          3.12890625,
          3.841796875,
          4.3359375,
          4.7421875,
          4.3046875,
          4.1953125,
          3.25390625,
          2.23046875,
          3.333984375
         ]
        },
        {
         "line": {
          "color": "#9467bd"
         },
         "mode": "lines",
         "type": "scatter3d",
         "x": [
          0.73486328125,
          -1.8388671875,
          -2.486328125,
          -1.794921875,
          -0.255615234375,
          1.4365234375,
          2.89453125,
          3.4765625,
          -4.92578125,
          -1.1630859375,
          -1.541015625,
          -0.87158203125,
          1.767578125,
          2.052734375,
          -0.5517578125,
          -1.5361328125,
          0.8505859375,
          0.1466064453125,
          0.8193359375,
          0.849609375,
          0.7939453125,
          0.654296875,
          1.45703125,
          0.6962890625,
          -0.379150390625,
          -1.01171875,
          0.37451171875,
          -0.83349609375,
          1.669921875,
          3.95703125,
          0.5751953125,
          -0.402587890625,
          -0.755859375,
          -2.3203125,
          -1.4541015625,
          -0.58447265625
         ],
         "y": [
          5.25,
          4.21484375,
          2.857421875,
          0.6650390625,
          7.296875,
          6.0625,
          4.796875,
          7.15625,
          0.72119140625,
          1.6875,
          2.77734375,
          0.266845703125,
          2.033203125,
          -1.7373046875,
          -5.3984375,
          -6.75,
          1.0166015625,
          -4.34375,
          -1.2333984375,
          0.71728515625,
          1.1748046875,
          2.41015625,
          3.01171875,
          4.93359375,
          -5.609375,
          0.2252197265625,
          -0.2261962890625,
          -2.873046875,
          7.4140625,
          9.7734375,
          6.08203125,
          2.533203125,
          -2.37890625,
          0.841796875,
          1.818359375,
          2.2421875
         ],
         "z": [
          8.2265625,
          9.5,
          10.78125,
          10.3125,
          5.50390625,
          6.11328125,
          5.1640625,
          3.40625,
          5.58203125,
          6.125,
          5.58203125,
          3.201171875,
          3.46875,
          1.076171875,
          0.32763671875,
          1.4013671875,
          4.0546875,
          4.234375,
          2.193359375,
          3.576171875,
          3.271484375,
          3.134765625,
          2.580078125,
          6.5625,
          -0.560546875,
          1.7802734375,
          0.72314453125,
          1.6494140625,
          12.125,
          13.2265625,
          12.078125,
          8.75,
          3.119140625,
          4.14453125,
          4.00390625,
          5.54296875
         ]
        },
        {
         "line": {
          "color": "#8c564b"
         },
         "mode": "lines",
         "type": "scatter3d",
         "x": [
          1.8828125,
          -0.3466796875,
          -0.63671875,
          -0.48291015625,
          3.5,
          2.234375,
          1.01171875,
          -1.376953125,
          2.24609375,
          2.80078125,
          5.6328125,
          5.93359375,
          2.615234375,
          5.4140625,
          6.08984375,
          3.3125,
          0.75244140625,
          -1.849609375,
          0.388916015625,
          0.73583984375,
          2.580078125,
          0.5498046875,
          -1.2421875,
          -1.447265625,
          -4.90625,
          -6.48046875,
          -7.9921875,
          -7.51171875,
          1.20703125,
          -1.20703125,
          -3.984375,
          -4.32421875,
          1.0166015625,
          2.39453125,
          1.6181640625,
          0.97021484375,
          0.1422119140625,
          -2.275390625,
          -0.1717529296875,
          1.57421875
         ],
         "y": [
          0.1346435546875,
          0.419189453125,
          -2.859375,
          -4.50390625,
          4.68359375,
          5.17578125,
          8.8359375,
          5.31640625,
          3.4375,
          4.453125,
          7.75390625,
          7.85546875,
          4.48828125,
          6.64453125,
          6.55078125,
          4.640625,
          -4.5,
          -8.578125,
          -6.09765625,
          -4.02734375,
          3.912109375,
          -1.3330078125,
          1.318359375,
          -2.4140625,
          -6.8359375,
          -5.171875,
          -4.37109375,
          -1.794921875,
          1.486328125,
          1.5771484375,
          -1.6279296875,
          0.357177734375,
          -0.467529296875,
          0.619140625,
          1.828125,
          3.357421875,
          -2.373046875,
          -1.845703125,
          0.84716796875,
          -0.6396484375
         ],
         "z": [
          5.10546875,
          5.4609375,
          3.0859375,
          3.666015625,
          6.328125,
          6.99609375,
          8.7734375,
          6.140625,
          3.876953125,
          3.48828125,
          4.32421875,
          3.49609375,
          4.76953125,
          4.140625,
          4.828125,
          4.9453125,
          4.78125,
          2.3515625,
          3.861328125,
          5.12890625,
          8.828125,
          7.515625,
          8.953125,
          9.25,
          0.87548828125,
          2.375,
          3.400390625,
          4.921875,
          5.40234375,
          4.875,
          4.1875,
          5.625,
          1.55859375,
          4.05078125,
          4.01953125,
          4.22265625,
          2.37109375,
          3.75,
          3.451171875,
          0.77587890625
         ]
        },
        {
         "line": {
          "color": "#e377c2"
         },
         "mode": "lines",
         "type": "scatter3d",
         "x": [
          -2.748046875,
          -0.74853515625,
          -1.4921875,
          -2.400390625,
          -7.24609375,
          -3.69140625,
          -3.056640625,
          -1.01953125,
          1.3203125,
          2.626953125,
          2.30078125,
          3.515625,
          4.19921875,
          4.15234375,
          5.32421875,
          3.2109375,
          -2.546875,
          -7.02734375,
          -5.40625,
          -1.7763671875,
          3.0625,
          6.91015625,
          6.3125,
          4.96484375,
          0.70556640625,
          -0.254638671875,
          1.8857421875,
          -0.2467041015625,
          -4.1796875,
          -1.0341796875,
          0.4091796875,
          -0.18115234375,
          -2.626953125,
          -2.609375,
          -1.279296875,
          -1.021484375,
          2.802734375,
          1.609375,
          1.578125,
          -0.0303497314453125
         ],
         "y": [
          -1.169921875,
          1.02734375,
          3.69921875,
          4.01953125,
          -0.87646484375,
          2.951171875,
          -1.8642578125,
          -0.89794921875,
          3.640625,
          2.638671875,
          1.8154296875,
          0.873046875,
          0.68505859375,
          -4.4453125,
          -2.849609375,
          -4.14453125,
          1.31640625,
          1.7080078125,
          3.8125,
          3.642578125,
          4.90234375,
          7.46484375,
          5.60546875,
          5.4375,
          1.8125,
          -1.5947265625,
          -0.393798828125,
          -1.375,
          -2.671875,
          -4.0546875,
          -5.6484375,
          -5.5546875,
          3.076171875,
          3.728515625,
          2.103515625,
          2.708984375,
          2.1953125,
          2.904296875,
          1.5673828125,
          -3.57421875
         ],
         "z": [
          2.44921875,
          3.146484375,
          5.2109375,
          5.94921875,
          8.5390625,
          10.9296875,
          9.3125,
          7.66015625,
          4.70703125,
          4.125,
          2.81640625,
          0.90283203125,
          3.220703125,
          1.7919921875,
          3.015625,
          3.20703125,
          2.84765625,
          3.01953125,
          3.857421875,
          2.763671875,
          4.34765625,
          3.505859375,
          3.498046875,
          3.890625,
          0.544921875,
          1.1865234375,
          2.580078125,
          2.865234375,
          6.93359375,
          5.66796875,
          5.87890625,
          4.609375,
          5.9296875,
          6.921875,
          4.68359375,
          3.86328125,
          5.1875,
          4.8125,
          5.68359375,
          3.18359375
         ]
        },
        {
         "line": {
          "color": "#7f7f7f"
         },
         "mode": "lines",
         "type": "scatter3d",
         "x": [
          1.203125,
          -2.990234375,
          -3.904296875,
          -3.44921875,
          1.6962890625,
          4.90234375,
          5.40234375,
          4.16015625,
          -4.8125,
          -4.12890625,
          -4.3984375,
          -4.69921875,
          1.0380859375,
          3.54296875,
          4.25,
          2.927734375,
          -2.376953125,
          -2.814453125,
          -2.017578125,
          -2.748046875,
          2.255859375,
          2.41796875,
          2.88671875,
          1.53125,
          -0.2413330078125,
          -0.1817626953125,
          2.677734375,
          3.150390625,
          -2.5625,
          0.98779296875,
          -0.31298828125,
          0.53271484375,
          1.6435546875,
          1.3330078125,
          0.85888671875,
          -1.115234375,
          4.47265625,
          4.88671875,
          4.88671875,
          2.46484375
         ],
         "y": [
          -4.546875,
          -7.1875,
          -2.4921875,
          -0.6279296875,
          -3.390625,
          -0.093994140625,
          -0.68701171875,
          -1.388671875,
          -3.13671875,
          -1.44140625,
          -1.232421875,
          -1.435546875,
          1.0283203125,
          0.233154296875,
          1.3212890625,
          -1.830078125,
          -5.94921875,
          -6.171875,
          -2.08984375,
          -1.45703125,
          -0.345947265625,
          2.69140625,
          2.44140625,
          3.501953125,
          3.697265625,
          2.73046875,
          0.457763671875,
          -2.912109375,
          -6.890625,
          -3.0859375,
          -5.57421875,
          -6.2890625,
          2.19140625,
          3.00390625,
          3.208984375,
          1.630859375,
          -2.318359375,
          1.0087890625,
          -0.814453125,
          -0.255859375
         ],
         "z": [
          3.76171875,
          2.513671875,
          4.26171875,
          5.7734375,
          0.3349609375,
          1.2041015625,
          1.8486328125,
          2.162109375,
          2.640625,
          2.203125,
          4.4921875,
          5.015625,
          5.25,
          5.83203125,
          7.07421875,
          5.28515625,
          4.94921875,
          4.90234375,
          6,
          8.0703125,
          2.533203125,
          3.6484375,
          4.82421875,
          4.01953125,
          1.640625,
          0.5009765625,
          0.423828125,
          -0.5556640625,
          6.10546875,
          7.37890625,
          2.779296875,
          0.2088623046875,
          6.91015625,
          7.9609375,
          8.4765625,
          8.828125,
          0.2142333984375,
          -0.11322021484375,
          1.361328125,
          1.224609375
         ]
        },
        {
         "line": {
          "color": "#1f77b4"
         },
         "mode": "lines",
         "type": "scatter3d",
         "x": [
          -0.3759765625,
          -2.734375,
          -1.634765625,
          0.183837890625,
          2.083984375,
          1.4482421875,
          1.203125,
          1.0009765625,
          -1.8095703125,
          0.029541015625,
          -1.0986328125,
          -0.83642578125,
          4.01171875,
          1.3935546875,
          -3.232421875,
          -4.3359375,
          -2.265625,
          -1.3359375,
          0.58056640625,
          0.4453125,
          5.44140625,
          3.625,
          2.802734375,
          2.294921875,
          2.11328125,
          -0.333251953125,
          0.7744140625,
          1.7099609375,
          2.291015625,
          0.875,
          1.38671875,
          3.0625,
          2.23046875,
          3.751953125,
          0.92626953125,
          2.0859375,
          0.342041015625,
          3.23828125,
          3.705078125,
          2.8828125,
          0.412841796875,
          -1.4765625,
          -3.80078125,
          -4.1875
         ],
         "y": [
          8.4140625,
          5.6796875,
          4.98046875,
          2.142578125,
          3.8515625,
          1.701171875,
          -3.18359375,
          -1.8115234375,
          0.15869140625,
          0.12225341796875,
          -1.6728515625,
          0.330810546875,
          9.1328125,
          3.6171875,
          0.78759765625,
          -1.6591796875,
          5.6796875,
          2.693359375,
          3.6640625,
          -0.0049591064453125,
          3.060546875,
          2.22265625,
          0.427734375,
          0.464599609375,
          4.3046875,
          0.61279296875,
          2.873046875,
          3.572265625,
          8.796875,
          2.267578125,
          1.75390625,
          4.33984375,
          1.7666015625,
          4.6640625,
          3.669921875,
          4.08203125,
          -2.203125,
          -0.72412109375,
          4.56640625,
          0.56640625,
          2.05859375,
          0.9609375,
          -0.93798828125,
          0.322998046875
         ],
         "z": [
          8.609375,
          9.109375,
          8.859375,
          7.296875,
          5.34765625,
          5.7734375,
          4.94921875,
          5.515625,
          6.359375,
          5.5859375,
          3.869140625,
          6.55078125,
          3.7109375,
          1.609375,
          2.068359375,
          3.5703125,
          8.3828125,
          6.5703125,
          6.90625,
          4.109375,
          8.703125,
          9.6484375,
          7.859375,
          7.94140625,
          5.7890625,
          5.46875,
          5.390625,
          3.736328125,
          5.94140625,
          3.591796875,
          4.26953125,
          4.13671875,
          5.0390625,
          5.41796875,
          5.94140625,
          7.41015625,
          6.51953125,
          6.40234375,
          7.87109375,
          5.36328125,
          4.0234375,
          3.96484375,
          3.93359375,
          2.458984375
         ]
        },
        {
         "line": {
          "color": "#ff7f0e"
         },
         "mode": "lines",
         "type": "scatter3d",
         "x": [
          -0.56689453125,
          -1.009765625,
          -2.87109375,
          -2.435546875,
          0.5234375,
          0.1336669921875,
          1.8447265625,
          1.55078125,
          -1.8896484375,
          -2.748046875,
          -3.720703125,
          -4.47265625,
          -1.9423828125,
          -2.1484375,
          -1.494140625,
          1.23046875,
          8.8671875,
          5.7890625,
          2.15625,
          -1.8017578125,
          2.99609375,
          2.7890625,
          2.6640625,
          3.6171875,
          2.099609375,
          3.400390625,
          3.501953125,
          4.63671875,
          0.378662109375,
          0.1195068359375,
          -0.79541015625,
          -1.9580078125,
          0.484619140625,
          0.4521484375,
          0.404052734375,
          1.5615234375,
          -4.82421875,
          -3.333984375,
          -2.900390625,
          -3.3203125,
          -0.572265625,
          -0.50830078125,
          -0.1878662109375,
          0.52880859375,
          1.3017578125,
          2.427734375,
          1.78125,
          1.6474609375,
          6.49609375,
          3.8671875,
          2.400390625,
          1.6005859375
         ],
         "y": [
          0.61328125,
          0.82177734375,
          1.103515625,
          -1.2490234375,
          1.978515625,
          0.31103515625,
          3.943359375,
          1.578125,
          2.90625,
          2.66796875,
          -5.671875,
          -6.48828125,
          -4.453125,
          -7.41015625,
          -5.9296875,
          -6.30859375,
          12.3203125,
          12.484375,
          10.609375,
          1.462890625,
          5.18359375,
          8.6484375,
          7.44921875,
          6.921875,
          3.669921875,
          7.92578125,
          5.48046875,
          4.23828125,
          -1.267578125,
          -0.395263671875,
          -2.40625,
          -3.953125,
          -2.982421875,
          -5.859375,
          -6.3203125,
          -4.55078125,
          -7.84375,
          -5.65625,
          -2.642578125,
          -6.49609375,
          -4.55078125,
          -2.322265625,
          -2.60546875,
          -2.47265625,
          -0.4814453125,
          1.93359375,
          0.1546630859375,
          -1.5185546875,
          2.640625,
          -0.129638671875,
          2.021484375,
          0.1767578125
         ],
         "z": [
          0.272216796875,
          2.666015625,
          1.8369140625,
          3.447265625,
          4.80078125,
          3.68359375,
          4.94140625,
          5.19921875,
          7.5859375,
          8.2109375,
          5.93359375,
          5.0703125,
          1.75390625,
          1.9052734375,
          2.4296875,
          3.08984375,
          8.609375,
          7.8671875,
          8.015625,
          4.88671875,
          8.3828125,
          7.8203125,
          5.30078125,
          4.984375,
          4.2109375,
          6.7578125,
          6.765625,
          7.171875,
          7.97265625,
          6.78515625,
          4.48828125,
          3.390625,
          2.125,
          0.681640625,
          1.0048828125,
          2.830078125,
          0.395751953125,
          3.4609375,
          4.24609375,
          3.10546875,
          0.52734375,
          1.7861328125,
          2.560546875,
          3.666015625,
          4.37109375,
          6.0390625,
          5.51953125,
          4.30078125,
          4.15625,
          4.71875,
          5.5234375,
          3.517578125
         ]
        },
        {
         "line": {
          "color": "#2ca02c"
         },
         "mode": "lines",
         "type": "scatter3d",
         "x": [
          -0.841796875,
          -0.2626953125,
          0.3388671875,
          2.09375,
          -2.37109375,
          -2.5703125,
          -3.068359375,
          -1.943359375,
          -0.0333251953125,
          -3.884765625,
          -5.30859375,
          -3.78515625,
          -2.521484375,
          -3.55859375,
          -4.6484375,
          -4,
          0.8994140625,
          1.220703125,
          1.46484375,
          1.4912109375,
          2.37890625,
          3.537109375,
          2.173828125,
          0.51513671875,
          -4.76171875,
          -9.3828125,
          -7.08984375,
          -4.8984375,
          5.24609375,
          3.470703125,
          0.84619140625,
          1.4404296875,
          2.251953125,
          4.15234375,
          1.0703125,
          -1.671875,
          0.900390625,
          -0.50439453125,
          -1.162109375,
          -0.67041015625,
          -2.619140625,
          -2.693359375,
          0.619140625,
          0.5615234375,
          0.161376953125,
          -0.9345703125,
          -2.138671875,
          -4.53515625,
          0.60986328125,
          -0.826171875,
          -2.3828125,
          -1.125
         ],
         "y": [
          0.84521484375,
          0.271728515625,
          1.96875,
          4.3203125,
          1.439453125,
          -0.720703125,
          -2.275390625,
          -1.4873046875,
          0.00360870361328125,
          -3.998046875,
          -5.4140625,
          -3.240234375,
          -4.66796875,
          -0.57470703125,
          -1.81640625,
          -8.0078125,
          -5.23828125,
          -3.45703125,
          -1.4140625,
          -4.26171875,
          5.37890625,
          7.0546875,
          9.59375,
          7.4296875,
          -1.03515625,
          -7.31640625,
          -5.3203125,
          -3.974609375,
          4.859375,
          0.480224609375,
          -0.80517578125,
          -0.1383056640625,
          1.126953125,
          2.498046875,
          -3.322265625,
          -3.259765625,
          4.75,
          2.30859375,
          1.8125,
          -1.4580078125,
          -6.08984375,
          -5.57421875,
          -2.9765625,
          -5.15234375,
          6.7578125,
          3.166015625,
          1.1337890625,
          -7.3125,
          9.40625,
          7.65234375,
          4.3671875,
          1.71484375
         ],
         "z": [
          4.83203125,
          4.12109375,
          4.94921875,
          4.24609375,
          6.296875,
          5.859375,
          5.41015625,
          5.40625,
          6.68359375,
          4.859375,
          5.26171875,
          3.720703125,
          5.4921875,
          5.3984375,
          4.66015625,
          2.623046875,
          4.453125,
          6.28125,
          5.5,
          4.48828125,
          3.583984375,
          4.6796875,
          6.59375,
          6.08984375,
          4.69921875,
          3.69140625,
          6.734375,
          5.9296875,
          5.90234375,
          5.72265625,
          5.54296875,
          5.6171875,
          3.701171875,
          4.2734375,
          1.9658203125,
          1.734375,
          6.68359375,
          5.671875,
          5.421875,
          4.44140625,
          3.07421875,
          2.109375,
          3.072265625,
          1.4150390625,
          3.072265625,
          3.376953125,
          3.216796875,
          2.919921875,
          7.40234375,
          8.59375,
          7.7890625,
          9.3828125
         ]
        },
        {
         "line": {
          "color": "#d62728"
         },
         "mode": "lines",
         "type": "scatter3d",
         "x": [
          -5.125,
          -3.466796875,
          -3.697265625,
          -0.296875,
          0.022705078125,
          -1.9609375,
          -3.150390625,
          -4.44140625,
          1.16015625,
          -0.154052734375,
          -0.75,
          -1.6962890625,
          4.953125,
          1.25390625,
          -1.4033203125,
          -2.048828125,
          -4.34765625,
          -1.9833984375,
          -0.6142578125,
          -0.75537109375,
          1.5673828125,
          0.71337890625,
          0.546875,
          0.548828125,
          2.447265625,
          -0.87109375,
          -0.54833984375,
          -3.828125,
          1.146484375,
          0.99462890625,
          1.935546875,
          4.2890625,
          4.76953125,
          5.6640625,
          7.91015625,
          6.9609375,
          1.6708984375,
          1.85546875,
          4.5859375,
          -0.469970703125,
          0.3251953125,
          -0.83251953125,
          -0.73095703125,
          -3.67578125,
          -3.16796875,
          -1.7294921875,
          -2.623046875,
          -0.91015625,
          3.478515625,
          0.6025390625,
          -1.4052734375,
          -3.90625
         ],
         "y": [
          -12.09375,
          -9.7421875,
          -7.0390625,
          -1.515625,
          11.4375,
          6.31640625,
          3.9140625,
          3.93359375,
          6.640625,
          6.0390625,
          -1.337890625,
          -1.9521484375,
          7.47265625,
          5.421875,
          3.59765625,
          3.859375,
          -2.54296875,
          -3.0546875,
          -1.11328125,
          -2.78125,
          -2.189453125,
          -8.5703125,
          -8.640625,
          -7.46484375,
          2.078125,
          -1.6142578125,
          -3.16015625,
          -6.3125,
          2.537109375,
          3.2421875,
          3.5,
          4.9921875,
          5.27734375,
          9.3671875,
          7.0234375,
          6.16015625,
          -2.32421875,
          1.447265625,
          2.126953125,
          -3.767578125,
          1.4326171875,
          -3.095703125,
          -2.294921875,
          -4.875,
          -4.19140625,
          0.9208984375,
          -1.9990234375,
          -1.3896484375,
          5.1953125,
          0.0667724609375,
          0.89453125,
          -2.361328125
         ],
         "z": [
          -0.02923583984375,
          1.271484375,
          2.12109375,
          5.65625,
          6.953125,
          4.7890625,
          5.890625,
          5.46484375,
          5.05859375,
          5.37109375,
          3.0625,
          3.775390625,
          9.96875,
          8.3203125,
          8.8203125,
          9.359375,
          3.375,
          3.888671875,
          2.23046875,
          1.0322265625,
          4.98828125,
          2.7421875,
          1.4765625,
          2.62890625,
          2.05859375,
          1.326171875,
          2.74609375,
          3.294921875,
          6.4140625,
          7.09765625,
          5.41015625,
          5.703125,
          6.6640625,
          7.53125,
          8.578125,
          7.87890625,
          4.81640625,
          7.08984375,
          6.94140625,
          4.50390625,
          8.015625,
          7.55078125,
          8.234375,
          5.671875,
          4.1875,
          4.26953125,
          4.81640625,
          4.1875,
          5.31640625,
          4.3046875,
          5.90234375,
          3.86328125
         ]
        },
        {
         "line": {
          "color": "#9467bd"
         },
         "mode": "lines",
         "type": "scatter3d",
         "x": [
          -4.5390625,
          -2.744140625,
          -0.841796875,
          0.379150390625,
          0.658203125,
          -0.99462890625,
          -0.1085205078125,
          -0.6904296875,
          2.55859375,
          3.26953125,
          0.59716796875,
          -1.6611328125,
          2.1171875,
          1.6015625,
          -0.054779052734375,
          0.012115478515625,
          -1.0595703125,
          -1.6015625,
          -0.381591796875,
          -0.6103515625,
          0.88232421875,
          4.7578125,
          1.353515625,
          -0.87841796875,
          2.294921875,
          1.4794921875,
          4.34765625,
          8.046875,
          -2.115234375,
          -1.3232421875,
          1.345703125,
          0.90869140625,
          -3.515625,
          -5.4296875,
          -5.34375,
          -1.783203125,
          -0.4736328125,
          0.82275390625,
          1.54296875,
          -0.25830078125,
          2.75,
          2.0234375,
          0.267333984375,
          0.11456298828125,
          0.7841796875,
          0.0650634765625,
          1.8759765625,
          -0.468505859375,
          1.4130859375,
          2.9921875,
          4.21484375,
          2.99609375
         ],
         "y": [
          -1.76953125,
          -1.228515625,
          0.310302734375,
          1.4267578125,
          4.15625,
          0.56494140625,
          1.1943359375,
          0.7548828125,
          3.490234375,
          6.20703125,
          -0.2003173828125,
          -1.931640625,
          3.556640625,
          3.4296875,
          1.451171875,
          0.310791015625,
          -3.123046875,
          -5.484375,
          -1.9072265625,
          -5.7421875,
          0.1505126953125,
          5.49609375,
          0.71240234375,
          -1.2646484375,
          0.6181640625,
          -3.369140625,
          0.83935546875,
          7.63671875,
          0.0203399658203125,
          0.31640625,
          4.0859375,
          4.24609375,
          1.5322265625,
          -5.22265625,
          -6.73828125,
          -2.2890625,
          0.986328125,
          1.701171875,
          2.80078125,
          -1.10546875,
          2.43359375,
          2.080078125,
          -0.445556640625,
          -0.479248046875,
          3.732421875,
          0.5703125,
          2.1796875,
          -1.669921875,
          5.48828125,
          4.5546875,
          8.0078125,
          4.2109375
         ],
         "z": [
          1.912109375,
          4.23828125,
          6.88671875,
          6.56640625,
          3.91796875,
          3.333984375,
          2.0859375,
          3.111328125,
          8.53125,
          8.4296875,
          5.66796875,
          5.296875,
          2.52734375,
          2.568359375,
          1.26171875,
          0.57373046875,
          4.5390625,
          3.94140625,
          5.18359375,
          3.439453125,
          4.84765625,
          5.921875,
          2.708984375,
          3.955078125,
          5.984375,
          5.30078125,
          6.8125,
          8.6484375,
          7.3515625,
          7.14453125,
          7.55859375,
          6.84375,
          1.125,
          1.4541015625,
          1.20703125,
          2.1328125,
          6.5859375,
          7.3125,
          6.2734375,
          6.57421875,
          9.7734375,
          8.234375,
          6.59375,
          5.7890625,
          6.39453125,
          4.77734375,
          2.37109375,
          1.6611328125,
          6.2421875,
          6.94921875,
          6.88671875,
          6.4765625
         ]
        },
        {
         "line": {
          "color": "#8c564b"
         },
         "mode": "lines",
         "type": "scatter3d",
         "x": [
          4.12109375,
          6.45703125,
          5.6328125,
          2.84765625,
          -3.994140625,
          -4.3984375,
          -2.875,
          0.29052734375,
          3.55859375,
          3.603515625,
          4.60546875,
          4.76953125,
          0.39453125,
          -1.125,
          0.5068359375,
          -0.71875,
          4.38671875,
          6.171875,
          1.4326171875,
          1.837890625,
          -0.556640625,
          -2.640625,
          -1.5439453125,
          -3.8671875,
          1.68359375,
          2.12109375,
          4.14453125,
          1.951171875,
          -1.095703125,
          -1.2734375,
          0.465087890625,
          0.420654296875,
          -2.416015625,
          -1.1591796875,
          -1.91796875,
          -3.30859375,
          -3.47265625,
          -4.734375,
          -2.671875,
          -3.3671875,
          3.5078125,
          2.39453125,
          0.74658203125,
          0.681640625,
          3.30078125,
          2.111328125,
          3.240234375,
          0.912109375
         ],
         "y": [
          7.0859375,
          9.3515625,
          10.78125,
          5.515625,
          -6.95703125,
          -12.0546875,
          -7.83203125,
          -4.1171875,
          5.19140625,
          4.77734375,
          3.388671875,
          2.62890625,
          10.3046875,
          5.43359375,
          5.11328125,
          3.455078125,
          7.7421875,
          10.9765625,
          7.2734375,
          5.16796875,
          4.9921875,
          3.123046875,
          -1.37890625,
          -5.20703125,
          0.266357421875,
          4.22265625,
          9.734375,
          4.49609375,
          1.732421875,
          1.0693359375,
          1.9287109375,
          4.375,
          -3.0546875,
          -1.39453125,
          -1.90234375,
          -0.2042236328125,
          -1.0322265625,
          -1.03515625,
          -1.2080078125,
          -2.69140625,
          1.9521484375,
          1.4091796875,
          0.89697265625,
          0.98681640625,
          0.0386962890625,
          1.3662109375,
          3.958984375,
          0.8916015625
         ],
         "z": [
          4.234375,
          5.19921875,
          4.0390625,
          5.171875,
          3.70703125,
          1.9423828125,
          2.8828125,
          2.37890625,
          4.3046875,
          4.6015625,
          5.30078125,
          3.1171875,
          3.197265625,
          2.533203125,
          3.099609375,
          2.791015625,
          4.640625,
          5.140625,
          4.984375,
          3.466796875,
          5.1328125,
          4.26953125,
          4.09765625,
          3.626953125,
          5.6796875,
          5.421875,
          7.1328125,
          6.6015625,
          3.91796875,
          2.99609375,
          1.6298828125,
          2.001953125,
          3.767578125,
          5.41015625,
          5.92578125,
          7.24609375,
          0.27294921875,
          1.712890625,
          1.8037109375,
          3.0859375,
          4.71484375,
          5.359375,
          6.33203125,
          6.78515625,
          3.97265625,
          5.62109375,
          7.61328125,
          6.22265625
         ]
        },
        {
         "line": {
          "color": "#e377c2"
         },
         "mode": "lines",
         "type": "scatter3d",
         "x": [
          0.9072265625,
          -1.748046875,
          -0.962890625,
          -0.367431640625,
          2.375,
          3.646484375,
          3.01171875,
          0.6083984375,
          2.59375,
          2.806640625,
          0.1402587890625,
          -0.2489013671875,
          -2.103515625,
          -5.328125,
          -3.79296875,
          -4.40625,
          1.9736328125,
          4.15625,
          4.7890625,
          6.66796875,
          -0.79638671875,
          -0.2088623046875,
          -1.66015625,
          -3.396484375,
          -1.900390625,
          -1.365234375,
          -1.46484375,
          0.64306640625,
          3.171875,
          1.0478515625,
          1.7392578125,
          1.04296875,
          2.099609375,
          2.00390625,
          5.07421875,
          5.6875,
          -0.124267578125,
          -2.525390625,
          -3.34375,
          -3.51171875,
          2.673828125,
          2.541015625,
          1.65625,
          2.3828125,
          2.18359375,
          3.13671875,
          3.63671875,
          3.693359375,
          -5.46484375,
          -5.015625,
          -2.10546875,
          -1.4072265625
         ],
         "y": [
          7.05859375,
          0.94287109375,
          -0.9189453125,
          -0.279052734375,
          6.95703125,
          7.69921875,
          5.375,
          7.48828125,
          0.31787109375,
          1.4072265625,
          -0.13916015625,
          -1.5654296875,
          -2.599609375,
          -2.40625,
          -2.328125,
          -2.990234375,
          2.609375,
          1.50390625,
          3.744140625,
          5.41796875,
          4.40234375,
          2.822265625,
          1.7900390625,
          -0.69384765625,
          1.392578125,
          5.859375,
          4.98828125,
          5.0859375,
          1.89453125,
          -1.6376953125,
          3.326171875,
          6.01953125,
          -5.0703125,
          -3.048828125,
          3.68359375,
          2.208984375,
          2.96875,
          -1.810546875,
          -7.6796875,
          -6.47265625,
          -1.19921875,
          -3.1796875,
          -1.8876953125,
          -4.1640625,
          0.6962890625,
          2.4609375,
          1.3349609375,
          -0.89794921875,
          -2.29296875,
          -2.60546875,
          -2.048828125,
          -3.416015625
         ],
         "z": [
          3.3359375,
          1.6923828125,
          3.85546875,
          4.11328125,
          8.25,
          8.5546875,
          7.1015625,
          7.1640625,
          6.13671875,
          6.234375,
          3.802734375,
          4.3125,
          5.7109375,
          6.3671875,
          5.9921875,
          6.01953125,
          5.078125,
          4.66796875,
          5.140625,
          4.41796875,
          6.1015625,
          7.80078125,
          6.41015625,
          7.46484375,
          8.3046875,
          7.3984375,
          5.1640625,
          4.28515625,
          2.126953125,
          2.083984375,
          2.45703125,
          4.609375,
          1.001953125,
          1.953125,
          5.0234375,
          5.76953125,
          5.11328125,
          4.984375,
          2.373046875,
          1.3193359375,
          4.30859375,
          5.8828125,
          5.7734375,
          5.22265625,
          1.3828125,
          2.283203125,
          2.9375,
          1.8916015625,
          3.009765625,
          2.294921875,
          2.15234375,
          2.029296875
         ]
        },
        {
         "line": {
          "color": "#7f7f7f"
         },
         "mode": "lines",
         "type": "scatter3d",
         "x": [
          2.654296875,
          -0.5615234375,
          -2.1484375,
          -2.287109375,
          0.8115234375,
          0.74560546875,
          0.74365234375,
          0.394287109375,
          1.07421875,
          1.1103515625,
          2.08984375,
          1.8291015625,
          2.998046875,
          -0.50634765625,
          0.9951171875,
          0.841796875,
          4.48828125,
          5.52734375,
          5.953125,
          5.984375,
          -2.9140625,
          -1.427734375,
          -4.16015625,
          -5.6875,
          -0.4521484375,
          -1.3193359375,
          -2.3203125,
          -1.0986328125,
          5.25,
          7.66015625,
          5.3203125,
          5.296875,
          -1.5400390625,
          -0.22216796875,
          -2.326171875,
          -3.16796875,
          0.748046875,
          2.67578125,
          3.248046875,
          1.341796875,
          0.39453125,
          1.48046875,
          4.3203125,
          3.951171875,
          3.978515625,
          5.48046875,
          4.2421875,
          3.62890625,
          -2.3125,
          -1.6259765625,
          -2.7578125,
          -4.41796875
         ],
         "y": [
          9.890625,
          5.734375,
          5.78515625,
          6.1015625,
          0.10577392578125,
          2.236328125,
          3.220703125,
          -1.2265625,
          2.755859375,
          1.7138671875,
          1.40625,
          0.26416015625,
          3.447265625,
          3.271484375,
          1.55078125,
          -1.7275390625,
          5.85546875,
          4.6953125,
          6.7890625,
          3.865234375,
          -0.69970703125,
          0.339111328125,
          -3.46875,
          -8.1015625,
          5.69921875,
          3.93359375,
          -0.81201171875,
          -1.080078125,
          -3.6328125,
          -3.3359375,
          -4.7109375,
          -2.298828125,
          7.03125,
          3.958984375,
          1.44921875,
          -3.53125,
          -0.8994140625,
          0.9052734375,
          -0.61328125,
          -3.080078125,
          5.0078125,
          9.140625,
          8.609375,
          3.91015625,
          1.0263671875,
          5.3046875,
          3.384765625,
          4.625,
          -0.420166015625,
          -2.8828125,
          -0.41650390625,
          -4.3359375
         ],
         "z": [
          7.40625,
          5.85546875,
          6.453125,
          6.15234375,
          2.990234375,
          4.71484375,
          4.9296875,
          4.921875,
          6.25,
          5.5390625,
          6.02734375,
          5.2265625,
          2.857421875,
          2.583984375,
          3.017578125,
          4.57421875,
          4.15625,
          2.888671875,
          3.078125,
          1.55859375,
          5.10546875,
          5.85546875,
          5.08984375,
          3.775390625,
          5.37109375,
          4.0546875,
          3.119140625,
          3.251953125,
          2.4375,
          3.166015625,
          1.8828125,
          2.1953125,
          5.109375,
          4.78515625,
          6.29296875,
          3.8984375,
          3.087890625,
          4.328125,
          4.8359375,
          4.88671875,
          4.26953125,
          4.875,
          5.65234375,
          4.6875,
          7.5703125,
          9.0703125,
          7.87109375,
          6.4921875,
          3.44140625,
          3.453125,
          5.03125,
          3.931640625
         ]
        },
        {
         "line": {
          "color": "#1f77b4"
         },
         "mode": "lines",
         "type": "scatter3d",
         "x": [
          -0.25830078125,
          0.367919921875,
          -0.5546875,
          1.9970703125,
          -2.572265625,
          -0.806640625,
          0.13916015625,
          1.75,
          0.0936279296875,
          0.31787109375,
          2.29296875,
          1.814453125,
          0.76904296875,
          1.8662109375,
          0.0176239013671875,
          0.541015625,
          -0.5859375,
          -0.422119140625,
          -0.8046875,
          0.0516357421875,
          0.6025390625,
          0.21826171875,
          2.240234375,
          0.84423828125
         ],
         "y": [
          0.51416015625,
          1.134765625,
          -0.80029296875,
          0.33447265625,
          -2.5390625,
          -1.939453125,
          -2.44921875,
          1.572265625,
          0.71533203125,
          1.02734375,
          2.166015625,
          0.17138671875,
          7.6796875,
          7.203125,
          6.78515625,
          5.91015625,
          -5.98046875,
          -6.30859375,
          -3.64453125,
          -2.845703125,
          5.15234375,
          -1.048828125,
          1.6337890625,
          2.658203125
         ],
         "z": [
          5.42578125,
          5.72265625,
          4.45703125,
          5.90234375,
          5.41015625,
          4.57421875,
          5.0859375,
          6.44140625,
          4.44921875,
          3.080078125,
          1.294921875,
          1.3828125,
          -0.4521484375,
          0.397705078125,
          1.0439453125,
          4.54296875,
          2.623046875,
          3.189453125,
          4.40625,
          5.05859375,
          6.390625,
          3.86328125,
          5.5703125,
          6.08203125
         ]
        },
        {
         "line": {
          "color": "#ff7f0e"
         },
         "mode": "lines",
         "type": "scatter3d",
         "x": [
          0.2225341796875,
          -0.1524658203125,
          -3.416015625,
          -2.546875,
          6.171875,
          5.46875,
          4.83203125,
          3.50390625,
          -0.333740234375,
          -1.0927734375,
          2.0859375,
          0.433349609375,
          -7.41015625,
          -5.74609375,
          -5.875,
          -4.828125,
          1.931640625,
          3.279296875,
          2.037109375,
          3.21875,
          -2.2890625,
          -1.2431640625,
          0.78271484375,
          0.331298828125,
          -2.4296875,
          -2.052734375,
          -1.93359375,
          -1.818359375
         ],
         "y": [
          1.412109375,
          1.8974609375,
          -0.517578125,
          -1.0048828125,
          3.185546875,
          4.01171875,
          2.3984375,
          -0.6962890625,
          2.150390625,
          4.26171875,
          2.953125,
          1.8955078125,
          -12.9609375,
          -9.1796875,
          -7.1328125,
          -6.421875,
          -6.40625,
          -9.7578125,
          -9.015625,
          -8.203125,
          2.251953125,
          0.8740234375,
          -0.77197265625,
          -3.873046875,
          2.33984375,
          2.25390625,
          1.287109375,
          2.4296875
         ],
         "z": [
          2.16015625,
          3.525390625,
          2.978515625,
          3.572265625,
          4.4453125,
          3.671875,
          3.26171875,
          3.96484375,
          1.5029296875,
          2.978515625,
          3.712890625,
          4.37109375,
          -4.95703125,
          -2.56640625,
          -1.494140625,
          1.3525390625,
          5.67578125,
          3.2421875,
          1.8935546875,
          2.642578125,
          7.61328125,
          5.91015625,
          4.66796875,
          3.73828125,
          8.3359375,
          7.9921875,
          7.58984375,
          7.29296875
         ]
        },
        {
         "line": {
          "color": "#2ca02c"
         },
         "mode": "lines",
         "type": "scatter3d",
         "x": [
          5.31640625,
          2.681640625,
          2.140625,
          0.6494140625,
          -0.81884765625,
          -3.375,
          -5,
          -4.5078125,
          -0.1004638671875,
          0.77587890625,
          0.1409912109375,
          -0.279052734375,
          2.11328125,
          1.9970703125,
          0.85400390625,
          -0.67529296875,
          1.28125,
          1.9599609375,
          1.2060546875,
          0.33251953125,
          -2.853515625,
          -4.6015625,
          -4.83203125,
          -3.783203125
         ],
         "y": [
          3.83203125,
          -1.0703125,
          -1.6025390625,
          -1.5947265625,
          -3.333984375,
          -4.15625,
          -6.31640625,
          -7.10546875,
          5.5078125,
          3.634765625,
          4.00390625,
          0.6357421875,
          0.00461578369140625,
          0.80517578125,
          -0.82080078125,
          -3.486328125,
          2.060546875,
          3.859375,
          2.978515625,
          5.79296875,
          -2.642578125,
          -4.87890625,
          -7.14453125,
          -9.5859375
         ],
         "z": [
          5.99609375,
          5.16015625,
          5.35546875,
          6.21484375,
          3.3828125,
          3.619140625,
          3.380859375,
          2.37890625,
          3.99609375,
          5.12109375,
          6.953125,
          5.92578125,
          4.55859375,
          4.2421875,
          6.85546875,
          5.7109375,
          0.77197265625,
          1.49609375,
          3.091796875,
          5.78125,
          5.34765625,
          3.435546875,
          1.3974609375,
          0.053497314453125
         ]
        },
        {
         "line": {
          "color": "#d62728"
         },
         "mode": "lines",
         "type": "scatter3d",
         "x": [
          3.9765625,
          1.99609375,
          1.4833984375,
          -1.0595703125,
          -0.2000732421875,
          -3.12890625,
          -4.54296875,
          -5.57421875,
          -3.025390625,
          -2.984375,
          -4.5,
          -3.794921875,
          -0.4619140625,
          -0.970703125,
          -0.77978515625,
          -0.912109375,
          -1.1015625,
          -0.40673828125,
          -0.478271484375,
          0.59228515625,
          1.4375,
          0.72119140625,
          3.03515625,
          3.98828125,
          1.8662109375,
          -0.412353515625,
          -0.389404296875,
          -0.174560546875
         ],
         "y": [
          0.10968017578125,
          1.96875,
          0.748046875,
          1.9169921875,
          -10.140625,
          -11.4765625,
          -8.0859375,
          -8.2734375,
          -1.6845703125,
          -6.078125,
          -5.5546875,
          -7.8046875,
          -3.193359375,
          -4.7421875,
          -4.0859375,
          -3.673828125,
          -1.462890625,
          -1.1748046875,
          -1.419921875,
          -2.0546875,
          -1.8349609375,
          0.63671875,
          0.138916015625,
          0.82958984375,
          4.91796875,
          2.748046875,
          3.607421875,
          3.251953125
         ],
         "z": [
          0.5576171875,
          3.43359375,
          5.078125,
          4.72265625,
          1.5400390625,
          2.234375,
          3.380859375,
          2.759765625,
          5.08203125,
          4.55859375,
          5.546875,
          2.955078125,
          5.71875,
          7.08203125,
          5.71875,
          6.90625,
          3.533203125,
          3.474609375,
          2.66796875,
          3.2890625,
          7.5625,
          7.33203125,
          6.94921875,
          6.4609375,
          1.6259765625,
          3.05078125,
          3.96875,
          4.32421875
         ]
        },
        {
         "line": {
          "color": "#9467bd"
         },
         "mode": "lines",
         "type": "scatter3d",
         "x": [
          -2.443359375,
          0.884765625,
          2.6796875,
          2.822265625,
          3.1640625,
          5.1328125,
          5.61328125,
          5.46484375,
          1.9765625,
          1.52734375,
          -0.132568359375,
          0.461181640625,
          -2.82421875,
          -1.8154296875,
          -0.38232421875,
          1.029296875,
          5.07421875,
          3.876953125,
          1.1328125,
          -1.283203125,
          -6.48046875,
          -6.015625,
          -3.421875,
          -3.146484375
         ],
         "y": [
          10.2265625,
          11.0234375,
          11.3984375,
          12.7734375,
          -3.375,
          -3.1875,
          -3.20703125,
          -2.404296875,
          0.62890625,
          -1.404296875,
          -1.02734375,
          0.288330078125,
          3.896484375,
          6.9921875,
          7.42578125,
          4.25390625,
          2.25390625,
          0.583984375,
          1.0146484375,
          0.859375,
          -2.970703125,
          -2.73828125,
          -4.53125,
          -5.171875
         ],
         "z": [
          7.24609375,
          7.12109375,
          6.82421875,
          6.91015625,
          4.00390625,
          2.755859375,
          1.3427734375,
          1.76953125,
          3.55078125,
          3.962890625,
          6.02734375,
          8.3671875,
          1.5498046875,
          3.2265625,
          4.046875,
          3.78125,
          2.755859375,
          2.138671875,
          3.267578125,
          2.57421875,
          6.03125,
          6.359375,
          4.58203125,
          3.732421875
         ]
        },
        {
         "line": {
          "color": "#8c564b"
         },
         "mode": "lines",
         "type": "scatter3d",
         "x": [
          1.5498046875,
          1.1533203125,
          1.2734375,
          1.328125,
          0.10986328125,
          3.14453125,
          6.38671875,
          7.09765625,
          -3.705078125,
          -1.6337890625,
          -0.489013671875,
          0.529296875,
          0.12646484375,
          -2.05859375,
          -3,
          -0.96630859375,
          -0.441650390625,
          -1.525390625,
          -3.533203125,
          -4.8203125
         ],
         "y": [
          3.419921875,
          3.556640625,
          4.80078125,
          5.8359375,
          1.8623046875,
          3.251953125,
          2.912109375,
          4.49609375,
          -1.12890625,
          -0.01506805419921875,
          1.8349609375,
          4.5625,
          -1.99609375,
          -2.24609375,
          -3.28125,
          -1.732421875,
          -1.7724609375,
          0.57177734375,
          2.634765625,
          2.55859375
         ],
         "z": [
          5.05078125,
          5.1171875,
          4.7578125,
          6.19921875,
          4.09765625,
          4.234375,
          3.5625,
          4.2109375,
          9.375,
          8.6484375,
          7.875,
          6.828125,
          1.6728515625,
          3.298828125,
          3.115234375,
          3.240234375,
          5.203125,
          6.41796875,
          5,
          5.84375
         ]
        },
        {
         "line": {
          "color": "#e377c2"
         },
         "mode": "lines",
         "type": "scatter3d",
         "x": [
          3.400390625,
          4.26953125,
          1.6455078125,
          -0.329345703125,
          -3.271484375,
          -2.62890625,
          -3.611328125,
          -1.7578125,
          6.03125,
          7.078125,
          7.140625,
          6.5,
          -2.125,
          -1.1806640625,
          -2.162109375,
          -1.548828125,
          -3.650390625,
          -4.46484375,
          -5.37890625,
          -3.19140625,
          -3.828125,
          -0.59521484375,
          -0.83447265625,
          -0.70263671875
         ],
         "y": [
          7.75,
          7.5703125,
          2.287109375,
          0.191650390625,
          1.7900390625,
          0.3330078125,
          1.9541015625,
          3.14453125,
          0.19189453125,
          1.5732421875,
          0.60546875,
          0.9716796875,
          -7.37109375,
          -5.375,
          -4.203125,
          -2.462890625,
          -0.298583984375,
          0.85400390625,
          -0.79931640625,
          -0.346923828125,
          -1.958984375,
          -0.400146484375,
          -2.076171875,
          -3.427734375
         ],
         "z": [
          2.69140625,
          5.44921875,
          5.3515625,
          6.37890625,
          5.36328125,
          4.03515625,
          5.28125,
          4.01953125,
          5.11328125,
          6.265625,
          4.76953125,
          5.3203125,
          1.9462890625,
          2.244140625,
          3.73828125,
          4.02734375,
          0.5859375,
          1.017578125,
          2.51171875,
          2.271484375,
          5.1640625,
          4.49609375,
          4.703125,
          4.6640625
         ]
        },
        {
         "line": {
          "color": "#7f7f7f"
         },
         "mode": "lines",
         "type": "scatter3d",
         "x": [
          1.3994140625,
          -0.128662109375,
          -1.2119140625,
          -2.265625,
          2.822265625,
          2.05859375,
          2.705078125,
          2.306640625,
          1.169921875,
          1.4091796875,
          -3.681640625,
          -3.818359375,
          0.391845703125,
          -0.439208984375,
          2.337890625,
          1.2607421875,
          0.400146484375,
          -0.0296173095703125,
          0.51904296875,
          0.33056640625,
          -0.254638671875,
          -3.017578125,
          -1.69140625,
          0.472412109375
         ],
         "y": [
          1.4716796875,
          1.2607421875,
          -1.240234375,
          -5.3125,
          -0.943359375,
          -0.6748046875,
          -1.888671875,
          -1.9384765625,
          -0.48583984375,
          -0.2086181640625,
          -4.10546875,
          -5.859375,
          -1.8671875,
          0.395263671875,
          1.0615234375,
          3.408203125,
          2.6484375,
          -0.54833984375,
          0.57080078125,
          -0.5361328125,
          -6.08984375,
          -5.99609375,
          -4.94921875,
          0.2225341796875
         ],
         "z": [
          3.0390625,
          2.765625,
          3.9453125,
          3.640625,
          3.224609375,
          3.4765625,
          5.37109375,
          5.03515625,
          2.12890625,
          2.205078125,
          2.9375,
          2.673828125,
          1.775390625,
          2.8125,
          2.400390625,
          2.962890625,
          6.2421875,
          5.78125,
          5.53125,
          5.4375,
          3.955078125,
          3.85546875,
          3.29296875,
          7.265625
         ]
        },
        {
         "line": {
          "color": "#1f77b4"
         },
         "mode": "lines",
         "type": "scatter3d",
         "x": [
          4.98828125,
          3.490234375,
          3.96484375,
          2.947265625,
          4.953125,
          3.451171875,
          1.4091796875,
          1.2568359375,
          -0.55224609375,
          0.4052734375,
          2.21875,
          3.220703125,
          3.662109375,
          3.44921875,
          1.337890625,
          0.76025390625,
          1.58203125,
          1.779296875,
          2.134765625,
          1.904296875,
          3.205078125,
          4.4609375,
          2.046875,
          3.88671875,
          -1.533203125,
          -1.3466796875,
          -2.1953125,
          -0.23583984375,
          1.5927734375,
          1.8623046875,
          1.615234375,
          0.765625
         ],
         "y": [
          -0.9091796875,
          -1.8349609375,
          -0.947265625,
          3.060546875,
          6.5546875,
          2.048828125,
          3.150390625,
          2.65234375,
          -3.076171875,
          -2.88671875,
          -0.884765625,
          0.006999969482421875,
          2.302734375,
          -1.5009765625,
          0.60107421875,
          1.6884765625,
          -2.62109375,
          -2.091796875,
          0.2110595703125,
          1.4189453125,
          2.5234375,
          2.296875,
          -0.380859375,
          1.0732421875,
          -5.734375,
          -4.92578125,
          -2.869140625,
          3.529296875,
          -1.38671875,
          -2.109375,
          -3.833984375,
          -1.88671875
         ],
         "z": [
          2.708984375,
          4.70703125,
          6.640625,
          6.38671875,
          3.52734375,
          3.638671875,
          3.05078125,
          3.150390625,
          1.669921875,
          4.72265625,
          7.41796875,
          9.0234375,
          4.890625,
          6.60546875,
          6.4375,
          6.890625,
          2.236328125,
          4.69140625,
          2.83203125,
          3.0078125,
          -0.05426025390625,
          1.1142578125,
          2.40625,
          3.919921875,
          5.03515625,
          4.3515625,
          3.416015625,
          6.10546875,
          7.734375,
          5.4140625,
          5.52734375,
          5.32421875
         ]
        },
        {
         "line": {
          "color": "#ff7f0e"
         },
         "mode": "lines",
         "type": "scatter3d",
         "x": [
          2.69140625,
          2.0078125,
          1.728515625,
          0.4970703125,
          -1.34765625,
          -2.513671875,
          0.13916015625,
          -1.50390625,
          3.4375,
          2.154296875,
          3.087890625,
          2.11328125,
          1.1845703125,
          0.64501953125,
          2.03125,
          1.623046875,
          0.630859375,
          -0.98876953125,
          -3.197265625,
          -2.623046875,
          -0.2158203125,
          0.7861328125,
          1.6611328125,
          0.908203125,
          3.09765625,
          3.013671875,
          -0.97607421875,
          -0.349365234375,
          0.923828125,
          2.4921875,
          -1.15625,
          -1.84375
         ],
         "y": [
          3.1640625,
          -0.50927734375,
          -5.234375,
          -5.44921875,
          -3.373046875,
          -4.859375,
          -2.69921875,
          -2.25,
          -0.406982421875,
          -0.0799560546875,
          0.0699462890625,
          -5.95703125,
          -1.1337890625,
          -3.16015625,
          -1.9501953125,
          -1.4912109375,
          3.67578125,
          3.716796875,
          0.63330078125,
          3.611328125,
          -4.7890625,
          -4.1640625,
          -1.328125,
          -3.154296875,
          -0.395751953125,
          3.697265625,
          0.4130859375,
          0.5419921875,
          -3.65234375,
          -2.24609375,
          -0.982421875,
          2.76171875
         ],
         "z": [
          6.8515625,
          8.421875,
          9.0625,
          7.49609375,
          3.626953125,
          5.2421875,
          7.1875,
          7.8046875,
          3.1484375,
          2.57421875,
          2.33984375,
          2.3671875,
          -0.1435546875,
          -0.357666015625,
          0.90771484375,
          2.279296875,
          3.4453125,
          3.2578125,
          2.4765625,
          2.611328125,
          3.744140625,
          4.50390625,
          4.34765625,
          3.61328125,
          6.15625,
          7.08203125,
          5.8125,
          5.00390625,
          -0.80126953125,
          0.39111328125,
          -1.396484375,
          -1.427734375
         ]
        },
        {
         "line": {
          "color": "#2ca02c"
         },
         "mode": "lines",
         "type": "scatter3d",
         "x": [
          -0.67822265625,
          0.462158203125,
          0.85791015625,
          1.2109375,
          -0.126220703125,
          -0.085205078125,
          -0.859375,
          -0.464111328125,
          0.81396484375,
          0.351318359375,
          0.1607666015625,
          -0.3173828125,
          -1.3115234375,
          -2.21484375,
          -2.826171875,
          -3.25,
          0.461669921875,
          -1.25,
          -1.220703125,
          -1.3994140625,
          0.374755859375,
          -0.1710205078125,
          -0.0963134765625,
          0.85107421875,
          -1.029296875,
          -1.4873046875,
          0.1048583984375,
          1.220703125
         ],
         "y": [
          -0.5244140625,
          -0.859375,
          -1.0986328125,
          -2.41796875,
          -7.890625,
          -3.744140625,
          -1.810546875,
          -1.3046875,
          -6.83984375,
          -8.2578125,
          -9.984375,
          -5.29296875,
          -4.796875,
          -4.734375,
          -4.82421875,
          -3.533203125,
          1.744140625,
          6.0234375,
          7.7734375,
          7.55859375,
          -3.1171875,
          -1.4560546875,
          -2.63671875,
          -3.724609375,
          1.95703125,
          -1.322265625,
          1.8818359375,
          0.634765625
         ],
         "z": [
          -0.42138671875,
          0.95166015625,
          1.921875,
          3.86328125,
          4.0546875,
          5.29296875,
          6.72265625,
          7.71484375,
          0.8515625,
          1.9609375,
          2.74609375,
          2.791015625,
          -1.234375,
          -0.6455078125,
          0.39208984375,
          1.4345703125,
          3.81640625,
          2.677734375,
          2.05859375,
          4.1875,
          7.83984375,
          6.36328125,
          6.4296875,
          5.3046875,
          2.271484375,
          3.59375,
          4.390625,
          3.998046875
         ]
        },
        {
         "line": {
          "color": "#d62728"
         },
         "mode": "lines",
         "type": "scatter3d",
         "x": [
          -1.3896484375,
          -0.28369140625,
          0.7685546875,
          1.4384765625,
          2.54296875,
          0.09283447265625,
          -2.466796875,
          -2.044921875,
          1.7509765625,
          3.009765625,
          3.267578125,
          0.64697265625,
          1.9033203125,
          1.416015625,
          0.6083984375,
          -0.07244873046875,
          1.7421875,
          -0.2403564453125,
          -0.5615234375,
          -0.498779296875,
          0.87939453125,
          -0.32080078125,
          -1.1396484375,
          -2.1640625,
          1.2802734375,
          0.240234375,
          0.29443359375,
          -0.6357421875,
          1.9111328125,
          0.828125,
          -1.3671875,
          -3.76171875
         ],
         "y": [
          -1.26953125,
          -0.7763671875,
          0.0792236328125,
          -2.6875,
          -2.1171875,
          -1.4111328125,
          -6.9921875,
          -7.12109375,
          -2.255859375,
          -4.12109375,
          -3.396484375,
          -4.1953125,
          0.7607421875,
          0.599609375,
          -3.146484375,
          -2.693359375,
          -1.1982421875,
          -1.984375,
          -1.025390625,
          -3.263671875,
          3.265625,
          1.91015625,
          0.8427734375,
          -0.5986328125,
          -4.1328125,
          -5.55078125,
          -4.91015625,
          -5.76171875,
          9.984375,
          10.8671875,
          9.703125,
          7.6015625
         ],
         "z": [
          5.30078125,
          5.3671875,
          7.08203125,
          6.5390625,
          4.99609375,
          4.51953125,
          4.953125,
          1.2578125,
          4.26953125,
          5.046875,
          5.9375,
          6.26953125,
          1.47265625,
          2.90625,
          3.875,
          3.88671875,
          5.26953125,
          5.61328125,
          3.521484375,
          4.0390625,
          2.84375,
          5.96484375,
          7.69140625,
          7.171875,
          1.314453125,
          3.91015625,
          4.1171875,
          3.787109375,
          6.984375,
          8.1171875,
          9.2265625,
          8.625
         ]
        },
        {
         "line": {
          "color": "#9467bd"
         },
         "mode": "lines",
         "type": "scatter3d",
         "x": [
          2.81640625,
          -0.117431640625,
          -0.62890625,
          -2.6328125,
          3.802734375,
          1.51953125,
          1.6015625,
          2.681640625,
          1.3642578125,
          1.5302734375,
          1.271484375,
          0.48193359375,
          -1.314453125,
          -1.513671875,
          -0.126708984375,
          -0.91796875,
          -1.0361328125,
          -0.42431640625,
          0.274658203125,
          0.94873046875,
          5.765625,
          5.76953125,
          4.859375,
          5.26953125,
          -0.3212890625,
          -0.423095703125,
          1.310546875,
          -1.591796875,
          3.646484375,
          0.9736328125,
          -3.1796875,
          -4.55078125,
          -0.615234375,
          -0.74853515625,
          0.2039794921875,
          -1.681640625
         ],
         "y": [
          2.41796875,
          1.7587890625,
          3.306640625,
          1.537109375,
          -1.55859375,
          -3.349609375,
          -3.466796875,
          -4.703125,
          0.3876953125,
          -1.529296875,
          -2.326171875,
          -4.7265625,
          -0.7509765625,
          1.876953125,
          2.0703125,
          -1.810546875,
          -1.234375,
          0.2003173828125,
          -3.203125,
          0.400634765625,
          3.423828125,
          3.466796875,
          3.748046875,
          5.40625,
          6.19140625,
          4.95703125,
          6.921875,
          7.52734375,
          3.578125,
          -1.66796875,
          -3.08984375,
          -1.8486328125,
          -1.6279296875,
          -0.89697265625,
          1.3310546875,
          1.76171875
         ],
         "z": [
          7.46484375,
          5.42578125,
          3.279296875,
          2.455078125,
          5.26171875,
          6.4765625,
          9.3125,
          8.703125,
          3.08984375,
          2.314453125,
          3.041015625,
          4.05078125,
          2.701171875,
          3.787109375,
          2.3828125,
          2.03125,
          3.5703125,
          3.30859375,
          3.8203125,
          5.578125,
          4.17578125,
          3.77734375,
          4.27734375,
          5.68359375,
          2.404296875,
          -0.06829833984375,
          2.40234375,
          2.83984375,
          5.3671875,
          6.24609375,
          7.98046875,
          6.38671875,
          6.84765625,
          7.03125,
          5.99609375,
          5.1328125
         ]
        },
        {
         "line": {
          "color": "#8c564b"
         },
         "mode": "lines",
         "type": "scatter3d",
         "x": [
          -2.16015625,
          -0.79833984375,
          -1.3427734375,
          -0.515625,
          1.5615234375,
          2.884765625,
          3.115234375,
          2.44140625,
          0.546875,
          0.05133056640625,
          0.363037109375,
          0.2205810546875,
          0.990234375,
          -1.1630859375,
          -1.740234375,
          -0.9267578125,
          0.3662109375,
          0.01462554931640625,
          -2.791015625,
          -0.6181640625,
          0.58154296875,
          0.451171875,
          1.02734375,
          3.482421875
         ],
         "y": [
          -5.625,
          -2.38671875,
          -3.29296875,
          -2.79296875,
          3.017578125,
          4.3203125,
          5.73828125,
          5.0703125,
          -0.63916015625,
          -0.0308837890625,
          -1.8271484375,
          -1.517578125,
          5.3828125,
          4.59765625,
          5.73828125,
          7.32421875,
          -5.1328125,
          -5.97265625,
          -6.94921875,
          -4.61328125,
          1.021484375,
          2.181640625,
          2.8671875,
          5.22265625
         ],
         "z": [
          6.36328125,
          5.55859375,
          3.716796875,
          3.935546875,
          4.203125,
          6.1796875,
          6.11328125,
          5.4921875,
          4.58984375,
          3.755859375,
          2.994140625,
          3.84765625,
          6.5078125,
          4.2578125,
          1.6552734375,
          1.6220703125,
          5.43359375,
          2.470703125,
          2.791015625,
          4.234375,
          3.28125,
          3.158203125,
          4.765625,
          7.66796875
         ]
        },
        {
         "line": {
          "color": "#e377c2"
         },
         "mode": "lines",
         "type": "scatter3d",
         "x": [
          1.8955078125,
          3.869140625,
          2.841796875,
          2.404296875,
          0.60546875,
          1.7392578125,
          0.431396484375,
          -1.6123046875,
          -0.5673828125,
          2.28125,
          3.537109375,
          3.02734375,
          -3.615234375,
          -4.86328125,
          -2.84765625,
          -1.82421875
         ],
         "y": [
          -2.91796875,
          -1.2265625,
          -3.013671875,
          -4.41015625,
          -2.5,
          0.59912109375,
          2.00390625,
          -1.7431640625,
          4.1328125,
          3.26953125,
          5.046875,
          3.599609375,
          7.75,
          3.068359375,
          4.19140625,
          5.7265625
         ],
         "z": [
          8.40625,
          9.5703125,
          7.328125,
          6.03125,
          4.08984375,
          3.3046875,
          3.392578125,
          2.515625,
          3.94140625,
          3.9609375,
          4.96484375,
          6.578125,
          2.29296875,
          1.4130859375,
          1.1123046875,
          2.125
         ]
        },
        {
         "line": {
          "color": "#7f7f7f"
         },
         "mode": "lines",
         "type": "scatter3d",
         "x": [
          0.74365234375,
          -1.384765625,
          -1.6064453125,
          -1.9765625,
          0.22314453125,
          0.4736328125,
          2.37109375,
          2.08984375,
          -0.91162109375,
          -1.2587890625,
          -1.46484375,
          -0.12939453125,
          1.451171875,
          0.1669921875,
          0.31298828125,
          2.236328125,
          -2.693359375,
          0.2186279296875,
          0.267822265625,
          1.1728515625,
          -2.365234375,
          -1.8203125,
          -0.1575927734375,
          -2.021484375,
          -0.68212890625,
          0.83642578125,
          3.255859375,
          2.638671875
         ],
         "y": [
          -0.79248046875,
          -5.52734375,
          -7.1484375,
          -8.0703125,
          -1.86328125,
          -0.396484375,
          -0.454345703125,
          -1.029296875,
          -3.380859375,
          -4.7578125,
          -4.2890625,
          -2.884765625,
          -0.01354217529296875,
          -1.646484375,
          -1.2451171875,
          0.1041259765625,
          -3.515625,
          2.029296875,
          4.0859375,
          3.35546875,
          -0.91748046875,
          -2.671875,
          -1.0009765625,
          -1.2236328125,
          -1.4150390625,
          -3.697265625,
          -1.31640625,
          -1.36328125
         ],
         "z": [
          0.89208984375,
          -0.86181640625,
          1.6875,
          2.205078125,
          0.73193359375,
          0.126708984375,
          0.407470703125,
          1.5439453125,
          1.3046875,
          3.33203125,
          4.40625,
          5.87109375,
          4.34765625,
          3.275390625,
          3.431640625,
          5.71875,
          4.640625,
          5.703125,
          6.2890625,
          5.77734375,
          6.171875,
          8.46875,
          6.9375,
          5.328125,
          3.880859375,
          2.708984375,
          2.775390625,
          3.30859375
         ]
        },
        {
         "line": {
          "color": "#1f77b4"
         },
         "mode": "lines",
         "type": "scatter3d",
         "x": [
          -1.14453125,
          0.0770263671875,
          0.421875,
          1.025390625,
          2.984375,
          6.34375,
          5.62109375,
          5.546875,
          0.65625,
          -1.728515625,
          -3.201171875,
          -6.2734375,
          -1.5166015625,
          0.50048828125,
          2.69140625,
          -0.187744140625,
          7.6171875,
          5.72265625,
          6.984375,
          7.92578125,
          1.154296875,
          0.8017578125,
          1.1455078125,
          -0.5166015625,
          -0.29443359375,
          0.433837890625,
          0.43701171875,
          2.89453125,
          -3.302734375,
          0.474365234375,
          1.1298828125,
          2.931640625,
          -3.50390625,
          -2.291015625,
          0.423583984375,
          0.72900390625
         ],
         "y": [
          5.55859375,
          5.1796875,
          4.859375,
          5.140625,
          8.421875,
          8.484375,
          7.0078125,
          7.19921875,
          1.1533203125,
          -3.173828125,
          -4.50390625,
          -6.05078125,
          -5.3828125,
          -3.556640625,
          -3.126953125,
          -7.65234375,
          5.35546875,
          2.17578125,
          3.90625,
          3.75390625,
          2.87890625,
          3.01953125,
          5.28125,
          2.607421875,
          2.181640625,
          2.287109375,
          0.77734375,
          1.7587890625,
          3.189453125,
          4.6015625,
          3.80078125,
          7.6640625,
          5.765625,
          5.86328125,
          7.13671875,
          2.818359375
         ],
         "z": [
          5.0390625,
          3.890625,
          3.58984375,
          3.841796875,
          5.08984375,
          5.3046875,
          4.8359375,
          5.62890625,
          5.671875,
          4.55859375,
          4.66796875,
          3.0546875,
          2.826171875,
          2.578125,
          5.26171875,
          4.7734375,
          5.11328125,
          4.6015625,
          3.8125,
          3.587890625,
          3.14453125,
          3.703125,
          4.97265625,
          5.49609375,
          5.14453125,
          6.37890625,
          5.390625,
          4.88671875,
          7.88671875,
          6.90625,
          6.3828125,
          7.29296875,
          8.2734375,
          7.9296875,
          8.6796875,
          6.73046875
         ]
        },
        {
         "line": {
          "color": "#ff7f0e"
         },
         "mode": "lines",
         "type": "scatter3d",
         "x": [
          5.359375,
          3.83984375,
          2.4453125,
          0.372802734375,
          5.16796875,
          2.6875,
          1.2265625,
          0.262939453125,
          -5.01171875,
          -5.80078125,
          -2.814453125,
          -3.091796875,
          -3.607421875,
          -2.0625,
          -0.79931640625,
          1.859375,
          -3.462890625,
          -6.0859375,
          -3.5,
          -3.478515625,
          1.8583984375,
          0.205810546875,
          1.6357421875,
          -2.740234375,
          1.978515625,
          0.81494140625,
          1.7109375,
          2.2421875,
          3.28125,
          1.6396484375,
          -0.509765625,
          2.41796875,
          -3.12109375,
          -2.447265625,
          -2.986328125,
          -4.66015625
         ],
         "y": [
          7.40625,
          5.87890625,
          5.85546875,
          5.28125,
          10.125,
          9.546875,
          7.2265625,
          6.84375,
          -10.984375,
          -12.703125,
          -8.3984375,
          -9.3515625,
          0.401611328125,
          0.385498046875,
          0.50244140625,
          -1.0361328125,
          -2.61328125,
          -6.90625,
          -7.515625,
          -7.87109375,
          6.44140625,
          4.4609375,
          0.96875,
          -3.583984375,
          2.60546875,
          1.1064453125,
          4.97265625,
          2.06640625,
          0.83056640625,
          -1.13671875,
          -1.814453125,
          0.10968017578125,
          -13.828125,
          -12.8515625,
          -16.453125,
          -16.140625
         ],
         "z": [
          5.8359375,
          7.1171875,
          7.1640625,
          6.7421875,
          8.4140625,
          10.203125,
          9.6171875,
          8.859375,
          -0.6533203125,
          -0.45556640625,
          0.5654296875,
          1.623046875,
          6.09765625,
          7.44921875,
          6.9921875,
          6.390625,
          4.640625,
          3.333984375,
          3.296875,
          4.39453125,
          4.96484375,
          3.478515625,
          2.451171875,
          1.8876953125,
          5.35546875,
          6.046875,
          7.671875,
          8.2578125,
          4.59375,
          3.96875,
          4.00390625,
          4.33203125,
          -3.1875,
          -3.90234375,
          -6.1328125,
          -6.45703125
         ]
        },
        {
         "line": {
          "color": "#2ca02c"
         },
         "mode": "lines",
         "type": "scatter3d",
         "x": [
          3.06640625,
          1.2509765625,
          -0.1820068359375,
          1.138671875,
          1.541015625,
          1.1337890625,
          -1.35546875,
          -0.5390625,
          -3.474609375,
          -4.421875,
          -4.9453125,
          -4.39453125,
          0.775390625,
          -3.111328125,
          -4.91796875,
          -5.015625,
          -2.888671875,
          -5.21484375,
          -5.34765625,
          -5.78515625,
          4.52734375,
          4.19140625,
          2.970703125,
          2.251953125,
          -11.9921875,
          -10.8125,
          -13.3828125,
          -8.390625
         ],
         "y": [
          7.86328125,
          7.34765625,
          7.28515625,
          5.4296875,
          -0.818359375,
          -3.001953125,
          -6.734375,
          -6.11328125,
          -4.296875,
          -2.978515625,
          -3.271484375,
          -3.634765625,
          2.482421875,
          2.904296875,
          2.990234375,
          2.865234375,
          -4.12890625,
          -4.58984375,
          -5.52734375,
          -5.69140625,
          3.173828125,
          2.623046875,
          1.5498046875,
          1.091796875,
          -26.140625,
          -25.171875,
          -26.546875,
          -19.859375
         ],
         "z": [
          6.6484375,
          4.359375,
          4.12890625,
          6.68359375,
          6.375,
          4.91015625,
          3.109375,
          2.603515625,
          2.140625,
          2.359375,
          4.19140625,
          3.482421875,
          6.96484375,
          7.328125,
          5.328125,
          4.5546875,
          4.7421875,
          4.1015625,
          3.990234375,
          3.15234375,
          6.94921875,
          7.41796875,
          7.546875,
          6.5546875,
          -3.244140625,
          -3.7265625,
          -3.53515625,
          -1.05859375
         ]
        },
        {
         "line": {
          "color": "#d62728"
         },
         "mode": "lines",
         "type": "scatter3d",
         "x": [
          4.41015625,
          4.72265625,
          3.23828125,
          1.7265625,
          2.8984375,
          3.279296875,
          0.6943359375,
          3,
          0.96142578125,
          -2.544921875,
          -4.359375,
          -5.49609375,
          -2.857421875,
          -4.98046875,
          -7.203125,
          -5.92578125,
          -6.6328125,
          -7.8125,
          -7.96875,
          -8.546875,
          -0.9814453125,
          0.0197601318359375,
          0.05059814453125,
          -0.0007047653198242188,
          -3.18359375,
          -3.791015625,
          -1.619140625,
          -1.21875,
          1.712890625,
          1.23046875,
          1.609375,
          -4.203125
         ],
         "y": [
          5.52734375,
          6.8203125,
          4.18359375,
          1.0771484375,
          6.234375,
          4.390625,
          1.203125,
          3.091796875,
          8.578125,
          5.34765625,
          1.7734375,
          0.80224609375,
          -3.88671875,
          -4.6171875,
          -9.0625,
          -8.4609375,
          -9.4375,
          -9.890625,
          -7.3828125,
          -9.53125,
          -1.212890625,
          -1.5556640625,
          -1.6640625,
          -3.5390625,
          0.0189971923828125,
          -0.398193359375,
          -1.5263671875,
          -1.5595703125,
          -3.703125,
          -6.12890625,
          -3.515625,
          -6.4453125
         ],
         "z": [
          6.15234375,
          5.8046875,
          5.703125,
          4.7578125,
          3.458984375,
          3.962890625,
          5.01171875,
          7.58203125,
          6.99609375,
          6.49609375,
          6.0546875,
          6.1015625,
          -1.0517578125,
          1.283203125,
          0.8525390625,
          3.5546875,
          1.7451171875,
          1.4931640625,
          1.779296875,
          -0.35791015625,
          3.892578125,
          5.21484375,
          6.73828125,
          6.10546875,
          6.23046875,
          7.49609375,
          7.56640625,
          5.64453125,
          7.22265625,
          5.4453125,
          6.53125,
          3.66796875
         ]
        },
        {
         "line": {
          "color": "#9467bd"
         },
         "mode": "lines",
         "type": "scatter3d",
         "x": [
          4.390625,
          -0.208984375,
          0.73291015625,
          3.888671875,
          -1.8828125,
          -0.334228515625,
          1.5849609375,
          1.421875,
          0.90234375,
          3.318359375,
          2.556640625,
          1.09375,
          -3.08984375,
          -5.17578125,
          -4.51953125,
          -4.06640625,
          -10.2734375,
          -10.046875,
          -7.8203125,
          -7.63671875,
          5.51953125,
          2.94140625,
          2.3984375,
          4.05859375,
          3.857421875,
          2.826171875,
          4.875,
          4.390625
         ],
         "y": [
          10.359375,
          7.69921875,
          7.58984375,
          6.94140625,
          5.05859375,
          6.09375,
          7.55859375,
          6.484375,
          4.07421875,
          7.89453125,
          6.2265625,
          8.4921875,
          -11.3515625,
          -11.6484375,
          -10.3125,
          -9.171875,
          -6.78125,
          -8.6484375,
          -6.8203125,
          -7.69921875,
          4.85546875,
          2.095703125,
          1.703125,
          2.216796875,
          5.32421875,
          6.4609375,
          5.8203125,
          5.5859375
         ],
         "z": [
          3.50390625,
          5.23828125,
          6.16015625,
          6.39453125,
          4.4453125,
          5.16796875,
          6.15625,
          6.7109375,
          4.140625,
          3.978515625,
          4.21484375,
          6.1875,
          0.296875,
          0.59423828125,
          -0.53515625,
          1.1318359375,
          2.615234375,
          1.6826171875,
          2.806640625,
          2.265625,
          5.015625,
          5.46875,
          4.890625,
          5.8515625,
          5.60546875,
          6.3515625,
          5.75390625,
          6.44921875
         ]
        },
        {
         "line": {
          "color": "#8c564b"
         },
         "mode": "lines",
         "type": "scatter3d",
         "x": [
          4.25390625,
          6.68359375,
          5.47265625,
          4.625,
          -3.041015625,
          -5.91015625,
          -1.9677734375,
          -3.1171875
         ],
         "y": [
          8.859375,
          13.125,
          10.453125,
          6.1015625,
          -1.5185546875,
          -0.59814453125,
          -0.1715087890625,
          -0.44140625
         ],
         "z": [
          5.40625,
          7.3984375,
          9.3203125,
          6.125,
          1.341796875,
          2.921875,
          4.56640625,
          4.109375
         ]
        },
        {
         "line": {
          "color": "#e377c2"
         },
         "mode": "lines",
         "type": "scatter3d",
         "x": [
          0.5732421875,
          3.08203125,
          3.935546875,
          2.048828125,
          -0.361328125,
          3.3046875,
          2.28125,
          1.3154296875,
          -1.0673828125,
          -3.45703125,
          -3.2109375,
          -0.630859375,
          -7.23828125,
          -6.44921875,
          -5.33984375,
          -3.521484375,
          -2.560546875,
          -3.521484375,
          -3.943359375,
          -3.693359375,
          -3.712890625,
          -2.11328125,
          -1.595703125,
          0.254150390625,
          -1.8896484375,
          -2.48828125,
          -2.0703125,
          -2.89453125
         ],
         "y": [
          2.673828125,
          4.59375,
          3.80859375,
          3.1484375,
          5.51171875,
          6.38671875,
          5.70703125,
          4.265625,
          0.2822265625,
          -2.9375,
          -0.52978515625,
          2.9609375,
          -5.93359375,
          -5.75,
          -6.0078125,
          -8.015625,
          -14.890625,
          -16.046875,
          -17.890625,
          -17.5,
          -2.037109375,
          2.208984375,
          3.20703125,
          4.8515625,
          3.41796875,
          3.92578125,
          2.931640625,
          0.14111328125
         ],
         "z": [
          5.47265625,
          4.0625,
          4.83984375,
          5.125,
          6.25390625,
          6.33203125,
          8,
          7.625,
          0.9208984375,
          -0.96533203125,
          -0.07159423828125,
          2.388671875,
          -1.3642578125,
          0.304443359375,
          2.57421875,
          1.630859375,
          0.399658203125,
          -0.032257080078125,
          -0.304443359375,
          0.324951171875,
          5.8046875,
          5.13671875,
          5.70703125,
          8.109375,
          6.4375,
          5.3515625,
          4.37109375,
          2.798828125
         ]
        },
        {
         "line": {
          "color": "#7f7f7f"
         },
         "mode": "lines",
         "type": "scatter3d",
         "x": [
          4.86328125,
          3.0390625,
          2.708984375,
          6.359375,
          0.9638671875,
          0.08209228515625,
          0.70703125,
          0.437255859375,
          -1.3349609375,
          -0.7060546875,
          1.3515625,
          1.9208984375,
          -3.748046875,
          -3.515625,
          -5.25,
          -6.32421875,
          -4.2421875,
          -4.765625,
          -4.41015625,
          -1.8056640625,
          -2.2421875,
          -2.451171875,
          -1.8837890625,
          0.80615234375,
          -3.921875,
          -5.9609375,
          -7.31640625,
          -6.64453125
         ],
         "y": [
          7.71875,
          4.66796875,
          3.337890625,
          5.828125,
          4.30078125,
          1.169921875,
          1.7587890625,
          3.35546875,
          -3.748046875,
          -4.32421875,
          -2.6015625,
          -2.873046875,
          -6.703125,
          -9.515625,
          -8.796875,
          -8.921875,
          -9.03125,
          -8.5703125,
          -7.76171875,
          -5.75,
          1.5537109375,
          1.4892578125,
          4.22265625,
          6.94921875,
          -11.2421875,
          -12.90625,
          -12.1484375,
          -14.4296875
         ],
         "z": [
          6.171875,
          6.0625,
          5.8671875,
          5.34765625,
          7.03125,
          6.82421875,
          5.796875,
          8.359375,
          4.625,
          4.09375,
          4.18359375,
          3.96875,
          2.673828125,
          1.1806640625,
          1.2333984375,
          2.201171875,
          2.091796875,
          2.123046875,
          2.568359375,
          3.740234375,
          5.16796875,
          4.64453125,
          4.81640625,
          6.65234375,
          2.935546875,
          2.673828125,
          2.111328125,
          0.01262664794921875
         ]
        },
        {
         "line": {
          "color": "#1f77b4"
         },
         "mode": "lines",
         "type": "scatter3d",
         "x": [
          0.67236328125,
          -1.0478515625,
          -1.255859375,
          0.11834716796875,
          2.435546875,
          2.873046875,
          1.77734375,
          1.8857421875,
          0.103515625,
          2.373046875,
          2.525390625,
          3.2734375,
          0.3642578125,
          0.9775390625,
          0.99462890625,
          3.455078125
         ],
         "y": [
          -0.0131988525390625,
          -0.91259765625,
          -3.09375,
          -0.91796875,
          3.869140625,
          4.90625,
          2.833984375,
          3.814453125,
          -0.83984375,
          2.05078125,
          2.59375,
          2.107421875,
          1.5400390625,
          2.5390625,
          2.673828125,
          2.521484375
         ],
         "z": [
          4.9765625,
          5.36328125,
          2.708984375,
          4.125,
          -1.7080078125,
          0.224609375,
          1.287109375,
          1.1279296875,
          3.775390625,
          5.015625,
          7.0546875,
          10.3203125,
          1.423828125,
          2.41015625,
          3.568359375,
          5.80859375
         ]
        },
        {
         "line": {
          "color": "#ff7f0e"
         },
         "mode": "lines",
         "type": "scatter3d",
         "x": [
          1.2841796875,
          1.78515625,
          1.0234375,
          1.357421875,
          -0.498046875,
          -0.043212890625,
          -0.328125,
          -2.59765625,
          -0.65234375,
          -1.607421875,
          -1.3408203125,
          -2.53125,
          -2.44140625,
          -0.482421875,
          0.057891845703125,
          1.8828125
         ],
         "y": [
          4.55078125,
          4.7265625,
          4.24609375,
          3.81640625,
          1.1171875,
          -2.412109375,
          -0.46923828125,
          -3.5859375,
          -5.12109375,
          -7.3203125,
          -4.71484375,
          -3.78515625,
          -7.8046875,
          -7.83203125,
          -5.65234375,
          -7.65234375
         ],
         "z": [
          7.40625,
          5.1328125,
          3.0859375,
          4.39453125,
          6.19921875,
          2.69140625,
          2.458984375,
          1.71484375,
          4.6796875,
          3.88671875,
          4.85546875,
          5.1171875,
          2.05078125,
          0.67822265625,
          2.02734375,
          4.875
         ]
        },
        {
         "line": {
          "color": "#2ca02c"
         },
         "mode": "lines",
         "type": "scatter3d",
         "x": [
          0.51806640625,
          0.50244140625,
          1.6005859375,
          0.422119140625,
          -0.071044921875,
          -1.283203125,
          -1.865234375,
          -3.580078125,
          3.279296875,
          3.341796875,
          0.273193359375,
          -1.24609375,
          0.4990234375,
          -2.818359375,
          -1.734375,
          -3.97265625
         ],
         "y": [
          -1.42578125,
          -1.6103515625,
          -0.80029296875,
          -0.71826171875,
          3.6640625,
          1.7587890625,
          -0.5166015625,
          -5.68359375,
          -2.75,
          -1.1640625,
          -3.8359375,
          -2.53125,
          4.98046875,
          3.033203125,
          2.625,
          -1.5283203125
         ],
         "z": [
          5.27734375,
          5.0234375,
          5.859375,
          6.1328125,
          5.8671875,
          5.4921875,
          5.64453125,
          3.3828125,
          2.17578125,
          1.0458984375,
          1.9013671875,
          3.412109375,
          3.2109375,
          2.763671875,
          4.2734375,
          5.1015625
         ]
        },
        {
         "line": {
          "color": "#d62728"
         },
         "mode": "lines",
         "type": "scatter3d",
         "x": [
          1.875,
          2.13671875,
          2.275390625,
          0.73583984375,
          -1.048828125,
          -1.732421875,
          -3.193359375,
          -3.619140625,
          0.350341796875,
          2.099609375,
          2.1328125,
          1.2900390625,
          -3.771484375,
          -4.7421875,
          -5.734375,
          -6.26171875
         ],
         "y": [
          -1.85546875,
          0.73876953125,
          -0.488037109375,
          -2.28515625,
          -2.05078125,
          -1.5791015625,
          -5.08203125,
          -4.8203125,
          -6.46484375,
          -3.7890625,
          -2.623046875,
          -2.3203125,
          4.1875,
          1.0830078125,
          1.08203125,
          -1.0078125
         ],
         "z": [
          1.8173828125,
          3.07421875,
          3.6484375,
          5.00390625,
          1.994140625,
          2.48046875,
          3.1484375,
          1.1494140625,
          4.09765625,
          4.421875,
          4.26953125,
          5.15625,
          4.12109375,
          2.642578125,
          3.162109375,
          3.375
         ]
        },
        {
         "line": {
          "color": "#9467bd"
         },
         "mode": "lines",
         "type": "scatter3d",
         "x": [
          2.275390625,
          1.7275390625,
          0.1539306640625,
          -0.1773681640625,
          -0.496337890625,
          -1.83203125,
          0.00029277801513671875,
          -1.708984375,
          -2.4765625,
          -3.1640625,
          -1.2763671875,
          1.291015625,
          -2.373046875,
          -1.8154296875,
          -0.0305328369140625,
          -0.7021484375
         ],
         "y": [
          -1.404296875,
          -1.4609375,
          0.34814453125,
          1.5107421875,
          -0.96923828125,
          -2.677734375,
          2.15625,
          -2.017578125,
          0.8916015625,
          0.611328125,
          0.92138671875,
          5.83203125,
          -6.1171875,
          -6.44921875,
          -1.3740234375,
          -2.072265625
         ],
         "z": [
          3.228515625,
          5.203125,
          5.49609375,
          4.19921875,
          3.58203125,
          2.0859375,
          2.166015625,
          2.900390625,
          6.1015625,
          4.96875,
          4.13671875,
          4.96875,
          5.74609375,
          4.61328125,
          6.2265625,
          4.6640625
         ]
        },
        {
         "line": {
          "color": "#8c564b"
         },
         "mode": "lines",
         "type": "scatter3d",
         "x": [
          1.591796875,
          1.9013671875,
          0.433837890625,
          -1.9716796875,
          0.76513671875,
          -0.3544921875,
          1.798828125,
          4.83984375,
          -0.74658203125,
          -0.8291015625,
          -0.9453125,
          -2.14453125,
          -1.681640625,
          -2.27734375,
          -1.61328125,
          -1.7626953125,
          -1.8857421875,
          -2.416015625,
          -1.1669921875,
          -0.2978515625
         ],
         "y": [
          2.5078125,
          4.1640625,
          4.83984375,
          4.63671875,
          -3.482421875,
          -1.0810546875,
          2.298828125,
          4.76171875,
          -6.328125,
          -8.734375,
          -7.68359375,
          -5.9140625,
          -3.05859375,
          -5.48046875,
          -2.97265625,
          -1.705078125,
          -0.310546875,
          -0.62890625,
          1.171875,
          2.298828125
         ],
         "z": [
          3.703125,
          4.9296875,
          6.3984375,
          7.0078125,
          2.08203125,
          0.97607421875,
          2.58203125,
          5.33984375,
          1.98046875,
          0.30224609375,
          1.357421875,
          1.8544921875,
          3.166015625,
          0.1240234375,
          0.06927490234375,
          1.0615234375,
          3.376953125,
          4.38671875,
          6.26953125,
          6.921875
         ]
        },
        {
         "line": {
          "color": "#e377c2"
         },
         "mode": "lines",
         "type": "scatter3d",
         "x": [
          6.83203125,
          2.1171875,
          0.341552734375,
          1.01953125,
          -5.578125,
          -4.890625,
          -5.9453125,
          -1.5107421875,
          -4.375,
          -5.3359375,
          -3.703125,
          -3.201171875,
          12.1875,
          14.1953125,
          13.0390625,
          9.0546875
         ],
         "y": [
          -3.6640625,
          -2.822265625,
          -3.79296875,
          -3.564453125,
          -2.46484375,
          -0.56298828125,
          1.9365234375,
          3.96484375,
          -1.412109375,
          -1.24609375,
          1.6826171875,
          2.46484375,
          -1.029296875,
          -1.7412109375,
          -0.6416015625,
          -1.2880859375
         ],
         "z": [
          3.2421875,
          3.587890625,
          2.798828125,
          3.87109375,
          3.1015625,
          3.427734375,
          5.80078125,
          5.65234375,
          4.875,
          3.578125,
          3.759765625,
          3.896484375,
          7.66796875,
          6.76171875,
          8.6328125,
          6.80078125
         ]
        },
        {
         "line": {
          "color": "#7f7f7f"
         },
         "mode": "lines",
         "type": "scatter3d",
         "x": [
          -0.572265625,
          0.609375,
          2.482421875,
          4.875,
          -3.509765625,
          -2.66796875,
          -3.501953125,
          -2.966796875,
          -1.5048828125,
          -1.357421875,
          -1.7177734375,
          -3.017578125,
          -2.541015625,
          -2.390625,
          -1.7314453125,
          -1.1826171875,
          11.8125,
          9.3203125,
          7.09375,
          7.41015625
         ],
         "y": [
          -3.607421875,
          -3.283203125,
          -1.1357421875,
          0.8349609375,
          -4.03515625,
          -2.265625,
          -1.2041015625,
          0.2900390625,
          -1.5009765625,
          -2.201171875,
          -2.828125,
          -3.625,
          2.634765625,
          1.8583984375,
          3.259765625,
          1.791015625,
          -1.2177734375,
          -3.044921875,
          -2.43359375,
          -2.97265625
         ],
         "z": [
          2.974609375,
          3.712890625,
          5.4140625,
          5.515625,
          0.3955078125,
          0.2255859375,
          0.6064453125,
          1.6484375,
          0.44921875,
          1.232421875,
          2.01953125,
          2.876953125,
          0.061798095703125,
          1.30859375,
          3.3984375,
          3.04296875,
          9.5390625,
          9.109375,
          7.80078125,
          8.59375
         ]
        }
       ],
       "layout": {
        "autosize": false,
        "height": 500,
        "margin": {
         "b": 0,
         "l": 0,
         "r": 0,
         "t": 50
        },
        "scene": {
         "aspectmode": "manual",
         "aspectratio": {
          "x": 1,
          "y": 1,
          "z": 1
         },
         "camera": {
          "center": {
           "x": 0.065,
           "y": 0,
           "z": -0.075
          },
          "eye": {
           "x": 1.3,
           "y": 1.3,
           "z": 1.3
          }
         },
         "xaxis": {
          "showspikes": false,
          "title": {
           "text": "PC1"
          }
         },
         "yaxis": {
          "showspikes": false,
          "title": {
           "text": "PC2"
          }
         },
         "zaxis": {
          "showspikes": false,
          "title": {
           "text": "PC3"
          }
         }
        },
        "showlegend": false,
        "template": {
         "data": {
          "bar": [
           {
            "error_x": {
             "color": "#2a3f5f"
            },
            "error_y": {
             "color": "#2a3f5f"
            },
            "marker": {
             "line": {
              "color": "#E5ECF6",
              "width": 0.5
             },
             "pattern": {
              "fillmode": "overlay",
              "size": 10,
              "solidity": 0.2
             }
            },
            "type": "bar"
           }
          ],
          "barpolar": [
           {
            "marker": {
             "line": {
              "color": "#E5ECF6",
              "width": 0.5
             },
             "pattern": {
              "fillmode": "overlay",
              "size": 10,
              "solidity": 0.2
             }
            },
            "type": "barpolar"
           }
          ],
          "carpet": [
           {
            "aaxis": {
             "endlinecolor": "#2a3f5f",
             "gridcolor": "white",
             "linecolor": "white",
             "minorgridcolor": "white",
             "startlinecolor": "#2a3f5f"
            },
            "baxis": {
             "endlinecolor": "#2a3f5f",
             "gridcolor": "white",
             "linecolor": "white",
             "minorgridcolor": "white",
             "startlinecolor": "#2a3f5f"
            },
            "type": "carpet"
           }
          ],
          "choropleth": [
           {
            "colorbar": {
             "outlinewidth": 0,
             "ticks": ""
            },
            "type": "choropleth"
           }
          ],
          "contour": [
           {
            "colorbar": {
             "outlinewidth": 0,
             "ticks": ""
            },
            "colorscale": [
             [
              0,
              "#0d0887"
             ],
             [
              0.1111111111111111,
              "#46039f"
             ],
             [
              0.2222222222222222,
              "#7201a8"
             ],
             [
              0.3333333333333333,
              "#9c179e"
             ],
             [
              0.4444444444444444,
              "#bd3786"
             ],
             [
              0.5555555555555556,
              "#d8576b"
             ],
             [
              0.6666666666666666,
              "#ed7953"
             ],
             [
              0.7777777777777778,
              "#fb9f3a"
             ],
             [
              0.8888888888888888,
              "#fdca26"
             ],
             [
              1,
              "#f0f921"
             ]
            ],
            "type": "contour"
           }
          ],
          "contourcarpet": [
           {
            "colorbar": {
             "outlinewidth": 0,
             "ticks": ""
            },
            "type": "contourcarpet"
           }
          ],
          "heatmap": [
           {
            "colorbar": {
             "outlinewidth": 0,
             "ticks": ""
            },
            "colorscale": [
             [
              0,
              "#0d0887"
             ],
             [
              0.1111111111111111,
              "#46039f"
             ],
             [
              0.2222222222222222,
              "#7201a8"
             ],
             [
              0.3333333333333333,
              "#9c179e"
             ],
             [
              0.4444444444444444,
              "#bd3786"
             ],
             [
              0.5555555555555556,
              "#d8576b"
             ],
             [
              0.6666666666666666,
              "#ed7953"
             ],
             [
              0.7777777777777778,
              "#fb9f3a"
             ],
             [
              0.8888888888888888,
              "#fdca26"
             ],
             [
              1,
              "#f0f921"
             ]
            ],
            "type": "heatmap"
           }
          ],
          "heatmapgl": [
           {
            "colorbar": {
             "outlinewidth": 0,
             "ticks": ""
            },
            "colorscale": [
             [
              0,
              "#0d0887"
             ],
             [
              0.1111111111111111,
              "#46039f"
             ],
             [
              0.2222222222222222,
              "#7201a8"
             ],
             [
              0.3333333333333333,
              "#9c179e"
             ],
             [
              0.4444444444444444,
              "#bd3786"
             ],
             [
              0.5555555555555556,
              "#d8576b"
             ],
             [
              0.6666666666666666,
              "#ed7953"
             ],
             [
              0.7777777777777778,
              "#fb9f3a"
             ],
             [
              0.8888888888888888,
              "#fdca26"
             ],
             [
              1,
              "#f0f921"
             ]
            ],
            "type": "heatmapgl"
           }
          ],
          "histogram": [
           {
            "marker": {
             "pattern": {
              "fillmode": "overlay",
              "size": 10,
              "solidity": 0.2
             }
            },
            "type": "histogram"
           }
          ],
          "histogram2d": [
           {
            "colorbar": {
             "outlinewidth": 0,
             "ticks": ""
            },
            "colorscale": [
             [
              0,
              "#0d0887"
             ],
             [
              0.1111111111111111,
              "#46039f"
             ],
             [
              0.2222222222222222,
              "#7201a8"
             ],
             [
              0.3333333333333333,
              "#9c179e"
             ],
             [
              0.4444444444444444,
              "#bd3786"
             ],
             [
              0.5555555555555556,
              "#d8576b"
             ],
             [
              0.6666666666666666,
              "#ed7953"
             ],
             [
              0.7777777777777778,
              "#fb9f3a"
             ],
             [
              0.8888888888888888,
              "#fdca26"
             ],
             [
              1,
              "#f0f921"
             ]
            ],
            "type": "histogram2d"
           }
          ],
          "histogram2dcontour": [
           {
            "colorbar": {
             "outlinewidth": 0,
             "ticks": ""
            },
            "colorscale": [
             [
              0,
              "#0d0887"
             ],
             [
              0.1111111111111111,
              "#46039f"
             ],
             [
              0.2222222222222222,
              "#7201a8"
             ],
             [
              0.3333333333333333,
              "#9c179e"
             ],
             [
              0.4444444444444444,
              "#bd3786"
             ],
             [
              0.5555555555555556,
              "#d8576b"
             ],
             [
              0.6666666666666666,
              "#ed7953"
             ],
             [
              0.7777777777777778,
              "#fb9f3a"
             ],
             [
              0.8888888888888888,
              "#fdca26"
             ],
             [
              1,
              "#f0f921"
             ]
            ],
            "type": "histogram2dcontour"
           }
          ],
          "mesh3d": [
           {
            "colorbar": {
             "outlinewidth": 0,
             "ticks": ""
            },
            "type": "mesh3d"
           }
          ],
          "parcoords": [
           {
            "line": {
             "colorbar": {
              "outlinewidth": 0,
              "ticks": ""
             }
            },
            "type": "parcoords"
           }
          ],
          "pie": [
           {
            "automargin": true,
            "type": "pie"
           }
          ],
          "scatter": [
           {
            "fillpattern": {
             "fillmode": "overlay",
             "size": 10,
             "solidity": 0.2
            },
            "type": "scatter"
           }
          ],
          "scatter3d": [
           {
            "line": {
             "colorbar": {
              "outlinewidth": 0,
              "ticks": ""
             }
            },
            "marker": {
             "colorbar": {
              "outlinewidth": 0,
              "ticks": ""
             }
            },
            "type": "scatter3d"
           }
          ],
          "scattercarpet": [
           {
            "marker": {
             "colorbar": {
              "outlinewidth": 0,
              "ticks": ""
             }
            },
            "type": "scattercarpet"
           }
          ],
          "scattergeo": [
           {
            "marker": {
             "colorbar": {
              "outlinewidth": 0,
              "ticks": ""
             }
            },
            "type": "scattergeo"
           }
          ],
          "scattergl": [
           {
            "marker": {
             "colorbar": {
              "outlinewidth": 0,
              "ticks": ""
             }
            },
            "type": "scattergl"
           }
          ],
          "scattermapbox": [
           {
            "marker": {
             "colorbar": {
              "outlinewidth": 0,
              "ticks": ""
             }
            },
            "type": "scattermapbox"
           }
          ],
          "scatterpolar": [
           {
            "marker": {
             "colorbar": {
              "outlinewidth": 0,
              "ticks": ""
             }
            },
            "type": "scatterpolar"
           }
          ],
          "scatterpolargl": [
           {
            "marker": {
             "colorbar": {
              "outlinewidth": 0,
              "ticks": ""
             }
            },
            "type": "scatterpolargl"
           }
          ],
          "scatterternary": [
           {
            "marker": {
             "colorbar": {
              "outlinewidth": 0,
              "ticks": ""
             }
            },
            "type": "scatterternary"
           }
          ],
          "surface": [
           {
            "colorbar": {
             "outlinewidth": 0,
             "ticks": ""
            },
            "colorscale": [
             [
              0,
              "#0d0887"
             ],
             [
              0.1111111111111111,
              "#46039f"
             ],
             [
              0.2222222222222222,
              "#7201a8"
             ],
             [
              0.3333333333333333,
              "#9c179e"
             ],
             [
              0.4444444444444444,
              "#bd3786"
             ],
             [
              0.5555555555555556,
              "#d8576b"
             ],
             [
              0.6666666666666666,
              "#ed7953"
             ],
             [
              0.7777777777777778,
              "#fb9f3a"
             ],
             [
              0.8888888888888888,
              "#fdca26"
             ],
             [
              1,
              "#f0f921"
             ]
            ],
            "type": "surface"
           }
          ],
          "table": [
           {
            "cells": {
             "fill": {
              "color": "#EBF0F8"
             },
             "line": {
              "color": "white"
             }
            },
            "header": {
             "fill": {
              "color": "#C8D4E3"
             },
             "line": {
              "color": "white"
             }
            },
            "type": "table"
           }
          ]
         },
         "layout": {
          "annotationdefaults": {
           "arrowcolor": "#2a3f5f",
           "arrowhead": 0,
           "arrowwidth": 1
          },
          "autotypenumbers": "strict",
          "coloraxis": {
           "colorbar": {
            "outlinewidth": 0,
            "ticks": ""
           }
          },
          "colorscale": {
           "diverging": [
            [
             0,
             "#8e0152"
            ],
            [
             0.1,
             "#c51b7d"
            ],
            [
             0.2,
             "#de77ae"
            ],
            [
             0.3,
             "#f1b6da"
            ],
            [
             0.4,
             "#fde0ef"
            ],
            [
             0.5,
             "#f7f7f7"
            ],
            [
             0.6,
             "#e6f5d0"
            ],
            [
             0.7,
             "#b8e186"
            ],
            [
             0.8,
             "#7fbc41"
            ],
            [
             0.9,
             "#4d9221"
            ],
            [
             1,
             "#276419"
            ]
           ],
           "sequential": [
            [
             0,
             "#0d0887"
            ],
            [
             0.1111111111111111,
             "#46039f"
            ],
            [
             0.2222222222222222,
             "#7201a8"
            ],
            [
             0.3333333333333333,
             "#9c179e"
            ],
            [
             0.4444444444444444,
             "#bd3786"
            ],
            [
             0.5555555555555556,
             "#d8576b"
            ],
            [
             0.6666666666666666,
             "#ed7953"
            ],
            [
             0.7777777777777778,
             "#fb9f3a"
            ],
            [
             0.8888888888888888,
             "#fdca26"
            ],
            [
             1,
             "#f0f921"
            ]
           ],
           "sequentialminus": [
            [
             0,
             "#0d0887"
            ],
            [
             0.1111111111111111,
             "#46039f"
            ],
            [
             0.2222222222222222,
             "#7201a8"
            ],
            [
             0.3333333333333333,
             "#9c179e"
            ],
            [
             0.4444444444444444,
             "#bd3786"
            ],
            [
             0.5555555555555556,
             "#d8576b"
            ],
            [
             0.6666666666666666,
             "#ed7953"
            ],
            [
             0.7777777777777778,
             "#fb9f3a"
            ],
            [
             0.8888888888888888,
             "#fdca26"
            ],
            [
             1,
             "#f0f921"
            ]
           ]
          },
          "colorway": [
           "#636efa",
           "#EF553B",
           "#00cc96",
           "#ab63fa",
           "#FFA15A",
           "#19d3f3",
           "#FF6692",
           "#B6E880",
           "#FF97FF",
           "#FECB52"
          ],
          "font": {
           "color": "#2a3f5f"
          },
          "geo": {
           "bgcolor": "white",
           "lakecolor": "white",
           "landcolor": "#E5ECF6",
           "showlakes": true,
           "showland": true,
           "subunitcolor": "white"
          },
          "hoverlabel": {
           "align": "left"
          },
          "hovermode": "closest",
          "mapbox": {
           "style": "light"
          },
          "paper_bgcolor": "white",
          "plot_bgcolor": "#E5ECF6",
          "polar": {
           "angularaxis": {
            "gridcolor": "white",
            "linecolor": "white",
            "ticks": ""
           },
           "bgcolor": "#E5ECF6",
           "radialaxis": {
            "gridcolor": "white",
            "linecolor": "white",
            "ticks": ""
           }
          },
          "scene": {
           "xaxis": {
            "backgroundcolor": "#E5ECF6",
            "gridcolor": "white",
            "gridwidth": 2,
            "linecolor": "white",
            "showbackground": true,
            "ticks": "",
            "zerolinecolor": "white"
           },
           "yaxis": {
            "backgroundcolor": "#E5ECF6",
            "gridcolor": "white",
            "gridwidth": 2,
            "linecolor": "white",
            "showbackground": true,
            "ticks": "",
            "zerolinecolor": "white"
           },
           "zaxis": {
            "backgroundcolor": "#E5ECF6",
            "gridcolor": "white",
            "gridwidth": 2,
            "linecolor": "white",
            "showbackground": true,
            "ticks": "",
            "zerolinecolor": "white"
           }
          },
          "shapedefaults": {
           "line": {
            "color": "#2a3f5f"
           }
          },
          "ternary": {
           "aaxis": {
            "gridcolor": "white",
            "linecolor": "white",
            "ticks": ""
           },
           "baxis": {
            "gridcolor": "white",
            "linecolor": "white",
            "ticks": ""
           },
           "bgcolor": "#E5ECF6",
           "caxis": {
            "gridcolor": "white",
            "linecolor": "white",
            "ticks": ""
           }
          },
          "title": {
           "x": 0.05
          },
          "xaxis": {
           "automargin": true,
           "gridcolor": "white",
           "linecolor": "white",
           "ticks": "",
           "title": {
            "standoff": 15
           },
           "zerolinecolor": "white",
           "zerolinewidth": 2
          },
          "yaxis": {
           "automargin": true,
           "gridcolor": "white",
           "linecolor": "white",
           "ticks": "",
           "title": {
            "standoff": 15
           },
           "zerolinecolor": "white",
           "zerolinewidth": 2
          }
         }
        },
        "title": {
         "text": "CL Single Trial",
         "y": 0.96,
         "yanchor": "bottom"
        },
        "width": 450
       }
      },
      "text/html": [
       "<div>                            <div id=\"b575103f-54f5-4ca4-97cf-15074eaa7124\" class=\"plotly-graph-div\" style=\"height:500px; width:450px;\"></div>            <script type=\"text/javascript\">                require([\"plotly\"], function(Plotly) {                    window.PLOTLYENV=window.PLOTLYENV || {};                                    if (document.getElementById(\"b575103f-54f5-4ca4-97cf-15074eaa7124\")) {                    Plotly.newPlot(                        \"b575103f-54f5-4ca4-97cf-15074eaa7124\",                        [{\"line\":{\"color\":\"#1f77b4\"},\"mode\":\"lines\",\"x\":[3.169921875,2.6328125,1.6005859375,0.03167724609375,1.2109375,-0.54833984375,-1.9404296875,-0.71044921875,-4.4140625,-2.150390625,1.3896484375,2.10546875,1.0478515625,1.296875,2.048828125,3.275390625,-4.3984375,-1.5146484375,0.8291015625,4.4609375,-2.90234375,0.381103515625,0.47314453125,0.2236328125,3.29296875,5.8828125,5.3203125,3.05078125,-3.54296875,-2.86328125,-3.3515625,-0.91162109375],\"y\":[3.4296875,3.623046875,3.275390625,2.083984375,3.36328125,2.10546875,1.8154296875,5.98828125,-20.21875,-15.609375,-13.671875,-12.2890625,-12.5703125,-12.203125,-12.765625,-12.9765625,0.172607421875,3.76171875,5.296875,9.6875,2.267578125,5.51953125,8.4296875,7.60546875,3.15234375,4.81640625,3.896484375,4.7421875,3.857421875,3.794921875,1.6591796875,3.078125],\"z\":[6.96875,6.984375,6.51171875,5.70703125,8.546875,8.7421875,8.5703125,10.15625,-0.0211944580078125,1.9423828125,3.375,2.1015625,1.439453125,1.9658203125,3.06640625,5.01953125,3.89453125,5.9375,5.17578125,5.91015625,4.2421875,3.84765625,3.400390625,4.65234375,7.3046875,7.953125,6.16015625,6.87890625,5.65625,6.22265625,5.56640625,5.80078125],\"type\":\"scatter3d\"},{\"line\":{\"color\":\"#ff7f0e\"},\"mode\":\"lines\",\"x\":[2.599609375,-0.7001953125,-0.71630859375,-2.666015625,-1.2119140625,0.716796875,0.017669677734375,1.50390625,1.16796875,1.47265625,1.7841796875,1.802734375,-3.322265625,-5.2421875,-3.595703125,-4.23828125,-1.919921875,1.197265625,-0.418701171875,-1.2392578125,4.453125,2.939453125,1.7763671875,0.732421875,-2.634765625,-3.62109375,-4.984375,-2.978515625,-0.363037109375,-0.83251953125,-0.11151123046875,0.10302734375],\"y\":[-0.473388671875,-2.630859375,-3.427734375,-6.546875,-7.0234375,-4.59765625,-7.3046875,-8.3125,-11.25,-11.015625,-12.625,-11.796875,-11.0546875,-11.7890625,-8.4765625,-8.4140625,-1.0107421875,-1.0888671875,-0.261474609375,-1.4365234375,0.7265625,2.599609375,4.33984375,4.66015625,0.56640625,-1.0927734375,-2.0859375,-0.826171875,4.40234375,3.62109375,4.96484375,5.9453125],\"z\":[1.779296875,0.8369140625,1.107421875,1.1318359375,2.55078125,3.32421875,4.15234375,3.640625,5.91796875,6.62890625,4.11328125,4.37890625,2.6328125,1.8203125,3.591796875,4.50390625,4.3828125,4.41015625,4.1796875,4.23046875,9.40625,8.9453125,7.54296875,5.05078125,3.96875,5.84375,7.1640625,7.6953125,6.47265625,5.62109375,3.96875,1.41015625],\"type\":\"scatter3d\"},{\"line\":{\"color\":\"#2ca02c\"},\"mode\":\"lines\",\"x\":[-3.341796875,-2.53515625,-2.11328125,-0.41357421875,0.35791015625,0.98974609375,2.240234375,0.9853515625,-1.1953125,-1.7392578125,-1.611328125,-0.82470703125,-0.46630859375,-0.78564453125,0.065185546875,0.50732421875,3.76171875,4.1015625,2.9453125,1.412109375,3.69140625,3.216796875,2.736328125,0.021087646484375,-6.9765625,-7.99609375,-8.359375,-7.875],\"y\":[-15.625,-13.4453125,-11.9765625,-11.09375,-9.640625,-11.1171875,-9.8984375,-11.6953125,-1.22265625,0.81298828125,1.9990234375,1.134765625,0.11444091796875,-0.78466796875,0.611328125,-0.207275390625,10.9765625,11.6328125,11.3828125,9.953125,5.08984375,5.53125,2.36328125,2.46484375,-11.0078125,-10.9140625,-12.0625,-12.6015625],\"z\":[5.89453125,5.2265625,3.087890625,4.234375,1.4765625,1.474609375,3.533203125,3.8046875,4.1875,5.671875,7.1484375,7.84765625,3.603515625,3.0859375,3.2578125,3.88671875,4.171875,7.34765625,7.99609375,8.6796875,4.875,3.6640625,5.12890625,4.98046875,-1.908203125,-1.361328125,-0.20947265625,0.48779296875],\"type\":\"scatter3d\"},{\"line\":{\"color\":\"#d62728\"},\"mode\":\"lines\",\"x\":[-5.5859375,-1.8486328125,-2.1796875,-1.0302734375,5.10546875,2.064453125,1.6533203125,0.475830078125,-3.58984375,-10.3359375,-11.8671875,-9.859375,-3.10546875,-2.275390625,-1.9287109375,-1.009765625,3.0234375,4.38671875,2.45703125,2.8515625,-3.08984375,-3.921875,-3.14453125,-3.1953125,3.048828125,6.06640625,5.43359375,3.19140625,5.12109375,6.3671875,4.265625,3.986328125,4.08203125,3.6171875,0.304931640625,-5.1640625,3.2734375,0.5634765625,0.57177734375,0.0958251953125],\"y\":[-15.7734375,-17.40625,-17.40625,-18.59375,4.12890625,2.65625,2.31640625,2.419921875,-11.09375,-16.78125,-19.015625,-17.546875,-3.27734375,-3.396484375,-2.630859375,-0.3583984375,0.491943359375,2.15625,2.44921875,0.251953125,2.45703125,2.498046875,2.466796875,1.8271484375,7.25390625,7.3359375,6.76171875,7.3515625,8.0078125,7.7109375,5.99609375,6.59765625,5.95703125,4.15234375,3.09375,-0.7353515625,4.39453125,0.343017578125,0.08148193359375,0.44091796875],\"z\":[0.57470703125,0.9208984375,0.345703125,1.947265625,3.39453125,3.099609375,4.10546875,4.5078125,4.1484375,2.24609375,2.3046875,3.650390625,1.318359375,0.908203125,0.2337646484375,0.791015625,3.1875,3.435546875,4.01171875,5.01171875,2.865234375,3.109375,2.763671875,1.64453125,4.078125,5.83203125,6.0703125,5.9609375,2.654296875,4.1953125,6.08984375,6.55078125,4.36328125,5.3671875,3.857421875,2.79296875,3.55859375,4.16796875,6.0625,7.5],\"type\":\"scatter3d\"},{\"line\":{\"color\":\"#9467bd\"},\"mode\":\"lines\",\"x\":[2.908203125,1.484375,1.7998046875,-0.1988525390625,7.140625,7.9140625,6.7421875,4.62890625,1.052734375,1.99609375,0.98291015625,1.9345703125,-3.16015625,-1.484375,-3.904296875,-4.01171875,6.4921875,7.33984375,6.109375,6.09375,8.5703125,5.046875,4.55078125,4.39453125,-5.3203125,-7.7734375,-2.71484375,-3.09765625,-0.258056640625,0.732421875,0.85888671875,0.271240234375,-3.10546875,-1.1337890625,-0.74365234375,-2.384765625,-0.6171875,-1.4287109375,-3.0,-2.37109375],\"y\":[0.09307861328125,-0.0213470458984375,1.9765625,1.3125,-0.9072265625,-0.87646484375,-0.378173828125,-3.61328125,1.421875,1.2509765625,0.0853271484375,1.8046875,-6.08984375,-5.828125,-5.0859375,-3.8125,-1.12890625,-1.4345703125,-2.35546875,-1.7119140625,7.83984375,4.9296875,4.76171875,3.4765625,-0.64404296875,-2.74609375,0.67724609375,2.615234375,-2.720703125,0.230712890625,0.91162109375,0.52392578125,-0.50341796875,2.97265625,4.40234375,6.484375,3.509765625,5.95703125,4.421875,4.62109375],\"z\":[6.2109375,5.7578125,6.34765625,6.5703125,3.005859375,3.29296875,3.541015625,3.685546875,4.13671875,6.36328125,5.6171875,4.0625,-2.72265625,-1.150390625,-1.01171875,0.30419921875,1.4833984375,1.1240234375,0.90380859375,0.58935546875,8.7734375,7.4609375,8.296875,8.09375,5.94140625,4.78125,5.09375,4.40625,5.56640625,5.671875,5.05078125,4.3984375,4.38671875,4.79296875,6.1484375,5.640625,4.9765625,3.552734375,3.748046875,4.31640625],\"type\":\"scatter3d\"},{\"line\":{\"color\":\"#8c564b\"},\"mode\":\"lines\",\"x\":[-4.453125,-3.556640625,-2.818359375,-0.96337890625,5.3359375,5.08984375,4.04296875,3.50390625,4.82421875,1.919921875,-0.349853515625,0.1744384765625,4.69921875,2.072265625,1.8896484375,4.32421875,4.12890625,6.07421875,5.3046875,6.91015625,4.73828125,5.640625,3.43359375,0.9287109375,-0.418701171875,0.426025390625,0.22900390625,-2.083984375,-4.703125,-3.16796875,-0.57861328125,-1.52734375,-2.599609375,-2.763671875,-3.130859375,-4.13671875],\"y\":[1.6865234375,3.2890625,3.421875,2.73828125,7.94140625,7.70703125,6.18359375,5.1953125,-3.03515625,-6.11328125,-13.7109375,-11.640625,5.73046875,5.5703125,5.99609375,9.5859375,2.466796875,5.0625,5.10546875,9.0390625,6.33984375,6.64453125,3.205078125,1.685546875,6.78125,6.5625,8.875,7.0,-1.2265625,0.47412109375,1.091796875,-1.529296875,-0.393310546875,1.2177734375,0.8583984375,0.255126953125],\"z\":[1.4052734375,3.900390625,5.32421875,6.78515625,3.671875,4.7421875,4.6484375,5.36328125,3.16796875,1.986328125,2.482421875,2.318359375,-1.7509765625,-0.75048828125,1.3056640625,3.6328125,3.642578125,5.51171875,6.4765625,5.2265625,4.37890625,5.984375,6.328125,4.98828125,4.5,4.57421875,4.58984375,4.78515625,6.1171875,8.0078125,9.921875,7.88671875,2.484375,2.97265625,3.19921875,3.578125],\"type\":\"scatter3d\"},{\"line\":{\"color\":\"#e377c2\"},\"mode\":\"lines\",\"x\":[0.89013671875,2.236328125,1.5556640625,2.349609375,-5.65625,-5.02734375,-2.982421875,-1.6171875,0.67626953125,-0.68310546875,-0.10516357421875,1.2841796875,2.0078125,0.564453125,1.68359375,3.42578125,6.234375,1.5126953125,1.7255859375,2.056640625,8.7265625,6.28515625,4.62890625,1.7744140625,3.705078125,3.689453125,3.603515625,5.5390625,-1.2431640625,-0.367919921875,0.5107421875,1.1943359375,0.70166015625,-0.20654296875,-2.580078125,-2.775390625,1.939453125,0.8076171875,-1.5947265625,-1.3447265625],\"y\":[-11.4765625,-9.8359375,-6.9296875,-7.58203125,-1.6650390625,-0.172607421875,0.1597900390625,0.6357421875,2.484375,1.91015625,2.9375,4.98046875,8.0078125,8.21875,8.7109375,9.8984375,-5.03125,-11.5078125,-12.1328125,-13.9765625,4.3671875,1.673828125,1.5087890625,0.251220703125,9.2578125,8.671875,7.5546875,6.234375,5.953125,6.8828125,7.02734375,6.8671875,0.73388671875,2.0859375,3.01953125,1.6298828125,7.25390625,7.6953125,4.4296875,2.36328125],\"z\":[6.625,5.00390625,3.734375,2.380859375,7.01171875,8.0546875,7.65234375,7.703125,-0.76513671875,-0.90576171875,-1.7314453125,-0.68798828125,-0.5302734375,-0.445556640625,1.4033203125,-0.48876953125,5.67578125,4.6796875,3.7890625,4.7734375,8.5625,7.23046875,6.0,4.9921875,6.984375,7.015625,7.2578125,6.83984375,10.953125,9.7421875,9.0546875,9.265625,2.900390625,4.5859375,5.37109375,5.33984375,7.4296875,8.375,8.8125,9.9375],\"type\":\"scatter3d\"},{\"line\":{\"color\":\"#7f7f7f\"},\"mode\":\"lines\",\"x\":[-0.94189453125,-0.576171875,-1.1064453125,-1.47265625,1.7177734375,1.18359375,0.35595703125,0.283447265625,-9.34375,-7.6640625,-7.359375,-6.625,0.7578125,1.51953125,-0.40771484375,-3.30078125,-1.2861328125,-1.28125,-0.703125,0.8115234375,-4.40625,-5.5234375,-7.2578125,-5.45703125,6.85546875,4.58984375,4.85546875,3.525390625,1.90234375,-0.1363525390625,1.177734375,1.0,1.7607421875,3.06640625,6.32421875,4.85546875,2.689453125,1.1103515625,2.21875,4.71875],\"y\":[0.4599609375,0.748046875,0.88330078125,-0.08026123046875,2.38671875,1.6484375,1.1005859375,-0.86865234375,-18.0625,-15.0390625,-13.96875,-14.6796875,-0.64794921875,-2.388671875,-5.2421875,-9.78125,4.30859375,1.2744140625,1.9189453125,3.779296875,-2.6328125,-3.8984375,-5.8359375,-5.38671875,4.828125,3.021484375,2.80859375,-0.98828125,4.07421875,2.484375,2.251953125,1.837890625,5.23828125,2.79296875,6.375,4.9921875,4.3046875,3.685546875,3.0,3.859375],\"z\":[0.058380126953125,1.986328125,3.8046875,4.203125,8.171875,8.0234375,7.9765625,9.0859375,2.4296875,2.017578125,1.412109375,2.240234375,-12.2265625,-10.1875,-9.09375,-8.5078125,3.400390625,3.4140625,4.2109375,4.22265625,3.49609375,3.767578125,1.9287109375,2.466796875,7.4140625,5.5625,5.08984375,5.6484375,8.1875,7.48828125,6.66796875,4.31640625,5.76953125,6.3984375,6.3359375,4.68359375,7.04296875,6.1875,8.171875,9.3203125],\"type\":\"scatter3d\"},{\"line\":{\"color\":\"#1f77b4\"},\"mode\":\"lines\",\"x\":[2.01953125,3.830078125,5.2421875,3.3359375,2.0078125,0.392333984375,0.1669921875,0.779296875,-0.9033203125,-1.6435546875,-1.19921875,-0.300048828125,-2.599609375,-2.2265625,-1.33984375,2.78515625,4.03125,2.765625,4.53515625,4.45703125,0.017852783203125,0.92626953125,1.287109375,2.33203125,-2.33984375,1.984375,3.439453125,0.748046875,0.6171875,1.060546875,1.3818359375,1.208984375,1.3857421875,1.484375,1.734375,1.2275390625,0.125244140625,1.384765625,1.986328125,1.2919921875],\"y\":[-0.44580078125,-1.3525390625,3.66015625,2.998046875,9.6796875,8.328125,5.50390625,4.37890625,-1.62109375,-1.365234375,2.494140625,9.609375,1.734375,3.4609375,1.3046875,4.3515625,-7.90625,-5.9765625,-6.28125,-7.85546875,0.268798828125,0.09600830078125,1.5,3.24609375,5.5546875,4.84375,4.98828125,3.484375,-1.4921875,-2.2109375,-2.259765625,-2.90234375,-0.6982421875,2.697265625,7.5,4.1328125,-1.8173828125,-2.1015625,-0.65673828125,2.53515625],\"z\":[5.109375,4.41015625,4.78515625,3.9296875,6.4140625,4.91796875,4.80078125,4.8671875,4.91796875,5.046875,4.34765625,5.66796875,4.9296875,4.05078125,5.32421875,8.140625,4.0390625,5.171875,3.95703125,3.46875,6.13671875,6.17578125,7.90625,8.8203125,4.26953125,4.93359375,5.0546875,4.859375,3.994140625,5.01953125,4.19921875,3.83984375,4.46484375,5.1015625,6.81640625,7.34375,4.48828125,5.01953125,5.3125,6.8828125],\"type\":\"scatter3d\"},{\"line\":{\"color\":\"#ff7f0e\"},\"mode\":\"lines\",\"x\":[-2.2421875,-1.666015625,-2.96484375,0.385498046875,-7.39453125,-7.0,-8.0234375,-7.5859375,1.302734375,1.8095703125,1.595703125,-0.81396484375,-1.26171875,0.05682373046875,-1.9306640625,-3.271484375,-1.1162109375,0.308349609375,2.8359375,2.775390625,-0.72412109375,0.243408203125,0.474853515625,-0.0830078125,-1.796875,-2.3359375,-2.166015625,-1.3623046875,1.1318359375,1.13671875,2.46875,3.361328125,0.484619140625,0.86669921875,1.0009765625,0.951171875,0.098388671875,0.46337890625,-0.08319091796875,-1.9755859375,-3.37890625,-1.701171875,-1.9501953125,-2.822265625],\"y\":[0.6806640625,-2.958984375,-5.96484375,-6.80859375,5.01953125,3.974609375,1.9228515625,3.259765625,3.03515625,5.39453125,4.015625,2.279296875,-2.029296875,-0.32275390625,-4.0546875,-4.23828125,-8.140625,-7.2890625,-7.296875,-10.203125,-2.671875,-1.8359375,-0.77001953125,-1.2021484375,-4.29296875,-6.578125,-7.2265625,-6.0,2.0859375,-2.134765625,-2.701171875,1.5166015625,-2.572265625,-3.005859375,-2.98046875,0.09405517578125,-2.44921875,-2.8359375,-4.3125,-2.859375,-9.34375,-7.1484375,-7.1796875,-9.921875],\"z\":[3.083984375,4.546875,4.22265625,5.34375,2.724609375,1.310546875,0.377197265625,-0.6064453125,5.6171875,5.5546875,6.9296875,6.1484375,4.11328125,5.9453125,5.66796875,4.8125,0.88720703125,1.712890625,2.80078125,2.560546875,2.3984375,4.234375,5.86328125,5.1875,3.716796875,3.322265625,3.501953125,2.275390625,-0.63427734375,-0.72998046875,0.71435546875,2.6328125,3.421875,3.599609375,3.05859375,4.5625,6.33203125,5.43359375,7.25390625,6.39453125,1.060546875,1.986328125,2.7109375,3.22265625],\"type\":\"scatter3d\"},{\"line\":{\"color\":\"#2ca02c\"},\"mode\":\"lines\",\"x\":[0.342529296875,1.1376953125,1.2900390625,0.378173828125,0.52294921875,2.232421875,1.5908203125,0.43896484375,-0.814453125,0.2091064453125,0.900390625,1.27734375,-1.140625,-1.525390625,-3.998046875,-6.4453125,-1.900390625,-0.5654296875,0.8173828125,0.87744140625,-3.478515625,-1.232421875,0.475341796875,-1.1630859375,-1.248046875,0.80419921875,1.62109375,0.03497314453125,-5.296875,-7.9140625,-10.1640625,-11.09375,-1.9462890625,-0.07623291015625,-0.72119140625,-2.001953125,-0.08209228515625,-1.1806640625,-0.64208984375,-1.810546875],\"y\":[2.279296875,5.06640625,6.22265625,5.42578125,-5.45703125,0.94677734375,1.01953125,4.0859375,-1.66015625,-1.6025390625,-1.65234375,-6.8359375,5.1640625,4.59375,2.6328125,4.046875,-0.89453125,2.6171875,8.2421875,6.546875,-5.83984375,-5.08203125,-4.99609375,-6.7265625,-0.73876953125,-0.54345703125,-2.69140625,-1.5732421875,-5.234375,-5.4296875,-9.6640625,-11.40625,-4.80859375,-5.1328125,-3.693359375,-4.06640625,-7.7734375,-7.56640625,-10.75,-10.0625],\"z\":[4.2109375,6.1640625,7.33203125,7.6640625,0.59765625,3.275390625,4.52734375,4.40625,3.037109375,3.1640625,2.619140625,2.599609375,4.40625,5.29296875,4.890625,4.796875,1.4365234375,1.568359375,3.458984375,3.966796875,3.00390625,2.2265625,3.01953125,2.958984375,4.5078125,4.828125,4.7890625,6.109375,1.2412109375,3.2734375,3.126953125,2.171875,3.05859375,4.24609375,5.375,7.140625,1.7890625,2.943359375,1.71875,-0.0706787109375],\"type\":\"scatter3d\"},{\"line\":{\"color\":\"#d62728\"},\"mode\":\"lines\",\"x\":[2.91015625,2.64453125,1.9453125,1.603515625,-1.2138671875,-2.353515625,-1.630859375,-0.43408203125,-1.6201171875,-2.318359375,-3.69921875,-2.939453125,2.767578125,3.939453125,6.64453125,4.62109375,-1.951171875,-0.822265625,0.61865234375,3.349609375,-0.95654296875,-2.94921875,-5.1875,-7.24609375,-0.4423828125,-0.0214385986328125,0.1737060546875,-1.703125,0.94921875,1.8291015625,1.84375,1.1494140625,-1.2080078125,-0.75146484375,-0.44873046875,-1.2353515625],\"y\":[-2.44140625,-3.1953125,-0.6201171875,-0.47412109375,0.0623779296875,-2.025390625,-1.4482421875,-0.94140625,-1.6396484375,-4.5234375,-2.095703125,-2.091796875,2.220703125,1.517578125,1.0615234375,-0.90869140625,1.865234375,1.8232421875,0.5087890625,4.23046875,2.267578125,-0.1873779296875,-3.115234375,-6.7578125,-2.900390625,0.8671875,-0.677734375,-0.040191650390625,-1.78125,-4.59375,-3.1328125,-4.2109375,-1.861328125,-1.703125,-1.845703125,-3.9375],\"z\":[5.125,4.82421875,6.54296875,6.03515625,-1.65625,-0.0200042724609375,1.916015625,2.998046875,3.0546875,4.2265625,6.05078125,6.56640625,4.91796875,5.40234375,5.60546875,5.65625,1.826171875,2.31640625,2.62890625,3.65625,1.2001953125,-0.49951171875,-0.296875,0.413330078125,3.33984375,5.85546875,6.6875,5.3828125,1.271484375,0.8896484375,2.337890625,2.77734375,1.638671875,3.240234375,3.814453125,3.76953125],\"type\":\"scatter3d\"},{\"line\":{\"color\":\"#9467bd\"},\"mode\":\"lines\",\"x\":[-2.44921875,-2.103515625,-0.91357421875,-1.3447265625,4.671875,4.92578125,4.265625,3.748046875,1.41796875,0.283203125,-3.923828125,-3.697265625,2.8515625,3.82421875,3.11328125,0.99658203125,0.55859375,0.814453125,3.013671875,4.1640625,2.751953125,1.880859375,-0.08221435546875,2.271484375,-3.4140625,-2.369140625,-1.5595703125,-0.7490234375,-1.73828125,-0.04278564453125,0.63623046875,1.916015625,-1.3505859375,-1.853515625,-5.2109375,-4.03515625,-0.1832275390625,-1.328125,-1.490234375,-0.4658203125],\"y\":[-6.51953125,-2.42578125,-2.98828125,-1.068359375,1.6435546875,3.857421875,1.5986328125,4.87890625,0.61865234375,2.47265625,4.83984375,9.5,-5.171875,-3.1640625,-1.552734375,-3.107421875,-8.2265625,-6.95703125,-3.67578125,-4.08984375,-1.353515625,-1.287109375,-3.142578125,1.546875,1.3681640625,-0.7109375,-0.71728515625,-2.291015625,-4.19921875,1.232421875,1.796875,0.6044921875,-5.83984375,-3.697265625,-6.484375,-4.9140625,1.2978515625,1.6181640625,2.275390625,5.83984375],\"z\":[0.214599609375,2.0,3.375,3.626953125,3.865234375,4.1171875,5.1640625,7.12890625,2.76953125,3.89453125,4.19140625,7.5078125,1.619140625,1.943359375,2.51953125,2.24609375,0.5908203125,0.270751953125,0.615234375,2.01953125,2.9375,4.98046875,6.4296875,7.80859375,2.732421875,1.9326171875,1.7529296875,2.0234375,0.73388671875,1.7158203125,3.046875,4.34375,1.1376953125,2.509765625,2.748046875,2.3046875,4.41796875,3.41015625,2.70703125,2.734375],\"type\":\"scatter3d\"},{\"line\":{\"color\":\"#8c564b\"},\"mode\":\"lines\",\"x\":[4.6953125,4.05078125,5.12109375,4.99609375,1.2392578125,1.44921875,2.333984375,2.138671875,3.666015625,4.83984375,4.4765625,3.40234375,-0.76318359375,-2.64453125,-2.75,-6.1640625,1.7490234375,3.03125,3.029296875,1.701171875,0.282958984375,-1.3603515625,-2.919921875,-2.505859375,3.30859375,4.51953125,2.447265625,2.0,-2.27734375,-0.1815185546875,-0.483642578125,1.2060546875,0.63330078125,-1.00390625,-1.2470703125,-3.076171875,1.056640625,0.2000732421875,0.251220703125,-1.4990234375],\"y\":[-1.1640625,-1.9677734375,0.880859375,1.814453125,2.0859375,1.125,4.6875,6.265625,7.8515625,7.69921875,7.046875,7.6953125,-0.90673828125,0.25341796875,-1.3017578125,-5.07421875,-0.6943359375,1.021484375,1.828125,-0.202880859375,-4.51171875,-2.001953125,0.76025390625,0.98876953125,1.8310546875,2.97265625,3.62109375,4.03125,-2.134765625,-3.162109375,-2.630859375,-1.44921875,-1.38671875,-1.0078125,0.544921875,3.1484375,4.4453125,3.54296875,5.0,4.46484375],\"z\":[5.51953125,5.98046875,6.7578125,7.21484375,2.4609375,3.6796875,4.51953125,0.98681640625,2.171875,3.125,4.06640625,5.2578125,8.1015625,6.1640625,7.0625,3.798828125,6.30078125,7.5703125,7.7265625,7.79296875,4.0390625,4.078125,4.85546875,4.5390625,6.09375,4.80859375,6.5625,7.203125,2.130859375,4.44140625,6.4453125,5.6640625,4.40234375,3.771484375,4.04296875,5.19140625,-0.5986328125,-1.4619140625,0.1451416015625,-0.546875],\"type\":\"scatter3d\"},{\"line\":{\"color\":\"#e377c2\"},\"mode\":\"lines\",\"x\":[5.3125,6.4140625,5.7421875,6.71875,-0.63232421875,-0.283447265625,1.3798828125,2.02734375,-0.703125,-3.23828125,-2.533203125,-0.2144775390625,-2.439453125,-1.986328125,-1.470703125,-0.5849609375,-1.5986328125,-2.2578125,-2.162109375,-1.4169921875,3.7421875,3.755859375,3.837890625,4.44921875,-1.4501953125,-3.482421875,-3.701171875,-3.404296875,-2.35546875,-3.623046875,-3.255859375,-2.244140625,2.380859375,3.828125,4.60546875,5.34375,-1.3515625,-1.4404296875,-0.93505859375,-4.90234375],\"y\":[9.2890625,10.0,13.828125,13.9453125,-7.42578125,-6.14453125,-4.9453125,-6.921875,4.1796875,3.267578125,3.61328125,7.19921875,1.7578125,0.38916015625,-1.0966796875,-0.9150390625,-0.8955078125,-4.7109375,-6.046875,-2.470703125,4.53125,0.2052001953125,0.59619140625,-0.2095947265625,-5.2890625,-5.8828125,-6.04296875,-0.89892578125,2.791015625,-2.353515625,-2.931640625,-1.166015625,3.388671875,3.7421875,3.373046875,4.8671875,0.1968994140625,8.0703125,8.4765625,3.53125],\"z\":[5.42578125,5.21875,6.51171875,6.61328125,3.232421875,6.3203125,7.36328125,7.90234375,2.8359375,4.00390625,3.201171875,4.6640625,2.216796875,3.146484375,4.71484375,4.07421875,3.47265625,3.390625,3.0078125,3.376953125,5.51171875,7.28125,7.60546875,8.078125,6.26953125,6.03515625,7.765625,7.63671875,2.95703125,2.474609375,1.2958984375,1.400390625,1.58203125,2.18359375,3.015625,2.6328125,5.3046875,7.94140625,8.3671875,5.8828125],\"type\":\"scatter3d\"},{\"line\":{\"color\":\"#7f7f7f\"},\"mode\":\"lines\",\"x\":[0.2008056640625,3.697265625,5.75,4.49609375,-2.900390625,0.467529296875,-0.904296875,-1.9560546875,-3.099609375,-0.755859375,-2.009765625,-1.2724609375,2.970703125,2.404296875,3.826171875,3.9921875,2.220703125,1.9189453125,4.47265625,3.640625,-1.3798828125,-1.708984375,0.40283203125,-0.310302734375,-4.62109375,0.9296875,0.8212890625,-0.7255859375,0.92431640625,1.0576171875,2.703125,2.830078125,-1.240234375,0.1622314453125,-1.3154296875,-0.85302734375,2.611328125,3.40625,0.54541015625,0.57470703125],\"y\":[2.197265625,5.83984375,4.171875,2.22265625,-4.87890625,-1.7490234375,-1.658203125,-2.357421875,-8.875,-6.52734375,-3.7109375,-0.7861328125,6.7734375,2.322265625,1.578125,-0.599609375,3.806640625,1.0234375,5.296875,1.7060546875,-4.1015625,-5.53515625,0.53662109375,-1.0791015625,0.53125,6.8359375,3.357421875,-0.221435546875,-3.5546875,-6.1953125,-1.3310546875,-2.50390625,-8.40625,-6.07421875,-3.90625,-1.8740234375,7.0546875,6.17578125,-1.5625,-3.779296875],\"z\":[1.5185546875,1.2958984375,2.01953125,2.185546875,3.408203125,4.94921875,4.45703125,3.58203125,2.791015625,3.32421875,2.689453125,4.02734375,3.384765625,2.81640625,4.2578125,3.404296875,-1.7734375,0.34814453125,1.9287109375,2.578125,3.814453125,3.9609375,4.546875,4.6953125,3.59765625,5.46875,6.86328125,6.125,5.30078125,5.52734375,6.73046875,7.28125,6.66015625,7.3359375,5.8125,5.609375,3.7578125,4.80859375,3.412109375,4.94921875],\"type\":\"scatter3d\"},{\"line\":{\"color\":\"#1f77b4\"},\"mode\":\"lines\",\"x\":[0.77490234375,0.98388671875,0.8115234375,2.29296875,0.81640625,0.276611328125,0.1663818359375,1.69921875,1.4013671875,3.72265625,3.171875,2.220703125,0.63916015625,1.423828125,0.9052734375,-1.419921875,-4.1953125,-2.185546875,-1.7822265625,1.3623046875,-1.509765625,-1.029296875,-0.95556640625,-0.2529296875,1.6728515625,1.46484375,1.130859375,1.6103515625,-1.67578125,-0.314208984375,3.037109375,5.65625,1.2744140625,1.470703125,3.197265625,3.873046875,3.705078125,5.05859375,4.77734375,3.873046875,2.1796875,1.435546875,0.61572265625,-0.1868896484375],\"y\":[3.779296875,4.21484375,4.36328125,1.9951171875,6.7890625,7.0,5.4375,4.46875,5.47265625,4.4296875,3.587890625,1.5,-0.46142578125,-1.349609375,-2.01953125,-2.666015625,5.8203125,6.42578125,4.98828125,3.576171875,2.876953125,1.58203125,2.00390625,2.236328125,3.7578125,3.298828125,1.400390625,2.80859375,7.3828125,6.0078125,4.36328125,4.49609375,1.453125,1.7607421875,1.1015625,-0.482177734375,12.375,10.484375,9.859375,9.3125,10.6484375,10.1640625,10.109375,10.40625],\"z\":[4.51171875,5.6171875,5.9609375,4.87109375,4.47265625,4.23828125,4.8359375,5.36328125,6.078125,5.6484375,5.39453125,6.7109375,3.92578125,5.48046875,6.0234375,6.515625,2.50390625,3.24609375,4.21484375,4.5625,5.2421875,3.1328125,4.31640625,4.3046875,5.24609375,6.06640625,5.91796875,4.4609375,4.18359375,4.5390625,3.978515625,3.763671875,4.55859375,4.30078125,4.87890625,6.1484375,2.666015625,3.67578125,5.0078125,5.5078125,4.9375,4.94921875,4.7421875,4.18359375],\"type\":\"scatter3d\"},{\"line\":{\"color\":\"#ff7f0e\"},\"mode\":\"lines\",\"x\":[1.927734375,2.3828125,2.888671875,4.484375,3.109375,1.8779296875,1.6142578125,1.9951171875,-7.375,-6.5390625,-6.3125,-5.7578125,0.681640625,1.12890625,0.136474609375,-0.5361328125,-3.1875,-3.240234375,-4.01171875,-4.1640625,0.435791015625,2.279296875,2.7734375,5.06640625,2.427734375,0.99365234375,1.51953125,0.369384765625,-4.91796875,-3.8359375,-4.234375,-1.916015625,1.4091796875,2.275390625,2.0,1.5546875],\"y\":[9.953125,8.6953125,8.2109375,7.19921875,4.0390625,2.228515625,1.1630859375,0.93603515625,-16.515625,-15.328125,-14.484375,-12.0078125,2.90234375,3.927734375,3.212890625,2.4296875,-12.171875,-13.0703125,-12.234375,-10.9296875,9.640625,9.8515625,8.828125,7.3046875,2.341796875,2.736328125,2.369140625,2.357421875,-12.2578125,-12.1015625,-11.09375,-10.140625,4.3359375,4.15234375,1.861328125,0.77001953125],\"z\":[7.046875,8.1953125,8.1484375,7.2109375,6.81640625,6.6328125,6.140625,6.7265625,5.33984375,4.57421875,3.212890625,1.658203125,7.0078125,7.3046875,8.0,8.7734375,0.56103515625,1.775390625,1.13671875,1.171875,4.734375,4.38671875,3.71875,4.33984375,3.55859375,1.369140625,1.806640625,1.994140625,3.029296875,4.6015625,5.390625,6.14453125,5.7265625,3.541015625,3.82421875,4.8984375],\"type\":\"scatter3d\"},{\"line\":{\"color\":\"#2ca02c\"},\"mode\":\"lines\",\"x\":[1.25390625,2.056640625,3.1328125,2.162109375,5.56640625,4.765625,5.578125,4.55859375,1.50390625,2.38671875,3.07421875,1.314453125,1.4384765625,1.919921875,1.9423828125,3.509765625,-6.43359375,-5.4453125,-5.4375,-4.9140625,-6.3046875,-6.16796875,-6.56640625,-5.62109375,-1.732421875,-3.72265625,-3.94140625,-5.65625,2.896484375,2.75390625,1.9052734375,3.32421875,-5.40234375,-5.95703125,-5.4609375,-6.15234375,-11.109375,-9.8125,-10.703125,-11.5390625],\"y\":[6.3125,6.26171875,5.9375,6.3515625,1.830078125,2.248046875,2.517578125,3.599609375,2.05078125,1.3173828125,0.73291015625,1.166015625,4.95703125,4.625,5.2265625,4.36328125,-12.4453125,-12.8828125,-13.2578125,-13.0390625,-19.046875,-18.265625,-14.453125,-11.5078125,-12.21875,-12.0859375,-10.8515625,-9.9765625,2.24609375,2.60546875,4.69140625,5.6328125,-14.5,-13.359375,-12.578125,-14.6640625,-14.265625,-15.90625,-14.3125,-15.4765625],\"z\":[4.34375,4.69140625,4.76953125,6.1640625,3.7734375,2.94140625,4.91796875,5.90234375,6.41015625,5.52734375,3.8125,4.30859375,3.80859375,3.751953125,3.861328125,6.37890625,-1.2041015625,-0.62451171875,0.312255859375,0.343017578125,2.783203125,2.96484375,2.669921875,3.134765625,0.2298583984375,0.7041015625,1.171875,3.435546875,2.60546875,2.58984375,5.16015625,6.359375,0.8662109375,0.50244140625,1.0673828125,0.69482421875,2.98828125,1.3232421875,0.779296875,-0.765625],\"type\":\"scatter3d\"},{\"line\":{\"color\":\"#d62728\"},\"mode\":\"lines\",\"x\":[1.484375,1.767578125,1.912109375,4.34375,3.646484375,2.423828125,1.400390625,2.8046875,-3.744140625,-5.80078125,-6.859375,-6.71484375,-0.9501953125,0.1468505859375,-0.005252838134765625,-1.587890625,5.5,3.3359375,2.345703125,3.783203125,-3.44921875,-2.70703125,-1.1484375,-0.71142578125,-5.40234375,-6.5703125,-8.1796875,-7.3046875,-3.888671875,-4.6484375,-6.69140625,-4.3359375,2.537109375,1.8740234375,-0.51416015625,-4.30859375],\"y\":[0.951171875,2.07421875,2.0,2.328125,2.72265625,2.86328125,3.736328125,5.54296875,-2.916015625,-2.53125,-3.2734375,-4.00390625,-1.513671875,-0.560546875,0.8134765625,-0.0029754638671875,9.0234375,8.953125,9.9375,10.546875,-11.875,-11.2578125,-10.0,-9.6953125,-10.734375,-12.1171875,-13.015625,-13.421875,-14.4296875,-16.359375,-18.859375,-20.734375,8.3671875,6.01953125,3.7265625,1.06640625],\"z\":[6.6875,5.72265625,4.82421875,5.8359375,5.41796875,5.171875,6.453125,5.07421875,-0.274169921875,1.8076171875,2.689453125,1.9755859375,3.84765625,5.64453125,5.3515625,4.9609375,1.9677734375,4.36328125,6.4140625,6.19921875,2.328125,1.42578125,2.884765625,3.69921875,1.13671875,2.560546875,4.375,5.3984375,-0.529296875,-0.8193359375,-0.34814453125,0.390869140625,2.6171875,2.6953125,3.2265625,3.248046875],\"type\":\"scatter3d\"},{\"line\":{\"color\":\"#9467bd\"},\"mode\":\"lines\",\"x\":[4.421875,1.9384765625,1.2412109375,1.6357421875,2.9921875,2.533203125,0.96044921875,1.0859375,2.029296875,2.923828125,3.615234375,4.3203125,2.375,2.66796875,2.08203125,0.8212890625,-3.513671875,-2.54296875,-1.875,-0.83935546875,-5.0703125,-2.728515625,-1.998046875,2.4375,3.076171875,5.83984375,6.40234375,4.95703125,4.22265625,4.546875,5.8984375,4.14453125,-5.33203125,-4.5390625,-2.693359375,-3.7421875,3.314453125,0.78173828125,-0.03662109375,-2.48828125],\"y\":[9.796875,11.296875,11.953125,10.265625,5.27734375,4.1015625,4.984375,5.125,3.759765625,2.625,2.201171875,3.1015625,4.046875,4.8671875,4.4765625,1.927734375,4.80859375,3.92578125,3.73828125,4.4375,0.18212890625,-0.01386260986328125,-0.53955078125,-2.15625,3.07421875,1.45703125,1.52734375,2.439453125,3.80078125,5.68359375,6.46484375,5.97265625,-11.59375,-12.7265625,-11.984375,-13.796875,7.484375,4.31640625,-0.466796875,-5.06640625],\"z\":[6.09375,6.40625,6.5078125,6.51171875,6.74609375,7.48828125,8.1640625,7.703125,2.486328125,4.14453125,5.19921875,5.70703125,6.3125,7.03125,6.078125,4.86328125,2.51953125,3.82421875,2.505859375,4.30078125,2.46875,3.732421875,2.861328125,3.91796875,2.453125,2.279296875,2.744140625,5.54296875,5.57421875,6.7578125,6.73046875,7.0078125,2.09765625,2.1328125,3.27734375,3.4296875,2.109375,1.7783203125,2.119140625,1.6064453125],\"type\":\"scatter3d\"},{\"line\":{\"color\":\"#8c564b\"},\"mode\":\"lines\",\"x\":[1.25,-1.3291015625,-1.5478515625,-2.564453125,0.483154296875,0.1622314453125,1.7822265625,2.759765625,3.587890625,4.2578125,4.484375,5.0703125,-1.5947265625,-0.9208984375,0.16357421875,0.59814453125,0.418212890625,1.1845703125,3.201171875,3.794921875,-7.46484375,-5.2265625,-5.33984375,-4.25,3.76171875,4.3046875,5.4375,4.07421875,4.76953125,4.41796875,3.802734375,5.890625,4.04296875,2.953125,2.388671875,1.8466796875,-4.98046875,-5.59375,-6.66796875,-5.96875],\"y\":[7.6640625,9.6171875,9.078125,10.0859375,4.94921875,4.46484375,3.96484375,2.388671875,10.484375,9.734375,8.921875,7.80859375,-4.875,-6.078125,-6.55078125,-6.78515625,4.7109375,3.435546875,3.935546875,2.0546875,-6.8359375,-7.8125,-6.3984375,-4.74609375,8.3203125,9.03125,8.9765625,9.328125,6.01171875,7.796875,7.4296875,7.2421875,1.90625,0.5107421875,0.61279296875,1.244140625,-5.2578125,-3.521484375,-2.9765625,-2.80859375],\"z\":[5.84375,6.4609375,7.21484375,6.81640625,3.3515625,3.009765625,2.34765625,4.7734375,4.22265625,4.48046875,5.046875,6.32421875,3.748046875,3.625,4.35546875,4.4296875,3.861328125,3.75,3.5859375,3.6875,0.283447265625,0.253173828125,0.7333984375,1.185546875,7.8359375,9.046875,8.1796875,8.625,4.0,4.99609375,5.0546875,5.33203125,3.091796875,3.328125,4.9375,5.484375,5.44921875,5.96875,6.73046875,4.5078125],\"type\":\"scatter3d\"},{\"line\":{\"color\":\"#e377c2\"},\"mode\":\"lines\",\"x\":[1.84765625,2.6328125,3.216796875,2.03515625,1.009765625,-0.291015625,-0.214599609375,1.048828125,3.416015625,2.712890625,2.291015625,2.779296875,7.375,8.1875,7.07421875,3.373046875,-6.05078125,-7.17578125,-7.7421875,-6.16015625,0.498291015625,0.93212890625,1.5703125,2.662109375,-2.013671875,-4.61328125,-3.048828125,-0.3408203125,-1.6259765625,1.3759765625,-0.0273590087890625,3.462890625,-7.1484375,-5.05078125,-6.140625,-5.26171875],\"y\":[4.85546875,5.5546875,4.23046875,2.6484375,1.8818359375,3.287109375,2.818359375,1.1650390625,5.10546875,4.9765625,5.11328125,5.57421875,5.28125,3.037109375,3.20703125,6.50390625,-10.5,-13.0859375,-16.1875,-15.84375,6.38671875,6.1640625,4.77734375,3.240234375,10.0,11.1328125,11.4765625,10.625,0.52490234375,-0.34521484375,1.1611328125,-0.5380859375,-10.2265625,-10.5,-10.5703125,-9.6328125],\"z\":[5.31640625,4.6015625,5.7734375,5.4765625,6.17578125,6.73828125,5.16015625,4.64453125,3.771484375,4.41796875,5.203125,6.1953125,6.65625,6.02734375,6.921875,7.40234375,0.3134765625,0.673828125,1.1220703125,1.310546875,3.638671875,4.19921875,4.921875,4.44140625,7.65625,7.40625,6.47265625,4.9375,3.123046875,2.923828125,3.533203125,3.138671875,-0.12890625,-0.72607421875,-0.039947509765625,1.333984375],\"type\":\"scatter3d\"},{\"line\":{\"color\":\"#7f7f7f\"},\"mode\":\"lines\",\"x\":[0.343017578125,0.7255859375,0.4638671875,1.5400390625,-0.49853515625,0.958984375,0.5146484375,0.326171875,1.2119140625,2.197265625,3.958984375,2.33984375,-4.09765625,-3.166015625,-2.921875,-3.23046875,-1.89453125,-1.1982421875,-0.09783935546875,2.55859375,-3.447265625,-2.662109375,-2.69140625,-2.4296875,4.05078125,3.3359375,2.951171875,3.029296875,5.93359375,6.83203125,6.27734375,5.15625,-2.283203125,-4.7421875,-4.98828125,-4.19140625,-6.8671875,-5.91796875,-5.93359375,-3.33984375],\"y\":[4.61328125,3.078125,4.2265625,4.28515625,4.375,4.46484375,3.35546875,1.5244140625,5.4765625,5.37109375,5.3984375,5.87109375,-14.2890625,-14.9296875,-14.5234375,-12.9296875,2.171875,3.2578125,3.669921875,3.236328125,-8.1796875,-8.0625,-8.3984375,-9.7421875,4.6171875,5.328125,6.0703125,5.390625,4.515625,2.828125,2.380859375,3.5078125,-8.984375,-8.375,-8.03125,-9.109375,-5.37890625,-6.36328125,-6.51171875,-7.1484375],\"z\":[6.203125,6.03515625,4.984375,5.33203125,6.3671875,4.16796875,3.556640625,2.037109375,5.35546875,5.9765625,5.109375,5.37890625,-1.6650390625,-1.1591796875,-0.68505859375,0.1356201171875,2.65625,3.01171875,2.90234375,0.7783203125,3.037109375,4.7578125,3.8515625,2.4296875,7.4296875,5.73828125,6.078125,4.83984375,6.734375,5.44921875,6.125,5.56640625,6.484375,6.2578125,5.859375,5.28125,3.14453125,2.263671875,2.0,2.986328125],\"type\":\"scatter3d\"},{\"line\":{\"color\":\"#1f77b4\"},\"mode\":\"lines\",\"x\":[7.07421875,7.37890625,6.59375,7.63671875,-0.412109375,0.36083984375,0.986328125,1.873046875,3.05859375,0.0496826171875,0.45703125,0.380126953125,-1.3642578125,0.34814453125,0.4326171875,-1.978515625,-0.62548828125,-0.8125,-0.322509765625,1.70703125,0.9208984375,4.34765625,3.15625,2.251953125,-7.140625,-6.4296875,-1.763671875,-1.984375,2.419921875,2.564453125,0.99755859375,1.224609375,-1.408203125,-1.37890625,-1.578125,-1.6142578125,5.734375,7.296875,5.7890625,6.79296875],\"y\":[11.671875,12.984375,12.2578125,11.78125,4.328125,5.27734375,5.58203125,5.3046875,9.5703125,5.59765625,3.443359375,4.99609375,0.392578125,0.8154296875,-2.1796875,-4.55078125,-4.625,-4.27734375,-1.505859375,-0.86962890625,3.87890625,3.568359375,0.050506591796875,-1.92578125,-8.1640625,-8.875,-3.640625,-3.86328125,-0.73095703125,1.1044921875,0.322998046875,-0.765625,9.3671875,8.296875,4.4921875,1.0009765625,9.5,11.171875,9.109375,9.265625],\"z\":[4.9609375,6.10546875,6.578125,5.98828125,1.7919921875,2.0078125,2.82421875,4.16015625,3.001953125,2.380859375,-0.85107421875,-0.1737060546875,4.06640625,3.2109375,2.17578125,1.8837890625,4.4296875,5.86328125,6.8515625,5.62890625,5.29296875,5.1796875,6.2734375,6.30078125,3.90234375,4.3203125,5.9140625,8.1953125,5.359375,5.39453125,5.62890625,5.828125,2.353515625,4.1953125,5.34375,6.98828125,4.02734375,6.09375,5.1015625,4.2265625],\"type\":\"scatter3d\"},{\"line\":{\"color\":\"#ff7f0e\"},\"mode\":\"lines\",\"x\":[0.381103515625,-2.142578125,-2.3515625,-1.9716796875,3.0234375,1.8876953125,-1.201171875,-2.181640625,3.78125,2.84375,3.583984375,2.203125,1.056640625,2.505859375,2.853515625,3.0703125,1.189453125,0.7197265625,-0.472900390625,2.158203125,-0.8564453125,1.1142578125,-0.658203125,-2.724609375,0.38232421875,-1.9541015625,-1.4248046875,-2.498046875,-0.407958984375,-0.626953125,-2.58984375,-3.27734375,3.341796875,2.376953125,1.771484375,2.630859375,-2.671875,-3.1171875,-1.046875,-1.2216796875,-2.86328125,-3.986328125,-1.2177734375,-3.45703125],\"y\":[6.04296875,2.6875,6.69140625,9.6796875,2.7109375,1.8369140625,-1.4169921875,-2.56640625,0.6689453125,1.14453125,0.129638671875,-3.611328125,-0.57275390625,2.46484375,5.3359375,3.369140625,1.533203125,-1.505859375,-2.85546875,-2.34765625,8.1640625,8.5078125,0.347412109375,-7.0859375,-4.015625,-6.6640625,-7.05859375,-6.390625,-4.53125,-4.21484375,-5.6484375,-4.4296875,1.6572265625,1.8642578125,0.58056640625,0.3349609375,-8.4921875,-7.625,-6.10546875,-8.8046875,-6.296875,-5.83984375,-4.1875,-3.64453125],\"z\":[2.23828125,0.061126708984375,-0.302978515625,1.0234375,5.2578125,6.03125,6.0859375,3.95703125,6.84375,6.48046875,7.23828125,7.28125,2.65234375,3.537109375,4.19921875,2.822265625,5.90625,6.3671875,5.09375,4.9375,2.841796875,3.568359375,2.96484375,2.1953125,2.919921875,4.2109375,4.62109375,2.998046875,2.21484375,3.314453125,2.7109375,1.884765625,11.0234375,11.4765625,10.6171875,8.8515625,1.345703125,1.5712890625,2.611328125,2.140625,4.703125,6.5078125,3.9765625,3.392578125],\"type\":\"scatter3d\"},{\"line\":{\"color\":\"#2ca02c\"},\"mode\":\"lines\",\"x\":[-1.8857421875,-1.0546875,1.1494140625,-0.4150390625,-2.791015625,-4.44140625,-5.0625,-4.7421875,-2.26953125,-0.94873046875,-2.970703125,-4.4296875,-0.486572265625,-2.37109375,0.0261688232421875,-1.4677734375,-4.74609375,-4.01171875,-3.5859375,-2.73046875,5.2265625,3.048828125,1.76171875,0.8857421875,-0.0127716064453125,-0.54931640625,0.7724609375,-0.7080078125,2.462890625,1.7763671875,0.29541015625,1.5625,-2.400390625,-1.666015625,-3.453125,-5.30859375],\"y\":[-1.6259765625,-2.9140625,0.29833984375,-1.2255859375,-5.9453125,-5.03125,-4.08984375,-4.140625,-3.953125,-5.06640625,-7.9296875,-6.04296875,-1.8916015625,-2.556640625,-2.1171875,-4.55078125,-1.38671875,-3.267578125,-6.00390625,-3.087890625,-0.71337890625,-5.63671875,-6.07421875,-6.46484375,-1.216796875,0.242431640625,0.6767578125,-1.2275390625,1.21875,2.54296875,2.025390625,3.17578125,0.263916015625,2.921875,-1.2265625,-3.341796875],\"z\":[0.94140625,0.7216796875,2.88671875,2.478515625,2.2734375,1.8994140625,2.203125,2.94921875,4.34765625,3.826171875,4.70703125,4.75,2.01171875,2.15234375,2.615234375,2.857421875,-0.017425537109375,1.021484375,0.60546875,3.7578125,4.6171875,3.396484375,3.095703125,3.66015625,4.40234375,4.29296875,5.046875,4.28515625,5.0,5.49609375,5.41796875,5.75,4.3046875,6.20703125,5.17578125,4.96484375],\"type\":\"scatter3d\"},{\"line\":{\"color\":\"#d62728\"},\"mode\":\"lines\",\"x\":[8.1796875,6.2578125,5.20703125,4.07421875,-0.89111328125,0.459228515625,-0.1673583984375,-0.8359375,-1.2509765625,-3.26171875,-1.76953125,-1.6875,-0.2279052734375,-2.0703125,-1.822265625,-1.212890625,-1.64453125,-1.0634765625,-1.50390625,-1.818359375,-0.86083984375,-0.541015625,-0.148681640625,-2.009765625,-2.14453125,-1.8271484375,-2.009765625,-1.4873046875,0.37353515625,0.732421875,-0.398681640625,-1.3564453125,-1.138671875,-0.2242431640625,1.9541015625,3.310546875],\"y\":[9.8828125,7.8828125,5.12109375,2.533203125,4.16015625,4.828125,0.11492919921875,-1.6875,-3.369140625,-7.56640625,-5.46484375,-8.0859375,-0.5185546875,-2.603515625,-3.38671875,-2.8515625,-7.0,-6.29296875,-3.419921875,-2.62890625,1.4150390625,0.480224609375,0.6240234375,0.047698974609375,-1.1796875,-0.9482421875,-0.55810546875,1.0966796875,0.11480712890625,0.0143890380859375,-2.556640625,-6.26171875,13.53125,13.5390625,15.65625,15.8359375],\"z\":[8.984375,9.1953125,9.1484375,7.359375,6.26171875,6.4140625,6.26953125,5.92578125,-0.525390625,0.99462890625,0.70654296875,2.0078125,5.609375,5.359375,5.1953125,4.83984375,2.68359375,2.455078125,5.3359375,5.51171875,2.4921875,2.669921875,3.388671875,3.357421875,4.41015625,5.95703125,4.79296875,6.20703125,2.853515625,3.111328125,2.611328125,3.5625,1.771484375,3.05078125,3.16796875,4.0],\"type\":\"scatter3d\"},{\"line\":{\"color\":\"#9467bd\"},\"mode\":\"lines\",\"x\":[-0.42724609375,-1.197265625,0.127685546875,1.4609375,3.578125,4.46484375,4.671875,3.841796875,0.908203125,2.4609375,5.3984375,2.90625,-2.30078125,-0.88134765625,-2.796875,-4.62109375,3.541015625,2.302734375,4.88671875,5.19140625,1.6103515625,2.96875,3.615234375,2.71484375,-3.478515625,-4.02734375,-1.509765625,-0.88916015625,-0.84765625,1.7109375,2.205078125,-0.533203125,1.7197265625,0.03564453125,0.77685546875,-1.466796875],\"y\":[0.73291015625,0.1263427734375,1.7001953125,4.3046875,4.15625,4.703125,5.38671875,2.1875,16.953125,11.6171875,9.6484375,1.4462890625,6.9375,5.078125,3.671875,-1.9306640625,3.18359375,2.73828125,8.0546875,7.05859375,1.6748046875,3.978515625,5.15625,3.216796875,-5.265625,-6.453125,-3.404296875,-2.578125,-5.57421875,-2.509765625,-0.9892578125,-4.39453125,1.4091796875,2.185546875,7.34375,4.3828125],\"z\":[3.240234375,3.3671875,4.61328125,5.88671875,3.59765625,4.1875,4.58984375,3.869140625,4.28125,3.849609375,4.67578125,4.60546875,2.6796875,3.0234375,4.19140625,4.0234375,6.8125,6.6328125,6.25390625,6.875,5.9921875,8.265625,8.1171875,6.7734375,6.94140625,5.36328125,6.1875,6.0390625,2.072265625,2.70703125,4.09765625,3.72265625,6.9375,6.046875,5.0,4.875],\"type\":\"scatter3d\"},{\"line\":{\"color\":\"#8c564b\"},\"mode\":\"lines\",\"x\":[4.734375,3.76953125,5.40625,6.36328125,-1.931640625,-0.974609375,-2.037109375,-2.28125,-0.28857421875,2.35546875,2.0,0.998046875,-1.2255859375,-0.17529296875,-2.134765625,-2.03515625,-0.94580078125,-0.6806640625,-0.295654296875,-0.8544921875,3.548828125,4.890625,6.89453125,4.77734375,-0.77978515625,-2.544921875,-3.126953125,-1.669921875,2.86328125,3.826171875,2.767578125,4.1171875,1.025390625,1.203125,2.01171875,4.3125,-2.087890625,-0.23046875,-1.5888671875,-3.03125,0.92626953125,-0.6025390625,-3.36328125,-6.26953125],\"y\":[8.4140625,8.3828125,8.78125,10.4609375,-0.389404296875,-1.1796875,-2.87109375,-4.72265625,6.70703125,7.0546875,5.91796875,5.62890625,6.5859375,3.509765625,3.029296875,1.10546875,-4.88671875,-4.1875,-2.74609375,-3.541015625,-0.5,1.1923828125,1.7138671875,-0.00469207763671875,3.66796875,1.7998046875,-0.355224609375,-0.53759765625,9.6328125,10.4296875,7.8046875,4.99609375,6.4140625,7.24609375,6.30078125,8.453125,0.348388671875,4.58984375,3.3359375,2.552734375,3.453125,1.66796875,1.9306640625,0.07183837890625],\"z\":[3.47265625,4.625,8.078125,8.34375,2.021484375,3.39453125,1.5556640625,1.6201171875,5.34765625,6.81640625,5.93359375,5.4609375,5.40625,5.390625,6.6015625,7.55078125,1.89453125,4.265625,4.578125,5.4296875,2.732421875,2.939453125,3.41015625,2.40625,3.126953125,3.08203125,3.8515625,5.1328125,1.98828125,1.61328125,2.55859375,3.03125,3.99609375,4.29296875,4.3515625,5.15234375,4.52734375,3.681640625,3.0,3.69140625,6.0,5.75,5.03515625,6.22265625],\"type\":\"scatter3d\"},{\"line\":{\"color\":\"#e377c2\"},\"mode\":\"lines\",\"x\":[5.74609375,6.78125,6.296875,2.458984375,-0.59423828125,-3.509765625,-3.73046875,-3.013671875,5.15234375,2.935546875,3.6328125,2.01953125,-0.98046875,0.52001953125,2.533203125,3.046875,1.1611328125,0.19677734375,-0.1629638671875,0.101318359375,-1.4052734375,-1.138671875,0.316162109375,-0.11688232421875,-2.775390625,-2.2890625,-1.470703125,-1.3876953125,-2.5078125,-3.02734375,-1.3447265625,0.0093841552734375,-1.71484375,-2.03515625,-2.34765625,-2.716796875,4.2890625,4.57421875,1.0322265625,1.4892578125],\"y\":[10.375,12.03125,11.3203125,8.078125,4.4140625,-1.134765625,-5.375,-6.609375,-1.6513671875,-3.021484375,-0.7841796875,1.4482421875,1.724609375,2.572265625,3.0703125,1.9931640625,2.09375,-0.54443359375,0.72705078125,0.268310546875,-1.3896484375,-2.046875,-2.517578125,-3.916015625,-0.79736328125,-2.3515625,-0.4248046875,-0.66162109375,-2.423828125,-3.87109375,-3.970703125,-3.07421875,-0.6240234375,-1.765625,-2.51171875,-3.314453125,2.66015625,5.5390625,1.10546875,0.83935546875],\"z\":[9.3671875,8.78125,7.92578125,7.5390625,4.73046875,4.0234375,5.99609375,7.0390625,4.2109375,3.759765625,2.83984375,3.4921875,3.1953125,2.931640625,4.66796875,5.59765625,0.06854248046875,2.06640625,3.04296875,2.65234375,3.677734375,4.078125,5.359375,6.625,2.740234375,1.318359375,0.65185546875,-0.0309295654296875,3.62890625,3.2578125,3.70703125,4.25390625,3.814453125,4.3671875,5.1171875,3.876953125,6.35546875,7.4375,7.64453125,7.28125],\"type\":\"scatter3d\"},{\"line\":{\"color\":\"#7f7f7f\"},\"mode\":\"lines\",\"x\":[-9.9140625,-4.96875,-1.8564453125,-0.0091552734375,-0.038360595703125,0.38671875,2.49609375,2.994140625,5.64453125,6.015625,5.28125,6.03125,-1.7001953125,-3.66015625,-3.455078125,-1.400390625,-1.2587890625,-2.8203125,-3.109375,-3.8671875,-0.5439453125,-1.8076171875,-1.1640625,-1.4833984375,1.7685546875,1.4150390625,-0.385498046875,-0.28515625,1.798828125,1.939453125,1.8359375,-0.194580078125,1.0380859375,-0.8154296875,-0.85791015625,-1.021484375,1.4609375,1.61328125,0.6787109375,2.16015625],\"y\":[-6.24609375,0.72265625,1.8818359375,1.3017578125,1.83984375,-1.7607421875,-0.332763671875,-1.5107421875,12.9765625,14.140625,11.046875,8.609375,-3.998046875,-8.109375,-9.765625,-6.296875,-2.830078125,-2.755859375,-0.9892578125,-4.84375,7.2265625,1.8291015625,4.08984375,2.40625,1.677734375,-0.748046875,-3.693359375,-2.5546875,-2.296875,1.19921875,0.89013671875,-0.04931640625,-0.48876953125,-3.609375,-0.67138671875,-2.408203125,-0.06280517578125,-0.55517578125,-1.732421875,-2.123046875],\"z\":[3.30859375,3.76953125,3.98046875,3.87109375,5.6328125,4.8046875,4.875,5.6015625,5.9453125,6.04296875,6.2890625,6.2578125,0.7314453125,-0.226318359375,0.11962890625,1.8291015625,2.646484375,4.12890625,4.09375,2.552734375,1.8623046875,1.796875,3.326171875,4.08203125,5.3125,6.3515625,4.27734375,3.71484375,2.048828125,3.0546875,3.517578125,3.66796875,4.5234375,3.328125,4.89453125,5.8984375,5.52734375,4.765625,6.4375,6.359375],\"type\":\"scatter3d\"},{\"line\":{\"color\":\"#1f77b4\"},\"mode\":\"lines\",\"x\":[-4.78515625,-2.158203125,-1.380859375,0.66845703125,-0.8271484375,-1.7431640625,-0.4716796875,1.89453125,0.43359375,-1.001953125,0.57958984375,1.0234375,3.744140625,3.83984375,4.703125,3.443359375,-0.0625,0.962890625,1.7724609375,2.87890625,-2.427734375,-0.60009765625,0.29345703125,1.1767578125,-0.365478515625,2.162109375,3.208984375,2.517578125,1.25390625,-0.38232421875,-1.58984375,-3.552734375,-0.62841796875,-1.787109375,0.497314453125,2.568359375,-0.7587890625,-0.0560302734375,-0.365234375,-1.439453125],\"y\":[-6.26953125,-6.91796875,-5.33203125,-0.40478515625,-3.04296875,-0.4541015625,2.787109375,2.490234375,-1.330078125,1.7001953125,4.03125,3.943359375,2.5234375,4.6171875,2.41015625,-0.203125,2.52734375,6.265625,8.203125,8.59375,-1.6484375,1.7333984375,-1.4423828125,-1.4228515625,-1.99609375,1.7412109375,-0.2061767578125,-0.12359619140625,0.521484375,-1.0068359375,-1.3447265625,-3.66796875,2.216796875,1.5947265625,1.646484375,1.5927734375,7.6796875,6.14453125,4.7109375,0.84814453125],\"z\":[3.07421875,3.75,3.48046875,3.697265625,6.0390625,8.2421875,8.0,7.55859375,4.23828125,6.9609375,7.36328125,6.61328125,5.04296875,8.640625,6.96484375,6.63671875,5.83984375,5.15625,4.3125,4.50390625,3.861328125,4.4765625,4.203125,3.814453125,0.333740234375,0.7626953125,0.9873046875,0.339599609375,5.83203125,4.67578125,5.21484375,4.3515625,3.28125,4.65234375,4.84765625,4.5703125,8.640625,7.4140625,6.63671875,7.671875],\"type\":\"scatter3d\"},{\"line\":{\"color\":\"#ff7f0e\"},\"mode\":\"lines\",\"x\":[-1.390625,-2.82421875,-3.328125,-1.568359375,0.3828125,0.8837890625,-0.0499267578125,-0.272705078125,-0.6396484375,-1.7255859375,-2.158203125,-2.595703125,-3.0078125,-1.048828125,-2.376953125,-0.802734375,-0.311767578125,1.9033203125,2.150390625,0.018157958984375,-2.34765625,-4.359375,-5.1640625,-4.03125,-1.384765625,-1.478515625,-0.65234375,0.13623046875,-3.30078125,-1.4140625,1.58203125,0.34130859375,-3.228515625,-4.39453125,-3.005859375,0.94482421875],\"y\":[-2.517578125,-4.88671875,-6.54296875,-5.18359375,-1.193359375,2.37890625,0.47705078125,-0.916015625,-4.1171875,-3.203125,-4.90625,-4.40234375,-1.37109375,-0.0306549072265625,-0.40087890625,2.38671875,0.1275634765625,2.900390625,4.578125,0.9111328125,-11.125,-10.3359375,-6.55859375,-4.41796875,3.173828125,6.1875,4.0234375,3.423828125,2.978515625,3.765625,0.7314453125,-5.84765625,-1.9296875,-7.546875,-8.109375,-7.19921875],\"z\":[4.3828125,3.81640625,1.7763671875,2.099609375,4.6484375,5.78125,4.3359375,3.7421875,2.1796875,4.37109375,2.640625,1.8154296875,5.77734375,5.59765625,5.60546875,7.28515625,5.91015625,6.5390625,7.12109375,7.53515625,4.26953125,4.21875,6.01171875,4.59765625,4.09765625,4.78515625,5.3984375,6.4921875,11.0,10.5859375,7.73828125,6.16796875,4.38671875,3.91796875,3.755859375,3.81640625],\"type\":\"scatter3d\"},{\"line\":{\"color\":\"#2ca02c\"},\"mode\":\"lines\",\"x\":[-3.220703125,-3.240234375,-3.9296875,-3.439453125,0.429443359375,-0.3037109375,-0.56201171875,-1.5458984375,-0.250732421875,-0.382080078125,-1.5791015625,-0.39111328125,5.0625,3.78125,3.794921875,1.7490234375,2.908203125,2.5859375,1.8037109375,1.2568359375,-0.8056640625,-1.5302734375,-0.75537109375,0.478515625,-6.46875,-7.2578125,-6.859375,-5.9765625,0.327392578125,-0.061676025390625,-1.73828125,-2.466796875,-5.9375,-2.828125,-0.9541015625,-1.396484375],\"y\":[-3.0703125,0.4794921875,-1.7373046875,-3.568359375,-10.328125,-9.890625,-8.5859375,-8.46875,6.5625,7.09765625,5.87109375,5.5625,3.361328125,2.279296875,1.7353515625,-0.491455078125,0.197265625,-0.08416748046875,0.54052734375,0.7783203125,-4.5546875,-4.51171875,-0.83154296875,0.1534423828125,-6.9375,-11.359375,-12.453125,-15.78125,3.259765625,3.896484375,0.92724609375,-3.1953125,-9.4140625,-2.68359375,-0.4033203125,-1.7939453125],\"z\":[4.140625,4.4921875,3.720703125,3.87109375,0.705078125,0.833984375,1.0576171875,0.9462890625,5.546875,5.7734375,6.98046875,8.703125,3.453125,3.78125,4.44140625,5.359375,4.9140625,4.68359375,5.5,5.484375,-1.0732421875,-2.720703125,1.6171875,2.111328125,4.3203125,4.01953125,5.28515625,1.77734375,5.7265625,6.90625,7.37109375,5.94921875,0.98828125,3.9765625,4.76953125,3.255859375],\"type\":\"scatter3d\"},{\"line\":{\"color\":\"#d62728\"},\"mode\":\"lines\",\"x\":[0.9423828125,1.552734375,-1.2685546875,-3.728515625,-1.0927734375,-1.4775390625,0.79736328125,-1.1083984375,0.97998046875,1.7734375,0.6435546875,1.8583984375,-3.103515625,-4.34765625,-5.0703125,-5.14453125,-3.2734375,-1.7783203125,0.1055908203125,1.2685546875,-2.95703125,-1.3349609375,-0.505859375,-0.232666015625,-1.982421875,-0.638671875,0.219482421875,-1.857421875,0.50634765625,0.340087890625,0.052093505859375,-2.955078125,-1.6953125,-0.30126953125,-0.415283203125,1.0419921875,-0.220458984375,1.4208984375,3.3828125,1.9580078125],\"y\":[0.92919921875,0.02081298828125,-0.260986328125,-2.224609375,-5.00390625,-2.853515625,-5.35546875,-4.87890625,4.11328125,3.3046875,1.4052734375,4.890625,-0.29931640625,2.134765625,0.1297607421875,-1.681640625,2.806640625,3.673828125,2.896484375,2.42578125,-6.87890625,-5.1640625,-6.34375,-6.296875,3.837890625,3.029296875,0.8017578125,-1.033203125,-2.359375,-1.833984375,0.08709716796875,-3.01953125,-1.06640625,0.0838623046875,-0.184814453125,-3.80078125,-0.58447265625,1.1220703125,1.01171875,1.9794921875],\"z\":[6.66796875,5.20703125,5.1640625,5.02734375,5.83203125,7.03125,4.8125,4.66015625,4.796875,3.1796875,5.1796875,7.52734375,8.484375,10.3359375,8.5,7.640625,0.459228515625,-1.123046875,1.775390625,3.884765625,3.685546875,5.07421875,2.40234375,2.732421875,6.59765625,6.11328125,4.6640625,3.97265625,4.765625,4.65234375,5.16796875,3.12890625,3.841796875,4.3359375,4.7421875,4.3046875,4.1953125,3.25390625,2.23046875,3.333984375],\"type\":\"scatter3d\"},{\"line\":{\"color\":\"#9467bd\"},\"mode\":\"lines\",\"x\":[0.73486328125,-1.8388671875,-2.486328125,-1.794921875,-0.255615234375,1.4365234375,2.89453125,3.4765625,-4.92578125,-1.1630859375,-1.541015625,-0.87158203125,1.767578125,2.052734375,-0.5517578125,-1.5361328125,0.8505859375,0.1466064453125,0.8193359375,0.849609375,0.7939453125,0.654296875,1.45703125,0.6962890625,-0.379150390625,-1.01171875,0.37451171875,-0.83349609375,1.669921875,3.95703125,0.5751953125,-0.402587890625,-0.755859375,-2.3203125,-1.4541015625,-0.58447265625],\"y\":[5.25,4.21484375,2.857421875,0.6650390625,7.296875,6.0625,4.796875,7.15625,0.72119140625,1.6875,2.77734375,0.266845703125,2.033203125,-1.7373046875,-5.3984375,-6.75,1.0166015625,-4.34375,-1.2333984375,0.71728515625,1.1748046875,2.41015625,3.01171875,4.93359375,-5.609375,0.2252197265625,-0.2261962890625,-2.873046875,7.4140625,9.7734375,6.08203125,2.533203125,-2.37890625,0.841796875,1.818359375,2.2421875],\"z\":[8.2265625,9.5,10.78125,10.3125,5.50390625,6.11328125,5.1640625,3.40625,5.58203125,6.125,5.58203125,3.201171875,3.46875,1.076171875,0.32763671875,1.4013671875,4.0546875,4.234375,2.193359375,3.576171875,3.271484375,3.134765625,2.580078125,6.5625,-0.560546875,1.7802734375,0.72314453125,1.6494140625,12.125,13.2265625,12.078125,8.75,3.119140625,4.14453125,4.00390625,5.54296875],\"type\":\"scatter3d\"},{\"line\":{\"color\":\"#8c564b\"},\"mode\":\"lines\",\"x\":[1.8828125,-0.3466796875,-0.63671875,-0.48291015625,3.5,2.234375,1.01171875,-1.376953125,2.24609375,2.80078125,5.6328125,5.93359375,2.615234375,5.4140625,6.08984375,3.3125,0.75244140625,-1.849609375,0.388916015625,0.73583984375,2.580078125,0.5498046875,-1.2421875,-1.447265625,-4.90625,-6.48046875,-7.9921875,-7.51171875,1.20703125,-1.20703125,-3.984375,-4.32421875,1.0166015625,2.39453125,1.6181640625,0.97021484375,0.1422119140625,-2.275390625,-0.1717529296875,1.57421875],\"y\":[0.1346435546875,0.419189453125,-2.859375,-4.50390625,4.68359375,5.17578125,8.8359375,5.31640625,3.4375,4.453125,7.75390625,7.85546875,4.48828125,6.64453125,6.55078125,4.640625,-4.5,-8.578125,-6.09765625,-4.02734375,3.912109375,-1.3330078125,1.318359375,-2.4140625,-6.8359375,-5.171875,-4.37109375,-1.794921875,1.486328125,1.5771484375,-1.6279296875,0.357177734375,-0.467529296875,0.619140625,1.828125,3.357421875,-2.373046875,-1.845703125,0.84716796875,-0.6396484375],\"z\":[5.10546875,5.4609375,3.0859375,3.666015625,6.328125,6.99609375,8.7734375,6.140625,3.876953125,3.48828125,4.32421875,3.49609375,4.76953125,4.140625,4.828125,4.9453125,4.78125,2.3515625,3.861328125,5.12890625,8.828125,7.515625,8.953125,9.25,0.87548828125,2.375,3.400390625,4.921875,5.40234375,4.875,4.1875,5.625,1.55859375,4.05078125,4.01953125,4.22265625,2.37109375,3.75,3.451171875,0.77587890625],\"type\":\"scatter3d\"},{\"line\":{\"color\":\"#e377c2\"},\"mode\":\"lines\",\"x\":[-2.748046875,-0.74853515625,-1.4921875,-2.400390625,-7.24609375,-3.69140625,-3.056640625,-1.01953125,1.3203125,2.626953125,2.30078125,3.515625,4.19921875,4.15234375,5.32421875,3.2109375,-2.546875,-7.02734375,-5.40625,-1.7763671875,3.0625,6.91015625,6.3125,4.96484375,0.70556640625,-0.254638671875,1.8857421875,-0.2467041015625,-4.1796875,-1.0341796875,0.4091796875,-0.18115234375,-2.626953125,-2.609375,-1.279296875,-1.021484375,2.802734375,1.609375,1.578125,-0.0303497314453125],\"y\":[-1.169921875,1.02734375,3.69921875,4.01953125,-0.87646484375,2.951171875,-1.8642578125,-0.89794921875,3.640625,2.638671875,1.8154296875,0.873046875,0.68505859375,-4.4453125,-2.849609375,-4.14453125,1.31640625,1.7080078125,3.8125,3.642578125,4.90234375,7.46484375,5.60546875,5.4375,1.8125,-1.5947265625,-0.393798828125,-1.375,-2.671875,-4.0546875,-5.6484375,-5.5546875,3.076171875,3.728515625,2.103515625,2.708984375,2.1953125,2.904296875,1.5673828125,-3.57421875],\"z\":[2.44921875,3.146484375,5.2109375,5.94921875,8.5390625,10.9296875,9.3125,7.66015625,4.70703125,4.125,2.81640625,0.90283203125,3.220703125,1.7919921875,3.015625,3.20703125,2.84765625,3.01953125,3.857421875,2.763671875,4.34765625,3.505859375,3.498046875,3.890625,0.544921875,1.1865234375,2.580078125,2.865234375,6.93359375,5.66796875,5.87890625,4.609375,5.9296875,6.921875,4.68359375,3.86328125,5.1875,4.8125,5.68359375,3.18359375],\"type\":\"scatter3d\"},{\"line\":{\"color\":\"#7f7f7f\"},\"mode\":\"lines\",\"x\":[1.203125,-2.990234375,-3.904296875,-3.44921875,1.6962890625,4.90234375,5.40234375,4.16015625,-4.8125,-4.12890625,-4.3984375,-4.69921875,1.0380859375,3.54296875,4.25,2.927734375,-2.376953125,-2.814453125,-2.017578125,-2.748046875,2.255859375,2.41796875,2.88671875,1.53125,-0.2413330078125,-0.1817626953125,2.677734375,3.150390625,-2.5625,0.98779296875,-0.31298828125,0.53271484375,1.6435546875,1.3330078125,0.85888671875,-1.115234375,4.47265625,4.88671875,4.88671875,2.46484375],\"y\":[-4.546875,-7.1875,-2.4921875,-0.6279296875,-3.390625,-0.093994140625,-0.68701171875,-1.388671875,-3.13671875,-1.44140625,-1.232421875,-1.435546875,1.0283203125,0.233154296875,1.3212890625,-1.830078125,-5.94921875,-6.171875,-2.08984375,-1.45703125,-0.345947265625,2.69140625,2.44140625,3.501953125,3.697265625,2.73046875,0.457763671875,-2.912109375,-6.890625,-3.0859375,-5.57421875,-6.2890625,2.19140625,3.00390625,3.208984375,1.630859375,-2.318359375,1.0087890625,-0.814453125,-0.255859375],\"z\":[3.76171875,2.513671875,4.26171875,5.7734375,0.3349609375,1.2041015625,1.8486328125,2.162109375,2.640625,2.203125,4.4921875,5.015625,5.25,5.83203125,7.07421875,5.28515625,4.94921875,4.90234375,6.0,8.0703125,2.533203125,3.6484375,4.82421875,4.01953125,1.640625,0.5009765625,0.423828125,-0.5556640625,6.10546875,7.37890625,2.779296875,0.2088623046875,6.91015625,7.9609375,8.4765625,8.828125,0.2142333984375,-0.11322021484375,1.361328125,1.224609375],\"type\":\"scatter3d\"},{\"line\":{\"color\":\"#1f77b4\"},\"mode\":\"lines\",\"x\":[-0.3759765625,-2.734375,-1.634765625,0.183837890625,2.083984375,1.4482421875,1.203125,1.0009765625,-1.8095703125,0.029541015625,-1.0986328125,-0.83642578125,4.01171875,1.3935546875,-3.232421875,-4.3359375,-2.265625,-1.3359375,0.58056640625,0.4453125,5.44140625,3.625,2.802734375,2.294921875,2.11328125,-0.333251953125,0.7744140625,1.7099609375,2.291015625,0.875,1.38671875,3.0625,2.23046875,3.751953125,0.92626953125,2.0859375,0.342041015625,3.23828125,3.705078125,2.8828125,0.412841796875,-1.4765625,-3.80078125,-4.1875],\"y\":[8.4140625,5.6796875,4.98046875,2.142578125,3.8515625,1.701171875,-3.18359375,-1.8115234375,0.15869140625,0.12225341796875,-1.6728515625,0.330810546875,9.1328125,3.6171875,0.78759765625,-1.6591796875,5.6796875,2.693359375,3.6640625,-0.0049591064453125,3.060546875,2.22265625,0.427734375,0.464599609375,4.3046875,0.61279296875,2.873046875,3.572265625,8.796875,2.267578125,1.75390625,4.33984375,1.7666015625,4.6640625,3.669921875,4.08203125,-2.203125,-0.72412109375,4.56640625,0.56640625,2.05859375,0.9609375,-0.93798828125,0.322998046875],\"z\":[8.609375,9.109375,8.859375,7.296875,5.34765625,5.7734375,4.94921875,5.515625,6.359375,5.5859375,3.869140625,6.55078125,3.7109375,1.609375,2.068359375,3.5703125,8.3828125,6.5703125,6.90625,4.109375,8.703125,9.6484375,7.859375,7.94140625,5.7890625,5.46875,5.390625,3.736328125,5.94140625,3.591796875,4.26953125,4.13671875,5.0390625,5.41796875,5.94140625,7.41015625,6.51953125,6.40234375,7.87109375,5.36328125,4.0234375,3.96484375,3.93359375,2.458984375],\"type\":\"scatter3d\"},{\"line\":{\"color\":\"#ff7f0e\"},\"mode\":\"lines\",\"x\":[-0.56689453125,-1.009765625,-2.87109375,-2.435546875,0.5234375,0.1336669921875,1.8447265625,1.55078125,-1.8896484375,-2.748046875,-3.720703125,-4.47265625,-1.9423828125,-2.1484375,-1.494140625,1.23046875,8.8671875,5.7890625,2.15625,-1.8017578125,2.99609375,2.7890625,2.6640625,3.6171875,2.099609375,3.400390625,3.501953125,4.63671875,0.378662109375,0.1195068359375,-0.79541015625,-1.9580078125,0.484619140625,0.4521484375,0.404052734375,1.5615234375,-4.82421875,-3.333984375,-2.900390625,-3.3203125,-0.572265625,-0.50830078125,-0.1878662109375,0.52880859375,1.3017578125,2.427734375,1.78125,1.6474609375,6.49609375,3.8671875,2.400390625,1.6005859375],\"y\":[0.61328125,0.82177734375,1.103515625,-1.2490234375,1.978515625,0.31103515625,3.943359375,1.578125,2.90625,2.66796875,-5.671875,-6.48828125,-4.453125,-7.41015625,-5.9296875,-6.30859375,12.3203125,12.484375,10.609375,1.462890625,5.18359375,8.6484375,7.44921875,6.921875,3.669921875,7.92578125,5.48046875,4.23828125,-1.267578125,-0.395263671875,-2.40625,-3.953125,-2.982421875,-5.859375,-6.3203125,-4.55078125,-7.84375,-5.65625,-2.642578125,-6.49609375,-4.55078125,-2.322265625,-2.60546875,-2.47265625,-0.4814453125,1.93359375,0.1546630859375,-1.5185546875,2.640625,-0.129638671875,2.021484375,0.1767578125],\"z\":[0.272216796875,2.666015625,1.8369140625,3.447265625,4.80078125,3.68359375,4.94140625,5.19921875,7.5859375,8.2109375,5.93359375,5.0703125,1.75390625,1.9052734375,2.4296875,3.08984375,8.609375,7.8671875,8.015625,4.88671875,8.3828125,7.8203125,5.30078125,4.984375,4.2109375,6.7578125,6.765625,7.171875,7.97265625,6.78515625,4.48828125,3.390625,2.125,0.681640625,1.0048828125,2.830078125,0.395751953125,3.4609375,4.24609375,3.10546875,0.52734375,1.7861328125,2.560546875,3.666015625,4.37109375,6.0390625,5.51953125,4.30078125,4.15625,4.71875,5.5234375,3.517578125],\"type\":\"scatter3d\"},{\"line\":{\"color\":\"#2ca02c\"},\"mode\":\"lines\",\"x\":[-0.841796875,-0.2626953125,0.3388671875,2.09375,-2.37109375,-2.5703125,-3.068359375,-1.943359375,-0.0333251953125,-3.884765625,-5.30859375,-3.78515625,-2.521484375,-3.55859375,-4.6484375,-4.0,0.8994140625,1.220703125,1.46484375,1.4912109375,2.37890625,3.537109375,2.173828125,0.51513671875,-4.76171875,-9.3828125,-7.08984375,-4.8984375,5.24609375,3.470703125,0.84619140625,1.4404296875,2.251953125,4.15234375,1.0703125,-1.671875,0.900390625,-0.50439453125,-1.162109375,-0.67041015625,-2.619140625,-2.693359375,0.619140625,0.5615234375,0.161376953125,-0.9345703125,-2.138671875,-4.53515625,0.60986328125,-0.826171875,-2.3828125,-1.125],\"y\":[0.84521484375,0.271728515625,1.96875,4.3203125,1.439453125,-0.720703125,-2.275390625,-1.4873046875,0.00360870361328125,-3.998046875,-5.4140625,-3.240234375,-4.66796875,-0.57470703125,-1.81640625,-8.0078125,-5.23828125,-3.45703125,-1.4140625,-4.26171875,5.37890625,7.0546875,9.59375,7.4296875,-1.03515625,-7.31640625,-5.3203125,-3.974609375,4.859375,0.480224609375,-0.80517578125,-0.1383056640625,1.126953125,2.498046875,-3.322265625,-3.259765625,4.75,2.30859375,1.8125,-1.4580078125,-6.08984375,-5.57421875,-2.9765625,-5.15234375,6.7578125,3.166015625,1.1337890625,-7.3125,9.40625,7.65234375,4.3671875,1.71484375],\"z\":[4.83203125,4.12109375,4.94921875,4.24609375,6.296875,5.859375,5.41015625,5.40625,6.68359375,4.859375,5.26171875,3.720703125,5.4921875,5.3984375,4.66015625,2.623046875,4.453125,6.28125,5.5,4.48828125,3.583984375,4.6796875,6.59375,6.08984375,4.69921875,3.69140625,6.734375,5.9296875,5.90234375,5.72265625,5.54296875,5.6171875,3.701171875,4.2734375,1.9658203125,1.734375,6.68359375,5.671875,5.421875,4.44140625,3.07421875,2.109375,3.072265625,1.4150390625,3.072265625,3.376953125,3.216796875,2.919921875,7.40234375,8.59375,7.7890625,9.3828125],\"type\":\"scatter3d\"},{\"line\":{\"color\":\"#d62728\"},\"mode\":\"lines\",\"x\":[-5.125,-3.466796875,-3.697265625,-0.296875,0.022705078125,-1.9609375,-3.150390625,-4.44140625,1.16015625,-0.154052734375,-0.75,-1.6962890625,4.953125,1.25390625,-1.4033203125,-2.048828125,-4.34765625,-1.9833984375,-0.6142578125,-0.75537109375,1.5673828125,0.71337890625,0.546875,0.548828125,2.447265625,-0.87109375,-0.54833984375,-3.828125,1.146484375,0.99462890625,1.935546875,4.2890625,4.76953125,5.6640625,7.91015625,6.9609375,1.6708984375,1.85546875,4.5859375,-0.469970703125,0.3251953125,-0.83251953125,-0.73095703125,-3.67578125,-3.16796875,-1.7294921875,-2.623046875,-0.91015625,3.478515625,0.6025390625,-1.4052734375,-3.90625],\"y\":[-12.09375,-9.7421875,-7.0390625,-1.515625,11.4375,6.31640625,3.9140625,3.93359375,6.640625,6.0390625,-1.337890625,-1.9521484375,7.47265625,5.421875,3.59765625,3.859375,-2.54296875,-3.0546875,-1.11328125,-2.78125,-2.189453125,-8.5703125,-8.640625,-7.46484375,2.078125,-1.6142578125,-3.16015625,-6.3125,2.537109375,3.2421875,3.5,4.9921875,5.27734375,9.3671875,7.0234375,6.16015625,-2.32421875,1.447265625,2.126953125,-3.767578125,1.4326171875,-3.095703125,-2.294921875,-4.875,-4.19140625,0.9208984375,-1.9990234375,-1.3896484375,5.1953125,0.0667724609375,0.89453125,-2.361328125],\"z\":[-0.02923583984375,1.271484375,2.12109375,5.65625,6.953125,4.7890625,5.890625,5.46484375,5.05859375,5.37109375,3.0625,3.775390625,9.96875,8.3203125,8.8203125,9.359375,3.375,3.888671875,2.23046875,1.0322265625,4.98828125,2.7421875,1.4765625,2.62890625,2.05859375,1.326171875,2.74609375,3.294921875,6.4140625,7.09765625,5.41015625,5.703125,6.6640625,7.53125,8.578125,7.87890625,4.81640625,7.08984375,6.94140625,4.50390625,8.015625,7.55078125,8.234375,5.671875,4.1875,4.26953125,4.81640625,4.1875,5.31640625,4.3046875,5.90234375,3.86328125],\"type\":\"scatter3d\"},{\"line\":{\"color\":\"#9467bd\"},\"mode\":\"lines\",\"x\":[-4.5390625,-2.744140625,-0.841796875,0.379150390625,0.658203125,-0.99462890625,-0.1085205078125,-0.6904296875,2.55859375,3.26953125,0.59716796875,-1.6611328125,2.1171875,1.6015625,-0.054779052734375,0.012115478515625,-1.0595703125,-1.6015625,-0.381591796875,-0.6103515625,0.88232421875,4.7578125,1.353515625,-0.87841796875,2.294921875,1.4794921875,4.34765625,8.046875,-2.115234375,-1.3232421875,1.345703125,0.90869140625,-3.515625,-5.4296875,-5.34375,-1.783203125,-0.4736328125,0.82275390625,1.54296875,-0.25830078125,2.75,2.0234375,0.267333984375,0.11456298828125,0.7841796875,0.0650634765625,1.8759765625,-0.468505859375,1.4130859375,2.9921875,4.21484375,2.99609375],\"y\":[-1.76953125,-1.228515625,0.310302734375,1.4267578125,4.15625,0.56494140625,1.1943359375,0.7548828125,3.490234375,6.20703125,-0.2003173828125,-1.931640625,3.556640625,3.4296875,1.451171875,0.310791015625,-3.123046875,-5.484375,-1.9072265625,-5.7421875,0.1505126953125,5.49609375,0.71240234375,-1.2646484375,0.6181640625,-3.369140625,0.83935546875,7.63671875,0.0203399658203125,0.31640625,4.0859375,4.24609375,1.5322265625,-5.22265625,-6.73828125,-2.2890625,0.986328125,1.701171875,2.80078125,-1.10546875,2.43359375,2.080078125,-0.445556640625,-0.479248046875,3.732421875,0.5703125,2.1796875,-1.669921875,5.48828125,4.5546875,8.0078125,4.2109375],\"z\":[1.912109375,4.23828125,6.88671875,6.56640625,3.91796875,3.333984375,2.0859375,3.111328125,8.53125,8.4296875,5.66796875,5.296875,2.52734375,2.568359375,1.26171875,0.57373046875,4.5390625,3.94140625,5.18359375,3.439453125,4.84765625,5.921875,2.708984375,3.955078125,5.984375,5.30078125,6.8125,8.6484375,7.3515625,7.14453125,7.55859375,6.84375,1.125,1.4541015625,1.20703125,2.1328125,6.5859375,7.3125,6.2734375,6.57421875,9.7734375,8.234375,6.59375,5.7890625,6.39453125,4.77734375,2.37109375,1.6611328125,6.2421875,6.94921875,6.88671875,6.4765625],\"type\":\"scatter3d\"},{\"line\":{\"color\":\"#8c564b\"},\"mode\":\"lines\",\"x\":[4.12109375,6.45703125,5.6328125,2.84765625,-3.994140625,-4.3984375,-2.875,0.29052734375,3.55859375,3.603515625,4.60546875,4.76953125,0.39453125,-1.125,0.5068359375,-0.71875,4.38671875,6.171875,1.4326171875,1.837890625,-0.556640625,-2.640625,-1.5439453125,-3.8671875,1.68359375,2.12109375,4.14453125,1.951171875,-1.095703125,-1.2734375,0.465087890625,0.420654296875,-2.416015625,-1.1591796875,-1.91796875,-3.30859375,-3.47265625,-4.734375,-2.671875,-3.3671875,3.5078125,2.39453125,0.74658203125,0.681640625,3.30078125,2.111328125,3.240234375,0.912109375],\"y\":[7.0859375,9.3515625,10.78125,5.515625,-6.95703125,-12.0546875,-7.83203125,-4.1171875,5.19140625,4.77734375,3.388671875,2.62890625,10.3046875,5.43359375,5.11328125,3.455078125,7.7421875,10.9765625,7.2734375,5.16796875,4.9921875,3.123046875,-1.37890625,-5.20703125,0.266357421875,4.22265625,9.734375,4.49609375,1.732421875,1.0693359375,1.9287109375,4.375,-3.0546875,-1.39453125,-1.90234375,-0.2042236328125,-1.0322265625,-1.03515625,-1.2080078125,-2.69140625,1.9521484375,1.4091796875,0.89697265625,0.98681640625,0.0386962890625,1.3662109375,3.958984375,0.8916015625],\"z\":[4.234375,5.19921875,4.0390625,5.171875,3.70703125,1.9423828125,2.8828125,2.37890625,4.3046875,4.6015625,5.30078125,3.1171875,3.197265625,2.533203125,3.099609375,2.791015625,4.640625,5.140625,4.984375,3.466796875,5.1328125,4.26953125,4.09765625,3.626953125,5.6796875,5.421875,7.1328125,6.6015625,3.91796875,2.99609375,1.6298828125,2.001953125,3.767578125,5.41015625,5.92578125,7.24609375,0.27294921875,1.712890625,1.8037109375,3.0859375,4.71484375,5.359375,6.33203125,6.78515625,3.97265625,5.62109375,7.61328125,6.22265625],\"type\":\"scatter3d\"},{\"line\":{\"color\":\"#e377c2\"},\"mode\":\"lines\",\"x\":[0.9072265625,-1.748046875,-0.962890625,-0.367431640625,2.375,3.646484375,3.01171875,0.6083984375,2.59375,2.806640625,0.1402587890625,-0.2489013671875,-2.103515625,-5.328125,-3.79296875,-4.40625,1.9736328125,4.15625,4.7890625,6.66796875,-0.79638671875,-0.2088623046875,-1.66015625,-3.396484375,-1.900390625,-1.365234375,-1.46484375,0.64306640625,3.171875,1.0478515625,1.7392578125,1.04296875,2.099609375,2.00390625,5.07421875,5.6875,-0.124267578125,-2.525390625,-3.34375,-3.51171875,2.673828125,2.541015625,1.65625,2.3828125,2.18359375,3.13671875,3.63671875,3.693359375,-5.46484375,-5.015625,-2.10546875,-1.4072265625],\"y\":[7.05859375,0.94287109375,-0.9189453125,-0.279052734375,6.95703125,7.69921875,5.375,7.48828125,0.31787109375,1.4072265625,-0.13916015625,-1.5654296875,-2.599609375,-2.40625,-2.328125,-2.990234375,2.609375,1.50390625,3.744140625,5.41796875,4.40234375,2.822265625,1.7900390625,-0.69384765625,1.392578125,5.859375,4.98828125,5.0859375,1.89453125,-1.6376953125,3.326171875,6.01953125,-5.0703125,-3.048828125,3.68359375,2.208984375,2.96875,-1.810546875,-7.6796875,-6.47265625,-1.19921875,-3.1796875,-1.8876953125,-4.1640625,0.6962890625,2.4609375,1.3349609375,-0.89794921875,-2.29296875,-2.60546875,-2.048828125,-3.416015625],\"z\":[3.3359375,1.6923828125,3.85546875,4.11328125,8.25,8.5546875,7.1015625,7.1640625,6.13671875,6.234375,3.802734375,4.3125,5.7109375,6.3671875,5.9921875,6.01953125,5.078125,4.66796875,5.140625,4.41796875,6.1015625,7.80078125,6.41015625,7.46484375,8.3046875,7.3984375,5.1640625,4.28515625,2.126953125,2.083984375,2.45703125,4.609375,1.001953125,1.953125,5.0234375,5.76953125,5.11328125,4.984375,2.373046875,1.3193359375,4.30859375,5.8828125,5.7734375,5.22265625,1.3828125,2.283203125,2.9375,1.8916015625,3.009765625,2.294921875,2.15234375,2.029296875],\"type\":\"scatter3d\"},{\"line\":{\"color\":\"#7f7f7f\"},\"mode\":\"lines\",\"x\":[2.654296875,-0.5615234375,-2.1484375,-2.287109375,0.8115234375,0.74560546875,0.74365234375,0.394287109375,1.07421875,1.1103515625,2.08984375,1.8291015625,2.998046875,-0.50634765625,0.9951171875,0.841796875,4.48828125,5.52734375,5.953125,5.984375,-2.9140625,-1.427734375,-4.16015625,-5.6875,-0.4521484375,-1.3193359375,-2.3203125,-1.0986328125,5.25,7.66015625,5.3203125,5.296875,-1.5400390625,-0.22216796875,-2.326171875,-3.16796875,0.748046875,2.67578125,3.248046875,1.341796875,0.39453125,1.48046875,4.3203125,3.951171875,3.978515625,5.48046875,4.2421875,3.62890625,-2.3125,-1.6259765625,-2.7578125,-4.41796875],\"y\":[9.890625,5.734375,5.78515625,6.1015625,0.10577392578125,2.236328125,3.220703125,-1.2265625,2.755859375,1.7138671875,1.40625,0.26416015625,3.447265625,3.271484375,1.55078125,-1.7275390625,5.85546875,4.6953125,6.7890625,3.865234375,-0.69970703125,0.339111328125,-3.46875,-8.1015625,5.69921875,3.93359375,-0.81201171875,-1.080078125,-3.6328125,-3.3359375,-4.7109375,-2.298828125,7.03125,3.958984375,1.44921875,-3.53125,-0.8994140625,0.9052734375,-0.61328125,-3.080078125,5.0078125,9.140625,8.609375,3.91015625,1.0263671875,5.3046875,3.384765625,4.625,-0.420166015625,-2.8828125,-0.41650390625,-4.3359375],\"z\":[7.40625,5.85546875,6.453125,6.15234375,2.990234375,4.71484375,4.9296875,4.921875,6.25,5.5390625,6.02734375,5.2265625,2.857421875,2.583984375,3.017578125,4.57421875,4.15625,2.888671875,3.078125,1.55859375,5.10546875,5.85546875,5.08984375,3.775390625,5.37109375,4.0546875,3.119140625,3.251953125,2.4375,3.166015625,1.8828125,2.1953125,5.109375,4.78515625,6.29296875,3.8984375,3.087890625,4.328125,4.8359375,4.88671875,4.26953125,4.875,5.65234375,4.6875,7.5703125,9.0703125,7.87109375,6.4921875,3.44140625,3.453125,5.03125,3.931640625],\"type\":\"scatter3d\"},{\"line\":{\"color\":\"#1f77b4\"},\"mode\":\"lines\",\"x\":[-0.25830078125,0.367919921875,-0.5546875,1.9970703125,-2.572265625,-0.806640625,0.13916015625,1.75,0.0936279296875,0.31787109375,2.29296875,1.814453125,0.76904296875,1.8662109375,0.0176239013671875,0.541015625,-0.5859375,-0.422119140625,-0.8046875,0.0516357421875,0.6025390625,0.21826171875,2.240234375,0.84423828125],\"y\":[0.51416015625,1.134765625,-0.80029296875,0.33447265625,-2.5390625,-1.939453125,-2.44921875,1.572265625,0.71533203125,1.02734375,2.166015625,0.17138671875,7.6796875,7.203125,6.78515625,5.91015625,-5.98046875,-6.30859375,-3.64453125,-2.845703125,5.15234375,-1.048828125,1.6337890625,2.658203125],\"z\":[5.42578125,5.72265625,4.45703125,5.90234375,5.41015625,4.57421875,5.0859375,6.44140625,4.44921875,3.080078125,1.294921875,1.3828125,-0.4521484375,0.397705078125,1.0439453125,4.54296875,2.623046875,3.189453125,4.40625,5.05859375,6.390625,3.86328125,5.5703125,6.08203125],\"type\":\"scatter3d\"},{\"line\":{\"color\":\"#ff7f0e\"},\"mode\":\"lines\",\"x\":[0.2225341796875,-0.1524658203125,-3.416015625,-2.546875,6.171875,5.46875,4.83203125,3.50390625,-0.333740234375,-1.0927734375,2.0859375,0.433349609375,-7.41015625,-5.74609375,-5.875,-4.828125,1.931640625,3.279296875,2.037109375,3.21875,-2.2890625,-1.2431640625,0.78271484375,0.331298828125,-2.4296875,-2.052734375,-1.93359375,-1.818359375],\"y\":[1.412109375,1.8974609375,-0.517578125,-1.0048828125,3.185546875,4.01171875,2.3984375,-0.6962890625,2.150390625,4.26171875,2.953125,1.8955078125,-12.9609375,-9.1796875,-7.1328125,-6.421875,-6.40625,-9.7578125,-9.015625,-8.203125,2.251953125,0.8740234375,-0.77197265625,-3.873046875,2.33984375,2.25390625,1.287109375,2.4296875],\"z\":[2.16015625,3.525390625,2.978515625,3.572265625,4.4453125,3.671875,3.26171875,3.96484375,1.5029296875,2.978515625,3.712890625,4.37109375,-4.95703125,-2.56640625,-1.494140625,1.3525390625,5.67578125,3.2421875,1.8935546875,2.642578125,7.61328125,5.91015625,4.66796875,3.73828125,8.3359375,7.9921875,7.58984375,7.29296875],\"type\":\"scatter3d\"},{\"line\":{\"color\":\"#2ca02c\"},\"mode\":\"lines\",\"x\":[5.31640625,2.681640625,2.140625,0.6494140625,-0.81884765625,-3.375,-5.0,-4.5078125,-0.1004638671875,0.77587890625,0.1409912109375,-0.279052734375,2.11328125,1.9970703125,0.85400390625,-0.67529296875,1.28125,1.9599609375,1.2060546875,0.33251953125,-2.853515625,-4.6015625,-4.83203125,-3.783203125],\"y\":[3.83203125,-1.0703125,-1.6025390625,-1.5947265625,-3.333984375,-4.15625,-6.31640625,-7.10546875,5.5078125,3.634765625,4.00390625,0.6357421875,0.00461578369140625,0.80517578125,-0.82080078125,-3.486328125,2.060546875,3.859375,2.978515625,5.79296875,-2.642578125,-4.87890625,-7.14453125,-9.5859375],\"z\":[5.99609375,5.16015625,5.35546875,6.21484375,3.3828125,3.619140625,3.380859375,2.37890625,3.99609375,5.12109375,6.953125,5.92578125,4.55859375,4.2421875,6.85546875,5.7109375,0.77197265625,1.49609375,3.091796875,5.78125,5.34765625,3.435546875,1.3974609375,0.053497314453125],\"type\":\"scatter3d\"},{\"line\":{\"color\":\"#d62728\"},\"mode\":\"lines\",\"x\":[3.9765625,1.99609375,1.4833984375,-1.0595703125,-0.2000732421875,-3.12890625,-4.54296875,-5.57421875,-3.025390625,-2.984375,-4.5,-3.794921875,-0.4619140625,-0.970703125,-0.77978515625,-0.912109375,-1.1015625,-0.40673828125,-0.478271484375,0.59228515625,1.4375,0.72119140625,3.03515625,3.98828125,1.8662109375,-0.412353515625,-0.389404296875,-0.174560546875],\"y\":[0.10968017578125,1.96875,0.748046875,1.9169921875,-10.140625,-11.4765625,-8.0859375,-8.2734375,-1.6845703125,-6.078125,-5.5546875,-7.8046875,-3.193359375,-4.7421875,-4.0859375,-3.673828125,-1.462890625,-1.1748046875,-1.419921875,-2.0546875,-1.8349609375,0.63671875,0.138916015625,0.82958984375,4.91796875,2.748046875,3.607421875,3.251953125],\"z\":[0.5576171875,3.43359375,5.078125,4.72265625,1.5400390625,2.234375,3.380859375,2.759765625,5.08203125,4.55859375,5.546875,2.955078125,5.71875,7.08203125,5.71875,6.90625,3.533203125,3.474609375,2.66796875,3.2890625,7.5625,7.33203125,6.94921875,6.4609375,1.6259765625,3.05078125,3.96875,4.32421875],\"type\":\"scatter3d\"},{\"line\":{\"color\":\"#9467bd\"},\"mode\":\"lines\",\"x\":[-2.443359375,0.884765625,2.6796875,2.822265625,3.1640625,5.1328125,5.61328125,5.46484375,1.9765625,1.52734375,-0.132568359375,0.461181640625,-2.82421875,-1.8154296875,-0.38232421875,1.029296875,5.07421875,3.876953125,1.1328125,-1.283203125,-6.48046875,-6.015625,-3.421875,-3.146484375],\"y\":[10.2265625,11.0234375,11.3984375,12.7734375,-3.375,-3.1875,-3.20703125,-2.404296875,0.62890625,-1.404296875,-1.02734375,0.288330078125,3.896484375,6.9921875,7.42578125,4.25390625,2.25390625,0.583984375,1.0146484375,0.859375,-2.970703125,-2.73828125,-4.53125,-5.171875],\"z\":[7.24609375,7.12109375,6.82421875,6.91015625,4.00390625,2.755859375,1.3427734375,1.76953125,3.55078125,3.962890625,6.02734375,8.3671875,1.5498046875,3.2265625,4.046875,3.78125,2.755859375,2.138671875,3.267578125,2.57421875,6.03125,6.359375,4.58203125,3.732421875],\"type\":\"scatter3d\"},{\"line\":{\"color\":\"#8c564b\"},\"mode\":\"lines\",\"x\":[1.5498046875,1.1533203125,1.2734375,1.328125,0.10986328125,3.14453125,6.38671875,7.09765625,-3.705078125,-1.6337890625,-0.489013671875,0.529296875,0.12646484375,-2.05859375,-3.0,-0.96630859375,-0.441650390625,-1.525390625,-3.533203125,-4.8203125],\"y\":[3.419921875,3.556640625,4.80078125,5.8359375,1.8623046875,3.251953125,2.912109375,4.49609375,-1.12890625,-0.01506805419921875,1.8349609375,4.5625,-1.99609375,-2.24609375,-3.28125,-1.732421875,-1.7724609375,0.57177734375,2.634765625,2.55859375],\"z\":[5.05078125,5.1171875,4.7578125,6.19921875,4.09765625,4.234375,3.5625,4.2109375,9.375,8.6484375,7.875,6.828125,1.6728515625,3.298828125,3.115234375,3.240234375,5.203125,6.41796875,5.0,5.84375],\"type\":\"scatter3d\"},{\"line\":{\"color\":\"#e377c2\"},\"mode\":\"lines\",\"x\":[3.400390625,4.26953125,1.6455078125,-0.329345703125,-3.271484375,-2.62890625,-3.611328125,-1.7578125,6.03125,7.078125,7.140625,6.5,-2.125,-1.1806640625,-2.162109375,-1.548828125,-3.650390625,-4.46484375,-5.37890625,-3.19140625,-3.828125,-0.59521484375,-0.83447265625,-0.70263671875],\"y\":[7.75,7.5703125,2.287109375,0.191650390625,1.7900390625,0.3330078125,1.9541015625,3.14453125,0.19189453125,1.5732421875,0.60546875,0.9716796875,-7.37109375,-5.375,-4.203125,-2.462890625,-0.298583984375,0.85400390625,-0.79931640625,-0.346923828125,-1.958984375,-0.400146484375,-2.076171875,-3.427734375],\"z\":[2.69140625,5.44921875,5.3515625,6.37890625,5.36328125,4.03515625,5.28125,4.01953125,5.11328125,6.265625,4.76953125,5.3203125,1.9462890625,2.244140625,3.73828125,4.02734375,0.5859375,1.017578125,2.51171875,2.271484375,5.1640625,4.49609375,4.703125,4.6640625],\"type\":\"scatter3d\"},{\"line\":{\"color\":\"#7f7f7f\"},\"mode\":\"lines\",\"x\":[1.3994140625,-0.128662109375,-1.2119140625,-2.265625,2.822265625,2.05859375,2.705078125,2.306640625,1.169921875,1.4091796875,-3.681640625,-3.818359375,0.391845703125,-0.439208984375,2.337890625,1.2607421875,0.400146484375,-0.0296173095703125,0.51904296875,0.33056640625,-0.254638671875,-3.017578125,-1.69140625,0.472412109375],\"y\":[1.4716796875,1.2607421875,-1.240234375,-5.3125,-0.943359375,-0.6748046875,-1.888671875,-1.9384765625,-0.48583984375,-0.2086181640625,-4.10546875,-5.859375,-1.8671875,0.395263671875,1.0615234375,3.408203125,2.6484375,-0.54833984375,0.57080078125,-0.5361328125,-6.08984375,-5.99609375,-4.94921875,0.2225341796875],\"z\":[3.0390625,2.765625,3.9453125,3.640625,3.224609375,3.4765625,5.37109375,5.03515625,2.12890625,2.205078125,2.9375,2.673828125,1.775390625,2.8125,2.400390625,2.962890625,6.2421875,5.78125,5.53125,5.4375,3.955078125,3.85546875,3.29296875,7.265625],\"type\":\"scatter3d\"},{\"line\":{\"color\":\"#1f77b4\"},\"mode\":\"lines\",\"x\":[4.98828125,3.490234375,3.96484375,2.947265625,4.953125,3.451171875,1.4091796875,1.2568359375,-0.55224609375,0.4052734375,2.21875,3.220703125,3.662109375,3.44921875,1.337890625,0.76025390625,1.58203125,1.779296875,2.134765625,1.904296875,3.205078125,4.4609375,2.046875,3.88671875,-1.533203125,-1.3466796875,-2.1953125,-0.23583984375,1.5927734375,1.8623046875,1.615234375,0.765625],\"y\":[-0.9091796875,-1.8349609375,-0.947265625,3.060546875,6.5546875,2.048828125,3.150390625,2.65234375,-3.076171875,-2.88671875,-0.884765625,0.006999969482421875,2.302734375,-1.5009765625,0.60107421875,1.6884765625,-2.62109375,-2.091796875,0.2110595703125,1.4189453125,2.5234375,2.296875,-0.380859375,1.0732421875,-5.734375,-4.92578125,-2.869140625,3.529296875,-1.38671875,-2.109375,-3.833984375,-1.88671875],\"z\":[2.708984375,4.70703125,6.640625,6.38671875,3.52734375,3.638671875,3.05078125,3.150390625,1.669921875,4.72265625,7.41796875,9.0234375,4.890625,6.60546875,6.4375,6.890625,2.236328125,4.69140625,2.83203125,3.0078125,-0.05426025390625,1.1142578125,2.40625,3.919921875,5.03515625,4.3515625,3.416015625,6.10546875,7.734375,5.4140625,5.52734375,5.32421875],\"type\":\"scatter3d\"},{\"line\":{\"color\":\"#ff7f0e\"},\"mode\":\"lines\",\"x\":[2.69140625,2.0078125,1.728515625,0.4970703125,-1.34765625,-2.513671875,0.13916015625,-1.50390625,3.4375,2.154296875,3.087890625,2.11328125,1.1845703125,0.64501953125,2.03125,1.623046875,0.630859375,-0.98876953125,-3.197265625,-2.623046875,-0.2158203125,0.7861328125,1.6611328125,0.908203125,3.09765625,3.013671875,-0.97607421875,-0.349365234375,0.923828125,2.4921875,-1.15625,-1.84375],\"y\":[3.1640625,-0.50927734375,-5.234375,-5.44921875,-3.373046875,-4.859375,-2.69921875,-2.25,-0.406982421875,-0.0799560546875,0.0699462890625,-5.95703125,-1.1337890625,-3.16015625,-1.9501953125,-1.4912109375,3.67578125,3.716796875,0.63330078125,3.611328125,-4.7890625,-4.1640625,-1.328125,-3.154296875,-0.395751953125,3.697265625,0.4130859375,0.5419921875,-3.65234375,-2.24609375,-0.982421875,2.76171875],\"z\":[6.8515625,8.421875,9.0625,7.49609375,3.626953125,5.2421875,7.1875,7.8046875,3.1484375,2.57421875,2.33984375,2.3671875,-0.1435546875,-0.357666015625,0.90771484375,2.279296875,3.4453125,3.2578125,2.4765625,2.611328125,3.744140625,4.50390625,4.34765625,3.61328125,6.15625,7.08203125,5.8125,5.00390625,-0.80126953125,0.39111328125,-1.396484375,-1.427734375],\"type\":\"scatter3d\"},{\"line\":{\"color\":\"#2ca02c\"},\"mode\":\"lines\",\"x\":[-0.67822265625,0.462158203125,0.85791015625,1.2109375,-0.126220703125,-0.085205078125,-0.859375,-0.464111328125,0.81396484375,0.351318359375,0.1607666015625,-0.3173828125,-1.3115234375,-2.21484375,-2.826171875,-3.25,0.461669921875,-1.25,-1.220703125,-1.3994140625,0.374755859375,-0.1710205078125,-0.0963134765625,0.85107421875,-1.029296875,-1.4873046875,0.1048583984375,1.220703125],\"y\":[-0.5244140625,-0.859375,-1.0986328125,-2.41796875,-7.890625,-3.744140625,-1.810546875,-1.3046875,-6.83984375,-8.2578125,-9.984375,-5.29296875,-4.796875,-4.734375,-4.82421875,-3.533203125,1.744140625,6.0234375,7.7734375,7.55859375,-3.1171875,-1.4560546875,-2.63671875,-3.724609375,1.95703125,-1.322265625,1.8818359375,0.634765625],\"z\":[-0.42138671875,0.95166015625,1.921875,3.86328125,4.0546875,5.29296875,6.72265625,7.71484375,0.8515625,1.9609375,2.74609375,2.791015625,-1.234375,-0.6455078125,0.39208984375,1.4345703125,3.81640625,2.677734375,2.05859375,4.1875,7.83984375,6.36328125,6.4296875,5.3046875,2.271484375,3.59375,4.390625,3.998046875],\"type\":\"scatter3d\"},{\"line\":{\"color\":\"#d62728\"},\"mode\":\"lines\",\"x\":[-1.3896484375,-0.28369140625,0.7685546875,1.4384765625,2.54296875,0.09283447265625,-2.466796875,-2.044921875,1.7509765625,3.009765625,3.267578125,0.64697265625,1.9033203125,1.416015625,0.6083984375,-0.07244873046875,1.7421875,-0.2403564453125,-0.5615234375,-0.498779296875,0.87939453125,-0.32080078125,-1.1396484375,-2.1640625,1.2802734375,0.240234375,0.29443359375,-0.6357421875,1.9111328125,0.828125,-1.3671875,-3.76171875],\"y\":[-1.26953125,-0.7763671875,0.0792236328125,-2.6875,-2.1171875,-1.4111328125,-6.9921875,-7.12109375,-2.255859375,-4.12109375,-3.396484375,-4.1953125,0.7607421875,0.599609375,-3.146484375,-2.693359375,-1.1982421875,-1.984375,-1.025390625,-3.263671875,3.265625,1.91015625,0.8427734375,-0.5986328125,-4.1328125,-5.55078125,-4.91015625,-5.76171875,9.984375,10.8671875,9.703125,7.6015625],\"z\":[5.30078125,5.3671875,7.08203125,6.5390625,4.99609375,4.51953125,4.953125,1.2578125,4.26953125,5.046875,5.9375,6.26953125,1.47265625,2.90625,3.875,3.88671875,5.26953125,5.61328125,3.521484375,4.0390625,2.84375,5.96484375,7.69140625,7.171875,1.314453125,3.91015625,4.1171875,3.787109375,6.984375,8.1171875,9.2265625,8.625],\"type\":\"scatter3d\"},{\"line\":{\"color\":\"#9467bd\"},\"mode\":\"lines\",\"x\":[2.81640625,-0.117431640625,-0.62890625,-2.6328125,3.802734375,1.51953125,1.6015625,2.681640625,1.3642578125,1.5302734375,1.271484375,0.48193359375,-1.314453125,-1.513671875,-0.126708984375,-0.91796875,-1.0361328125,-0.42431640625,0.274658203125,0.94873046875,5.765625,5.76953125,4.859375,5.26953125,-0.3212890625,-0.423095703125,1.310546875,-1.591796875,3.646484375,0.9736328125,-3.1796875,-4.55078125,-0.615234375,-0.74853515625,0.2039794921875,-1.681640625],\"y\":[2.41796875,1.7587890625,3.306640625,1.537109375,-1.55859375,-3.349609375,-3.466796875,-4.703125,0.3876953125,-1.529296875,-2.326171875,-4.7265625,-0.7509765625,1.876953125,2.0703125,-1.810546875,-1.234375,0.2003173828125,-3.203125,0.400634765625,3.423828125,3.466796875,3.748046875,5.40625,6.19140625,4.95703125,6.921875,7.52734375,3.578125,-1.66796875,-3.08984375,-1.8486328125,-1.6279296875,-0.89697265625,1.3310546875,1.76171875],\"z\":[7.46484375,5.42578125,3.279296875,2.455078125,5.26171875,6.4765625,9.3125,8.703125,3.08984375,2.314453125,3.041015625,4.05078125,2.701171875,3.787109375,2.3828125,2.03125,3.5703125,3.30859375,3.8203125,5.578125,4.17578125,3.77734375,4.27734375,5.68359375,2.404296875,-0.06829833984375,2.40234375,2.83984375,5.3671875,6.24609375,7.98046875,6.38671875,6.84765625,7.03125,5.99609375,5.1328125],\"type\":\"scatter3d\"},{\"line\":{\"color\":\"#8c564b\"},\"mode\":\"lines\",\"x\":[-2.16015625,-0.79833984375,-1.3427734375,-0.515625,1.5615234375,2.884765625,3.115234375,2.44140625,0.546875,0.05133056640625,0.363037109375,0.2205810546875,0.990234375,-1.1630859375,-1.740234375,-0.9267578125,0.3662109375,0.01462554931640625,-2.791015625,-0.6181640625,0.58154296875,0.451171875,1.02734375,3.482421875],\"y\":[-5.625,-2.38671875,-3.29296875,-2.79296875,3.017578125,4.3203125,5.73828125,5.0703125,-0.63916015625,-0.0308837890625,-1.8271484375,-1.517578125,5.3828125,4.59765625,5.73828125,7.32421875,-5.1328125,-5.97265625,-6.94921875,-4.61328125,1.021484375,2.181640625,2.8671875,5.22265625],\"z\":[6.36328125,5.55859375,3.716796875,3.935546875,4.203125,6.1796875,6.11328125,5.4921875,4.58984375,3.755859375,2.994140625,3.84765625,6.5078125,4.2578125,1.6552734375,1.6220703125,5.43359375,2.470703125,2.791015625,4.234375,3.28125,3.158203125,4.765625,7.66796875],\"type\":\"scatter3d\"},{\"line\":{\"color\":\"#e377c2\"},\"mode\":\"lines\",\"x\":[1.8955078125,3.869140625,2.841796875,2.404296875,0.60546875,1.7392578125,0.431396484375,-1.6123046875,-0.5673828125,2.28125,3.537109375,3.02734375,-3.615234375,-4.86328125,-2.84765625,-1.82421875],\"y\":[-2.91796875,-1.2265625,-3.013671875,-4.41015625,-2.5,0.59912109375,2.00390625,-1.7431640625,4.1328125,3.26953125,5.046875,3.599609375,7.75,3.068359375,4.19140625,5.7265625],\"z\":[8.40625,9.5703125,7.328125,6.03125,4.08984375,3.3046875,3.392578125,2.515625,3.94140625,3.9609375,4.96484375,6.578125,2.29296875,1.4130859375,1.1123046875,2.125],\"type\":\"scatter3d\"},{\"line\":{\"color\":\"#7f7f7f\"},\"mode\":\"lines\",\"x\":[0.74365234375,-1.384765625,-1.6064453125,-1.9765625,0.22314453125,0.4736328125,2.37109375,2.08984375,-0.91162109375,-1.2587890625,-1.46484375,-0.12939453125,1.451171875,0.1669921875,0.31298828125,2.236328125,-2.693359375,0.2186279296875,0.267822265625,1.1728515625,-2.365234375,-1.8203125,-0.1575927734375,-2.021484375,-0.68212890625,0.83642578125,3.255859375,2.638671875],\"y\":[-0.79248046875,-5.52734375,-7.1484375,-8.0703125,-1.86328125,-0.396484375,-0.454345703125,-1.029296875,-3.380859375,-4.7578125,-4.2890625,-2.884765625,-0.01354217529296875,-1.646484375,-1.2451171875,0.1041259765625,-3.515625,2.029296875,4.0859375,3.35546875,-0.91748046875,-2.671875,-1.0009765625,-1.2236328125,-1.4150390625,-3.697265625,-1.31640625,-1.36328125],\"z\":[0.89208984375,-0.86181640625,1.6875,2.205078125,0.73193359375,0.126708984375,0.407470703125,1.5439453125,1.3046875,3.33203125,4.40625,5.87109375,4.34765625,3.275390625,3.431640625,5.71875,4.640625,5.703125,6.2890625,5.77734375,6.171875,8.46875,6.9375,5.328125,3.880859375,2.708984375,2.775390625,3.30859375],\"type\":\"scatter3d\"},{\"line\":{\"color\":\"#1f77b4\"},\"mode\":\"lines\",\"x\":[-1.14453125,0.0770263671875,0.421875,1.025390625,2.984375,6.34375,5.62109375,5.546875,0.65625,-1.728515625,-3.201171875,-6.2734375,-1.5166015625,0.50048828125,2.69140625,-0.187744140625,7.6171875,5.72265625,6.984375,7.92578125,1.154296875,0.8017578125,1.1455078125,-0.5166015625,-0.29443359375,0.433837890625,0.43701171875,2.89453125,-3.302734375,0.474365234375,1.1298828125,2.931640625,-3.50390625,-2.291015625,0.423583984375,0.72900390625],\"y\":[5.55859375,5.1796875,4.859375,5.140625,8.421875,8.484375,7.0078125,7.19921875,1.1533203125,-3.173828125,-4.50390625,-6.05078125,-5.3828125,-3.556640625,-3.126953125,-7.65234375,5.35546875,2.17578125,3.90625,3.75390625,2.87890625,3.01953125,5.28125,2.607421875,2.181640625,2.287109375,0.77734375,1.7587890625,3.189453125,4.6015625,3.80078125,7.6640625,5.765625,5.86328125,7.13671875,2.818359375],\"z\":[5.0390625,3.890625,3.58984375,3.841796875,5.08984375,5.3046875,4.8359375,5.62890625,5.671875,4.55859375,4.66796875,3.0546875,2.826171875,2.578125,5.26171875,4.7734375,5.11328125,4.6015625,3.8125,3.587890625,3.14453125,3.703125,4.97265625,5.49609375,5.14453125,6.37890625,5.390625,4.88671875,7.88671875,6.90625,6.3828125,7.29296875,8.2734375,7.9296875,8.6796875,6.73046875],\"type\":\"scatter3d\"},{\"line\":{\"color\":\"#ff7f0e\"},\"mode\":\"lines\",\"x\":[5.359375,3.83984375,2.4453125,0.372802734375,5.16796875,2.6875,1.2265625,0.262939453125,-5.01171875,-5.80078125,-2.814453125,-3.091796875,-3.607421875,-2.0625,-0.79931640625,1.859375,-3.462890625,-6.0859375,-3.5,-3.478515625,1.8583984375,0.205810546875,1.6357421875,-2.740234375,1.978515625,0.81494140625,1.7109375,2.2421875,3.28125,1.6396484375,-0.509765625,2.41796875,-3.12109375,-2.447265625,-2.986328125,-4.66015625],\"y\":[7.40625,5.87890625,5.85546875,5.28125,10.125,9.546875,7.2265625,6.84375,-10.984375,-12.703125,-8.3984375,-9.3515625,0.401611328125,0.385498046875,0.50244140625,-1.0361328125,-2.61328125,-6.90625,-7.515625,-7.87109375,6.44140625,4.4609375,0.96875,-3.583984375,2.60546875,1.1064453125,4.97265625,2.06640625,0.83056640625,-1.13671875,-1.814453125,0.10968017578125,-13.828125,-12.8515625,-16.453125,-16.140625],\"z\":[5.8359375,7.1171875,7.1640625,6.7421875,8.4140625,10.203125,9.6171875,8.859375,-0.6533203125,-0.45556640625,0.5654296875,1.623046875,6.09765625,7.44921875,6.9921875,6.390625,4.640625,3.333984375,3.296875,4.39453125,4.96484375,3.478515625,2.451171875,1.8876953125,5.35546875,6.046875,7.671875,8.2578125,4.59375,3.96875,4.00390625,4.33203125,-3.1875,-3.90234375,-6.1328125,-6.45703125],\"type\":\"scatter3d\"},{\"line\":{\"color\":\"#2ca02c\"},\"mode\":\"lines\",\"x\":[3.06640625,1.2509765625,-0.1820068359375,1.138671875,1.541015625,1.1337890625,-1.35546875,-0.5390625,-3.474609375,-4.421875,-4.9453125,-4.39453125,0.775390625,-3.111328125,-4.91796875,-5.015625,-2.888671875,-5.21484375,-5.34765625,-5.78515625,4.52734375,4.19140625,2.970703125,2.251953125,-11.9921875,-10.8125,-13.3828125,-8.390625],\"y\":[7.86328125,7.34765625,7.28515625,5.4296875,-0.818359375,-3.001953125,-6.734375,-6.11328125,-4.296875,-2.978515625,-3.271484375,-3.634765625,2.482421875,2.904296875,2.990234375,2.865234375,-4.12890625,-4.58984375,-5.52734375,-5.69140625,3.173828125,2.623046875,1.5498046875,1.091796875,-26.140625,-25.171875,-26.546875,-19.859375],\"z\":[6.6484375,4.359375,4.12890625,6.68359375,6.375,4.91015625,3.109375,2.603515625,2.140625,2.359375,4.19140625,3.482421875,6.96484375,7.328125,5.328125,4.5546875,4.7421875,4.1015625,3.990234375,3.15234375,6.94921875,7.41796875,7.546875,6.5546875,-3.244140625,-3.7265625,-3.53515625,-1.05859375],\"type\":\"scatter3d\"},{\"line\":{\"color\":\"#d62728\"},\"mode\":\"lines\",\"x\":[4.41015625,4.72265625,3.23828125,1.7265625,2.8984375,3.279296875,0.6943359375,3.0,0.96142578125,-2.544921875,-4.359375,-5.49609375,-2.857421875,-4.98046875,-7.203125,-5.92578125,-6.6328125,-7.8125,-7.96875,-8.546875,-0.9814453125,0.0197601318359375,0.05059814453125,-0.0007047653198242188,-3.18359375,-3.791015625,-1.619140625,-1.21875,1.712890625,1.23046875,1.609375,-4.203125],\"y\":[5.52734375,6.8203125,4.18359375,1.0771484375,6.234375,4.390625,1.203125,3.091796875,8.578125,5.34765625,1.7734375,0.80224609375,-3.88671875,-4.6171875,-9.0625,-8.4609375,-9.4375,-9.890625,-7.3828125,-9.53125,-1.212890625,-1.5556640625,-1.6640625,-3.5390625,0.0189971923828125,-0.398193359375,-1.5263671875,-1.5595703125,-3.703125,-6.12890625,-3.515625,-6.4453125],\"z\":[6.15234375,5.8046875,5.703125,4.7578125,3.458984375,3.962890625,5.01171875,7.58203125,6.99609375,6.49609375,6.0546875,6.1015625,-1.0517578125,1.283203125,0.8525390625,3.5546875,1.7451171875,1.4931640625,1.779296875,-0.35791015625,3.892578125,5.21484375,6.73828125,6.10546875,6.23046875,7.49609375,7.56640625,5.64453125,7.22265625,5.4453125,6.53125,3.66796875],\"type\":\"scatter3d\"},{\"line\":{\"color\":\"#9467bd\"},\"mode\":\"lines\",\"x\":[4.390625,-0.208984375,0.73291015625,3.888671875,-1.8828125,-0.334228515625,1.5849609375,1.421875,0.90234375,3.318359375,2.556640625,1.09375,-3.08984375,-5.17578125,-4.51953125,-4.06640625,-10.2734375,-10.046875,-7.8203125,-7.63671875,5.51953125,2.94140625,2.3984375,4.05859375,3.857421875,2.826171875,4.875,4.390625],\"y\":[10.359375,7.69921875,7.58984375,6.94140625,5.05859375,6.09375,7.55859375,6.484375,4.07421875,7.89453125,6.2265625,8.4921875,-11.3515625,-11.6484375,-10.3125,-9.171875,-6.78125,-8.6484375,-6.8203125,-7.69921875,4.85546875,2.095703125,1.703125,2.216796875,5.32421875,6.4609375,5.8203125,5.5859375],\"z\":[3.50390625,5.23828125,6.16015625,6.39453125,4.4453125,5.16796875,6.15625,6.7109375,4.140625,3.978515625,4.21484375,6.1875,0.296875,0.59423828125,-0.53515625,1.1318359375,2.615234375,1.6826171875,2.806640625,2.265625,5.015625,5.46875,4.890625,5.8515625,5.60546875,6.3515625,5.75390625,6.44921875],\"type\":\"scatter3d\"},{\"line\":{\"color\":\"#8c564b\"},\"mode\":\"lines\",\"x\":[4.25390625,6.68359375,5.47265625,4.625,-3.041015625,-5.91015625,-1.9677734375,-3.1171875],\"y\":[8.859375,13.125,10.453125,6.1015625,-1.5185546875,-0.59814453125,-0.1715087890625,-0.44140625],\"z\":[5.40625,7.3984375,9.3203125,6.125,1.341796875,2.921875,4.56640625,4.109375],\"type\":\"scatter3d\"},{\"line\":{\"color\":\"#e377c2\"},\"mode\":\"lines\",\"x\":[0.5732421875,3.08203125,3.935546875,2.048828125,-0.361328125,3.3046875,2.28125,1.3154296875,-1.0673828125,-3.45703125,-3.2109375,-0.630859375,-7.23828125,-6.44921875,-5.33984375,-3.521484375,-2.560546875,-3.521484375,-3.943359375,-3.693359375,-3.712890625,-2.11328125,-1.595703125,0.254150390625,-1.8896484375,-2.48828125,-2.0703125,-2.89453125],\"y\":[2.673828125,4.59375,3.80859375,3.1484375,5.51171875,6.38671875,5.70703125,4.265625,0.2822265625,-2.9375,-0.52978515625,2.9609375,-5.93359375,-5.75,-6.0078125,-8.015625,-14.890625,-16.046875,-17.890625,-17.5,-2.037109375,2.208984375,3.20703125,4.8515625,3.41796875,3.92578125,2.931640625,0.14111328125],\"z\":[5.47265625,4.0625,4.83984375,5.125,6.25390625,6.33203125,8.0,7.625,0.9208984375,-0.96533203125,-0.07159423828125,2.388671875,-1.3642578125,0.304443359375,2.57421875,1.630859375,0.399658203125,-0.032257080078125,-0.304443359375,0.324951171875,5.8046875,5.13671875,5.70703125,8.109375,6.4375,5.3515625,4.37109375,2.798828125],\"type\":\"scatter3d\"},{\"line\":{\"color\":\"#7f7f7f\"},\"mode\":\"lines\",\"x\":[4.86328125,3.0390625,2.708984375,6.359375,0.9638671875,0.08209228515625,0.70703125,0.437255859375,-1.3349609375,-0.7060546875,1.3515625,1.9208984375,-3.748046875,-3.515625,-5.25,-6.32421875,-4.2421875,-4.765625,-4.41015625,-1.8056640625,-2.2421875,-2.451171875,-1.8837890625,0.80615234375,-3.921875,-5.9609375,-7.31640625,-6.64453125],\"y\":[7.71875,4.66796875,3.337890625,5.828125,4.30078125,1.169921875,1.7587890625,3.35546875,-3.748046875,-4.32421875,-2.6015625,-2.873046875,-6.703125,-9.515625,-8.796875,-8.921875,-9.03125,-8.5703125,-7.76171875,-5.75,1.5537109375,1.4892578125,4.22265625,6.94921875,-11.2421875,-12.90625,-12.1484375,-14.4296875],\"z\":[6.171875,6.0625,5.8671875,5.34765625,7.03125,6.82421875,5.796875,8.359375,4.625,4.09375,4.18359375,3.96875,2.673828125,1.1806640625,1.2333984375,2.201171875,2.091796875,2.123046875,2.568359375,3.740234375,5.16796875,4.64453125,4.81640625,6.65234375,2.935546875,2.673828125,2.111328125,0.01262664794921875],\"type\":\"scatter3d\"},{\"line\":{\"color\":\"#1f77b4\"},\"mode\":\"lines\",\"x\":[0.67236328125,-1.0478515625,-1.255859375,0.11834716796875,2.435546875,2.873046875,1.77734375,1.8857421875,0.103515625,2.373046875,2.525390625,3.2734375,0.3642578125,0.9775390625,0.99462890625,3.455078125],\"y\":[-0.0131988525390625,-0.91259765625,-3.09375,-0.91796875,3.869140625,4.90625,2.833984375,3.814453125,-0.83984375,2.05078125,2.59375,2.107421875,1.5400390625,2.5390625,2.673828125,2.521484375],\"z\":[4.9765625,5.36328125,2.708984375,4.125,-1.7080078125,0.224609375,1.287109375,1.1279296875,3.775390625,5.015625,7.0546875,10.3203125,1.423828125,2.41015625,3.568359375,5.80859375],\"type\":\"scatter3d\"},{\"line\":{\"color\":\"#ff7f0e\"},\"mode\":\"lines\",\"x\":[1.2841796875,1.78515625,1.0234375,1.357421875,-0.498046875,-0.043212890625,-0.328125,-2.59765625,-0.65234375,-1.607421875,-1.3408203125,-2.53125,-2.44140625,-0.482421875,0.057891845703125,1.8828125],\"y\":[4.55078125,4.7265625,4.24609375,3.81640625,1.1171875,-2.412109375,-0.46923828125,-3.5859375,-5.12109375,-7.3203125,-4.71484375,-3.78515625,-7.8046875,-7.83203125,-5.65234375,-7.65234375],\"z\":[7.40625,5.1328125,3.0859375,4.39453125,6.19921875,2.69140625,2.458984375,1.71484375,4.6796875,3.88671875,4.85546875,5.1171875,2.05078125,0.67822265625,2.02734375,4.875],\"type\":\"scatter3d\"},{\"line\":{\"color\":\"#2ca02c\"},\"mode\":\"lines\",\"x\":[0.51806640625,0.50244140625,1.6005859375,0.422119140625,-0.071044921875,-1.283203125,-1.865234375,-3.580078125,3.279296875,3.341796875,0.273193359375,-1.24609375,0.4990234375,-2.818359375,-1.734375,-3.97265625],\"y\":[-1.42578125,-1.6103515625,-0.80029296875,-0.71826171875,3.6640625,1.7587890625,-0.5166015625,-5.68359375,-2.75,-1.1640625,-3.8359375,-2.53125,4.98046875,3.033203125,2.625,-1.5283203125],\"z\":[5.27734375,5.0234375,5.859375,6.1328125,5.8671875,5.4921875,5.64453125,3.3828125,2.17578125,1.0458984375,1.9013671875,3.412109375,3.2109375,2.763671875,4.2734375,5.1015625],\"type\":\"scatter3d\"},{\"line\":{\"color\":\"#d62728\"},\"mode\":\"lines\",\"x\":[1.875,2.13671875,2.275390625,0.73583984375,-1.048828125,-1.732421875,-3.193359375,-3.619140625,0.350341796875,2.099609375,2.1328125,1.2900390625,-3.771484375,-4.7421875,-5.734375,-6.26171875],\"y\":[-1.85546875,0.73876953125,-0.488037109375,-2.28515625,-2.05078125,-1.5791015625,-5.08203125,-4.8203125,-6.46484375,-3.7890625,-2.623046875,-2.3203125,4.1875,1.0830078125,1.08203125,-1.0078125],\"z\":[1.8173828125,3.07421875,3.6484375,5.00390625,1.994140625,2.48046875,3.1484375,1.1494140625,4.09765625,4.421875,4.26953125,5.15625,4.12109375,2.642578125,3.162109375,3.375],\"type\":\"scatter3d\"},{\"line\":{\"color\":\"#9467bd\"},\"mode\":\"lines\",\"x\":[2.275390625,1.7275390625,0.1539306640625,-0.1773681640625,-0.496337890625,-1.83203125,0.00029277801513671875,-1.708984375,-2.4765625,-3.1640625,-1.2763671875,1.291015625,-2.373046875,-1.8154296875,-0.0305328369140625,-0.7021484375],\"y\":[-1.404296875,-1.4609375,0.34814453125,1.5107421875,-0.96923828125,-2.677734375,2.15625,-2.017578125,0.8916015625,0.611328125,0.92138671875,5.83203125,-6.1171875,-6.44921875,-1.3740234375,-2.072265625],\"z\":[3.228515625,5.203125,5.49609375,4.19921875,3.58203125,2.0859375,2.166015625,2.900390625,6.1015625,4.96875,4.13671875,4.96875,5.74609375,4.61328125,6.2265625,4.6640625],\"type\":\"scatter3d\"},{\"line\":{\"color\":\"#8c564b\"},\"mode\":\"lines\",\"x\":[1.591796875,1.9013671875,0.433837890625,-1.9716796875,0.76513671875,-0.3544921875,1.798828125,4.83984375,-0.74658203125,-0.8291015625,-0.9453125,-2.14453125,-1.681640625,-2.27734375,-1.61328125,-1.7626953125,-1.8857421875,-2.416015625,-1.1669921875,-0.2978515625],\"y\":[2.5078125,4.1640625,4.83984375,4.63671875,-3.482421875,-1.0810546875,2.298828125,4.76171875,-6.328125,-8.734375,-7.68359375,-5.9140625,-3.05859375,-5.48046875,-2.97265625,-1.705078125,-0.310546875,-0.62890625,1.171875,2.298828125],\"z\":[3.703125,4.9296875,6.3984375,7.0078125,2.08203125,0.97607421875,2.58203125,5.33984375,1.98046875,0.30224609375,1.357421875,1.8544921875,3.166015625,0.1240234375,0.06927490234375,1.0615234375,3.376953125,4.38671875,6.26953125,6.921875],\"type\":\"scatter3d\"},{\"line\":{\"color\":\"#e377c2\"},\"mode\":\"lines\",\"x\":[6.83203125,2.1171875,0.341552734375,1.01953125,-5.578125,-4.890625,-5.9453125,-1.5107421875,-4.375,-5.3359375,-3.703125,-3.201171875,12.1875,14.1953125,13.0390625,9.0546875],\"y\":[-3.6640625,-2.822265625,-3.79296875,-3.564453125,-2.46484375,-0.56298828125,1.9365234375,3.96484375,-1.412109375,-1.24609375,1.6826171875,2.46484375,-1.029296875,-1.7412109375,-0.6416015625,-1.2880859375],\"z\":[3.2421875,3.587890625,2.798828125,3.87109375,3.1015625,3.427734375,5.80078125,5.65234375,4.875,3.578125,3.759765625,3.896484375,7.66796875,6.76171875,8.6328125,6.80078125],\"type\":\"scatter3d\"},{\"line\":{\"color\":\"#7f7f7f\"},\"mode\":\"lines\",\"x\":[-0.572265625,0.609375,2.482421875,4.875,-3.509765625,-2.66796875,-3.501953125,-2.966796875,-1.5048828125,-1.357421875,-1.7177734375,-3.017578125,-2.541015625,-2.390625,-1.7314453125,-1.1826171875,11.8125,9.3203125,7.09375,7.41015625],\"y\":[-3.607421875,-3.283203125,-1.1357421875,0.8349609375,-4.03515625,-2.265625,-1.2041015625,0.2900390625,-1.5009765625,-2.201171875,-2.828125,-3.625,2.634765625,1.8583984375,3.259765625,1.791015625,-1.2177734375,-3.044921875,-2.43359375,-2.97265625],\"z\":[2.974609375,3.712890625,5.4140625,5.515625,0.3955078125,0.2255859375,0.6064453125,1.6484375,0.44921875,1.232421875,2.01953125,2.876953125,0.061798095703125,1.30859375,3.3984375,3.04296875,9.5390625,9.109375,7.80078125,8.59375],\"type\":\"scatter3d\"}],                        {\"template\":{\"data\":{\"histogram2dcontour\":[{\"type\":\"histogram2dcontour\",\"colorbar\":{\"outlinewidth\":0,\"ticks\":\"\"},\"colorscale\":[[0.0,\"#0d0887\"],[0.1111111111111111,\"#46039f\"],[0.2222222222222222,\"#7201a8\"],[0.3333333333333333,\"#9c179e\"],[0.4444444444444444,\"#bd3786\"],[0.5555555555555556,\"#d8576b\"],[0.6666666666666666,\"#ed7953\"],[0.7777777777777778,\"#fb9f3a\"],[0.8888888888888888,\"#fdca26\"],[1.0,\"#f0f921\"]]}],\"choropleth\":[{\"type\":\"choropleth\",\"colorbar\":{\"outlinewidth\":0,\"ticks\":\"\"}}],\"histogram2d\":[{\"type\":\"histogram2d\",\"colorbar\":{\"outlinewidth\":0,\"ticks\":\"\"},\"colorscale\":[[0.0,\"#0d0887\"],[0.1111111111111111,\"#46039f\"],[0.2222222222222222,\"#7201a8\"],[0.3333333333333333,\"#9c179e\"],[0.4444444444444444,\"#bd3786\"],[0.5555555555555556,\"#d8576b\"],[0.6666666666666666,\"#ed7953\"],[0.7777777777777778,\"#fb9f3a\"],[0.8888888888888888,\"#fdca26\"],[1.0,\"#f0f921\"]]}],\"heatmap\":[{\"type\":\"heatmap\",\"colorbar\":{\"outlinewidth\":0,\"ticks\":\"\"},\"colorscale\":[[0.0,\"#0d0887\"],[0.1111111111111111,\"#46039f\"],[0.2222222222222222,\"#7201a8\"],[0.3333333333333333,\"#9c179e\"],[0.4444444444444444,\"#bd3786\"],[0.5555555555555556,\"#d8576b\"],[0.6666666666666666,\"#ed7953\"],[0.7777777777777778,\"#fb9f3a\"],[0.8888888888888888,\"#fdca26\"],[1.0,\"#f0f921\"]]}],\"heatmapgl\":[{\"type\":\"heatmapgl\",\"colorbar\":{\"outlinewidth\":0,\"ticks\":\"\"},\"colorscale\":[[0.0,\"#0d0887\"],[0.1111111111111111,\"#46039f\"],[0.2222222222222222,\"#7201a8\"],[0.3333333333333333,\"#9c179e\"],[0.4444444444444444,\"#bd3786\"],[0.5555555555555556,\"#d8576b\"],[0.6666666666666666,\"#ed7953\"],[0.7777777777777778,\"#fb9f3a\"],[0.8888888888888888,\"#fdca26\"],[1.0,\"#f0f921\"]]}],\"contourcarpet\":[{\"type\":\"contourcarpet\",\"colorbar\":{\"outlinewidth\":0,\"ticks\":\"\"}}],\"contour\":[{\"type\":\"contour\",\"colorbar\":{\"outlinewidth\":0,\"ticks\":\"\"},\"colorscale\":[[0.0,\"#0d0887\"],[0.1111111111111111,\"#46039f\"],[0.2222222222222222,\"#7201a8\"],[0.3333333333333333,\"#9c179e\"],[0.4444444444444444,\"#bd3786\"],[0.5555555555555556,\"#d8576b\"],[0.6666666666666666,\"#ed7953\"],[0.7777777777777778,\"#fb9f3a\"],[0.8888888888888888,\"#fdca26\"],[1.0,\"#f0f921\"]]}],\"surface\":[{\"type\":\"surface\",\"colorbar\":{\"outlinewidth\":0,\"ticks\":\"\"},\"colorscale\":[[0.0,\"#0d0887\"],[0.1111111111111111,\"#46039f\"],[0.2222222222222222,\"#7201a8\"],[0.3333333333333333,\"#9c179e\"],[0.4444444444444444,\"#bd3786\"],[0.5555555555555556,\"#d8576b\"],[0.6666666666666666,\"#ed7953\"],[0.7777777777777778,\"#fb9f3a\"],[0.8888888888888888,\"#fdca26\"],[1.0,\"#f0f921\"]]}],\"mesh3d\":[{\"type\":\"mesh3d\",\"colorbar\":{\"outlinewidth\":0,\"ticks\":\"\"}}],\"scatter\":[{\"fillpattern\":{\"fillmode\":\"overlay\",\"size\":10,\"solidity\":0.2},\"type\":\"scatter\"}],\"parcoords\":[{\"type\":\"parcoords\",\"line\":{\"colorbar\":{\"outlinewidth\":0,\"ticks\":\"\"}}}],\"scatterpolargl\":[{\"type\":\"scatterpolargl\",\"marker\":{\"colorbar\":{\"outlinewidth\":0,\"ticks\":\"\"}}}],\"bar\":[{\"error_x\":{\"color\":\"#2a3f5f\"},\"error_y\":{\"color\":\"#2a3f5f\"},\"marker\":{\"line\":{\"color\":\"#E5ECF6\",\"width\":0.5},\"pattern\":{\"fillmode\":\"overlay\",\"size\":10,\"solidity\":0.2}},\"type\":\"bar\"}],\"scattergeo\":[{\"type\":\"scattergeo\",\"marker\":{\"colorbar\":{\"outlinewidth\":0,\"ticks\":\"\"}}}],\"scatterpolar\":[{\"type\":\"scatterpolar\",\"marker\":{\"colorbar\":{\"outlinewidth\":0,\"ticks\":\"\"}}}],\"histogram\":[{\"marker\":{\"pattern\":{\"fillmode\":\"overlay\",\"size\":10,\"solidity\":0.2}},\"type\":\"histogram\"}],\"scattergl\":[{\"type\":\"scattergl\",\"marker\":{\"colorbar\":{\"outlinewidth\":0,\"ticks\":\"\"}}}],\"scatter3d\":[{\"type\":\"scatter3d\",\"line\":{\"colorbar\":{\"outlinewidth\":0,\"ticks\":\"\"}},\"marker\":{\"colorbar\":{\"outlinewidth\":0,\"ticks\":\"\"}}}],\"scattermapbox\":[{\"type\":\"scattermapbox\",\"marker\":{\"colorbar\":{\"outlinewidth\":0,\"ticks\":\"\"}}}],\"scatterternary\":[{\"type\":\"scatterternary\",\"marker\":{\"colorbar\":{\"outlinewidth\":0,\"ticks\":\"\"}}}],\"scattercarpet\":[{\"type\":\"scattercarpet\",\"marker\":{\"colorbar\":{\"outlinewidth\":0,\"ticks\":\"\"}}}],\"carpet\":[{\"aaxis\":{\"endlinecolor\":\"#2a3f5f\",\"gridcolor\":\"white\",\"linecolor\":\"white\",\"minorgridcolor\":\"white\",\"startlinecolor\":\"#2a3f5f\"},\"baxis\":{\"endlinecolor\":\"#2a3f5f\",\"gridcolor\":\"white\",\"linecolor\":\"white\",\"minorgridcolor\":\"white\",\"startlinecolor\":\"#2a3f5f\"},\"type\":\"carpet\"}],\"table\":[{\"cells\":{\"fill\":{\"color\":\"#EBF0F8\"},\"line\":{\"color\":\"white\"}},\"header\":{\"fill\":{\"color\":\"#C8D4E3\"},\"line\":{\"color\":\"white\"}},\"type\":\"table\"}],\"barpolar\":[{\"marker\":{\"line\":{\"color\":\"#E5ECF6\",\"width\":0.5},\"pattern\":{\"fillmode\":\"overlay\",\"size\":10,\"solidity\":0.2}},\"type\":\"barpolar\"}],\"pie\":[{\"automargin\":true,\"type\":\"pie\"}]},\"layout\":{\"autotypenumbers\":\"strict\",\"colorway\":[\"#636efa\",\"#EF553B\",\"#00cc96\",\"#ab63fa\",\"#FFA15A\",\"#19d3f3\",\"#FF6692\",\"#B6E880\",\"#FF97FF\",\"#FECB52\"],\"font\":{\"color\":\"#2a3f5f\"},\"hovermode\":\"closest\",\"hoverlabel\":{\"align\":\"left\"},\"paper_bgcolor\":\"white\",\"plot_bgcolor\":\"#E5ECF6\",\"polar\":{\"bgcolor\":\"#E5ECF6\",\"angularaxis\":{\"gridcolor\":\"white\",\"linecolor\":\"white\",\"ticks\":\"\"},\"radialaxis\":{\"gridcolor\":\"white\",\"linecolor\":\"white\",\"ticks\":\"\"}},\"ternary\":{\"bgcolor\":\"#E5ECF6\",\"aaxis\":{\"gridcolor\":\"white\",\"linecolor\":\"white\",\"ticks\":\"\"},\"baxis\":{\"gridcolor\":\"white\",\"linecolor\":\"white\",\"ticks\":\"\"},\"caxis\":{\"gridcolor\":\"white\",\"linecolor\":\"white\",\"ticks\":\"\"}},\"coloraxis\":{\"colorbar\":{\"outlinewidth\":0,\"ticks\":\"\"}},\"colorscale\":{\"sequential\":[[0.0,\"#0d0887\"],[0.1111111111111111,\"#46039f\"],[0.2222222222222222,\"#7201a8\"],[0.3333333333333333,\"#9c179e\"],[0.4444444444444444,\"#bd3786\"],[0.5555555555555556,\"#d8576b\"],[0.6666666666666666,\"#ed7953\"],[0.7777777777777778,\"#fb9f3a\"],[0.8888888888888888,\"#fdca26\"],[1.0,\"#f0f921\"]],\"sequentialminus\":[[0.0,\"#0d0887\"],[0.1111111111111111,\"#46039f\"],[0.2222222222222222,\"#7201a8\"],[0.3333333333333333,\"#9c179e\"],[0.4444444444444444,\"#bd3786\"],[0.5555555555555556,\"#d8576b\"],[0.6666666666666666,\"#ed7953\"],[0.7777777777777778,\"#fb9f3a\"],[0.8888888888888888,\"#fdca26\"],[1.0,\"#f0f921\"]],\"diverging\":[[0,\"#8e0152\"],[0.1,\"#c51b7d\"],[0.2,\"#de77ae\"],[0.3,\"#f1b6da\"],[0.4,\"#fde0ef\"],[0.5,\"#f7f7f7\"],[0.6,\"#e6f5d0\"],[0.7,\"#b8e186\"],[0.8,\"#7fbc41\"],[0.9,\"#4d9221\"],[1,\"#276419\"]]},\"xaxis\":{\"gridcolor\":\"white\",\"linecolor\":\"white\",\"ticks\":\"\",\"title\":{\"standoff\":15},\"zerolinecolor\":\"white\",\"automargin\":true,\"zerolinewidth\":2},\"yaxis\":{\"gridcolor\":\"white\",\"linecolor\":\"white\",\"ticks\":\"\",\"title\":{\"standoff\":15},\"zerolinecolor\":\"white\",\"automargin\":true,\"zerolinewidth\":2},\"scene\":{\"xaxis\":{\"backgroundcolor\":\"#E5ECF6\",\"gridcolor\":\"white\",\"linecolor\":\"white\",\"showbackground\":true,\"ticks\":\"\",\"zerolinecolor\":\"white\",\"gridwidth\":2},\"yaxis\":{\"backgroundcolor\":\"#E5ECF6\",\"gridcolor\":\"white\",\"linecolor\":\"white\",\"showbackground\":true,\"ticks\":\"\",\"zerolinecolor\":\"white\",\"gridwidth\":2},\"zaxis\":{\"backgroundcolor\":\"#E5ECF6\",\"gridcolor\":\"white\",\"linecolor\":\"white\",\"showbackground\":true,\"ticks\":\"\",\"zerolinecolor\":\"white\",\"gridwidth\":2}},\"shapedefaults\":{\"line\":{\"color\":\"#2a3f5f\"}},\"annotationdefaults\":{\"arrowcolor\":\"#2a3f5f\",\"arrowhead\":0,\"arrowwidth\":1},\"geo\":{\"bgcolor\":\"white\",\"landcolor\":\"#E5ECF6\",\"subunitcolor\":\"white\",\"showland\":true,\"showlakes\":true,\"lakecolor\":\"white\"},\"title\":{\"x\":0.05},\"mapbox\":{\"style\":\"light\"}}},\"title\":{\"text\":\"CL Single Trial\",\"y\":0.96,\"yanchor\":\"bottom\"},\"scene\":{\"xaxis\":{\"showspikes\":false,\"title\":{\"text\":\"PC1\"}},\"yaxis\":{\"showspikes\":false,\"title\":{\"text\":\"PC2\"}},\"zaxis\":{\"showspikes\":false,\"title\":{\"text\":\"PC3\"}},\"camera\":{\"center\":{\"x\":0.065,\"y\":0.0,\"z\":-0.075},\"eye\":{\"x\":1.3,\"y\":1.3,\"z\":1.3}},\"aspectratio\":{\"x\":1,\"y\":1,\"z\":1},\"aspectmode\":\"manual\"},\"width\":450,\"height\":500,\"autosize\":false,\"showlegend\":false,\"margin\":{\"r\":0,\"l\":0,\"b\":0,\"t\":50}},                        {\"responsive\": true}                    ).then(function(){\n",
       "                            \n",
       "var gd = document.getElementById('b575103f-54f5-4ca4-97cf-15074eaa7124');\n",
       "var x = new MutationObserver(function (mutations, observer) {{\n",
       "        var display = window.getComputedStyle(gd).display;\n",
       "        if (!display || display === 'none') {{\n",
       "            console.log([gd, 'removed!']);\n",
       "            Plotly.purge(gd);\n",
       "            observer.disconnect();\n",
       "        }}\n",
       "}});\n",
       "\n",
       "// Listen for the removal of the full notebook cells\n",
       "var notebookContainer = gd.closest('#notebook-container');\n",
       "if (notebookContainer) {{\n",
       "    x.observe(notebookContainer, {childList: true});\n",
       "}}\n",
       "\n",
       "// Listen for the clearing of the current output cell\n",
       "var outputEl = gd.closest('.output');\n",
       "if (outputEl) {{\n",
       "    x.observe(outputEl, {childList: true});\n",
       "}}\n",
       "\n",
       "                        })                };                });            </script>        </div>"
      ]
     },
     "metadata": {},
     "output_type": "display_data"
    }
   ],
   "source": [
    "fig = plot_pcs(*cl_single_trial, 'CL Single Trial', return_fig=True)\n",
    "# html_str = fig.to_html(config={'displayModeBar': False}, full_html=False, include_plotlyjs='cdn')\n",
    "# wandb.log({'CL Single Trial' : wandb.Html(html_str, inject=False)})\n",
    "fig.show()"
   ]
  },
  {
   "cell_type": "code",
   "execution_count": 118,
   "metadata": {},
   "outputs": [
    {
     "data": {
      "application/vnd.plotly.v1+json": {
       "config": {
        "plotlyServerURL": "https://plot.ly"
       },
       "data": [
        {
         "line": {
          "color": "#1f77b4"
         },
         "mode": "lines",
         "type": "scatter3d",
         "x": [
          -0.8173828125,
          0.389892578125,
          0.79638671875,
          1.4404296875
         ],
         "y": [
          -2.068359375,
          -0.52392578125,
          -0.2578125,
          0.990234375
         ],
         "z": [
          4.75390625,
          5.44921875,
          5.23046875,
          5.77734375
         ]
        },
        {
         "line": {
          "color": "#ff7f0e"
         },
         "mode": "lines",
         "type": "scatter3d",
         "x": [
          -0.154052734375,
          -0.5087890625,
          -0.78076171875,
          -0.87255859375
         ],
         "y": [
          -3.140625,
          -3.25,
          -3.109375,
          -3.341796875
         ],
         "z": [
          4.63671875,
          4.6796875,
          4.4765625,
          4.00390625
         ]
        },
        {
         "line": {
          "color": "#2ca02c"
         },
         "mode": "lines",
         "type": "scatter3d",
         "x": [
          -0.595703125,
          -0.67822265625,
          -0.5859375,
          -0.8837890625
         ],
         "y": [
          -3.044921875,
          -2.611328125,
          -2.51171875,
          -3.150390625
         ],
         "z": [
          3.185546875,
          3.587890625,
          4.27734375,
          4.84765625
         ]
        },
        {
         "line": {
          "color": "#d62728"
         },
         "mode": "lines",
         "type": "scatter3d",
         "x": [
          0.828125,
          0.468505859375,
          -0.443115234375,
          -0.96630859375
         ],
         "y": [
          0.25390625,
          -1.072265625,
          -1.58984375,
          -1.833984375
         ],
         "z": [
          3.013671875,
          3.328125,
          3.583984375,
          4.03515625
         ]
        },
        {
         "line": {
          "color": "#9467bd"
         },
         "mode": "lines",
         "type": "scatter3d",
         "x": [
          1.3701171875,
          1.26953125,
          1.068359375,
          0.52587890625
         ],
         "y": [
          0.087158203125,
          0.44384765625,
          0.94140625,
          1.169921875
         ],
         "z": [
          4.17578125,
          4.1640625,
          4.375,
          4.20703125
         ]
        },
        {
         "line": {
          "color": "#8c564b"
         },
         "mode": "lines",
         "type": "scatter3d",
         "x": [
          1.283203125,
          1.3037109375,
          0.8916015625,
          0.7919921875
         ],
         "y": [
          2.921875,
          3.380859375,
          2.3359375,
          2.48046875
         ],
         "z": [
          3.068359375,
          4.10546875,
          4.91796875,
          4.94921875
         ]
        },
        {
         "line": {
          "color": "#e377c2"
         },
         "mode": "lines",
         "type": "scatter3d",
         "x": [
          1.7978515625,
          0.880859375,
          0.64453125,
          1.1884765625
         ],
         "y": [
          1.98828125,
          1.5615234375,
          1.62890625,
          1.130859375
         ],
         "z": [
          5.484375,
          5.33203125,
          5.1328125,
          5.0078125
         ]
        },
        {
         "line": {
          "color": "#7f7f7f"
         },
         "mode": "lines",
         "type": "scatter3d",
         "x": [
          -0.0292816162109375,
          -0.37109375,
          -0.1907958984375,
          -0.166015625
         ],
         "y": [
          0.42578125,
          -0.56689453125,
          -0.67041015625,
          -1.7314453125
         ],
         "z": [
          3.375,
          3.466796875,
          3.650390625,
          3.767578125
         ]
        },
        {
         "line": {
          "color": "#1f77b4"
         },
         "mode": "lines",
         "type": "scatter3d",
         "x": [
          0.43603515625,
          0.99560546875,
          1.7236328125,
          1.7861328125
         ],
         "y": [
          0.3251953125,
          0.64208984375,
          1.7744140625,
          2.396484375
         ],
         "z": [
          4.875,
          4.984375,
          5.25,
          5.78125
         ]
        },
        {
         "line": {
          "color": "#ff7f0e"
         },
         "mode": "lines",
         "type": "scatter3d",
         "x": [
          -1.3544921875,
          -0.71044921875,
          -0.794921875,
          -0.94921875
         ],
         "y": [
          -1.8798828125,
          -2.248046875,
          -3.322265625,
          -3.099609375
         ],
         "z": [
          2.974609375,
          3.35546875,
          3.91796875,
          3.8671875
         ]
        },
        {
         "line": {
          "color": "#2ca02c"
         },
         "mode": "lines",
         "type": "scatter3d",
         "x": [
          -1.50390625,
          -0.81103515625,
          -0.8828125,
          -1.951171875
         ],
         "y": [
          -2.49609375,
          -1.212890625,
          -1.533203125,
          -2.056640625
         ],
         "z": [
          2.728515625,
          3.697265625,
          4.0859375,
          4.17578125
         ]
        },
        {
         "line": {
          "color": "#d62728"
         },
         "mode": "lines",
         "type": "scatter3d",
         "x": [
          -0.0850830078125,
          -0.089111328125,
          0.029022216796875,
          -0.314697265625
         ],
         "y": [
          -0.467529296875,
          -1.3349609375,
          -1.2626953125,
          -1.681640625
         ],
         "z": [
          2.302734375,
          2.9140625,
          3.919921875,
          4.140625
         ]
        },
        {
         "line": {
          "color": "#9467bd"
         },
         "mode": "lines",
         "type": "scatter3d",
         "x": [
          0.3115234375,
          0.4033203125,
          -0.2152099609375,
          0.28076171875
         ],
         "y": [
          -2.638671875,
          -0.90576171875,
          -0.80517578125,
          0.68994140625
         ],
         "z": [
          2.1015625,
          2.677734375,
          3.255859375,
          4.17578125
         ]
        },
        {
         "line": {
          "color": "#8c564b"
         },
         "mode": "lines",
         "type": "scatter3d",
         "x": [
          1.359375,
          1.2900390625,
          1.025390625,
          0.22021484375
         ],
         "y": [
          0.54150390625,
          0.84716796875,
          2.04296875,
          2.16796875
         ],
         "z": [
          4.0625,
          4.21484375,
          5.21875,
          4.7109375
         ]
        },
        {
         "line": {
          "color": "#e377c2"
         },
         "mode": "lines",
         "type": "scatter3d",
         "x": [
          0.090576171875,
          -0.231201171875,
          0.1507568359375,
          0.5771484375
         ],
         "y": [
          1.251953125,
          0.65771484375,
          0.8828125,
          1.6953125
         ],
         "z": [
          3.880859375,
          4.80078125,
          5.28515625,
          5.2265625
         ]
        },
        {
         "line": {
          "color": "#7f7f7f"
         },
         "mode": "lines",
         "type": "scatter3d",
         "x": [
          -0.431640625,
          1.158203125,
          1.4296875,
          1.0419921875
         ],
         "y": [
          -0.94580078125,
          -0.3876953125,
          0.27734375,
          -0.92724609375
         ],
         "z": [
          3.24609375,
          3.984375,
          4.2734375,
          4.4453125
         ]
        },
        {
         "line": {
          "color": "#1f77b4"
         },
         "mode": "lines",
         "type": "scatter3d",
         "x": [
          0.46240234375,
          1.119140625,
          1.3701171875,
          1.8837890625
         ],
         "y": [
          5.4453125,
          4.91015625,
          4.109375,
          3.421875
         ],
         "z": [
          4.39453125,
          4.62890625,
          5.0234375,
          5.125
         ]
        },
        {
         "line": {
          "color": "#ff7f0e"
         },
         "mode": "lines",
         "type": "scatter3d",
         "x": [
          -0.60986328125,
          -0.29736328125,
          -0.402587890625,
          0.1219482421875
         ],
         "y": [
          -0.85888671875,
          -0.98974609375,
          -1.3515625,
          -1.3427734375
         ],
         "z": [
          4.8671875,
          4.70703125,
          4.59765625,
          4.76953125
         ]
        },
        {
         "line": {
          "color": "#2ca02c"
         },
         "mode": "lines",
         "type": "scatter3d",
         "x": [
          -1.8330078125,
          -1.7216796875,
          -1.6474609375,
          -1.9013671875
         ],
         "y": [
          -5.5078125,
          -5.546875,
          -4.6328125,
          -4.35546875
         ],
         "z": [
          2.66015625,
          2.4375,
          2.8515625,
          3.595703125
         ]
        },
        {
         "line": {
          "color": "#d62728"
         },
         "mode": "lines",
         "type": "scatter3d",
         "x": [
          -0.4736328125,
          -1.130859375,
          -1.9716796875,
          -1.55859375
         ],
         "y": [
          -2.265625,
          -2.544921875,
          -2.76953125,
          -3.15234375
         ],
         "z": [
          2.578125,
          3.173828125,
          3.986328125,
          4.0859375
         ]
        },
        {
         "line": {
          "color": "#9467bd"
         },
         "mode": "lines",
         "type": "scatter3d",
         "x": [
          0.8515625,
          1.1416015625,
          1.359375,
          1.2333984375
         ],
         "y": [
          3.064453125,
          2.5546875,
          2.234375,
          1.2255859375
         ],
         "z": [
          3.88671875,
          4.55859375,
          4.6171875,
          5.05859375
         ]
        },
        {
         "line": {
          "color": "#8c564b"
         },
         "mode": "lines",
         "type": "scatter3d",
         "x": [
          0.427001953125,
          0.42138671875,
          0.77099609375,
          1.125
         ],
         "y": [
          2.70703125,
          2.716796875,
          2.69921875,
          2.580078125
         ],
         "z": [
          4.16796875,
          4.4921875,
          4.8203125,
          5.1171875
         ]
        },
        {
         "line": {
          "color": "#e377c2"
         },
         "mode": "lines",
         "type": "scatter3d",
         "x": [
          -0.29931640625,
          -0.1436767578125,
          -0.335693359375,
          0.39990234375
         ],
         "y": [
          1.478515625,
          1.13671875,
          0.67041015625,
          0.41552734375
         ],
         "z": [
          4.05859375,
          4.02734375,
          4.33984375,
          4.3203125
         ]
        },
        {
         "line": {
          "color": "#7f7f7f"
         },
         "mode": "lines",
         "type": "scatter3d",
         "x": [
          -0.7548828125,
          -0.36376953125,
          -0.246826171875,
          0.1761474609375
         ],
         "y": [
          -1.1064453125,
          -1.3408203125,
          -1.236328125,
          -1.51171875
         ],
         "z": [
          4.57421875,
          4.25,
          3.978515625,
          3.4765625
         ]
        },
        {
         "line": {
          "color": "#1f77b4"
         },
         "mode": "lines",
         "type": "scatter3d",
         "x": [
          0.82568359375,
          1.373046875,
          1.474609375,
          1.62890625
         ],
         "y": [
          3.51953125,
          3.56640625,
          2.79296875,
          2.037109375
         ],
         "z": [
          3.91796875,
          4.4765625,
          4.5859375,
          4.90234375
         ]
        },
        {
         "line": {
          "color": "#ff7f0e"
         },
         "mode": "lines",
         "type": "scatter3d",
         "x": [
          0.57763671875,
          -0.03436279296875,
          -0.25048828125,
          -0.6611328125
         ],
         "y": [
          -0.28466796875,
          -0.66796875,
          -1.2900390625,
          -2.318359375
         ],
         "z": [
          4.359375,
          4.828125,
          4.52734375,
          3.771484375
         ]
        },
        {
         "line": {
          "color": "#2ca02c"
         },
         "mode": "lines",
         "type": "scatter3d",
         "x": [
          -0.76708984375,
          -1.1357421875,
          -1.2294921875,
          -1.927734375
         ],
         "y": [
          -1.6943359375,
          -2.0859375,
          -2.71484375,
          -2.990234375
         ],
         "z": [
          3.09765625,
          3.224609375,
          3.52734375,
          3.939453125
         ]
        },
        {
         "line": {
          "color": "#d62728"
         },
         "mode": "lines",
         "type": "scatter3d",
         "x": [
          0.043670654296875,
          -0.171142578125,
          -0.0731201171875,
          -0.3359375
         ],
         "y": [
          1.892578125,
          1.037109375,
          0.68115234375,
          -0.2220458984375
         ],
         "z": [
          3.837890625,
          4.35546875,
          4.51171875,
          4.75
         ]
        },
        {
         "line": {
          "color": "#9467bd"
         },
         "mode": "lines",
         "type": "scatter3d",
         "x": [
          0.47802734375,
          0.87109375,
          1.9306640625,
          0.95654296875
         ],
         "y": [
          2.689453125,
          2.384765625,
          4.0625,
          1.521484375
         ],
         "z": [
          4.73046875,
          4.828125,
          5.3046875,
          5.18359375
         ]
        },
        {
         "line": {
          "color": "#8c564b"
         },
         "mode": "lines",
         "type": "scatter3d",
         "x": [
          0.53076171875,
          0.9853515625,
          0.59423828125,
          0.40234375
         ],
         "y": [
          3.5859375,
          3.681640625,
          2.986328125,
          2.224609375
         ],
         "z": [
          3.68359375,
          4.16796875,
          4.44921875,
          4.9140625
         ]
        },
        {
         "line": {
          "color": "#e377c2"
         },
         "mode": "lines",
         "type": "scatter3d",
         "x": [
          0.63671875,
          0.300537109375,
          0.4755859375,
          0.1888427734375
         ],
         "y": [
          1.4384765625,
          0.54052734375,
          0.06402587890625,
          -0.49462890625
         ],
         "z": [
          4.1796875,
          4.203125,
          4.6953125,
          4.83203125
         ]
        },
        {
         "line": {
          "color": "#7f7f7f"
         },
         "mode": "lines",
         "type": "scatter3d",
         "x": [
          -0.17431640625,
          -0.27001953125,
          -0.053497314453125,
          0.29248046875
         ],
         "y": [
          0.779296875,
          0.03497314453125,
          0.07281494140625,
          -0.7470703125
         ],
         "z": [
          3.75390625,
          3.78125,
          4.1796875,
          4.3828125
         ]
        },
        {
         "line": {
          "color": "#1f77b4"
         },
         "mode": "lines",
         "type": "scatter3d",
         "x": [
          -0.4423828125,
          -0.076416015625,
          0.724609375,
          1.1181640625
         ],
         "y": [
          0.1181640625,
          1.5419921875,
          1.5458984375,
          1.1650390625
         ],
         "z": [
          4.6171875,
          5.47265625,
          5.19921875,
          4.9765625
         ]
        },
        {
         "line": {
          "color": "#ff7f0e"
         },
         "mode": "lines",
         "type": "scatter3d",
         "x": [
          -1.6923828125,
          -1.6064453125,
          -1.4443359375,
          -0.8701171875
         ],
         "y": [
          -1.7744140625,
          -1.1962890625,
          -1.8564453125,
          -2.361328125
         ],
         "z": [
          5.18359375,
          5.51171875,
          4.9296875,
          4.83984375
         ]
        },
        {
         "line": {
          "color": "#2ca02c"
         },
         "mode": "lines",
         "type": "scatter3d",
         "x": [
          -0.88427734375,
          -1.0263671875,
          -1.197265625,
          -1.3037109375
         ],
         "y": [
          -2.32421875,
          -1.642578125,
          -1.6591796875,
          -2.978515625
         ],
         "z": [
          3.19140625,
          3.52734375,
          4.52734375,
          4.1640625
         ]
        },
        {
         "line": {
          "color": "#d62728"
         },
         "mode": "lines",
         "type": "scatter3d",
         "x": [
          -1.189453125,
          -0.479248046875,
          -0.205810546875,
          -0.8896484375
         ],
         "y": [
          -0.45068359375,
          0.351806640625,
          -0.58154296875,
          -1.3642578125
         ],
         "z": [
          4.93359375,
          4.8046875,
          4.46484375,
          4.62109375
         ]
        },
        {
         "line": {
          "color": "#9467bd"
         },
         "mode": "lines",
         "type": "scatter3d",
         "x": [
          -0.055511474609375,
          0.2125244140625,
          0.009857177734375,
          -0.11114501953125
         ],
         "y": [
          1.8798828125,
          2.126953125,
          1.609375,
          0.98828125
         ],
         "z": [
          4.9765625,
          5.484375,
          4.82421875,
          4.93359375
         ]
        },
        {
         "line": {
          "color": "#8c564b"
         },
         "mode": "lines",
         "type": "scatter3d",
         "x": [
          1.103515625,
          0.123291015625,
          0.071533203125,
          -0.26171875
         ],
         "y": [
          0.396484375,
          0.1961669921875,
          1.2177734375,
          0.81494140625
         ],
         "z": [
          4.390625,
          4.5,
          4.88671875,
          4.81640625
         ]
        },
        {
         "line": {
          "color": "#e377c2"
         },
         "mode": "lines",
         "type": "scatter3d",
         "x": [
          -0.72607421875,
          -0.006137847900390625,
          0.65771484375,
          0.50146484375
         ],
         "y": [
          1.291015625,
          1.2333984375,
          0.78466796875,
          0.1136474609375
         ],
         "z": [
          4.46875,
          4.51171875,
          4.65234375,
          3.888671875
         ]
        },
        {
         "line": {
          "color": "#7f7f7f"
         },
         "mode": "lines",
         "type": "scatter3d",
         "x": [
          0.2315673828125,
          0.79541015625,
          1.033203125,
          0.275390625
         ],
         "y": [
          -1.9658203125,
          -0.83154296875,
          -0.54638671875,
          -1.1064453125
         ],
         "z": [
          3.43359375,
          3.603515625,
          4.15234375,
          4.00390625
         ]
        },
        {
         "line": {
          "color": "#1f77b4"
         },
         "mode": "lines",
         "type": "scatter3d",
         "x": [
          1.3154296875,
          0.77099609375,
          0.1466064453125,
          0.3916015625
         ],
         "y": [
          4.09375,
          2.166015625,
          1.5390625,
          1.123046875
         ],
         "z": [
          6.21875,
          5.7421875,
          5.62890625,
          5.28125
         ]
        },
        {
         "line": {
          "color": "#ff7f0e"
         },
         "mode": "lines",
         "type": "scatter3d",
         "x": [
          1.02734375,
          0.7099609375,
          0.2142333984375,
          0.1834716796875
         ],
         "y": [
          0.5947265625,
          1.001953125,
          0.39892578125,
          -1.435546875
         ],
         "z": [
          4.2421875,
          4.796875,
          4.50390625,
          4.203125
         ]
        },
        {
         "line": {
          "color": "#2ca02c"
         },
         "mode": "lines",
         "type": "scatter3d",
         "x": [
          -0.05377197265625,
          -0.94091796875,
          -1.4833984375,
          -1.271484375
         ],
         "y": [
          1.349609375,
          0.1373291015625,
          -0.343505859375,
          -1.91015625
         ],
         "z": [
          5.06640625,
          4.97265625,
          5.0859375,
          4.4609375
         ]
        },
        {
         "line": {
          "color": "#d62728"
         },
         "mode": "lines",
         "type": "scatter3d",
         "x": [
          0.6845703125,
          0.0066680908203125,
          0.00469970703125,
          -0.78662109375
         ],
         "y": [
          1.44140625,
          0.51904296875,
          -0.348388671875,
          -1.037109375
         ],
         "z": [
          5.21484375,
          5.04296875,
          5.09375,
          4.84765625
         ]
        },
        {
         "line": {
          "color": "#9467bd"
         },
         "mode": "lines",
         "type": "scatter3d",
         "x": [
          0.13525390625,
          0.37841796875,
          0.677734375,
          0.4697265625
         ],
         "y": [
          1.6357421875,
          0.73974609375,
          0.94580078125,
          0.31591796875
         ],
         "z": [
          5.36328125,
          5.35546875,
          4.73046875,
          4.69921875
         ]
        },
        {
         "line": {
          "color": "#8c564b"
         },
         "mode": "lines",
         "type": "scatter3d",
         "x": [
          0.78466796875,
          0.626953125,
          0.98046875,
          0.204345703125
         ],
         "y": [
          2.35546875,
          2.26953125,
          2.5625,
          1.275390625
         ],
         "z": [
          3.9609375,
          4.18359375,
          4.5703125,
          4.375
         ]
        },
        {
         "line": {
          "color": "#e377c2"
         },
         "mode": "lines",
         "type": "scatter3d",
         "x": [
          0.583984375,
          0.2421875,
          0.51708984375,
          0.568359375
         ],
         "y": [
          1.318359375,
          0.6162109375,
          0.71044921875,
          0.441650390625
         ],
         "z": [
          4.60546875,
          4.78515625,
          4.4765625,
          4.5078125
         ]
        },
        {
         "line": {
          "color": "#7f7f7f"
         },
         "mode": "lines",
         "type": "scatter3d",
         "x": [
          1.16796875,
          1.462890625,
          1.015625,
          0.50830078125
         ],
         "y": [
          2.705078125,
          2.693359375,
          1.7060546875,
          -0.5087890625
         ],
         "z": [
          4.62109375,
          4.70703125,
          4.8671875,
          4.2734375
         ]
        },
        {
         "line": {
          "color": "#1f77b4"
         },
         "mode": "lines",
         "type": "scatter3d",
         "x": [
          -0.325439453125,
          0.257080078125,
          0.5546875,
          1.166015625
         ],
         "y": [
          0.92333984375,
          0.01195526123046875,
          0.615234375,
          1.2998046875
         ],
         "z": [
          3.974609375,
          3.47265625,
          3.642578125,
          4.90234375
         ]
        },
        {
         "line": {
          "color": "#ff7f0e"
         },
         "mode": "lines",
         "type": "scatter3d",
         "x": [
          -0.5908203125,
          -0.2197265625,
          -0.2119140625,
          -0.24365234375
         ],
         "y": [
          -1.1474609375,
          -0.8056640625,
          -1.54296875,
          -2.267578125
         ],
         "z": [
          3.5390625,
          3.537109375,
          3.23046875,
          3.84765625
         ]
        },
        {
         "line": {
          "color": "#2ca02c"
         },
         "mode": "lines",
         "type": "scatter3d",
         "x": [
          0.8232421875,
          -0.0936279296875,
          -0.9150390625,
          -1.376953125
         ],
         "y": [
          0.904296875,
          -0.300537109375,
          -1.4833984375,
          -2.55859375
         ],
         "z": [
          4.0078125,
          3.845703125,
          4.50390625,
          4.34375
         ]
        },
        {
         "line": {
          "color": "#d62728"
         },
         "mode": "lines",
         "type": "scatter3d",
         "x": [
          0.355712890625,
          -0.74072265625,
          -0.8818359375,
          -0.99072265625
         ],
         "y": [
          -1.8984375,
          -2.587890625,
          -2.09375,
          -2.2578125
         ],
         "z": [
          3.66015625,
          4.453125,
          4.7578125,
          4.48828125
         ]
        },
        {
         "line": {
          "color": "#9467bd"
         },
         "mode": "lines",
         "type": "scatter3d",
         "x": [
          -0.255126953125,
          0.5986328125,
          0.9150390625,
          0.89111328125
         ],
         "y": [
          1.77734375,
          1.8779296875,
          1.845703125,
          1.765625
         ],
         "z": [
          4.19140625,
          4.26171875,
          4.34765625,
          4.5234375
         ]
        },
        {
         "line": {
          "color": "#8c564b"
         },
         "mode": "lines",
         "type": "scatter3d",
         "x": [
          -0.47216796875,
          -0.1837158203125,
          0.1273193359375,
          0.6337890625
         ],
         "y": [
          0.07696533203125,
          1.0234375,
          1.7802734375,
          3.14453125
         ],
         "z": [
          5.078125,
          5.54296875,
          4.86328125,
          5.265625
         ]
        },
        {
         "line": {
          "color": "#e377c2"
         },
         "mode": "lines",
         "type": "scatter3d",
         "x": [
          -0.57373046875,
          0.413330078125,
          -0.533203125,
          -0.171875
         ],
         "y": [
          0.0173187255859375,
          0.75927734375,
          -0.371826171875,
          -0.32177734375
         ],
         "z": [
          3.4765625,
          3.91796875,
          4.39453125,
          4.4453125
         ]
        },
        {
         "line": {
          "color": "#7f7f7f"
         },
         "mode": "lines",
         "type": "scatter3d",
         "x": [
          0.98828125,
          -0.024749755859375,
          -0.17041015625,
          -0.28564453125
         ],
         "y": [
          -0.87744140625,
          -0.96240234375,
          -1.7587890625,
          -1.6689453125
         ],
         "z": [
          3.39453125,
          3.482421875,
          3.912109375,
          4.50390625
         ]
        },
        {
         "line": {
          "color": "#1f77b4"
         },
         "mode": "lines",
         "type": "scatter3d",
         "x": [
          2.236328125,
          2.193359375,
          1.56640625,
          1.8134765625
         ],
         "y": [
          -0.293701171875,
          -1.375,
          -0.619140625,
          1.443359375
         ],
         "z": [
          3.46875,
          4.40625,
          4.71484375,
          5.4765625
         ]
        },
        {
         "line": {
          "color": "#ff7f0e"
         },
         "mode": "lines",
         "type": "scatter3d",
         "x": [
          1.2998046875,
          0.94970703125,
          0.414794921875,
          -0.147216796875
         ],
         "y": [
          -0.86376953125,
          -0.95068359375,
          -1.384765625,
          -1.4228515625
         ],
         "z": [
          3.25390625,
          3.888671875,
          3.841796875,
          3.71875
         ]
        },
        {
         "line": {
          "color": "#2ca02c"
         },
         "mode": "lines",
         "type": "scatter3d",
         "x": [
          -0.213623046875,
          -0.6279296875,
          -0.55419921875,
          -0.30712890625
         ],
         "y": [
          -2.78125,
          -2.048828125,
          -1.5283203125,
          -1.154296875
         ],
         "z": [
          2.455078125,
          2.884765625,
          3.5234375,
          4.18359375
         ]
        },
        {
         "line": {
          "color": "#d62728"
         },
         "mode": "lines",
         "type": "scatter3d",
         "x": [
          1.328125,
          0.5927734375,
          -0.07452392578125,
          -0.88671875
         ],
         "y": [
          0.3798828125,
          -0.058258056640625,
          -1.10546875,
          -2.33984375
         ],
         "z": [
          4.0546875,
          5.1796875,
          5.80078125,
          5.1953125
         ]
        },
        {
         "line": {
          "color": "#9467bd"
         },
         "mode": "lines",
         "type": "scatter3d",
         "x": [
          1.5673828125,
          0.7294921875,
          0.62060546875,
          -0.2215576171875
         ],
         "y": [
          1.203125,
          0.53515625,
          0.587890625,
          0.393310546875
         ],
         "z": [
          4.54296875,
          4.25390625,
          4.72265625,
          4.76171875
         ]
        },
        {
         "line": {
          "color": "#8c564b"
         },
         "mode": "lines",
         "type": "scatter3d",
         "x": [
          0.314453125,
          0.2398681640625,
          -0.2281494140625,
          0.6806640625
         ],
         "y": [
          -0.329345703125,
          0.4521484375,
          0.37939453125,
          1.44921875
         ],
         "z": [
          5.0625,
          4.23046875,
          3.673828125,
          4.46484375
         ]
        },
        {
         "line": {
          "color": "#e377c2"
         },
         "mode": "lines",
         "type": "scatter3d",
         "x": [
          -0.420654296875,
          0.75634765625,
          0.990234375,
          0.498779296875
         ],
         "y": [
          1.615234375,
          1.427734375,
          2.056640625,
          0.79248046875
         ],
         "z": [
          4.68359375,
          4.5625,
          4.19921875,
          4.3125
         ]
        },
        {
         "line": {
          "color": "#7f7f7f"
         },
         "mode": "lines",
         "type": "scatter3d",
         "x": [
          -0.60498046875,
          -0.3955078125,
          0.425537109375,
          0.57275390625
         ],
         "y": [
          -1.7001953125,
          -2.380859375,
          -1.6240234375,
          -1.587890625
         ],
         "z": [
          3.138671875,
          3.25,
          3.705078125,
          4.25
         ]
        },
        {
         "line": {
          "color": "#1f77b4"
         },
         "mode": "lines",
         "type": "scatter3d",
         "x": [
          0.294189453125,
          1.1484375,
          1.7392578125,
          1.564453125
         ],
         "y": [
          3.236328125,
          2.763671875,
          2.79296875,
          1.9150390625
         ],
         "z": [
          5.35546875,
          5.09375,
          5.2890625,
          5.03125
         ]
        },
        {
         "line": {
          "color": "#ff7f0e"
         },
         "mode": "lines",
         "type": "scatter3d",
         "x": [
          0.271484375,
          -0.80078125,
          -0.39892578125,
          -0.75732421875
         ],
         "y": [
          0.042266845703125,
          -1.357421875,
          -1.62890625,
          -2.630859375
         ],
         "z": [
          4.0078125,
          4.13671875,
          3.958984375,
          4.00390625
         ]
        },
        {
         "line": {
          "color": "#2ca02c"
         },
         "mode": "lines",
         "type": "scatter3d",
         "x": [
          -1.2060546875,
          -2.42578125,
          -3.87890625,
          -2.962890625
         ],
         "y": [
          -3.123046875,
          -3.265625,
          -4.32421875,
          -3.701171875
         ],
         "z": [
          4.3671875,
          3.822265625,
          3.537109375,
          3.7109375
         ]
        },
        {
         "line": {
          "color": "#d62728"
         },
         "mode": "lines",
         "type": "scatter3d",
         "x": [
          -0.458740234375,
          -1.2333984375,
          -1.9443359375,
          -2.583984375
         ],
         "y": [
          0.26416015625,
          -0.75390625,
          -1.9990234375,
          -3.0703125
         ],
         "z": [
          4.33203125,
          4.6484375,
          5.03125,
          4.6328125
         ]
        },
        {
         "line": {
          "color": "#9467bd"
         },
         "mode": "lines",
         "type": "scatter3d",
         "x": [
          -0.08172607421875,
          -0.95458984375,
          -0.027130126953125,
          0.450439453125
         ],
         "y": [
          1.6484375,
          1.4208984375,
          1.6806640625,
          1.8359375
         ],
         "z": [
          3.66015625,
          4.0703125,
          4.20703125,
          5
         ]
        },
        {
         "line": {
          "color": "#8c564b"
         },
         "mode": "lines",
         "type": "scatter3d",
         "x": [
          0.60693359375,
          0.385986328125,
          1.751953125,
          0.75439453125
         ],
         "y": [
          3.671875,
          6.265625,
          5.140625,
          2.830078125
         ],
         "z": [
          3.375,
          5.16015625,
          6.9453125,
          5.1171875
         ]
        },
        {
         "line": {
          "color": "#e377c2"
         },
         "mode": "lines",
         "type": "scatter3d",
         "x": [
          -2.322265625,
          -1.6630859375,
          -1.419921875,
          -1.017578125
         ],
         "y": [
          -1.568359375,
          -1.087890625,
          -1.2529296875,
          -1.44921875
         ],
         "z": [
          3.41796875,
          2.884765625,
          3.587890625,
          4
         ]
        },
        {
         "line": {
          "color": "#7f7f7f"
         },
         "mode": "lines",
         "type": "scatter3d",
         "x": [
          -1.380859375,
          -2.0390625,
          -2.013671875,
          -0.75048828125
         ],
         "y": [
          -2.451171875,
          -3.998046875,
          -3.140625,
          -2.263671875
         ],
         "z": [
          4.38671875,
          3.943359375,
          3.796875,
          4.32421875
         ]
        },
        {
         "line": {
          "color": "#1f77b4"
         },
         "mode": "lines",
         "type": "scatter3d",
         "x": [
          0.89404296875,
          1.2939453125,
          1.009765625,
          2.18359375
         ],
         "y": [
          1.138671875,
          2.14453125,
          1.251953125,
          1.880859375
         ],
         "z": [
          2.1171875,
          3.25390625,
          3.654296875,
          5.34375
         ]
        },
        {
         "line": {
          "color": "#ff7f0e"
         },
         "mode": "lines",
         "type": "scatter3d",
         "x": [
          -0.57666015625,
          -0.0870361328125,
          -0.14697265625,
          -0.472412109375
         ],
         "y": [
          -1.814453125,
          -3.2109375,
          -1.6484375,
          -2.802734375
         ],
         "z": [
          5.08203125,
          3.09765625,
          3.107421875,
          4.0234375
         ]
        },
        {
         "line": {
          "color": "#2ca02c"
         },
         "mode": "lines",
         "type": "scatter3d",
         "x": [
          1.056640625,
          -0.064208984375,
          -0.431396484375,
          -2.09375
         ],
         "y": [
          1.1171875,
          0.50439453125,
          -0.63232421875,
          -2.615234375
         ],
         "z": [
          4.1328125,
          3.580078125,
          4.421875,
          4.5078125
         ]
        },
        {
         "line": {
          "color": "#d62728"
         },
         "mode": "lines",
         "type": "scatter3d",
         "x": [
          -0.64892578125,
          -0.55908203125,
          -1.1298828125,
          -1.9638671875
         ],
         "y": [
          -1.544921875,
          -0.88671875,
          -1.77734375,
          -2.609375
         ],
         "z": [
          3.0078125,
          3.154296875,
          3.556640625,
          3.671875
         ]
        },
        {
         "line": {
          "color": "#9467bd"
         },
         "mode": "lines",
         "type": "scatter3d",
         "x": [
          -0.767578125,
          -1.2705078125,
          -0.2880859375,
          -0.324462890625
         ],
         "y": [
          -1.8994140625,
          -2.494140625,
          0.51318359375,
          0.81298828125
         ],
         "z": [
          4.6640625,
          4.21484375,
          4.5078125,
          4.18359375
         ]
        },
        {
         "line": {
          "color": "#8c564b"
         },
         "mode": "lines",
         "type": "scatter3d",
         "x": [
          -0.391357421875,
          -0.794921875,
          -0.298828125,
          -0.267333984375
         ],
         "y": [
          -2.134765625,
          -2.3515625,
          -0.46923828125,
          0.81494140625
         ],
         "z": [
          2.861328125,
          2.14453125,
          3.3359375,
          4.4375
         ]
        },
        {
         "line": {
          "color": "#e377c2"
         },
         "mode": "lines",
         "type": "scatter3d",
         "x": [
          2.265625,
          1.521484375,
          0.93408203125,
          1.33984375
         ],
         "y": [
          -2.142578125,
          -1.5927734375,
          -0.2037353515625,
          0.394287109375
         ],
         "z": [
          4.72265625,
          4.33984375,
          5.24609375,
          5.0546875
         ]
        },
        {
         "line": {
          "color": "#7f7f7f"
         },
         "mode": "lines",
         "type": "scatter3d",
         "x": [
          0.7373046875,
          0.703125,
          0.52490234375,
          1.0224609375
         ],
         "y": [
          -1.5458984375,
          -1.787109375,
          -0.86865234375,
          -0.736328125
         ],
         "z": [
          2.685546875,
          3.1171875,
          3.84765625,
          4.3359375
         ]
        }
       ],
       "layout": {
        "autosize": false,
        "height": 500,
        "margin": {
         "b": 0,
         "l": 0,
         "r": 0,
         "t": 50
        },
        "scene": {
         "aspectmode": "manual",
         "aspectratio": {
          "x": 1,
          "y": 1,
          "z": 1
         },
         "camera": {
          "center": {
           "x": 0.065,
           "y": 0,
           "z": -0.075
          },
          "eye": {
           "x": 1.3,
           "y": 1.3,
           "z": 1.3
          }
         },
         "xaxis": {
          "showspikes": false,
          "title": {
           "text": "PC1"
          }
         },
         "yaxis": {
          "showspikes": false,
          "title": {
           "text": "PC2"
          }
         },
         "zaxis": {
          "showspikes": false,
          "title": {
           "text": "PC3"
          }
         }
        },
        "showlegend": false,
        "template": {
         "data": {
          "bar": [
           {
            "error_x": {
             "color": "#2a3f5f"
            },
            "error_y": {
             "color": "#2a3f5f"
            },
            "marker": {
             "line": {
              "color": "#E5ECF6",
              "width": 0.5
             },
             "pattern": {
              "fillmode": "overlay",
              "size": 10,
              "solidity": 0.2
             }
            },
            "type": "bar"
           }
          ],
          "barpolar": [
           {
            "marker": {
             "line": {
              "color": "#E5ECF6",
              "width": 0.5
             },
             "pattern": {
              "fillmode": "overlay",
              "size": 10,
              "solidity": 0.2
             }
            },
            "type": "barpolar"
           }
          ],
          "carpet": [
           {
            "aaxis": {
             "endlinecolor": "#2a3f5f",
             "gridcolor": "white",
             "linecolor": "white",
             "minorgridcolor": "white",
             "startlinecolor": "#2a3f5f"
            },
            "baxis": {
             "endlinecolor": "#2a3f5f",
             "gridcolor": "white",
             "linecolor": "white",
             "minorgridcolor": "white",
             "startlinecolor": "#2a3f5f"
            },
            "type": "carpet"
           }
          ],
          "choropleth": [
           {
            "colorbar": {
             "outlinewidth": 0,
             "ticks": ""
            },
            "type": "choropleth"
           }
          ],
          "contour": [
           {
            "colorbar": {
             "outlinewidth": 0,
             "ticks": ""
            },
            "colorscale": [
             [
              0,
              "#0d0887"
             ],
             [
              0.1111111111111111,
              "#46039f"
             ],
             [
              0.2222222222222222,
              "#7201a8"
             ],
             [
              0.3333333333333333,
              "#9c179e"
             ],
             [
              0.4444444444444444,
              "#bd3786"
             ],
             [
              0.5555555555555556,
              "#d8576b"
             ],
             [
              0.6666666666666666,
              "#ed7953"
             ],
             [
              0.7777777777777778,
              "#fb9f3a"
             ],
             [
              0.8888888888888888,
              "#fdca26"
             ],
             [
              1,
              "#f0f921"
             ]
            ],
            "type": "contour"
           }
          ],
          "contourcarpet": [
           {
            "colorbar": {
             "outlinewidth": 0,
             "ticks": ""
            },
            "type": "contourcarpet"
           }
          ],
          "heatmap": [
           {
            "colorbar": {
             "outlinewidth": 0,
             "ticks": ""
            },
            "colorscale": [
             [
              0,
              "#0d0887"
             ],
             [
              0.1111111111111111,
              "#46039f"
             ],
             [
              0.2222222222222222,
              "#7201a8"
             ],
             [
              0.3333333333333333,
              "#9c179e"
             ],
             [
              0.4444444444444444,
              "#bd3786"
             ],
             [
              0.5555555555555556,
              "#d8576b"
             ],
             [
              0.6666666666666666,
              "#ed7953"
             ],
             [
              0.7777777777777778,
              "#fb9f3a"
             ],
             [
              0.8888888888888888,
              "#fdca26"
             ],
             [
              1,
              "#f0f921"
             ]
            ],
            "type": "heatmap"
           }
          ],
          "heatmapgl": [
           {
            "colorbar": {
             "outlinewidth": 0,
             "ticks": ""
            },
            "colorscale": [
             [
              0,
              "#0d0887"
             ],
             [
              0.1111111111111111,
              "#46039f"
             ],
             [
              0.2222222222222222,
              "#7201a8"
             ],
             [
              0.3333333333333333,
              "#9c179e"
             ],
             [
              0.4444444444444444,
              "#bd3786"
             ],
             [
              0.5555555555555556,
              "#d8576b"
             ],
             [
              0.6666666666666666,
              "#ed7953"
             ],
             [
              0.7777777777777778,
              "#fb9f3a"
             ],
             [
              0.8888888888888888,
              "#fdca26"
             ],
             [
              1,
              "#f0f921"
             ]
            ],
            "type": "heatmapgl"
           }
          ],
          "histogram": [
           {
            "marker": {
             "pattern": {
              "fillmode": "overlay",
              "size": 10,
              "solidity": 0.2
             }
            },
            "type": "histogram"
           }
          ],
          "histogram2d": [
           {
            "colorbar": {
             "outlinewidth": 0,
             "ticks": ""
            },
            "colorscale": [
             [
              0,
              "#0d0887"
             ],
             [
              0.1111111111111111,
              "#46039f"
             ],
             [
              0.2222222222222222,
              "#7201a8"
             ],
             [
              0.3333333333333333,
              "#9c179e"
             ],
             [
              0.4444444444444444,
              "#bd3786"
             ],
             [
              0.5555555555555556,
              "#d8576b"
             ],
             [
              0.6666666666666666,
              "#ed7953"
             ],
             [
              0.7777777777777778,
              "#fb9f3a"
             ],
             [
              0.8888888888888888,
              "#fdca26"
             ],
             [
              1,
              "#f0f921"
             ]
            ],
            "type": "histogram2d"
           }
          ],
          "histogram2dcontour": [
           {
            "colorbar": {
             "outlinewidth": 0,
             "ticks": ""
            },
            "colorscale": [
             [
              0,
              "#0d0887"
             ],
             [
              0.1111111111111111,
              "#46039f"
             ],
             [
              0.2222222222222222,
              "#7201a8"
             ],
             [
              0.3333333333333333,
              "#9c179e"
             ],
             [
              0.4444444444444444,
              "#bd3786"
             ],
             [
              0.5555555555555556,
              "#d8576b"
             ],
             [
              0.6666666666666666,
              "#ed7953"
             ],
             [
              0.7777777777777778,
              "#fb9f3a"
             ],
             [
              0.8888888888888888,
              "#fdca26"
             ],
             [
              1,
              "#f0f921"
             ]
            ],
            "type": "histogram2dcontour"
           }
          ],
          "mesh3d": [
           {
            "colorbar": {
             "outlinewidth": 0,
             "ticks": ""
            },
            "type": "mesh3d"
           }
          ],
          "parcoords": [
           {
            "line": {
             "colorbar": {
              "outlinewidth": 0,
              "ticks": ""
             }
            },
            "type": "parcoords"
           }
          ],
          "pie": [
           {
            "automargin": true,
            "type": "pie"
           }
          ],
          "scatter": [
           {
            "fillpattern": {
             "fillmode": "overlay",
             "size": 10,
             "solidity": 0.2
            },
            "type": "scatter"
           }
          ],
          "scatter3d": [
           {
            "line": {
             "colorbar": {
              "outlinewidth": 0,
              "ticks": ""
             }
            },
            "marker": {
             "colorbar": {
              "outlinewidth": 0,
              "ticks": ""
             }
            },
            "type": "scatter3d"
           }
          ],
          "scattercarpet": [
           {
            "marker": {
             "colorbar": {
              "outlinewidth": 0,
              "ticks": ""
             }
            },
            "type": "scattercarpet"
           }
          ],
          "scattergeo": [
           {
            "marker": {
             "colorbar": {
              "outlinewidth": 0,
              "ticks": ""
             }
            },
            "type": "scattergeo"
           }
          ],
          "scattergl": [
           {
            "marker": {
             "colorbar": {
              "outlinewidth": 0,
              "ticks": ""
             }
            },
            "type": "scattergl"
           }
          ],
          "scattermapbox": [
           {
            "marker": {
             "colorbar": {
              "outlinewidth": 0,
              "ticks": ""
             }
            },
            "type": "scattermapbox"
           }
          ],
          "scatterpolar": [
           {
            "marker": {
             "colorbar": {
              "outlinewidth": 0,
              "ticks": ""
             }
            },
            "type": "scatterpolar"
           }
          ],
          "scatterpolargl": [
           {
            "marker": {
             "colorbar": {
              "outlinewidth": 0,
              "ticks": ""
             }
            },
            "type": "scatterpolargl"
           }
          ],
          "scatterternary": [
           {
            "marker": {
             "colorbar": {
              "outlinewidth": 0,
              "ticks": ""
             }
            },
            "type": "scatterternary"
           }
          ],
          "surface": [
           {
            "colorbar": {
             "outlinewidth": 0,
             "ticks": ""
            },
            "colorscale": [
             [
              0,
              "#0d0887"
             ],
             [
              0.1111111111111111,
              "#46039f"
             ],
             [
              0.2222222222222222,
              "#7201a8"
             ],
             [
              0.3333333333333333,
              "#9c179e"
             ],
             [
              0.4444444444444444,
              "#bd3786"
             ],
             [
              0.5555555555555556,
              "#d8576b"
             ],
             [
              0.6666666666666666,
              "#ed7953"
             ],
             [
              0.7777777777777778,
              "#fb9f3a"
             ],
             [
              0.8888888888888888,
              "#fdca26"
             ],
             [
              1,
              "#f0f921"
             ]
            ],
            "type": "surface"
           }
          ],
          "table": [
           {
            "cells": {
             "fill": {
              "color": "#EBF0F8"
             },
             "line": {
              "color": "white"
             }
            },
            "header": {
             "fill": {
              "color": "#C8D4E3"
             },
             "line": {
              "color": "white"
             }
            },
            "type": "table"
           }
          ]
         },
         "layout": {
          "annotationdefaults": {
           "arrowcolor": "#2a3f5f",
           "arrowhead": 0,
           "arrowwidth": 1
          },
          "autotypenumbers": "strict",
          "coloraxis": {
           "colorbar": {
            "outlinewidth": 0,
            "ticks": ""
           }
          },
          "colorscale": {
           "diverging": [
            [
             0,
             "#8e0152"
            ],
            [
             0.1,
             "#c51b7d"
            ],
            [
             0.2,
             "#de77ae"
            ],
            [
             0.3,
             "#f1b6da"
            ],
            [
             0.4,
             "#fde0ef"
            ],
            [
             0.5,
             "#f7f7f7"
            ],
            [
             0.6,
             "#e6f5d0"
            ],
            [
             0.7,
             "#b8e186"
            ],
            [
             0.8,
             "#7fbc41"
            ],
            [
             0.9,
             "#4d9221"
            ],
            [
             1,
             "#276419"
            ]
           ],
           "sequential": [
            [
             0,
             "#0d0887"
            ],
            [
             0.1111111111111111,
             "#46039f"
            ],
            [
             0.2222222222222222,
             "#7201a8"
            ],
            [
             0.3333333333333333,
             "#9c179e"
            ],
            [
             0.4444444444444444,
             "#bd3786"
            ],
            [
             0.5555555555555556,
             "#d8576b"
            ],
            [
             0.6666666666666666,
             "#ed7953"
            ],
            [
             0.7777777777777778,
             "#fb9f3a"
            ],
            [
             0.8888888888888888,
             "#fdca26"
            ],
            [
             1,
             "#f0f921"
            ]
           ],
           "sequentialminus": [
            [
             0,
             "#0d0887"
            ],
            [
             0.1111111111111111,
             "#46039f"
            ],
            [
             0.2222222222222222,
             "#7201a8"
            ],
            [
             0.3333333333333333,
             "#9c179e"
            ],
            [
             0.4444444444444444,
             "#bd3786"
            ],
            [
             0.5555555555555556,
             "#d8576b"
            ],
            [
             0.6666666666666666,
             "#ed7953"
            ],
            [
             0.7777777777777778,
             "#fb9f3a"
            ],
            [
             0.8888888888888888,
             "#fdca26"
            ],
            [
             1,
             "#f0f921"
            ]
           ]
          },
          "colorway": [
           "#636efa",
           "#EF553B",
           "#00cc96",
           "#ab63fa",
           "#FFA15A",
           "#19d3f3",
           "#FF6692",
           "#B6E880",
           "#FF97FF",
           "#FECB52"
          ],
          "font": {
           "color": "#2a3f5f"
          },
          "geo": {
           "bgcolor": "white",
           "lakecolor": "white",
           "landcolor": "#E5ECF6",
           "showlakes": true,
           "showland": true,
           "subunitcolor": "white"
          },
          "hoverlabel": {
           "align": "left"
          },
          "hovermode": "closest",
          "mapbox": {
           "style": "light"
          },
          "paper_bgcolor": "white",
          "plot_bgcolor": "#E5ECF6",
          "polar": {
           "angularaxis": {
            "gridcolor": "white",
            "linecolor": "white",
            "ticks": ""
           },
           "bgcolor": "#E5ECF6",
           "radialaxis": {
            "gridcolor": "white",
            "linecolor": "white",
            "ticks": ""
           }
          },
          "scene": {
           "xaxis": {
            "backgroundcolor": "#E5ECF6",
            "gridcolor": "white",
            "gridwidth": 2,
            "linecolor": "white",
            "showbackground": true,
            "ticks": "",
            "zerolinecolor": "white"
           },
           "yaxis": {
            "backgroundcolor": "#E5ECF6",
            "gridcolor": "white",
            "gridwidth": 2,
            "linecolor": "white",
            "showbackground": true,
            "ticks": "",
            "zerolinecolor": "white"
           },
           "zaxis": {
            "backgroundcolor": "#E5ECF6",
            "gridcolor": "white",
            "gridwidth": 2,
            "linecolor": "white",
            "showbackground": true,
            "ticks": "",
            "zerolinecolor": "white"
           }
          },
          "shapedefaults": {
           "line": {
            "color": "#2a3f5f"
           }
          },
          "ternary": {
           "aaxis": {
            "gridcolor": "white",
            "linecolor": "white",
            "ticks": ""
           },
           "baxis": {
            "gridcolor": "white",
            "linecolor": "white",
            "ticks": ""
           },
           "bgcolor": "#E5ECF6",
           "caxis": {
            "gridcolor": "white",
            "linecolor": "white",
            "ticks": ""
           }
          },
          "title": {
           "x": 0.05
          },
          "xaxis": {
           "automargin": true,
           "gridcolor": "white",
           "linecolor": "white",
           "ticks": "",
           "title": {
            "standoff": 15
           },
           "zerolinecolor": "white",
           "zerolinewidth": 2
          },
          "yaxis": {
           "automargin": true,
           "gridcolor": "white",
           "linecolor": "white",
           "ticks": "",
           "title": {
            "standoff": 15
           },
           "zerolinecolor": "white",
           "zerolinewidth": 2
          }
         }
        },
        "title": {
         "text": "CL Condition Averaged",
         "y": 0.96,
         "yanchor": "bottom"
        },
        "width": 450
       }
      },
      "text/html": [
       "<div>                            <div id=\"1cf3ff62-cc83-434d-a7bd-90f54d5f3c9d\" class=\"plotly-graph-div\" style=\"height:500px; width:450px;\"></div>            <script type=\"text/javascript\">                require([\"plotly\"], function(Plotly) {                    window.PLOTLYENV=window.PLOTLYENV || {};                                    if (document.getElementById(\"1cf3ff62-cc83-434d-a7bd-90f54d5f3c9d\")) {                    Plotly.newPlot(                        \"1cf3ff62-cc83-434d-a7bd-90f54d5f3c9d\",                        [{\"line\":{\"color\":\"#1f77b4\"},\"mode\":\"lines\",\"x\":[-0.8173828125,0.389892578125,0.79638671875,1.4404296875],\"y\":[-2.068359375,-0.52392578125,-0.2578125,0.990234375],\"z\":[4.75390625,5.44921875,5.23046875,5.77734375],\"type\":\"scatter3d\"},{\"line\":{\"color\":\"#ff7f0e\"},\"mode\":\"lines\",\"x\":[-0.154052734375,-0.5087890625,-0.78076171875,-0.87255859375],\"y\":[-3.140625,-3.25,-3.109375,-3.341796875],\"z\":[4.63671875,4.6796875,4.4765625,4.00390625],\"type\":\"scatter3d\"},{\"line\":{\"color\":\"#2ca02c\"},\"mode\":\"lines\",\"x\":[-0.595703125,-0.67822265625,-0.5859375,-0.8837890625],\"y\":[-3.044921875,-2.611328125,-2.51171875,-3.150390625],\"z\":[3.185546875,3.587890625,4.27734375,4.84765625],\"type\":\"scatter3d\"},{\"line\":{\"color\":\"#d62728\"},\"mode\":\"lines\",\"x\":[0.828125,0.468505859375,-0.443115234375,-0.96630859375],\"y\":[0.25390625,-1.072265625,-1.58984375,-1.833984375],\"z\":[3.013671875,3.328125,3.583984375,4.03515625],\"type\":\"scatter3d\"},{\"line\":{\"color\":\"#9467bd\"},\"mode\":\"lines\",\"x\":[1.3701171875,1.26953125,1.068359375,0.52587890625],\"y\":[0.087158203125,0.44384765625,0.94140625,1.169921875],\"z\":[4.17578125,4.1640625,4.375,4.20703125],\"type\":\"scatter3d\"},{\"line\":{\"color\":\"#8c564b\"},\"mode\":\"lines\",\"x\":[1.283203125,1.3037109375,0.8916015625,0.7919921875],\"y\":[2.921875,3.380859375,2.3359375,2.48046875],\"z\":[3.068359375,4.10546875,4.91796875,4.94921875],\"type\":\"scatter3d\"},{\"line\":{\"color\":\"#e377c2\"},\"mode\":\"lines\",\"x\":[1.7978515625,0.880859375,0.64453125,1.1884765625],\"y\":[1.98828125,1.5615234375,1.62890625,1.130859375],\"z\":[5.484375,5.33203125,5.1328125,5.0078125],\"type\":\"scatter3d\"},{\"line\":{\"color\":\"#7f7f7f\"},\"mode\":\"lines\",\"x\":[-0.0292816162109375,-0.37109375,-0.1907958984375,-0.166015625],\"y\":[0.42578125,-0.56689453125,-0.67041015625,-1.7314453125],\"z\":[3.375,3.466796875,3.650390625,3.767578125],\"type\":\"scatter3d\"},{\"line\":{\"color\":\"#1f77b4\"},\"mode\":\"lines\",\"x\":[0.43603515625,0.99560546875,1.7236328125,1.7861328125],\"y\":[0.3251953125,0.64208984375,1.7744140625,2.396484375],\"z\":[4.875,4.984375,5.25,5.78125],\"type\":\"scatter3d\"},{\"line\":{\"color\":\"#ff7f0e\"},\"mode\":\"lines\",\"x\":[-1.3544921875,-0.71044921875,-0.794921875,-0.94921875],\"y\":[-1.8798828125,-2.248046875,-3.322265625,-3.099609375],\"z\":[2.974609375,3.35546875,3.91796875,3.8671875],\"type\":\"scatter3d\"},{\"line\":{\"color\":\"#2ca02c\"},\"mode\":\"lines\",\"x\":[-1.50390625,-0.81103515625,-0.8828125,-1.951171875],\"y\":[-2.49609375,-1.212890625,-1.533203125,-2.056640625],\"z\":[2.728515625,3.697265625,4.0859375,4.17578125],\"type\":\"scatter3d\"},{\"line\":{\"color\":\"#d62728\"},\"mode\":\"lines\",\"x\":[-0.0850830078125,-0.089111328125,0.029022216796875,-0.314697265625],\"y\":[-0.467529296875,-1.3349609375,-1.2626953125,-1.681640625],\"z\":[2.302734375,2.9140625,3.919921875,4.140625],\"type\":\"scatter3d\"},{\"line\":{\"color\":\"#9467bd\"},\"mode\":\"lines\",\"x\":[0.3115234375,0.4033203125,-0.2152099609375,0.28076171875],\"y\":[-2.638671875,-0.90576171875,-0.80517578125,0.68994140625],\"z\":[2.1015625,2.677734375,3.255859375,4.17578125],\"type\":\"scatter3d\"},{\"line\":{\"color\":\"#8c564b\"},\"mode\":\"lines\",\"x\":[1.359375,1.2900390625,1.025390625,0.22021484375],\"y\":[0.54150390625,0.84716796875,2.04296875,2.16796875],\"z\":[4.0625,4.21484375,5.21875,4.7109375],\"type\":\"scatter3d\"},{\"line\":{\"color\":\"#e377c2\"},\"mode\":\"lines\",\"x\":[0.090576171875,-0.231201171875,0.1507568359375,0.5771484375],\"y\":[1.251953125,0.65771484375,0.8828125,1.6953125],\"z\":[3.880859375,4.80078125,5.28515625,5.2265625],\"type\":\"scatter3d\"},{\"line\":{\"color\":\"#7f7f7f\"},\"mode\":\"lines\",\"x\":[-0.431640625,1.158203125,1.4296875,1.0419921875],\"y\":[-0.94580078125,-0.3876953125,0.27734375,-0.92724609375],\"z\":[3.24609375,3.984375,4.2734375,4.4453125],\"type\":\"scatter3d\"},{\"line\":{\"color\":\"#1f77b4\"},\"mode\":\"lines\",\"x\":[0.46240234375,1.119140625,1.3701171875,1.8837890625],\"y\":[5.4453125,4.91015625,4.109375,3.421875],\"z\":[4.39453125,4.62890625,5.0234375,5.125],\"type\":\"scatter3d\"},{\"line\":{\"color\":\"#ff7f0e\"},\"mode\":\"lines\",\"x\":[-0.60986328125,-0.29736328125,-0.402587890625,0.1219482421875],\"y\":[-0.85888671875,-0.98974609375,-1.3515625,-1.3427734375],\"z\":[4.8671875,4.70703125,4.59765625,4.76953125],\"type\":\"scatter3d\"},{\"line\":{\"color\":\"#2ca02c\"},\"mode\":\"lines\",\"x\":[-1.8330078125,-1.7216796875,-1.6474609375,-1.9013671875],\"y\":[-5.5078125,-5.546875,-4.6328125,-4.35546875],\"z\":[2.66015625,2.4375,2.8515625,3.595703125],\"type\":\"scatter3d\"},{\"line\":{\"color\":\"#d62728\"},\"mode\":\"lines\",\"x\":[-0.4736328125,-1.130859375,-1.9716796875,-1.55859375],\"y\":[-2.265625,-2.544921875,-2.76953125,-3.15234375],\"z\":[2.578125,3.173828125,3.986328125,4.0859375],\"type\":\"scatter3d\"},{\"line\":{\"color\":\"#9467bd\"},\"mode\":\"lines\",\"x\":[0.8515625,1.1416015625,1.359375,1.2333984375],\"y\":[3.064453125,2.5546875,2.234375,1.2255859375],\"z\":[3.88671875,4.55859375,4.6171875,5.05859375],\"type\":\"scatter3d\"},{\"line\":{\"color\":\"#8c564b\"},\"mode\":\"lines\",\"x\":[0.427001953125,0.42138671875,0.77099609375,1.125],\"y\":[2.70703125,2.716796875,2.69921875,2.580078125],\"z\":[4.16796875,4.4921875,4.8203125,5.1171875],\"type\":\"scatter3d\"},{\"line\":{\"color\":\"#e377c2\"},\"mode\":\"lines\",\"x\":[-0.29931640625,-0.1436767578125,-0.335693359375,0.39990234375],\"y\":[1.478515625,1.13671875,0.67041015625,0.41552734375],\"z\":[4.05859375,4.02734375,4.33984375,4.3203125],\"type\":\"scatter3d\"},{\"line\":{\"color\":\"#7f7f7f\"},\"mode\":\"lines\",\"x\":[-0.7548828125,-0.36376953125,-0.246826171875,0.1761474609375],\"y\":[-1.1064453125,-1.3408203125,-1.236328125,-1.51171875],\"z\":[4.57421875,4.25,3.978515625,3.4765625],\"type\":\"scatter3d\"},{\"line\":{\"color\":\"#1f77b4\"},\"mode\":\"lines\",\"x\":[0.82568359375,1.373046875,1.474609375,1.62890625],\"y\":[3.51953125,3.56640625,2.79296875,2.037109375],\"z\":[3.91796875,4.4765625,4.5859375,4.90234375],\"type\":\"scatter3d\"},{\"line\":{\"color\":\"#ff7f0e\"},\"mode\":\"lines\",\"x\":[0.57763671875,-0.03436279296875,-0.25048828125,-0.6611328125],\"y\":[-0.28466796875,-0.66796875,-1.2900390625,-2.318359375],\"z\":[4.359375,4.828125,4.52734375,3.771484375],\"type\":\"scatter3d\"},{\"line\":{\"color\":\"#2ca02c\"},\"mode\":\"lines\",\"x\":[-0.76708984375,-1.1357421875,-1.2294921875,-1.927734375],\"y\":[-1.6943359375,-2.0859375,-2.71484375,-2.990234375],\"z\":[3.09765625,3.224609375,3.52734375,3.939453125],\"type\":\"scatter3d\"},{\"line\":{\"color\":\"#d62728\"},\"mode\":\"lines\",\"x\":[0.043670654296875,-0.171142578125,-0.0731201171875,-0.3359375],\"y\":[1.892578125,1.037109375,0.68115234375,-0.2220458984375],\"z\":[3.837890625,4.35546875,4.51171875,4.75],\"type\":\"scatter3d\"},{\"line\":{\"color\":\"#9467bd\"},\"mode\":\"lines\",\"x\":[0.47802734375,0.87109375,1.9306640625,0.95654296875],\"y\":[2.689453125,2.384765625,4.0625,1.521484375],\"z\":[4.73046875,4.828125,5.3046875,5.18359375],\"type\":\"scatter3d\"},{\"line\":{\"color\":\"#8c564b\"},\"mode\":\"lines\",\"x\":[0.53076171875,0.9853515625,0.59423828125,0.40234375],\"y\":[3.5859375,3.681640625,2.986328125,2.224609375],\"z\":[3.68359375,4.16796875,4.44921875,4.9140625],\"type\":\"scatter3d\"},{\"line\":{\"color\":\"#e377c2\"},\"mode\":\"lines\",\"x\":[0.63671875,0.300537109375,0.4755859375,0.1888427734375],\"y\":[1.4384765625,0.54052734375,0.06402587890625,-0.49462890625],\"z\":[4.1796875,4.203125,4.6953125,4.83203125],\"type\":\"scatter3d\"},{\"line\":{\"color\":\"#7f7f7f\"},\"mode\":\"lines\",\"x\":[-0.17431640625,-0.27001953125,-0.053497314453125,0.29248046875],\"y\":[0.779296875,0.03497314453125,0.07281494140625,-0.7470703125],\"z\":[3.75390625,3.78125,4.1796875,4.3828125],\"type\":\"scatter3d\"},{\"line\":{\"color\":\"#1f77b4\"},\"mode\":\"lines\",\"x\":[-0.4423828125,-0.076416015625,0.724609375,1.1181640625],\"y\":[0.1181640625,1.5419921875,1.5458984375,1.1650390625],\"z\":[4.6171875,5.47265625,5.19921875,4.9765625],\"type\":\"scatter3d\"},{\"line\":{\"color\":\"#ff7f0e\"},\"mode\":\"lines\",\"x\":[-1.6923828125,-1.6064453125,-1.4443359375,-0.8701171875],\"y\":[-1.7744140625,-1.1962890625,-1.8564453125,-2.361328125],\"z\":[5.18359375,5.51171875,4.9296875,4.83984375],\"type\":\"scatter3d\"},{\"line\":{\"color\":\"#2ca02c\"},\"mode\":\"lines\",\"x\":[-0.88427734375,-1.0263671875,-1.197265625,-1.3037109375],\"y\":[-2.32421875,-1.642578125,-1.6591796875,-2.978515625],\"z\":[3.19140625,3.52734375,4.52734375,4.1640625],\"type\":\"scatter3d\"},{\"line\":{\"color\":\"#d62728\"},\"mode\":\"lines\",\"x\":[-1.189453125,-0.479248046875,-0.205810546875,-0.8896484375],\"y\":[-0.45068359375,0.351806640625,-0.58154296875,-1.3642578125],\"z\":[4.93359375,4.8046875,4.46484375,4.62109375],\"type\":\"scatter3d\"},{\"line\":{\"color\":\"#9467bd\"},\"mode\":\"lines\",\"x\":[-0.055511474609375,0.2125244140625,0.009857177734375,-0.11114501953125],\"y\":[1.8798828125,2.126953125,1.609375,0.98828125],\"z\":[4.9765625,5.484375,4.82421875,4.93359375],\"type\":\"scatter3d\"},{\"line\":{\"color\":\"#8c564b\"},\"mode\":\"lines\",\"x\":[1.103515625,0.123291015625,0.071533203125,-0.26171875],\"y\":[0.396484375,0.1961669921875,1.2177734375,0.81494140625],\"z\":[4.390625,4.5,4.88671875,4.81640625],\"type\":\"scatter3d\"},{\"line\":{\"color\":\"#e377c2\"},\"mode\":\"lines\",\"x\":[-0.72607421875,-0.006137847900390625,0.65771484375,0.50146484375],\"y\":[1.291015625,1.2333984375,0.78466796875,0.1136474609375],\"z\":[4.46875,4.51171875,4.65234375,3.888671875],\"type\":\"scatter3d\"},{\"line\":{\"color\":\"#7f7f7f\"},\"mode\":\"lines\",\"x\":[0.2315673828125,0.79541015625,1.033203125,0.275390625],\"y\":[-1.9658203125,-0.83154296875,-0.54638671875,-1.1064453125],\"z\":[3.43359375,3.603515625,4.15234375,4.00390625],\"type\":\"scatter3d\"},{\"line\":{\"color\":\"#1f77b4\"},\"mode\":\"lines\",\"x\":[1.3154296875,0.77099609375,0.1466064453125,0.3916015625],\"y\":[4.09375,2.166015625,1.5390625,1.123046875],\"z\":[6.21875,5.7421875,5.62890625,5.28125],\"type\":\"scatter3d\"},{\"line\":{\"color\":\"#ff7f0e\"},\"mode\":\"lines\",\"x\":[1.02734375,0.7099609375,0.2142333984375,0.1834716796875],\"y\":[0.5947265625,1.001953125,0.39892578125,-1.435546875],\"z\":[4.2421875,4.796875,4.50390625,4.203125],\"type\":\"scatter3d\"},{\"line\":{\"color\":\"#2ca02c\"},\"mode\":\"lines\",\"x\":[-0.05377197265625,-0.94091796875,-1.4833984375,-1.271484375],\"y\":[1.349609375,0.1373291015625,-0.343505859375,-1.91015625],\"z\":[5.06640625,4.97265625,5.0859375,4.4609375],\"type\":\"scatter3d\"},{\"line\":{\"color\":\"#d62728\"},\"mode\":\"lines\",\"x\":[0.6845703125,0.0066680908203125,0.00469970703125,-0.78662109375],\"y\":[1.44140625,0.51904296875,-0.348388671875,-1.037109375],\"z\":[5.21484375,5.04296875,5.09375,4.84765625],\"type\":\"scatter3d\"},{\"line\":{\"color\":\"#9467bd\"},\"mode\":\"lines\",\"x\":[0.13525390625,0.37841796875,0.677734375,0.4697265625],\"y\":[1.6357421875,0.73974609375,0.94580078125,0.31591796875],\"z\":[5.36328125,5.35546875,4.73046875,4.69921875],\"type\":\"scatter3d\"},{\"line\":{\"color\":\"#8c564b\"},\"mode\":\"lines\",\"x\":[0.78466796875,0.626953125,0.98046875,0.204345703125],\"y\":[2.35546875,2.26953125,2.5625,1.275390625],\"z\":[3.9609375,4.18359375,4.5703125,4.375],\"type\":\"scatter3d\"},{\"line\":{\"color\":\"#e377c2\"},\"mode\":\"lines\",\"x\":[0.583984375,0.2421875,0.51708984375,0.568359375],\"y\":[1.318359375,0.6162109375,0.71044921875,0.441650390625],\"z\":[4.60546875,4.78515625,4.4765625,4.5078125],\"type\":\"scatter3d\"},{\"line\":{\"color\":\"#7f7f7f\"},\"mode\":\"lines\",\"x\":[1.16796875,1.462890625,1.015625,0.50830078125],\"y\":[2.705078125,2.693359375,1.7060546875,-0.5087890625],\"z\":[4.62109375,4.70703125,4.8671875,4.2734375],\"type\":\"scatter3d\"},{\"line\":{\"color\":\"#1f77b4\"},\"mode\":\"lines\",\"x\":[-0.325439453125,0.257080078125,0.5546875,1.166015625],\"y\":[0.92333984375,0.01195526123046875,0.615234375,1.2998046875],\"z\":[3.974609375,3.47265625,3.642578125,4.90234375],\"type\":\"scatter3d\"},{\"line\":{\"color\":\"#ff7f0e\"},\"mode\":\"lines\",\"x\":[-0.5908203125,-0.2197265625,-0.2119140625,-0.24365234375],\"y\":[-1.1474609375,-0.8056640625,-1.54296875,-2.267578125],\"z\":[3.5390625,3.537109375,3.23046875,3.84765625],\"type\":\"scatter3d\"},{\"line\":{\"color\":\"#2ca02c\"},\"mode\":\"lines\",\"x\":[0.8232421875,-0.0936279296875,-0.9150390625,-1.376953125],\"y\":[0.904296875,-0.300537109375,-1.4833984375,-2.55859375],\"z\":[4.0078125,3.845703125,4.50390625,4.34375],\"type\":\"scatter3d\"},{\"line\":{\"color\":\"#d62728\"},\"mode\":\"lines\",\"x\":[0.355712890625,-0.74072265625,-0.8818359375,-0.99072265625],\"y\":[-1.8984375,-2.587890625,-2.09375,-2.2578125],\"z\":[3.66015625,4.453125,4.7578125,4.48828125],\"type\":\"scatter3d\"},{\"line\":{\"color\":\"#9467bd\"},\"mode\":\"lines\",\"x\":[-0.255126953125,0.5986328125,0.9150390625,0.89111328125],\"y\":[1.77734375,1.8779296875,1.845703125,1.765625],\"z\":[4.19140625,4.26171875,4.34765625,4.5234375],\"type\":\"scatter3d\"},{\"line\":{\"color\":\"#8c564b\"},\"mode\":\"lines\",\"x\":[-0.47216796875,-0.1837158203125,0.1273193359375,0.6337890625],\"y\":[0.07696533203125,1.0234375,1.7802734375,3.14453125],\"z\":[5.078125,5.54296875,4.86328125,5.265625],\"type\":\"scatter3d\"},{\"line\":{\"color\":\"#e377c2\"},\"mode\":\"lines\",\"x\":[-0.57373046875,0.413330078125,-0.533203125,-0.171875],\"y\":[0.0173187255859375,0.75927734375,-0.371826171875,-0.32177734375],\"z\":[3.4765625,3.91796875,4.39453125,4.4453125],\"type\":\"scatter3d\"},{\"line\":{\"color\":\"#7f7f7f\"},\"mode\":\"lines\",\"x\":[0.98828125,-0.024749755859375,-0.17041015625,-0.28564453125],\"y\":[-0.87744140625,-0.96240234375,-1.7587890625,-1.6689453125],\"z\":[3.39453125,3.482421875,3.912109375,4.50390625],\"type\":\"scatter3d\"},{\"line\":{\"color\":\"#1f77b4\"},\"mode\":\"lines\",\"x\":[2.236328125,2.193359375,1.56640625,1.8134765625],\"y\":[-0.293701171875,-1.375,-0.619140625,1.443359375],\"z\":[3.46875,4.40625,4.71484375,5.4765625],\"type\":\"scatter3d\"},{\"line\":{\"color\":\"#ff7f0e\"},\"mode\":\"lines\",\"x\":[1.2998046875,0.94970703125,0.414794921875,-0.147216796875],\"y\":[-0.86376953125,-0.95068359375,-1.384765625,-1.4228515625],\"z\":[3.25390625,3.888671875,3.841796875,3.71875],\"type\":\"scatter3d\"},{\"line\":{\"color\":\"#2ca02c\"},\"mode\":\"lines\",\"x\":[-0.213623046875,-0.6279296875,-0.55419921875,-0.30712890625],\"y\":[-2.78125,-2.048828125,-1.5283203125,-1.154296875],\"z\":[2.455078125,2.884765625,3.5234375,4.18359375],\"type\":\"scatter3d\"},{\"line\":{\"color\":\"#d62728\"},\"mode\":\"lines\",\"x\":[1.328125,0.5927734375,-0.07452392578125,-0.88671875],\"y\":[0.3798828125,-0.058258056640625,-1.10546875,-2.33984375],\"z\":[4.0546875,5.1796875,5.80078125,5.1953125],\"type\":\"scatter3d\"},{\"line\":{\"color\":\"#9467bd\"},\"mode\":\"lines\",\"x\":[1.5673828125,0.7294921875,0.62060546875,-0.2215576171875],\"y\":[1.203125,0.53515625,0.587890625,0.393310546875],\"z\":[4.54296875,4.25390625,4.72265625,4.76171875],\"type\":\"scatter3d\"},{\"line\":{\"color\":\"#8c564b\"},\"mode\":\"lines\",\"x\":[0.314453125,0.2398681640625,-0.2281494140625,0.6806640625],\"y\":[-0.329345703125,0.4521484375,0.37939453125,1.44921875],\"z\":[5.0625,4.23046875,3.673828125,4.46484375],\"type\":\"scatter3d\"},{\"line\":{\"color\":\"#e377c2\"},\"mode\":\"lines\",\"x\":[-0.420654296875,0.75634765625,0.990234375,0.498779296875],\"y\":[1.615234375,1.427734375,2.056640625,0.79248046875],\"z\":[4.68359375,4.5625,4.19921875,4.3125],\"type\":\"scatter3d\"},{\"line\":{\"color\":\"#7f7f7f\"},\"mode\":\"lines\",\"x\":[-0.60498046875,-0.3955078125,0.425537109375,0.57275390625],\"y\":[-1.7001953125,-2.380859375,-1.6240234375,-1.587890625],\"z\":[3.138671875,3.25,3.705078125,4.25],\"type\":\"scatter3d\"},{\"line\":{\"color\":\"#1f77b4\"},\"mode\":\"lines\",\"x\":[0.294189453125,1.1484375,1.7392578125,1.564453125],\"y\":[3.236328125,2.763671875,2.79296875,1.9150390625],\"z\":[5.35546875,5.09375,5.2890625,5.03125],\"type\":\"scatter3d\"},{\"line\":{\"color\":\"#ff7f0e\"},\"mode\":\"lines\",\"x\":[0.271484375,-0.80078125,-0.39892578125,-0.75732421875],\"y\":[0.042266845703125,-1.357421875,-1.62890625,-2.630859375],\"z\":[4.0078125,4.13671875,3.958984375,4.00390625],\"type\":\"scatter3d\"},{\"line\":{\"color\":\"#2ca02c\"},\"mode\":\"lines\",\"x\":[-1.2060546875,-2.42578125,-3.87890625,-2.962890625],\"y\":[-3.123046875,-3.265625,-4.32421875,-3.701171875],\"z\":[4.3671875,3.822265625,3.537109375,3.7109375],\"type\":\"scatter3d\"},{\"line\":{\"color\":\"#d62728\"},\"mode\":\"lines\",\"x\":[-0.458740234375,-1.2333984375,-1.9443359375,-2.583984375],\"y\":[0.26416015625,-0.75390625,-1.9990234375,-3.0703125],\"z\":[4.33203125,4.6484375,5.03125,4.6328125],\"type\":\"scatter3d\"},{\"line\":{\"color\":\"#9467bd\"},\"mode\":\"lines\",\"x\":[-0.08172607421875,-0.95458984375,-0.027130126953125,0.450439453125],\"y\":[1.6484375,1.4208984375,1.6806640625,1.8359375],\"z\":[3.66015625,4.0703125,4.20703125,5.0],\"type\":\"scatter3d\"},{\"line\":{\"color\":\"#8c564b\"},\"mode\":\"lines\",\"x\":[0.60693359375,0.385986328125,1.751953125,0.75439453125],\"y\":[3.671875,6.265625,5.140625,2.830078125],\"z\":[3.375,5.16015625,6.9453125,5.1171875],\"type\":\"scatter3d\"},{\"line\":{\"color\":\"#e377c2\"},\"mode\":\"lines\",\"x\":[-2.322265625,-1.6630859375,-1.419921875,-1.017578125],\"y\":[-1.568359375,-1.087890625,-1.2529296875,-1.44921875],\"z\":[3.41796875,2.884765625,3.587890625,4.0],\"type\":\"scatter3d\"},{\"line\":{\"color\":\"#7f7f7f\"},\"mode\":\"lines\",\"x\":[-1.380859375,-2.0390625,-2.013671875,-0.75048828125],\"y\":[-2.451171875,-3.998046875,-3.140625,-2.263671875],\"z\":[4.38671875,3.943359375,3.796875,4.32421875],\"type\":\"scatter3d\"},{\"line\":{\"color\":\"#1f77b4\"},\"mode\":\"lines\",\"x\":[0.89404296875,1.2939453125,1.009765625,2.18359375],\"y\":[1.138671875,2.14453125,1.251953125,1.880859375],\"z\":[2.1171875,3.25390625,3.654296875,5.34375],\"type\":\"scatter3d\"},{\"line\":{\"color\":\"#ff7f0e\"},\"mode\":\"lines\",\"x\":[-0.57666015625,-0.0870361328125,-0.14697265625,-0.472412109375],\"y\":[-1.814453125,-3.2109375,-1.6484375,-2.802734375],\"z\":[5.08203125,3.09765625,3.107421875,4.0234375],\"type\":\"scatter3d\"},{\"line\":{\"color\":\"#2ca02c\"},\"mode\":\"lines\",\"x\":[1.056640625,-0.064208984375,-0.431396484375,-2.09375],\"y\":[1.1171875,0.50439453125,-0.63232421875,-2.615234375],\"z\":[4.1328125,3.580078125,4.421875,4.5078125],\"type\":\"scatter3d\"},{\"line\":{\"color\":\"#d62728\"},\"mode\":\"lines\",\"x\":[-0.64892578125,-0.55908203125,-1.1298828125,-1.9638671875],\"y\":[-1.544921875,-0.88671875,-1.77734375,-2.609375],\"z\":[3.0078125,3.154296875,3.556640625,3.671875],\"type\":\"scatter3d\"},{\"line\":{\"color\":\"#9467bd\"},\"mode\":\"lines\",\"x\":[-0.767578125,-1.2705078125,-0.2880859375,-0.324462890625],\"y\":[-1.8994140625,-2.494140625,0.51318359375,0.81298828125],\"z\":[4.6640625,4.21484375,4.5078125,4.18359375],\"type\":\"scatter3d\"},{\"line\":{\"color\":\"#8c564b\"},\"mode\":\"lines\",\"x\":[-0.391357421875,-0.794921875,-0.298828125,-0.267333984375],\"y\":[-2.134765625,-2.3515625,-0.46923828125,0.81494140625],\"z\":[2.861328125,2.14453125,3.3359375,4.4375],\"type\":\"scatter3d\"},{\"line\":{\"color\":\"#e377c2\"},\"mode\":\"lines\",\"x\":[2.265625,1.521484375,0.93408203125,1.33984375],\"y\":[-2.142578125,-1.5927734375,-0.2037353515625,0.394287109375],\"z\":[4.72265625,4.33984375,5.24609375,5.0546875],\"type\":\"scatter3d\"},{\"line\":{\"color\":\"#7f7f7f\"},\"mode\":\"lines\",\"x\":[0.7373046875,0.703125,0.52490234375,1.0224609375],\"y\":[-1.5458984375,-1.787109375,-0.86865234375,-0.736328125],\"z\":[2.685546875,3.1171875,3.84765625,4.3359375],\"type\":\"scatter3d\"}],                        {\"template\":{\"data\":{\"histogram2dcontour\":[{\"type\":\"histogram2dcontour\",\"colorbar\":{\"outlinewidth\":0,\"ticks\":\"\"},\"colorscale\":[[0.0,\"#0d0887\"],[0.1111111111111111,\"#46039f\"],[0.2222222222222222,\"#7201a8\"],[0.3333333333333333,\"#9c179e\"],[0.4444444444444444,\"#bd3786\"],[0.5555555555555556,\"#d8576b\"],[0.6666666666666666,\"#ed7953\"],[0.7777777777777778,\"#fb9f3a\"],[0.8888888888888888,\"#fdca26\"],[1.0,\"#f0f921\"]]}],\"choropleth\":[{\"type\":\"choropleth\",\"colorbar\":{\"outlinewidth\":0,\"ticks\":\"\"}}],\"histogram2d\":[{\"type\":\"histogram2d\",\"colorbar\":{\"outlinewidth\":0,\"ticks\":\"\"},\"colorscale\":[[0.0,\"#0d0887\"],[0.1111111111111111,\"#46039f\"],[0.2222222222222222,\"#7201a8\"],[0.3333333333333333,\"#9c179e\"],[0.4444444444444444,\"#bd3786\"],[0.5555555555555556,\"#d8576b\"],[0.6666666666666666,\"#ed7953\"],[0.7777777777777778,\"#fb9f3a\"],[0.8888888888888888,\"#fdca26\"],[1.0,\"#f0f921\"]]}],\"heatmap\":[{\"type\":\"heatmap\",\"colorbar\":{\"outlinewidth\":0,\"ticks\":\"\"},\"colorscale\":[[0.0,\"#0d0887\"],[0.1111111111111111,\"#46039f\"],[0.2222222222222222,\"#7201a8\"],[0.3333333333333333,\"#9c179e\"],[0.4444444444444444,\"#bd3786\"],[0.5555555555555556,\"#d8576b\"],[0.6666666666666666,\"#ed7953\"],[0.7777777777777778,\"#fb9f3a\"],[0.8888888888888888,\"#fdca26\"],[1.0,\"#f0f921\"]]}],\"heatmapgl\":[{\"type\":\"heatmapgl\",\"colorbar\":{\"outlinewidth\":0,\"ticks\":\"\"},\"colorscale\":[[0.0,\"#0d0887\"],[0.1111111111111111,\"#46039f\"],[0.2222222222222222,\"#7201a8\"],[0.3333333333333333,\"#9c179e\"],[0.4444444444444444,\"#bd3786\"],[0.5555555555555556,\"#d8576b\"],[0.6666666666666666,\"#ed7953\"],[0.7777777777777778,\"#fb9f3a\"],[0.8888888888888888,\"#fdca26\"],[1.0,\"#f0f921\"]]}],\"contourcarpet\":[{\"type\":\"contourcarpet\",\"colorbar\":{\"outlinewidth\":0,\"ticks\":\"\"}}],\"contour\":[{\"type\":\"contour\",\"colorbar\":{\"outlinewidth\":0,\"ticks\":\"\"},\"colorscale\":[[0.0,\"#0d0887\"],[0.1111111111111111,\"#46039f\"],[0.2222222222222222,\"#7201a8\"],[0.3333333333333333,\"#9c179e\"],[0.4444444444444444,\"#bd3786\"],[0.5555555555555556,\"#d8576b\"],[0.6666666666666666,\"#ed7953\"],[0.7777777777777778,\"#fb9f3a\"],[0.8888888888888888,\"#fdca26\"],[1.0,\"#f0f921\"]]}],\"surface\":[{\"type\":\"surface\",\"colorbar\":{\"outlinewidth\":0,\"ticks\":\"\"},\"colorscale\":[[0.0,\"#0d0887\"],[0.1111111111111111,\"#46039f\"],[0.2222222222222222,\"#7201a8\"],[0.3333333333333333,\"#9c179e\"],[0.4444444444444444,\"#bd3786\"],[0.5555555555555556,\"#d8576b\"],[0.6666666666666666,\"#ed7953\"],[0.7777777777777778,\"#fb9f3a\"],[0.8888888888888888,\"#fdca26\"],[1.0,\"#f0f921\"]]}],\"mesh3d\":[{\"type\":\"mesh3d\",\"colorbar\":{\"outlinewidth\":0,\"ticks\":\"\"}}],\"scatter\":[{\"fillpattern\":{\"fillmode\":\"overlay\",\"size\":10,\"solidity\":0.2},\"type\":\"scatter\"}],\"parcoords\":[{\"type\":\"parcoords\",\"line\":{\"colorbar\":{\"outlinewidth\":0,\"ticks\":\"\"}}}],\"scatterpolargl\":[{\"type\":\"scatterpolargl\",\"marker\":{\"colorbar\":{\"outlinewidth\":0,\"ticks\":\"\"}}}],\"bar\":[{\"error_x\":{\"color\":\"#2a3f5f\"},\"error_y\":{\"color\":\"#2a3f5f\"},\"marker\":{\"line\":{\"color\":\"#E5ECF6\",\"width\":0.5},\"pattern\":{\"fillmode\":\"overlay\",\"size\":10,\"solidity\":0.2}},\"type\":\"bar\"}],\"scattergeo\":[{\"type\":\"scattergeo\",\"marker\":{\"colorbar\":{\"outlinewidth\":0,\"ticks\":\"\"}}}],\"scatterpolar\":[{\"type\":\"scatterpolar\",\"marker\":{\"colorbar\":{\"outlinewidth\":0,\"ticks\":\"\"}}}],\"histogram\":[{\"marker\":{\"pattern\":{\"fillmode\":\"overlay\",\"size\":10,\"solidity\":0.2}},\"type\":\"histogram\"}],\"scattergl\":[{\"type\":\"scattergl\",\"marker\":{\"colorbar\":{\"outlinewidth\":0,\"ticks\":\"\"}}}],\"scatter3d\":[{\"type\":\"scatter3d\",\"line\":{\"colorbar\":{\"outlinewidth\":0,\"ticks\":\"\"}},\"marker\":{\"colorbar\":{\"outlinewidth\":0,\"ticks\":\"\"}}}],\"scattermapbox\":[{\"type\":\"scattermapbox\",\"marker\":{\"colorbar\":{\"outlinewidth\":0,\"ticks\":\"\"}}}],\"scatterternary\":[{\"type\":\"scatterternary\",\"marker\":{\"colorbar\":{\"outlinewidth\":0,\"ticks\":\"\"}}}],\"scattercarpet\":[{\"type\":\"scattercarpet\",\"marker\":{\"colorbar\":{\"outlinewidth\":0,\"ticks\":\"\"}}}],\"carpet\":[{\"aaxis\":{\"endlinecolor\":\"#2a3f5f\",\"gridcolor\":\"white\",\"linecolor\":\"white\",\"minorgridcolor\":\"white\",\"startlinecolor\":\"#2a3f5f\"},\"baxis\":{\"endlinecolor\":\"#2a3f5f\",\"gridcolor\":\"white\",\"linecolor\":\"white\",\"minorgridcolor\":\"white\",\"startlinecolor\":\"#2a3f5f\"},\"type\":\"carpet\"}],\"table\":[{\"cells\":{\"fill\":{\"color\":\"#EBF0F8\"},\"line\":{\"color\":\"white\"}},\"header\":{\"fill\":{\"color\":\"#C8D4E3\"},\"line\":{\"color\":\"white\"}},\"type\":\"table\"}],\"barpolar\":[{\"marker\":{\"line\":{\"color\":\"#E5ECF6\",\"width\":0.5},\"pattern\":{\"fillmode\":\"overlay\",\"size\":10,\"solidity\":0.2}},\"type\":\"barpolar\"}],\"pie\":[{\"automargin\":true,\"type\":\"pie\"}]},\"layout\":{\"autotypenumbers\":\"strict\",\"colorway\":[\"#636efa\",\"#EF553B\",\"#00cc96\",\"#ab63fa\",\"#FFA15A\",\"#19d3f3\",\"#FF6692\",\"#B6E880\",\"#FF97FF\",\"#FECB52\"],\"font\":{\"color\":\"#2a3f5f\"},\"hovermode\":\"closest\",\"hoverlabel\":{\"align\":\"left\"},\"paper_bgcolor\":\"white\",\"plot_bgcolor\":\"#E5ECF6\",\"polar\":{\"bgcolor\":\"#E5ECF6\",\"angularaxis\":{\"gridcolor\":\"white\",\"linecolor\":\"white\",\"ticks\":\"\"},\"radialaxis\":{\"gridcolor\":\"white\",\"linecolor\":\"white\",\"ticks\":\"\"}},\"ternary\":{\"bgcolor\":\"#E5ECF6\",\"aaxis\":{\"gridcolor\":\"white\",\"linecolor\":\"white\",\"ticks\":\"\"},\"baxis\":{\"gridcolor\":\"white\",\"linecolor\":\"white\",\"ticks\":\"\"},\"caxis\":{\"gridcolor\":\"white\",\"linecolor\":\"white\",\"ticks\":\"\"}},\"coloraxis\":{\"colorbar\":{\"outlinewidth\":0,\"ticks\":\"\"}},\"colorscale\":{\"sequential\":[[0.0,\"#0d0887\"],[0.1111111111111111,\"#46039f\"],[0.2222222222222222,\"#7201a8\"],[0.3333333333333333,\"#9c179e\"],[0.4444444444444444,\"#bd3786\"],[0.5555555555555556,\"#d8576b\"],[0.6666666666666666,\"#ed7953\"],[0.7777777777777778,\"#fb9f3a\"],[0.8888888888888888,\"#fdca26\"],[1.0,\"#f0f921\"]],\"sequentialminus\":[[0.0,\"#0d0887\"],[0.1111111111111111,\"#46039f\"],[0.2222222222222222,\"#7201a8\"],[0.3333333333333333,\"#9c179e\"],[0.4444444444444444,\"#bd3786\"],[0.5555555555555556,\"#d8576b\"],[0.6666666666666666,\"#ed7953\"],[0.7777777777777778,\"#fb9f3a\"],[0.8888888888888888,\"#fdca26\"],[1.0,\"#f0f921\"]],\"diverging\":[[0,\"#8e0152\"],[0.1,\"#c51b7d\"],[0.2,\"#de77ae\"],[0.3,\"#f1b6da\"],[0.4,\"#fde0ef\"],[0.5,\"#f7f7f7\"],[0.6,\"#e6f5d0\"],[0.7,\"#b8e186\"],[0.8,\"#7fbc41\"],[0.9,\"#4d9221\"],[1,\"#276419\"]]},\"xaxis\":{\"gridcolor\":\"white\",\"linecolor\":\"white\",\"ticks\":\"\",\"title\":{\"standoff\":15},\"zerolinecolor\":\"white\",\"automargin\":true,\"zerolinewidth\":2},\"yaxis\":{\"gridcolor\":\"white\",\"linecolor\":\"white\",\"ticks\":\"\",\"title\":{\"standoff\":15},\"zerolinecolor\":\"white\",\"automargin\":true,\"zerolinewidth\":2},\"scene\":{\"xaxis\":{\"backgroundcolor\":\"#E5ECF6\",\"gridcolor\":\"white\",\"linecolor\":\"white\",\"showbackground\":true,\"ticks\":\"\",\"zerolinecolor\":\"white\",\"gridwidth\":2},\"yaxis\":{\"backgroundcolor\":\"#E5ECF6\",\"gridcolor\":\"white\",\"linecolor\":\"white\",\"showbackground\":true,\"ticks\":\"\",\"zerolinecolor\":\"white\",\"gridwidth\":2},\"zaxis\":{\"backgroundcolor\":\"#E5ECF6\",\"gridcolor\":\"white\",\"linecolor\":\"white\",\"showbackground\":true,\"ticks\":\"\",\"zerolinecolor\":\"white\",\"gridwidth\":2}},\"shapedefaults\":{\"line\":{\"color\":\"#2a3f5f\"}},\"annotationdefaults\":{\"arrowcolor\":\"#2a3f5f\",\"arrowhead\":0,\"arrowwidth\":1},\"geo\":{\"bgcolor\":\"white\",\"landcolor\":\"#E5ECF6\",\"subunitcolor\":\"white\",\"showland\":true,\"showlakes\":true,\"lakecolor\":\"white\"},\"title\":{\"x\":0.05},\"mapbox\":{\"style\":\"light\"}}},\"title\":{\"text\":\"CL Condition Averaged\",\"y\":0.96,\"yanchor\":\"bottom\"},\"scene\":{\"xaxis\":{\"showspikes\":false,\"title\":{\"text\":\"PC1\"}},\"yaxis\":{\"showspikes\":false,\"title\":{\"text\":\"PC2\"}},\"zaxis\":{\"showspikes\":false,\"title\":{\"text\":\"PC3\"}},\"camera\":{\"center\":{\"x\":0.065,\"y\":0.0,\"z\":-0.075},\"eye\":{\"x\":1.3,\"y\":1.3,\"z\":1.3}},\"aspectratio\":{\"x\":1,\"y\":1,\"z\":1},\"aspectmode\":\"manual\"},\"width\":450,\"height\":500,\"autosize\":false,\"showlegend\":false,\"margin\":{\"r\":0,\"l\":0,\"b\":0,\"t\":50}},                        {\"responsive\": true}                    ).then(function(){\n",
       "                            \n",
       "var gd = document.getElementById('1cf3ff62-cc83-434d-a7bd-90f54d5f3c9d');\n",
       "var x = new MutationObserver(function (mutations, observer) {{\n",
       "        var display = window.getComputedStyle(gd).display;\n",
       "        if (!display || display === 'none') {{\n",
       "            console.log([gd, 'removed!']);\n",
       "            Plotly.purge(gd);\n",
       "            observer.disconnect();\n",
       "        }}\n",
       "}});\n",
       "\n",
       "// Listen for the removal of the full notebook cells\n",
       "var notebookContainer = gd.closest('#notebook-container');\n",
       "if (notebookContainer) {{\n",
       "    x.observe(notebookContainer, {childList: true});\n",
       "}}\n",
       "\n",
       "// Listen for the clearing of the current output cell\n",
       "var outputEl = gd.closest('.output');\n",
       "if (outputEl) {{\n",
       "    x.observe(outputEl, {childList: true});\n",
       "}}\n",
       "\n",
       "                        })                };                });            </script>        </div>"
      ]
     },
     "metadata": {},
     "output_type": "display_data"
    }
   ],
   "source": [
    "fig = plot_pcs(*cl_cond_avg, 'CL Condition Averaged', return_fig=True)\n",
    "# html_str = fig.to_html(config={'displayModeBar': False}, full_html=False, include_plotlyjs='cdn')\n",
    "# wandb.log({'CL Condition Averaged' : wandb.Html(html_str, inject=False)})\n",
    "fig.show()"
   ]
  },
  {
   "cell_type": "code",
   "execution_count": 119,
   "metadata": {},
   "outputs": [],
   "source": [
    "# wandb.finish()"
   ]
  },
  {
   "cell_type": "code",
   "execution_count": 120,
   "metadata": {},
   "outputs": [],
   "source": [
    "# for i in range(2, 21):\n",
    "#     config.defrost()\n",
    "#     config.data.cl_align_field = 'start_time'\n",
    "#     config.data.cl_align_range = [0, i*100]\n",
    "#     config.freeze()\n",
    "\n",
    "#     so_alignment_matrices, so_alignment_biases = align_sessions(config)\n",
    "\n",
    "#     config.defrost()\n",
    "#     config.data.cl_align_field = 'start_time'\n",
    "#     config.data.cl_align_range = [0, 1700]\n",
    "#     config.freeze()\n",
    "\n",
    "#     trialized_data = get_trialized_data(config, datasets)\n",
    "\n",
    "#     cl_cond_avg = ([], []) \n",
    "#     cl_single_trial = ([], [])\n",
    "\n",
    "#     cl_trial_len = (config.data.cl_align_range[1] - config.data.cl_align_range[0]) / config.data.bin_size\n",
    "\n",
    "#     for idx, session in enumerate(config.data.sessions):    \n",
    "#         for cond_id, trials in trialized_data[session]['cl_trial_data'].groupby(('cond_id', 'n')):\n",
    "#             if cond_id > 0:\n",
    "#                 low_d_trials = []\n",
    "#                 for trial_id, trial in trials.groupby('trial_id'):\n",
    "#                     heldin_spikes = trial.spikes_smth.to_numpy()[:, datasets[session].heldin_channels]\n",
    "#                     if heldin_spikes.shape[0] == cl_trial_len:\n",
    "#                         low_d_trial = np.dot(heldin_spikes, so_alignment_matrices[idx].T)\n",
    "#                         low_d_trial = low_d_trial + np.array(so_alignment_biases[idx])\n",
    "#                         low_d_trials.append(low_d_trial)\n",
    "\n",
    "#                 cl_single_trial[0].append(np.concatenate(low_d_trials, 0))\n",
    "#                 cl_single_trial[1].append(cond_id)\n",
    "\n",
    "#                 cl_cond_avg[0].append(np.array(low_d_trials).mean(0))\n",
    "#                 cl_cond_avg[1].append(cond_id)\n",
    "\n",
    "#     wandb.init(project='Closed Loop T11 Radial-8 Alignment', name=f'Full {i*100} Filtered Alignment')\n",
    "\n",
    "#     fig = plot_pcs(*cl_single_trial, 'CL Single Trial', return_fig=True)\n",
    "#     html_str = fig.to_html(config={'displayModeBar': False}, full_html=False, include_plotlyjs='cdn')\n",
    "#     wandb.log({'CL Single Trial' : wandb.Html(html_str, inject=False)})\n",
    "\n",
    "#     fig = plot_pcs(*cl_cond_avg, 'CL Condition Averaged', return_fig=True)\n",
    "#     html_str = fig.to_html(config={'displayModeBar': False}, full_html=False, include_plotlyjs='cdn')\n",
    "#     wandb.log({'CL Condition Averaged' : wandb.Html(html_str, inject=False)})\n",
    "\n",
    "#     wandb.finish()\n",
    "\n"
   ]
  }
 ],
 "metadata": {
  "kernelspec": {
   "display_name": "Python 3.9.15 ('rt-ndt': conda)",
   "language": "python",
   "name": "python3"
  },
  "language_info": {
   "codemirror_mode": {
    "name": "ipython",
    "version": 3
   },
   "file_extension": ".py",
   "mimetype": "text/x-python",
   "name": "python",
   "nbconvert_exporter": "python",
   "pygments_lexer": "ipython3",
   "version": "3.10.5"
  },
  "orig_nbformat": 4,
  "vscode": {
   "interpreter": {
    "hash": "bc30bb90c8b08e44449baf159ccd52b467e533b99281db744a890525db8e2ea9"
   }
  }
 },
 "nbformat": 4,
 "nbformat_minor": 2
}
