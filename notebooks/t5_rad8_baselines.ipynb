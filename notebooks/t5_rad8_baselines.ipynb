{
 "cells": [
  {
   "cell_type": "code",
   "execution_count": null,
   "metadata": {},
   "outputs": [],
   "source": [
    "    def fit_poisson(alpha, train_x, train_y, val_x):\n",
    "        val_pred = []\n",
    "        train_x =  np.log(train_x + config['setup']['log_eps'])\n",
    "        val_x =  np.log(val_x + config['setup']['log_eps'])\n",
    "        for chan in range(train_y.shape[1]):\n",
    "            pr = PoissonRegressor(alpha=alpha, max_iter=500)\n",
    "            pr.fit(train_x, train_y[:, chan])\n",
    "            while pr.n_iter_ == pr.max_iter and pr.max_iter < 10000:\n",
    "                print(f\"didn't converge - retraining {chan} with max_iter={pr.max_iter * 5}\")\n",
    "                oldmax = pr.max_iter\n",
    "                del pr\n",
    "                pr = PoissonRegressor(alpha=alpha, max_iter=oldmax * 5)\n",
    "                pr.fit(train_x, train_y[:, chan])\n",
    "            val_pred.append(pr.predict(val_x))\n",
    "        val_rates_s = np.vstack(val_pred).T\n",
    "        return np.clip(val_rates_s, 1e-9, 1e20)\n",
    "\n",
    "    kf = KFold(n_splits=5)\n",
    "\n",
    "    stds = [30,  40, 50, 60, ]\n",
    "    # stds = [10, 20, 30,  40, 50, 60, 70, 80,  90,  110, 130, 150]\n",
    "    \n",
    "    filters = []\n",
    "    for std in stds:\n",
    "        kern_sd = int(round(std / 10))\n",
    "        window = signal.gaussian(kern_sd * 6, kern_sd, sym=True)\n",
    "        window /= np.sum(window)\n",
    "        filters.append(lambda x: np.convolve(x, window, 'same'))\n",
    "\n",
    "    train_spikes_heldin = h5dict['all_train_spikes_heldin'][:, -1, :]\n",
    "    train_spikes_heldout = h5dict['all_train_spikes_heldout'][:, -1, :]\n",
    "    test_spikes_heldin = h5dict['test_spikes_heldin'][:, -1, :]\n",
    "    test_spikes_heldout = h5dict['test_spikes_heldout'][:, -1, :]\n",
    "\n",
    "    for std, filter in zip(stds, filters):\n",
    "        for alpha in np.logspace(-3, 0, 4):\n",
    "            split = []\n",
    "            split_test = []\n",
    "            for train_index, val_index in kf.split(train_spikes_heldin):\n",
    "                heldin_smth_spikes= np.apply_along_axis(filter, 0, train_spikes_heldin)\n",
    "                train_hi = heldin_smth_spikes[train_index]\n",
    "                val_hi = heldin_smth_spikes[val_index]\n",
    "                train_ho = train_spikes_heldout[train_index]\n",
    "                val_ho = train_spikes_heldout[val_index]\n",
    "                val_rates = fit_poisson(alpha, train_hi, train_ho, val_hi)\n",
    "                split.append(bits_per_spike(np.expand_dims(val_rates, 1), np.expand_dims(val_ho, 1)))\n",
    "            print('alpha:',alpha,'std:',std)\n",
    "            print('val mean:', np.mean(np.array(split)))\n",
    "            train_hi= np.apply_along_axis(filter, 0, train_spikes_heldin)\n",
    "            train_ho = train_spikes_heldout\n",
    "            test_hi= np.apply_along_axis(filter, 0, test_spikes_heldin)\n",
    "            test_ho = test_spikes_heldout\n",
    "            val_rates = fit_poisson(alpha, train_hi, train_ho, test_hi)\n",
    "            print('test:', bits_per_spike(np.expand_dims(val_rates, 1), np.expand_dims(test_ho, 1)))"
   ]
  }
 ],
 "metadata": {
  "kernelspec": {
   "display_name": "Python 3.8.5 ('ndtu': conda)",
   "language": "python",
   "name": "python3"
  },
  "language_info": {
   "name": "python",
   "version": "3.8.5"
  },
  "orig_nbformat": 4,
  "vscode": {
   "interpreter": {
    "hash": "59cd4eb5f467b822ded03db0cb076f5e7005d54ea28457b2083fbdb9b80fb7dc"
   }
  }
 },
 "nbformat": 4,
 "nbformat_minor": 2
}
