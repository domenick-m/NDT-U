{
 "cells": [
  {
   "cell_type": "code",
   "execution_count": 1,
   "metadata": {},
   "outputs": [
    {
     "name": "stderr",
     "output_type": "stream",
     "text": [
      "/home/dmifsud/miniconda3/envs/rt-ndt/lib/python3.9/site-packages/tqdm/auto.py:22: TqdmWarning: IProgress not found. Please update jupyter and ipywidgets. See https://ipywidgets.readthedocs.io/en/stable/user_install.html\n",
      "  from .autonotebook import tqdm as notebook_tqdm\n"
     ]
    }
   ],
   "source": [
    "# %load_ext autoreload\n",
    "# %autoreload 2\n",
    "import sys\n",
    "sys.path.append('../')\n",
    "from utils.multisession_utils import align_sessions\n",
    "from utils.config_utils import get_config\n",
    "from utils.plot.pcs import plot_pcs\n",
    "import numpy as np\n",
    "import wandb\n",
    "from utils.t5_utils import load_toolkit_datasets, get_trialized_data\n",
    "config = get_config()\n",
    "## Start Time\n"
   ]
  },
  {
   "cell_type": "code",
   "execution_count": 2,
   "metadata": {},
   "outputs": [
    {
     "name": "stderr",
     "output_type": "stream",
     "text": [
      "Failed to detect the name of this notebook, you can set it manually with the WANDB_NOTEBOOK_NAME environment variable to enable code saving.\n",
      "\u001b[34m\u001b[1mwandb\u001b[0m: Currently logged in as: \u001b[33mdomenick-m\u001b[0m (\u001b[33memory-bg2\u001b[0m). Use \u001b[1m`wandb login --relogin`\u001b[0m to force relogin\n"
     ]
    },
    {
     "data": {
      "text/html": [
       "Tracking run with wandb version 0.13.5"
      ],
      "text/plain": [
       "<IPython.core.display.HTML object>"
      ]
     },
     "metadata": {},
     "output_type": "display_data"
    },
    {
     "data": {
      "text/html": [
       "Run data is saved locally in <code>/home/dmifsud/Projects/NDT-U/notebooks/wandb/run-20221128_103810-3mddb705</code>"
      ],
      "text/plain": [
       "<IPython.core.display.HTML object>"
      ]
     },
     "metadata": {},
     "output_type": "display_data"
    },
    {
     "data": {
      "text/html": [
       "Syncing run <strong><a href=\"https://wandb.ai/emory-bg2/plots/runs/3mddb705\" target=\"_blank\">Alignment Move Onset Testing</a></strong> to <a href=\"https://wandb.ai/emory-bg2/plots\" target=\"_blank\">Weights & Biases</a> (<a href=\"https://wandb.me/run\" target=\"_blank\">docs</a>)<br/>"
      ],
      "text/plain": [
       "<IPython.core.display.HTML object>"
      ]
     },
     "metadata": {},
     "output_type": "display_data"
    },
    {
     "name": "stdout",
     "output_type": "stream",
     "text": [
      "\n",
      "Creating Alignment Matricies...\n",
      "\n"
     ]
    },
    {
     "name": "stderr",
     "output_type": "stream",
     "text": [
      "Shortened 1 trials to prevent overlap.\n",
      "Shortened 306 trials to prevent overlap.\n",
      "Shortened 1 trials to prevent overlap.\n",
      "Shortened 96 trials to prevent overlap.\n",
      "Shortened 1 trials to prevent overlap.\n",
      "Shortened 178 trials to prevent overlap.\n",
      "Shortened 1 trials to prevent overlap.\n",
      "Shortened 321 trials to prevent overlap.\n",
      "Shortened 1 trials to prevent overlap.\n",
      "Shortened 364 trials to prevent overlap.\n",
      "Shortened 1 trials to prevent overlap.\n",
      "Shortened 362 trials to prevent overlap.\n",
      "Shortened 1 trials to prevent overlap.\n",
      "Shortened 351 trials to prevent overlap.\n",
      "Shortened 1 trials to prevent overlap.\n",
      "Shortened 272 trials to prevent overlap.\n",
      "Shortened 1 trials to prevent overlap.\n",
      "Shortened 276 trials to prevent overlap.\n",
      "Shortened 1 trials to prevent overlap.\n",
      "Shortened 425 trials to prevent overlap.\n",
      "Shortened 1 trials to prevent overlap.\n",
      "Shortened 245 trials to prevent overlap.\n",
      "Shortened 1 trials to prevent overlap.\n",
      "Shortened 159 trials to prevent overlap.\n",
      "Shortened 1 trials to prevent overlap.\n",
      "Shortened 243 trials to prevent overlap.\n",
      "Shortened 1 trials to prevent overlap.\n",
      "Shortened 339 trials to prevent overlap.\n",
      "Shortened 1 trials to prevent overlap.\n",
      "Shortened 341 trials to prevent overlap.\n",
      "Shortened 1 trials to prevent overlap.\n",
      "Shortened 333 trials to prevent overlap.\n",
      "Shortened 1 trials to prevent overlap.\n",
      "Shortened 289 trials to prevent overlap.\n",
      "Shortened 1 trials to prevent overlap.\n",
      "Shortened 306 trials to prevent overlap.\n",
      "Shortened 1 trials to prevent overlap.\n",
      "Shortened 96 trials to prevent overlap.\n",
      "Shortened 1 trials to prevent overlap.\n",
      "Shortened 178 trials to prevent overlap.\n",
      "Shortened 1 trials to prevent overlap.\n",
      "Shortened 321 trials to prevent overlap.\n",
      "Shortened 1 trials to prevent overlap.\n",
      "Shortened 364 trials to prevent overlap.\n",
      "Shortened 1 trials to prevent overlap.\n",
      "Shortened 362 trials to prevent overlap.\n",
      "Shortened 1 trials to prevent overlap.\n",
      "Shortened 351 trials to prevent overlap.\n",
      "Shortened 1 trials to prevent overlap.\n",
      "Shortened 272 trials to prevent overlap.\n",
      "Shortened 1 trials to prevent overlap.\n",
      "Shortened 276 trials to prevent overlap.\n",
      "Shortened 1 trials to prevent overlap.\n",
      "Shortened 425 trials to prevent overlap.\n",
      "Shortened 1 trials to prevent overlap.\n",
      "Shortened 245 trials to prevent overlap.\n",
      "Shortened 1 trials to prevent overlap.\n",
      "Shortened 159 trials to prevent overlap.\n",
      "Shortened 1 trials to prevent overlap.\n",
      "Shortened 243 trials to prevent overlap.\n",
      "Shortened 1 trials to prevent overlap.\n",
      "Shortened 339 trials to prevent overlap.\n",
      "Shortened 1 trials to prevent overlap.\n",
      "Shortened 341 trials to prevent overlap.\n",
      "Shortened 1 trials to prevent overlap.\n",
      "Shortened 333 trials to prevent overlap.\n",
      "Shortened 1 trials to prevent overlap.\n",
      "Shortened 289 trials to prevent overlap.\n"
     ]
    }
   ],
   "source": [
    "wandb.init(project='plots', name='Alignment Move Onset Testing')\n",
    "config.defrost()\n",
    "config.data.ol_align_field = 'start_time'\n",
    "config.data.ol_align_range = [0, 2000]\n",
    "config.freeze()\n",
    "alignment_matrices, alignment_biases = align_sessions(config)\n",
    "datasets = load_toolkit_datasets(config)\n",
    "config.defrost()\n",
    "config.data.ol_align_field = 'start_time'\n",
    "config.data.ol_align_range = [0, 2000]\n",
    "config.freeze()\n",
    "trialized_data = get_trialized_data(config, datasets)\n",
    "ol_cond_avg = ([], []) \n",
    "ol_single_trial = ([], [])\n",
    "cl_single_trial = ([], [])\n",
    "\n",
    "trial_len = (config.data.ol_align_range[1] - config.data.ol_align_range[0]) / config.data.bin_size\n",
    "\n",
    "for idx, session in enumerate(config.data.sessions):    \n",
    "    for cond_id, trials in trialized_data[session]['ol_trial_data'].groupby('condition'):\n",
    "        if cond_id != 0:\n",
    "            low_d_trials = []\n",
    "            for trial_id, trial in trials.groupby('trial_id'):\n",
    "                heldin_spikes = trial.spikes_smth.to_numpy()[:, datasets[session].heldin_channels]\n",
    "                if heldin_spikes.shape[0] == trial_len:\n",
    "                    low_d_trial = np.dot(heldin_spikes, alignment_matrices[idx].T)\n",
    "                    low_d_trial = low_d_trial + np.array(alignment_biases[idx])\n",
    "                    low_d_trials.append(low_d_trial)\n",
    "\n",
    "            ol_single_trial[0].append(np.concatenate(low_d_trials, 0))\n",
    "            ol_single_trial[1].append(cond_id)\n",
    "\n",
    "            ol_cond_avg[0].append(np.array(low_d_trials).mean(0))\n",
    "            ol_cond_avg[1].append(cond_id)\n",
    "from matplotlib import cm, colors\n",
    "\n",
    "html_string = plot_pcs(*ol_cond_avg, 'OL Condition Averaged', return_fig=False)\n",
    "wandb.log({'original alignment (0-2000ms after trial start)' : wandb.Html(html_string, inject=False)})\n"
   ]
  },
  {
   "cell_type": "code",
   "execution_count": 3,
   "metadata": {},
   "outputs": [
    {
     "name": "stdout",
     "output_type": "stream",
     "text": [
      "\n",
      "Creating Alignment Matricies...\n",
      "\n"
     ]
    },
    {
     "name": "stderr",
     "output_type": "stream",
     "text": [
      "Shortened 306 trials to prevent overlap.\n",
      "Shortened 96 trials to prevent overlap.\n",
      "Shortened 178 trials to prevent overlap.\n",
      "Shortened 321 trials to prevent overlap.\n",
      "Shortened 364 trials to prevent overlap.\n",
      "Shortened 362 trials to prevent overlap.\n",
      "Shortened 351 trials to prevent overlap.\n",
      "Shortened 272 trials to prevent overlap.\n",
      "Shortened 276 trials to prevent overlap.\n",
      "Shortened 425 trials to prevent overlap.\n",
      "Shortened 245 trials to prevent overlap.\n",
      "Shortened 159 trials to prevent overlap.\n",
      "Shortened 243 trials to prevent overlap.\n",
      "Shortened 339 trials to prevent overlap.\n",
      "Shortened 341 trials to prevent overlap.\n",
      "Shortened 333 trials to prevent overlap.\n",
      "Shortened 289 trials to prevent overlap.\n",
      "Shortened 306 trials to prevent overlap.\n",
      "Shortened 96 trials to prevent overlap.\n",
      "Shortened 178 trials to prevent overlap.\n",
      "Shortened 321 trials to prevent overlap.\n",
      "Shortened 364 trials to prevent overlap.\n",
      "Shortened 362 trials to prevent overlap.\n",
      "Shortened 351 trials to prevent overlap.\n",
      "Shortened 272 trials to prevent overlap.\n",
      "Shortened 276 trials to prevent overlap.\n",
      "Shortened 425 trials to prevent overlap.\n",
      "Shortened 245 trials to prevent overlap.\n",
      "Shortened 159 trials to prevent overlap.\n",
      "Shortened 243 trials to prevent overlap.\n",
      "Shortened 339 trials to prevent overlap.\n",
      "Shortened 341 trials to prevent overlap.\n",
      "Shortened 333 trials to prevent overlap.\n",
      "Shortened 289 trials to prevent overlap.\n"
     ]
    }
   ],
   "source": [
    "config.defrost()\n",
    "config.data.ol_align_field = 'speed_onset'\n",
    "config.data.ol_align_range = [0, 2000]\n",
    "config.freeze()\n",
    "so_alignment_matrices, so_alignment_biases = align_sessions(config)\n",
    "config.defrost()\n",
    "config.data.ol_align_field = 'speed_onset'\n",
    "config.data.ol_align_range = [0, 2000]\n",
    "config.freeze()\n",
    "trialized_data = get_trialized_data(config, datasets)\n",
    "ol_cond_avg = ([], []) \n",
    "ol_single_trial = ([], [])\n",
    "cl_single_trial = ([], [])\n",
    "\n",
    "trial_len = (config.data.ol_align_range[1] - config.data.ol_align_range[0]) / config.data.bin_size\n",
    "cl_trial_len = (config.data.cl_align_range[1] - config.data.cl_align_range[0]) / config.data.bin_size\n",
    "\n",
    "for idx, session in enumerate(config.data.sessions):    \n",
    "    for cond_id, trials in trialized_data[session]['ol_trial_data'].groupby('condition'):\n",
    "        if cond_id != 0:\n",
    "        # if cond_id == 1:\n",
    "            low_d_trials = []\n",
    "            for trial_id, trial in trials.groupby('trial_id'):\n",
    "                heldin_spikes = trial.spikes_smth.to_numpy()[:, datasets[session].heldin_channels]\n",
    "                if heldin_spikes.shape[0] == trial_len:\n",
    "                    low_d_trial = np.dot(heldin_spikes, so_alignment_matrices[idx].T)\n",
    "                    low_d_trial = low_d_trial + np.array(so_alignment_biases[idx])\n",
    "                    low_d_trials.append(low_d_trial)\n",
    "\n",
    "            ol_single_trial[0].append(np.concatenate(low_d_trials, 0))\n",
    "            ol_single_trial[1].append(cond_id)\n",
    "\n",
    "            ol_cond_avg[0].append(np.array(low_d_trials).mean(0))\n",
    "            ol_cond_avg[1].append(cond_id)\n",
    "\n",
    "html_string = plot_pcs(*ol_cond_avg, 'OL Condition Averaged', return_fig=False)\n",
    "wandb.log({'movement alignment (0-2000ms after movement onset)' : wandb.Html(html_string, inject=False)})"
   ]
  },
  {
   "cell_type": "code",
   "execution_count": 4,
   "metadata": {},
   "outputs": [
    {
     "name": "stdout",
     "output_type": "stream",
     "text": [
      "\n",
      "Creating Alignment Matricies...\n",
      "\n"
     ]
    },
    {
     "name": "stderr",
     "output_type": "stream",
     "text": [
      "Shortened 306 trials to prevent overlap.\n",
      "Shortened 96 trials to prevent overlap.\n",
      "Shortened 178 trials to prevent overlap.\n",
      "Shortened 321 trials to prevent overlap.\n",
      "Shortened 364 trials to prevent overlap.\n",
      "Shortened 362 trials to prevent overlap.\n",
      "Shortened 351 trials to prevent overlap.\n",
      "Shortened 272 trials to prevent overlap.\n",
      "Shortened 276 trials to prevent overlap.\n",
      "Shortened 425 trials to prevent overlap.\n",
      "Shortened 245 trials to prevent overlap.\n",
      "Shortened 159 trials to prevent overlap.\n",
      "Shortened 243 trials to prevent overlap.\n",
      "Shortened 339 trials to prevent overlap.\n",
      "Shortened 341 trials to prevent overlap.\n",
      "Shortened 333 trials to prevent overlap.\n",
      "Shortened 289 trials to prevent overlap.\n",
      "Shortened 306 trials to prevent overlap.\n",
      "Shortened 96 trials to prevent overlap.\n",
      "Shortened 178 trials to prevent overlap.\n",
      "Shortened 321 trials to prevent overlap.\n",
      "Shortened 364 trials to prevent overlap.\n",
      "Shortened 362 trials to prevent overlap.\n",
      "Shortened 351 trials to prevent overlap.\n",
      "Shortened 272 trials to prevent overlap.\n",
      "Shortened 276 trials to prevent overlap.\n",
      "Shortened 425 trials to prevent overlap.\n",
      "Shortened 245 trials to prevent overlap.\n",
      "Shortened 159 trials to prevent overlap.\n",
      "Shortened 243 trials to prevent overlap.\n",
      "Shortened 339 trials to prevent overlap.\n",
      "Shortened 341 trials to prevent overlap.\n",
      "Shortened 333 trials to prevent overlap.\n",
      "Shortened 289 trials to prevent overlap.\n"
     ]
    }
   ],
   "source": [
    "config.defrost()\n",
    "config.data.ol_align_field = 'speed_onset'\n",
    "config.data.ol_align_range = [0, 1250]\n",
    "config.freeze()\n",
    "so_alignment_matrices, so_alignment_biases = align_sessions(config)\n",
    "config.defrost()\n",
    "config.data.ol_align_field = 'speed_onset'\n",
    "config.data.ol_align_range = [0, 1250]\n",
    "config.freeze()\n",
    "trialized_data = get_trialized_data(config, datasets)\n",
    "ol_cond_avg = ([], []) \n",
    "ol_single_trial = ([], [])\n",
    "cl_single_trial = ([], [])\n",
    "\n",
    "trial_len = (config.data.ol_align_range[1] - config.data.ol_align_range[0]) / config.data.bin_size\n",
    "cl_trial_len = (config.data.cl_align_range[1] - config.data.cl_align_range[0]) / config.data.bin_size\n",
    "\n",
    "for idx, session in enumerate(config.data.sessions):    \n",
    "    for cond_id, trials in trialized_data[session]['ol_trial_data'].groupby('condition'):\n",
    "        if cond_id != 0:\n",
    "        # if cond_id == 1:\n",
    "            low_d_trials = []\n",
    "            for trial_id, trial in trials.groupby('trial_id'):\n",
    "                heldin_spikes = trial.spikes_smth.to_numpy()[:, datasets[session].heldin_channels]\n",
    "                if heldin_spikes.shape[0] == trial_len:\n",
    "                    low_d_trial = np.dot(heldin_spikes, so_alignment_matrices[idx].T)\n",
    "                    low_d_trial = low_d_trial + np.array(so_alignment_biases[idx])\n",
    "                    low_d_trials.append(low_d_trial)\n",
    "\n",
    "            ol_single_trial[0].append(np.concatenate(low_d_trials, 0))\n",
    "            ol_single_trial[1].append(cond_id)\n",
    "\n",
    "            ol_cond_avg[0].append(np.array(low_d_trials).mean(0))\n",
    "            ol_cond_avg[1].append(cond_id)\n",
    "\n",
    "\n",
    "html_string = plot_pcs(*ol_cond_avg, 'OL Condition Averaged', return_fig=False)\n",
    "wandb.log({'movement alignment (0-1250ms after movement onset)' : wandb.Html(html_string, inject=False)})"
   ]
  },
  {
   "cell_type": "code",
   "execution_count": 5,
   "metadata": {},
   "outputs": [
    {
     "name": "stdout",
     "output_type": "stream",
     "text": [
      "\n",
      "Creating Alignment Matricies...\n",
      "\n"
     ]
    },
    {
     "name": "stderr",
     "output_type": "stream",
     "text": [
      "Shortened 306 trials to prevent overlap.\n",
      "Shortened 96 trials to prevent overlap.\n",
      "Shortened 178 trials to prevent overlap.\n",
      "Shortened 321 trials to prevent overlap.\n",
      "Shortened 364 trials to prevent overlap.\n",
      "Shortened 362 trials to prevent overlap.\n",
      "Shortened 351 trials to prevent overlap.\n",
      "Shortened 272 trials to prevent overlap.\n",
      "Shortened 276 trials to prevent overlap.\n",
      "Shortened 425 trials to prevent overlap.\n",
      "Shortened 245 trials to prevent overlap.\n",
      "Shortened 159 trials to prevent overlap.\n",
      "Shortened 243 trials to prevent overlap.\n",
      "Shortened 339 trials to prevent overlap.\n",
      "Shortened 341 trials to prevent overlap.\n",
      "Shortened 333 trials to prevent overlap.\n",
      "Shortened 289 trials to prevent overlap.\n",
      "Shortened 306 trials to prevent overlap.\n",
      "Shortened 96 trials to prevent overlap.\n",
      "Shortened 178 trials to prevent overlap.\n",
      "Shortened 321 trials to prevent overlap.\n",
      "Shortened 364 trials to prevent overlap.\n",
      "Shortened 362 trials to prevent overlap.\n",
      "Shortened 351 trials to prevent overlap.\n",
      "Shortened 272 trials to prevent overlap.\n",
      "Shortened 276 trials to prevent overlap.\n",
      "Shortened 425 trials to prevent overlap.\n",
      "Shortened 245 trials to prevent overlap.\n",
      "Shortened 159 trials to prevent overlap.\n",
      "Shortened 243 trials to prevent overlap.\n",
      "Shortened 339 trials to prevent overlap.\n",
      "Shortened 341 trials to prevent overlap.\n",
      "Shortened 333 trials to prevent overlap.\n",
      "Shortened 289 trials to prevent overlap.\n"
     ]
    }
   ],
   "source": [
    "config.defrost()\n",
    "config.data.ol_align_field = 'speed_onset'\n",
    "config.data.ol_align_range = [-700, 1250]\n",
    "config.freeze()\n",
    "so_alignment_matrices, so_alignment_biases = align_sessions(config)\n",
    "config.defrost()\n",
    "config.data.ol_align_field = 'speed_onset'\n",
    "config.data.ol_align_range = [-700, 1250]\n",
    "config.freeze()\n",
    "trialized_data = get_trialized_data(config, datasets)\n",
    "ol_cond_avg = ([], []) \n",
    "ol_single_trial = ([], [])\n",
    "cl_single_trial = ([], [])\n",
    "\n",
    "trial_len = (config.data.ol_align_range[1] - config.data.ol_align_range[0]) / config.data.bin_size\n",
    "cl_trial_len = (config.data.cl_align_range[1] - config.data.cl_align_range[0]) / config.data.bin_size\n",
    "\n",
    "for idx, session in enumerate(config.data.sessions):    \n",
    "    for cond_id, trials in trialized_data[session]['ol_trial_data'].groupby('condition'):\n",
    "        if cond_id != 0:\n",
    "        # if cond_id == 1:\n",
    "            low_d_trials = []\n",
    "            for trial_id, trial in trials.groupby('trial_id'):\n",
    "                heldin_spikes = trial.spikes_smth.to_numpy()[:, datasets[session].heldin_channels]\n",
    "                if heldin_spikes.shape[0] == trial_len:\n",
    "                    low_d_trial = np.dot(heldin_spikes, so_alignment_matrices[idx].T)\n",
    "                    low_d_trial = low_d_trial + np.array(so_alignment_biases[idx])\n",
    "                    low_d_trials.append(low_d_trial)\n",
    "\n",
    "            ol_single_trial[0].append(np.concatenate(low_d_trials, 0))\n",
    "            ol_single_trial[1].append(cond_id)\n",
    "\n",
    "            ol_cond_avg[0].append(np.array(low_d_trials).mean(0))\n",
    "            ol_cond_avg[1].append(cond_id)\n",
    "\n",
    "\n",
    "html_string = plot_pcs(*ol_cond_avg, 'OL Condition Averaged', return_fig=False)\n",
    "wandb.log({'movement alignment (-700-1250ms after movement onset)' : wandb.Html(html_string, inject=False)})"
   ]
  },
  {
   "cell_type": "code",
   "execution_count": 6,
   "metadata": {},
   "outputs": [],
   "source": [
    "ol_cond_avg = ([], []) \n",
    "ol_single_trial = ([], [])\n",
    "cl_single_trial = ([], [])\n",
    "\n",
    "trial_len = (config.data.ol_align_range[1] - config.data.ol_align_range[0]) / config.data.bin_size\n",
    "cl_trial_len = (config.data.cl_align_range[1] - config.data.cl_align_range[0]) / config.data.bin_size\n",
    "\n",
    "for idx, session in enumerate(config.data.sessions):    \n",
    "    for cond_id, trials in trialized_data[session]['ol_trial_data'].groupby('condition'):\n",
    "        if cond_id != 0:\n",
    "        # if cond_id == 1:\n",
    "            low_d_trials = []\n",
    "            for trial_id, trial in trials.groupby('trial_id'):\n",
    "                heldin_spikes = trial.spikes_smth.to_numpy()[:, datasets[session].heldin_channels]\n",
    "                if heldin_spikes.shape[0] == trial_len:\n",
    "                    low_d_trial = np.dot(heldin_spikes[:70], so_alignment_matrices[idx].T)\n",
    "                    low_d_trial = low_d_trial + np.array(so_alignment_biases[idx])\n",
    "                    low_d_trials.append(low_d_trial)\n",
    "\n",
    "            ol_single_trial[0].append(np.concatenate(low_d_trials, 0))\n",
    "            ol_single_trial[1].append(cond_id)\n",
    "\n",
    "            ol_cond_avg[0].append(np.array(low_d_trials).mean(0))\n",
    "            ol_cond_avg[1].append(cond_id)\n",
    "\n",
    "\n",
    "html_string = plot_pcs(*ol_cond_avg, 'OL Condition Averaged', return_fig=False)\n",
    "wandb.log({'movement alignment (w/ prep) (-700-0ms after movement onset)' : wandb.Html(html_string, inject=False)})"
   ]
  },
  {
   "cell_type": "code",
   "execution_count": 7,
   "metadata": {},
   "outputs": [],
   "source": [
    "ol_cond_avg = ([], []) \n",
    "ol_single_trial = ([], [])\n",
    "cl_single_trial = ([], [])\n",
    "\n",
    "trial_len = (config.data.ol_align_range[1] - config.data.ol_align_range[0]) / config.data.bin_size\n",
    "cl_trial_len = (config.data.cl_align_range[1] - config.data.cl_align_range[0]) / config.data.bin_size\n",
    "\n",
    "for idx, session in enumerate(config.data.sessions):    \n",
    "    for cond_id, trials in trialized_data[session]['ol_trial_data'].groupby('condition'):\n",
    "        if cond_id != 0:\n",
    "        # if cond_id == 1:\n",
    "            low_d_trials = []\n",
    "            for trial_id, trial in trials.groupby('trial_id'):\n",
    "                heldin_spikes = trial.spikes_smth.to_numpy()[:, datasets[session].heldin_channels]\n",
    "                if heldin_spikes.shape[0] == trial_len:\n",
    "                    low_d_trial = np.dot(heldin_spikes[70:], so_alignment_matrices[idx].T)\n",
    "                    low_d_trial = low_d_trial + np.array(so_alignment_biases[idx])\n",
    "                    low_d_trials.append(low_d_trial)\n",
    "\n",
    "            ol_single_trial[0].append(np.concatenate(low_d_trials, 0))\n",
    "            ol_single_trial[1].append(cond_id)\n",
    "\n",
    "            ol_cond_avg[0].append(np.array(low_d_trials).mean(0))\n",
    "            ol_cond_avg[1].append(cond_id)\n",
    "\n",
    "\n",
    "html_string = plot_pcs(*ol_cond_avg, 'OL Condition Averaged', return_fig=False)\n",
    "wandb.log({'movement alignment (w/ prep) (0-1250ms after movement onset)' : wandb.Html(html_string, inject=False)})"
   ]
  },
  {
   "cell_type": "code",
   "execution_count": 8,
   "metadata": {},
   "outputs": [
    {
     "data": {
      "text/html": [
       "Waiting for W&B process to finish... <strong style=\"color:green\">(success).</strong>"
      ],
      "text/plain": [
       "<IPython.core.display.HTML object>"
      ]
     },
     "metadata": {},
     "output_type": "display_data"
    },
    {
     "data": {
      "text/html": [
       "Synced <strong style=\"color:#cdcd00\">Alignment Move Onset Testing</strong>: <a href=\"https://wandb.ai/emory-bg2/plots/runs/3mddb705\" target=\"_blank\">https://wandb.ai/emory-bg2/plots/runs/3mddb705</a><br/>Synced 6 W&B file(s), 6 media file(s), 0 artifact file(s) and 0 other file(s)"
      ],
      "text/plain": [
       "<IPython.core.display.HTML object>"
      ]
     },
     "metadata": {},
     "output_type": "display_data"
    },
    {
     "data": {
      "text/html": [
       "Find logs at: <code>./wandb/run-20221128_103810-3mddb705/logs</code>"
      ],
      "text/plain": [
       "<IPython.core.display.HTML object>"
      ]
     },
     "metadata": {},
     "output_type": "display_data"
    }
   ],
   "source": [
    "wandb.finish()"
   ]
  }
 ],
 "metadata": {
  "kernelspec": {
   "display_name": "Python 3.9.15 ('rt-ndt': conda)",
   "language": "python",
   "name": "python3"
  },
  "language_info": {
   "codemirror_mode": {
    "name": "ipython",
    "version": 3
   },
   "file_extension": ".py",
   "mimetype": "text/x-python",
   "name": "python",
   "nbconvert_exporter": "python",
   "pygments_lexer": "ipython3",
   "version": "3.9.15"
  },
  "orig_nbformat": 4,
  "vscode": {
   "interpreter": {
    "hash": "bc30bb90c8b08e44449baf159ccd52b467e533b99281db744a890525db8e2ea9"
   }
  }
 },
 "nbformat": 4,
 "nbformat_minor": 2
}
