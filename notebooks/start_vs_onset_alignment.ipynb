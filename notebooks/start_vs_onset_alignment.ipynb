{
 "cells": [
  {
   "cell_type": "code",
   "execution_count": null,
   "metadata": {},
   "outputs": [],
   "source": [
    "%load_ext autoreload\n",
    "%autoreload 2\n",
    "import sys\n",
    "sys.path.append('../')\n",
    "from utils.multisession_utils import align_sessions\n",
    "from utils.config_utils import get_config\n",
    "from utils.plot.pcs import plot_pcs\n",
    "import numpy as np\n",
    "import wandb\n",
    "from utils.t5_utils import load_toolkit_datasets, get_trialized_data"
   ]
  },
  {
   "cell_type": "code",
   "execution_count": null,
   "metadata": {},
   "outputs": [],
   "source": [
    "config = get_config()"
   ]
  },
  {
   "cell_type": "markdown",
   "metadata": {},
   "source": [
    "## Start Time"
   ]
  },
  {
   "cell_type": "code",
   "execution_count": null,
   "metadata": {},
   "outputs": [],
   "source": [
    "# wandb.init(project='plots', name='Alignment Move Onset Testing')"
   ]
  },
  {
   "cell_type": "code",
   "execution_count": null,
   "metadata": {},
   "outputs": [],
   "source": [
    "config.defrost()\n",
    "config.data.ol_align_field = 'start_time'\n",
    "config.data.ol_align_range = [0, 2500]\n",
    "config.freeze()"
   ]
  },
  {
   "cell_type": "code",
   "execution_count": null,
   "metadata": {},
   "outputs": [],
   "source": [
    "alignment_matrices, alignment_biases = align_sessions(config)"
   ]
  },
  {
   "cell_type": "code",
   "execution_count": null,
   "metadata": {},
   "outputs": [],
   "source": [
    "datasets = load_toolkit_datasets(config)"
   ]
  },
  {
   "cell_type": "code",
   "execution_count": null,
   "metadata": {},
   "outputs": [],
   "source": [
    "config.defrost()\n",
    "config.data.ol_align_field = 'start_time'\n",
    "config.data.ol_align_range = [-0, 2500]\n",
    "config.data.cl_align_field = 'start_time'\n",
    "config.data.cl_align_range = [0, 2000]\n",
    "config.freeze()"
   ]
  },
  {
   "cell_type": "code",
   "execution_count": null,
   "metadata": {},
   "outputs": [],
   "source": [
    "trialized_data = get_trialized_data(config, datasets)"
   ]
  },
  {
   "cell_type": "code",
   "execution_count": null,
   "metadata": {},
   "outputs": [],
   "source": [
    "ol_cond_avg = ([], []) \n",
    "ol_single_trial = ([], [])\n",
    "cl_single_trial = ([], [])\n",
    "\n",
    "trial_len = (config.data.ol_align_range[1] - config.data.ol_align_range[0]) / config.data.bin_size\n",
    "\n",
    "for idx, session in enumerate(config.data.sessions):    \n",
    "    for cond_id, trials in trialized_data[session]['ol_trial_data'].groupby('condition'):\n",
    "        if cond_id != 0:\n",
    "            low_d_trials = []\n",
    "            for trial_id, trial in trials.groupby('trial_id'):\n",
    "                heldin_spikes = trial.spikes_smth.to_numpy()[:, datasets[session].heldin_channels]\n",
    "                if heldin_spikes.shape[0] == trial_len:\n",
    "                    low_d_trial = np.dot(heldin_spikes, alignment_matrices[idx].T)\n",
    "                    low_d_trial = low_d_trial + np.array(alignment_biases[idx])\n",
    "                    low_d_trials.append(low_d_trial)\n",
    "\n",
    "            ol_single_trial[0].append(np.concatenate(low_d_trials, 0))\n",
    "            ol_single_trial[1].append(cond_id)\n",
    "\n",
    "            ol_cond_avg[0].append(np.array(low_d_trials).mean(0))\n",
    "            ol_cond_avg[1].append(cond_id)\n",
    "\n",
    "    for cond_id, trials in trialized_data[session]['cl_trial_data'].groupby('condition'):\n",
    "        if cond_id != 0:\n",
    "            low_d_trials = []\n",
    "            for trial_id, trial in trials.groupby('trial_id'):\n",
    "                if trial.shape[0] > 45 and trial.shape[0] < 400:\n",
    "                    heldin_spikes = trial.spikes_smth.to_numpy()[45:1795, datasets[session].heldin_channels]\n",
    "                    \n",
    "                    low_d_trial = np.dot(heldin_spikes, alignment_matrices[idx].T)\n",
    "                    low_d_trial = low_d_trial + np.array(alignment_biases[idx])\n",
    "                    low_d_trials.append(low_d_trial)\n",
    "\n",
    "            cl_single_trial[0].append(np.concatenate(low_d_trials, 0))\n",
    "            cl_single_trial[1].append(cond_id)"
   ]
  },
  {
   "cell_type": "code",
   "execution_count": null,
   "metadata": {},
   "outputs": [],
   "source": [
    "fig = plot_pcs(*ol_cond_avg, 'OL Condition Averaged', return_fig=True)\n",
    "fig.show()"
   ]
  },
  {
   "cell_type": "code",
   "execution_count": null,
   "metadata": {},
   "outputs": [],
   "source": [
    "fig = plot_pcs(*ol_single_trial, 'OL Single Trial', return_fig=True)\n",
    "fig.show()"
   ]
  },
  {
   "cell_type": "code",
   "execution_count": null,
   "metadata": {},
   "outputs": [],
   "source": [
    "# fig = plot_pca(*cl_single_trial, 'CL Single Trial', return_fig=True)\n",
    "# fig.show()"
   ]
  },
  {
   "cell_type": "markdown",
   "metadata": {},
   "source": [
    "## Speed Onset"
   ]
  },
  {
   "cell_type": "code",
   "execution_count": null,
   "metadata": {},
   "outputs": [],
   "source": [
    "config.defrost()\n",
    "config.data.ol_align_field = 'speed_onset'\n",
    "config.data.ol_align_range = [-700, 1250]\n",
    "config.freeze()"
   ]
  },
  {
   "cell_type": "code",
   "execution_count": null,
   "metadata": {},
   "outputs": [],
   "source": [
    "so_alignment_matrices, so_alignment_biases = align_sessions(config)"
   ]
  },
  {
   "cell_type": "code",
   "execution_count": null,
   "metadata": {},
   "outputs": [],
   "source": [
    "config.defrost()\n",
    "config.data.ol_align_field = 'speed_onset'\n",
    "config.data.ol_align_range = [-700, 1250]\n",
    "config.data.cl_align_field = 'start_time'\n",
    "config.data.cl_align_range = [500, 2000]\n",
    "config.freeze()"
   ]
  },
  {
   "cell_type": "code",
   "execution_count": null,
   "metadata": {},
   "outputs": [],
   "source": [
    "trialized_data = get_trialized_data(config, datasets)"
   ]
  },
  {
   "cell_type": "code",
   "execution_count": null,
   "metadata": {},
   "outputs": [],
   "source": [
    "ol_cond_avg = ([], []) \n",
    "ol_single_trial = ([], [])\n",
    "cl_single_trial = ([], [])\n",
    "\n",
    "trial_len = (config.data.ol_align_range[1] - config.data.ol_align_range[0]) / config.data.bin_size\n",
    "cl_trial_len = (config.data.cl_align_range[1] - config.data.cl_align_range[0]) / config.data.bin_size\n",
    "\n",
    "for idx, session in enumerate(config.data.sessions):    \n",
    "    for cond_id, trials in trialized_data[session]['ol_trial_data'].groupby('condition'):\n",
    "        if cond_id != 0:\n",
    "        # if cond_id == 1:\n",
    "            low_d_trials = []\n",
    "            for trial_id, trial in trials.groupby('trial_id'):\n",
    "                heldin_spikes = trial.spikes_smth.to_numpy()[:, datasets[session].heldin_channels]\n",
    "                if heldin_spikes.shape[0] == trial_len:\n",
    "                    low_d_trial = np.dot(heldin_spikes[75:], so_alignment_matrices[idx].T)\n",
    "                    low_d_trial = low_d_trial + np.array(so_alignment_biases[idx])\n",
    "                    low_d_trials.append(low_d_trial)\n",
    "\n",
    "            ol_single_trial[0].append(np.concatenate(low_d_trials, 0))\n",
    "            ol_single_trial[1].append(cond_id)\n",
    "\n",
    "            ol_cond_avg[0].append(np.array(low_d_trials).mean(0))\n",
    "            ol_cond_avg[1].append(cond_id)\n",
    "\n",
    "    for cond_id, trials in trialized_data[session]['cl_trial_data'].groupby('condition'):\n",
    "        if cond_id != 0:\n",
    "            low_d_trials = []\n",
    "            for trial_id, trial in trials.groupby('trial_id'):\n",
    "                # if trial.shape[0] > 45 and trial.shape[0] < 400:\n",
    "                heldin_spikes = trial.spikes_smth.to_numpy()[:, datasets[session].heldin_channels]\n",
    "                # if heldin_spikes.shape[0] == trial_len:\n",
    "                \n",
    "                low_d_trial = np.dot(heldin_spikes, so_alignment_matrices[idx].T)\n",
    "                low_d_trial = low_d_trial + np.array(so_alignment_biases[idx])\n",
    "                low_d_trials.append(low_d_trial)\n",
    "\n",
    "            cl_single_trial[0].append(np.concatenate(low_d_trials, 0))\n",
    "            cl_single_trial[1].append(cond_id)"
   ]
  },
  {
   "cell_type": "code",
   "execution_count": null,
   "metadata": {},
   "outputs": [],
   "source": [
    "fig = plot_pcs(*ol_cond_avg, 'OL Condition Averaged', return_fig=True)\n",
    "fig.show()"
   ]
  },
  {
   "cell_type": "code",
   "execution_count": null,
   "metadata": {},
   "outputs": [],
   "source": [
    "fig = plot_pcs(*ol_single_trial, 'OL Single Trial', return_fig=True)\n",
    "fig.show()"
   ]
  },
  {
   "cell_type": "code",
   "execution_count": null,
   "metadata": {},
   "outputs": [],
   "source": [
    "# fig = plot_pca(*cl_single_trial, 'CL Single Trial', return_fig=True)\n",
    "# fig.show()"
   ]
  }
 ],
 "metadata": {
  "kernelspec": {
   "display_name": "Python 3.7.13 ('rt-ndt': conda)",
   "language": "python",
   "name": "python3"
  },
  "language_info": {
   "codemirror_mode": {
    "name": "ipython",
    "version": 3
   },
   "file_extension": ".py",
   "mimetype": "text/x-python",
   "name": "python",
   "nbconvert_exporter": "python",
   "pygments_lexer": "ipython3",
   "version": "3.9.15"
  },
  "vscode": {
   "interpreter": {
    "hash": "bc30bb90c8b08e44449baf159ccd52b467e533b99281db744a890525db8e2ea9"
   }
  }
 },
 "nbformat": 4,
 "nbformat_minor": 2
}
